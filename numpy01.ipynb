{
 "cells": [
  {
   "cell_type": "markdown",
   "metadata": {},
   "source": [
    "# Numpy 정리 #"
   ]
  },
  {
   "cell_type": "markdown",
   "metadata": {},
   "source": [
    "## Numpy 시작 ##"
   ]
  },
  {
   "cell_type": "code",
   "execution_count": 4,
   "metadata": {},
   "outputs": [],
   "source": [
    "# import numpy\n",
    "import numpy as np"
   ]
  },
  {
   "cell_type": "code",
   "execution_count": 5,
   "metadata": {},
   "outputs": [
    {
     "data": {
      "text/plain": [
       "array([[0., 0., 0., 0., 0.],\n",
       "       [0., 0., 0., 0., 0.]])"
      ]
     },
     "execution_count": 5,
     "metadata": {},
     "output_type": "execute_result"
    }
   ],
   "source": [
    "# 0으로 이루어진 ndarray 생성\n",
    "np.zeros(3)\n",
    "\n",
    "# 다차원 배열 생성도 가능\n",
    "np.zeros((2,5))"
   ]
  },
  {
   "cell_type": "markdown",
   "metadata": {},
   "source": [
    "## 용어 ##\n",
    "축(axis) : numpy에서의 차원\n",
    "랭크(rank) : 축의 개수\n",
    "Shape : 배열의 크기\n",
    "size : 전체 원소의 개수\n",
    "\n",
    "ex) 3 X 4 행렬의 랭크는 2, \n",
    "    0번 축의 길이는 3, 1번 축의 길이는 4\n",
    "    배열의 shape은 (3, 4)\n",
    "    배열의 size는 12"
   ]
  },
  {
   "cell_type": "code",
   "execution_count": 6,
   "metadata": {},
   "outputs": [
    {
     "name": "stdout",
     "output_type": "stream",
     "text": [
      "[[0. 0. 0. 0.]\n",
      " [0. 0. 0. 0.]\n",
      " [0. 0. 0. 0.]]\n",
      "\n",
      "(3, 4)\n",
      "\n",
      "<class 'tuple'>\n",
      "\n",
      "2\n",
      "\n",
      "12\n"
     ]
    }
   ],
   "source": [
    "# 용어 실습\n",
    "\n",
    "arr1 = np.zeros((3,4))\n",
    "print(arr1)\n",
    "\n",
    "print()\n",
    "\n",
    "print(arr1.shape)\n",
    "\n",
    "print()\n",
    "\n",
    "print(type(arr1.shape)) # tuple 형식으로 반환\n",
    "\n",
    "print()\n",
    "\n",
    "print(arr1.ndim) # len(a.shape)와 같음\n",
    "\n",
    "print()\n",
    "\n",
    "print(arr1.size)"
   ]
  },
  {
   "cell_type": "markdown",
   "metadata": {},
   "source": [
    "## 배열 다루기 ##"
   ]
  },
  {
   "cell_type": "code",
   "execution_count": 7,
   "metadata": {},
   "outputs": [
    {
     "name": "stdout",
     "output_type": "stream",
     "text": [
      "[[[0. 0. 0. 0.]\n",
      "  [0. 0. 0. 0.]\n",
      "  [0. 0. 0. 0.]]\n",
      "\n",
      " [[0. 0. 0. 0.]\n",
      "  [0. 0. 0. 0.]\n",
      "  [0. 0. 0. 0.]]]\n",
      "\n",
      "<class 'numpy.ndarray'>\n"
     ]
    }
   ],
   "source": [
    "# N 차원 배열 생성\n",
    "print(np.zeros((2, 3, 4,)))\n",
    "\n",
    "print()\n",
    "\n",
    "# 배열 타입\n",
    "print(type(np.zeros((3,4))))"
   ]
  },
  {
   "cell_type": "code",
   "execution_count": 8,
   "metadata": {},
   "outputs": [
    {
     "name": "stdout",
     "output_type": "stream",
     "text": [
      "[[1. 1.]\n",
      " [1. 1.]]\n",
      "\n",
      "[[3.14159265 3.14159265 3.14159265 3.14159265 3.14159265]\n",
      " [3.14159265 3.14159265 3.14159265 3.14159265 3.14159265]\n",
      " [3.14159265 3.14159265 3.14159265 3.14159265 3.14159265]]\n",
      "\n",
      "[[[500 500]\n",
      "  [500 500]]\n",
      "\n",
      " [[500 500]\n",
      "  [500 500]]]\n"
     ]
    }
   ],
   "source": [
    "# 1로 이루어진 배열 생성\n",
    "print(np.ones((2, 2)))\n",
    "\n",
    "print()\n",
    "\n",
    "# 특정 값으로 이루어진 배열 생성\n",
    "print(np.full((3, 5), np.pi)) # 파이로 이루어진 행렬\n",
    "\n",
    "print()\n",
    "\n",
    "print(np.full((2, 2, 2), 500))\n"
   ]
  },
  {
   "cell_type": "code",
   "execution_count": 9,
   "metadata": {},
   "outputs": [
    {
     "name": "stdout",
     "output_type": "stream",
     "text": [
      "[[1.0609979e-311 1.0609979e-311]\n",
      " [1.0609979e-311 1.0609979e-311]]\n"
     ]
    }
   ],
   "source": [
    "# 초기화되지 읺는 배열 생성\n",
    "print(np.empty((2,2)))"
   ]
  },
  {
   "cell_type": "code",
   "execution_count": 10,
   "metadata": {},
   "outputs": [
    {
     "data": {
      "text/plain": [
       "array([[ 1,  2,  3,  4],\n",
       "       [10, 20, 30, 40]])"
      ]
     },
     "execution_count": 10,
     "metadata": {},
     "output_type": "execute_result"
    }
   ],
   "source": [
    "# 배열 생성 with list\n",
    "np.array([\n",
    "    [1, 2, 3, 4],\n",
    "    [10 ,20, 30 ,40]\n",
    "])"
   ]
  },
  {
   "cell_type": "code",
   "execution_count": 11,
   "metadata": {},
   "outputs": [
    {
     "name": "stdout",
     "output_type": "stream",
     "text": [
      "[1 2 3 4]\n",
      "\n",
      "<class 'numpy.ndarray'>\n",
      "\n",
      "[1 3]\n"
     ]
    }
   ],
   "source": [
    "# np.arage\n",
    "# 파이썬 내장함수 range와 비슷함\n",
    "\n",
    "print(np.arange(1, 5)) # 1 이상부터 5 미만까지 나열\n",
    "\n",
    "print()\n",
    "\n",
    "print(type(np.arange(1, 2))) # 타입은 1차원 ndarray\n",
    "\n",
    "print()\n",
    "\n",
    "print(np.arange(1, 5, 2)) # 건너뛰기\n"
   ]
  },
  {
   "cell_type": "code",
   "execution_count": 12,
   "metadata": {},
   "outputs": [
    {
     "name": "stdout",
     "output_type": "stream",
     "text": [
      "[[0.32602167 0.77118445 0.33928321 0.83607257]\n",
      " [0.53197189 0.28579441 0.25761001 0.7107751 ]\n",
      " [0.67740177 0.16375473 0.38671346 0.58824663]]\n",
      "\n",
      "[[-0.02097116  0.06665091 -0.10152726  0.29255412]\n",
      " [-0.7686134  -2.24379032  0.38195281  0.2939809 ]\n",
      " [-0.77777512 -1.1798253  -0.08665833 -1.05129022]]\n",
      "\n",
      "[[1 2 1 2 2]\n",
      " [1 2 1 2 2]\n",
      " [1 1 2 2 1]\n",
      " [2 2 2 2 1]\n",
      " [1 1 2 1 1]]\n"
     ]
    }
   ],
   "source": [
    "# np.rand\n",
    "# 0과 1사이의 랜덤한 부동 소수로 배열을 초기화\n",
    "print(np.random.rand(3, 4))\n",
    "\n",
    "print()\n",
    "\n",
    "# np.randn\n",
    "# 가우시안 분포에서 샘플링한 랜덤 부동 소수로 배열을 초기화\n",
    "print(np.random.randn(3, 4))\n",
    "\n",
    "print()\n",
    "\n",
    "#np.randint\n",
    "print(np.random.randint(1,3, (5, 5))) # 1이상부터 3 미만까지 랜덤 정수로 5X5배열 초기화 "
   ]
  },
  {
   "cell_type": "code",
   "execution_count": 13,
   "metadata": {},
   "outputs": [
    {
     "data": {
      "text/plain": [
       "array([[[  0, 100, 200, 300],\n",
       "        [ 10, 110, 210, 310],\n",
       "        [ 20, 120, 220, 320]],\n",
       "\n",
       "       [[  1, 101, 201, 301],\n",
       "        [ 11, 111, 211, 311],\n",
       "        [ 21, 121, 221, 321]]], dtype=int64)"
      ]
     },
     "execution_count": 13,
     "metadata": {},
     "output_type": "execute_result"
    }
   ],
   "source": [
    "#np.fromfunction\n",
    "def ex_function(x, y, z):\n",
    "    return x+10*y+100*z\n",
    "\n",
    "np.fromfunction(ex_function, (2, 3, 4), dtype=np.int64)"
   ]
  },
  {
   "cell_type": "code",
   "execution_count": 14,
   "metadata": {},
   "outputs": [
    {
     "name": "stdout",
     "output_type": "stream",
     "text": [
      "int32 [1 2 3 4]\n",
      "\n",
      "float64 [1. 2. 3. 4.]\n"
     ]
    }
   ],
   "source": [
    "# dtype : 데이터 타입\n",
    "# numpy의 ndarray에는 모든 원소가 동일한 type을 갖는다.\n",
    "arr2 = np.arange(1,5)\n",
    "print(arr2.dtype, arr2)\n",
    "\n",
    "print()\n",
    "\n",
    "arr3 = np.arange(1.0, 5.0)\n",
    "print(arr3.dtype, arr3)"
   ]
  },
  {
   "cell_type": "code",
   "execution_count": 15,
   "metadata": {},
   "outputs": [
    {
     "name": "stdout",
     "output_type": "stream",
     "text": [
      "complex64 [1.+0.j 2.+0.j 3.+0.j 4.+0.j]\n"
     ]
    }
   ],
   "source": [
    "# type 지정\n",
    "arr4 = np.arange(1, 5, dtype=np.complex64)\n",
    "print(arr4.dtype, arr4)"
   ]
  },
  {
   "cell_type": "code",
   "execution_count": 16,
   "metadata": {},
   "outputs": [
    {
     "name": "stdout",
     "output_type": "stream",
     "text": [
      "8\n"
     ]
    }
   ],
   "source": [
    "# itemsize : 각 아이템의 크기(Byte) 반환\n",
    "arr5 = np.arange(1, 5, dtype=np.int64)\n",
    "print(arr5.itemsize)"
   ]
  },
  {
   "cell_type": "code",
   "execution_count": 17,
   "metadata": {},
   "outputs": [
    {
     "name": "stdout",
     "output_type": "stream",
     "text": [
      "[ 0  1  2  3  4  5  6  7  8  9 10 11 12 13 14 15 16 17 18 19 20 21 22 23]\n",
      "랭크 :  1\n",
      "(24,)\n",
      "\n",
      "[[ 0  1  2  3  4  5  6  7]\n",
      " [ 8  9 10 11 12 13 14 15]\n",
      " [16 17 18 19 20 21 22 23]]\n",
      "랭크 :  2\n",
      "(3, 8)\n"
     ]
    }
   ],
   "source": [
    "# shape : 배열 크기 지정\n",
    "arr6 = np.arange(24)\n",
    "print(arr6)\n",
    "print(\"랭크 : \", arr6.ndim)\n",
    "print(arr6.shape)\n",
    "print()\n",
    "\n",
    "arr6.shape = (3, 8)\n",
    "print(arr6)\n",
    "print(\"랭크 : \", arr6.ndim)\n",
    "print(arr6.shape)\n"
   ]
  },
  {
   "cell_type": "code",
   "execution_count": 18,
   "metadata": {},
   "outputs": [
    {
     "name": "stdout",
     "output_type": "stream",
     "text": [
      "[[ 0  1  2  3  4  5]\n",
      " [ 6  7  8  9 10 11]\n",
      " [12 13 14 15 16 17]\n",
      " [18 19 20 21 22 23]]\n",
      "랭크 :  2\n"
     ]
    }
   ],
   "source": [
    "# reshape : 배열 크기 변경\n",
    "arr7 = arr6.reshape(4, 6)\n",
    "print(arr7)\n",
    "print(\"랭크 : \", arr7.ndim)"
   ]
  },
  {
   "cell_type": "code",
   "execution_count": 19,
   "metadata": {},
   "outputs": [
    {
     "name": "stdout",
     "output_type": "stream",
     "text": [
      "[ 0  1  2  3  4  5  6  7  8  9 10 11 12 13 14 15 16 17 18 19 20 21 22 23]\n",
      "\n",
      "[[ 0  1  2  3  4  5]\n",
      " [ 6  7  8  9 10 11]\n",
      " [12 13 14 15 16 17]\n",
      " [18 19 20 21 22 23]]\n"
     ]
    }
   ],
   "source": [
    "# ravel : 모든 배열을 1차원으로 반환\n",
    "print(arr7.ravel())\n",
    "\n",
    "print()\n",
    "\n",
    "# 원본이 변하지는 않음\n",
    "print(arr7)"
   ]
  },
  {
   "cell_type": "markdown",
   "metadata": {},
   "source": [
    "## 배열 연산 ##"
   ]
  },
  {
   "cell_type": "markdown",
   "metadata": {},
   "source": [
    "### 산술 연산 ###"
   ]
  },
  {
   "cell_type": "code",
   "execution_count": 20,
   "metadata": {},
   "outputs": [
    {
     "name": "stdout",
     "output_type": "stream",
     "text": [
      "arr1 + arr2 :  [19 29 39 43]\n",
      "arr1 - arr2 :  [ 9 17 25 39]\n",
      "arr1 * arr2 :  [ 70 138 224  82]\n",
      "arr1 / arr2 :  [ 2.8         3.83333333  4.57142857 20.5       ]\n",
      "arr1 // arr2 :  [ 2  3  4 20]\n",
      "arr1 % arr2 :  [4 5 4 1]\n",
      "arr1 ** arr2 :  [   537824 148035889         0      1681]\n"
     ]
    }
   ],
   "source": [
    "# 일반적인 산술 연산자 모두 ndarray에서 사용이 가능함\n",
    "arr1 = np.array([14, 23 ,32, 41])\n",
    "arr2 = np.array([5, 6 ,7, 2])\n",
    "\n",
    "print(\"arr1 + arr2 : \", arr1 + arr2)\n",
    "print(\"arr1 - arr2 : \", arr1 - arr2)\n",
    "print(\"arr1 * arr2 : \", arr1 * arr2)\n",
    "print(\"arr1 / arr2 : \", arr1 / arr2)\n",
    "print(\"arr1 // arr2 : \", arr1 // arr2)\n",
    "print(\"arr1 % arr2 : \", arr1 % arr2)\n",
    "print(\"arr1 ** arr2 : \", arr1 ** arr2)"
   ]
  },
  {
   "cell_type": "markdown",
   "metadata": {},
   "source": [
    "### 브로드캐스팅(Broadcasting) ###\n",
    "일반적으로 numpy에서는 동일한 크기의 배열끼리의 산술연산이 가능하지만, 만약 크기가 맞지 않는 경우에는 아래와 같은 규칙을 적용한다."
   ]
  },
  {
   "cell_type": "markdown",
   "metadata": {},
   "source": [
    "#### 1. 배열의 랭크가 동일하지 않으면 랭크 맞춤을 위해 1을 추가한다. ####"
   ]
  },
  {
   "cell_type": "code",
   "execution_count": 21,
   "metadata": {},
   "outputs": [
    {
     "name": "stdout",
     "output_type": "stream",
     "text": [
      "[[[[0 1 2 3 4]]]]\n",
      "랭크 :  4\n",
      "\n",
      "[0 1 2 3 4]\n",
      "랭크 :  1\n",
      "\n",
      "[[[[0 2 4 6 8]]]]\n",
      "랭크 :  4\n"
     ]
    }
   ],
   "source": [
    "arr3 = np.arange(5).reshape(1, 1, 1, 5)\n",
    "print(arr3)\n",
    "print(\"랭크 : \", arr3.ndim)\n",
    "\n",
    "print()\n",
    "\n",
    "arr4 = np.arange(5).reshape(5)\n",
    "print(arr4)\n",
    "print(\"랭크 : \", arr4.ndim)\n",
    "\n",
    "print()\n",
    "\n",
    "arr5 = arr3 + arr4 \n",
    "# 위 연산에서 브로드캐스팅 발생 arr4.shape == (1, 1, 1, 5)\n",
    "print(arr5)\n",
    "print(\"랭크 : \", arr5.ndim)"
   ]
  },
  {
   "cell_type": "markdown",
   "metadata": {},
   "source": [
    "#### 2. 특정 차원이 1인 배열은 그 차원에서 크기가 가장 큰 배열의 크기에 맞춰 동작한다."
   ]
  },
  {
   "cell_type": "code",
   "execution_count": 22,
   "metadata": {},
   "outputs": [
    {
     "name": "stdout",
     "output_type": "stream",
     "text": [
      "[[0 1 2]\n",
      " [3 4 5]]\n",
      "\n",
      "[[100]\n",
      " [200]]\n",
      "\n",
      "[[100 101 102]\n",
      " [203 204 205]]\n",
      "\n",
      "[100 200 300]\n",
      "\n",
      "[[100 201 302]\n",
      " [103 204 305]]\n"
     ]
    }
   ],
   "source": [
    "arr6 = np.arange(6).reshape(2, 3)\n",
    "print(arr6)\n",
    "\n",
    "print()\n",
    "\n",
    "arr7 = np.array([\n",
    "    [100],\n",
    "    [200]\n",
    "])\n",
    "print(arr7)\n",
    "\n",
    "print()\n",
    "\n",
    "arr8 = arr6 +arr7\n",
    "print(arr8)\n",
    "\n",
    "print()\n",
    "\n",
    "arr9 = np.array([100, 200, 300])\n",
    "print(arr9)\n",
    "\n",
    "print()\n",
    "\n",
    "arr10 = arr6 + arr9\n",
    "print(arr10)\n",
    "\n",
    "\n"
   ]
  },
  {
   "cell_type": "markdown",
   "metadata": {},
   "source": [
    "### 업캐스팅 ###\n",
    "dtype가 다른 배열을 합칠 때 모든 값을 다룰 수 있는 type로 바꿔준다."
   ]
  },
  {
   "cell_type": "code",
   "execution_count": 23,
   "metadata": {},
   "outputs": [
    {
     "name": "stdout",
     "output_type": "stream",
     "text": [
      "uint8 [0 1 2 3 4]\n",
      "\n",
      "int8 [5 6 7 8 9]\n",
      "\n",
      "int16 [ 5  7  9 11 13]\n"
     ]
    }
   ],
   "source": [
    "k1 = np.arange(0, 5, dtype=np.uint8)\n",
    "print(k1.dtype, k1)\n",
    "\n",
    "print()\n",
    "\n",
    "k2 = np.array([5, 6, 7, 8, 9], dtype=np.int8)\n",
    "print(k2.dtype, k2)\n",
    "\n",
    "print()\n",
    "\n",
    "print((k1 + k2).dtype, k1+k2)"
   ]
  },
  {
   "cell_type": "code",
   "execution_count": 24,
   "metadata": {},
   "outputs": [
    {
     "name": "stdout",
     "output_type": "stream",
     "text": [
      "float64 [0.5 1.5 2.5 3.5 4.5]\n"
     ]
    }
   ],
   "source": [
    "k3 = k1 + .5\n",
    "print(k3.dtype, k3)"
   ]
  },
  {
   "cell_type": "code",
   "execution_count": 25,
   "metadata": {},
   "outputs": [
    {
     "name": "stdout",
     "output_type": "stream",
     "text": [
      "[False  True  True False]\n",
      "\n",
      "[ True  True False False]\n",
      "\n"
     ]
    }
   ],
   "source": [
    "m = np.array([20, -5, 30, 40])\n",
    "print( m <[15, 16, 35, 36] )\n",
    "\n",
    "print()\n",
    "\n",
    "print(m < 25)\n",
    "\n",
    "print()"
   ]
  },
  {
   "cell_type": "code",
   "execution_count": 26,
   "metadata": {},
   "outputs": [
    {
     "name": "stdout",
     "output_type": "stream",
     "text": [
      "[[-2.5  3.1  7. ]\n",
      " [10.  11.  12. ]]\n",
      "6.766666666666667\n"
     ]
    }
   ],
   "source": [
    "# 평균 mean\n",
    "arr1 = np.array([\n",
    "    [-2.5, 3.1, 7],\n",
    "    [10, 11, 12]\n",
    "    ])\n",
    "print(arr1)\n",
    "print(arr1.mean())"
   ]
  },
  {
   "cell_type": "markdown",
   "metadata": {},
   "source": [
    "## 함수 ##"
   ]
  },
  {
   "cell_type": "code",
   "execution_count": 27,
   "metadata": {},
   "outputs": [
    {
     "name": "stdout",
     "output_type": "stream",
     "text": [
      "min == -2.5\n",
      "max == 12.0\n",
      "sum == 40.6\n",
      "prod == -71610.0\n",
      "std == 5.084835843520964\n",
      "var == 25.855555555555554\n"
     ]
    }
   ],
   "source": [
    "# 다양한 함수들\n",
    "for func in (arr1.min, arr1.max, arr1.sum, arr1.prod, arr1.std, arr1.var):\n",
    "    print(f'{func.__name__} == {func()}')"
   ]
  },
  {
   "cell_type": "code",
   "execution_count": 28,
   "metadata": {},
   "outputs": [
    {
     "name": "stdout",
     "output_type": "stream",
     "text": [
      "[[[ 0  1  2  3]\n",
      "  [ 4  5  6  7]\n",
      "  [ 8  9 10 11]]\n",
      "\n",
      " [[12 13 14 15]\n",
      "  [16 17 18 19]\n",
      "  [20 21 22 23]]]\n",
      "\n",
      "[[12 14 16 18]\n",
      " [20 22 24 26]\n",
      " [28 30 32 34]]\n",
      "\n",
      "[[12 15 18 21]\n",
      " [48 51 54 57]]\n",
      "\n",
      "[ 60  92 124]\n",
      "\n"
     ]
    }
   ],
   "source": [
    "# 축(행 or 열) 선택해서 연산\n",
    "arr2 = np.arange(24).reshape(2, 3, 4)\n",
    "print(arr2)\n",
    "\n",
    "print()\n",
    "\n",
    "print(arr2.sum(axis=0))\n",
    "\n",
    "print()\n",
    "\n",
    "print(arr2.sum(axis=1))\n",
    "\n",
    "print()\n",
    "\n",
    "print(arr2.sum(axis=(0, 2)))\n",
    "\n",
    "print()"
   ]
  },
  {
   "cell_type": "code",
   "execution_count": 29,
   "metadata": {},
   "outputs": [
    {
     "name": "stdout",
     "output_type": "stream",
     "text": [
      "[[-2.5  3.1  7. ]\n",
      " [10.  11.  12. ]]\n",
      "\n",
      "[[  6.25   9.61  49.  ]\n",
      " [100.   121.   144.  ]]\n"
     ]
    }
   ],
   "source": [
    "# 단항 일반 함수\n",
    "arr3 = np.array([\n",
    "    [-2.5, 3.1, 7],\n",
    "    [10, 11, 12]\n",
    "    ])\n",
    "\n",
    "arr4 = np.square(arr3)\n",
    "\n",
    "\n",
    "print(arr3)\n",
    "\n",
    "print()\n",
    "\n",
    "print(arr4)"
   ]
  },
  {
   "cell_type": "code",
   "execution_count": 30,
   "metadata": {},
   "outputs": [
    {
     "name": "stdout",
     "output_type": "stream",
     "text": [
      "[[-2.5  3.1  7. ]\n",
      " [10.  11.  12. ]]\n",
      "\n",
      " absolute\n",
      "[[ 2.5  3.1  7. ]\n",
      " [10.  11.  12. ]]\n",
      "\n",
      " sqrt\n",
      "[[       nan 1.76068169 2.64575131]\n",
      " [3.16227766 3.31662479 3.46410162]]\n",
      "\n",
      " exp\n",
      "[[8.20849986e-02 2.21979513e+01 1.09663316e+03]\n",
      " [2.20264658e+04 5.98741417e+04 1.62754791e+05]]\n",
      "\n",
      " log\n",
      "[[       nan 1.13140211 1.94591015]\n",
      " [2.30258509 2.39789527 2.48490665]]\n",
      "\n",
      " sign\n",
      "[[-1.  1.  1.]\n",
      " [ 1.  1.  1.]]\n",
      "\n",
      " ceil\n",
      "[[-2.  4.  7.]\n",
      " [10. 11. 12.]]\n",
      "\n",
      " modf\n",
      "(array([[-0.5,  0.1,  0. ],\n",
      "       [ 0. ,  0. ,  0. ]]), array([[-2.,  3.,  7.],\n",
      "       [10., 11., 12.]]))\n",
      "\n",
      " isnan\n",
      "[[False False False]\n",
      " [False False False]]\n",
      "\n",
      " cos\n",
      "[[-0.80114362 -0.99913515  0.75390225]\n",
      " [-0.83907153  0.0044257   0.84385396]]\n"
     ]
    },
    {
     "name": "stderr",
     "output_type": "stream",
     "text": [
      "D:\\cbhyconda\\envs\\mljnu\\lib\\site-packages\\ipykernel_launcher.py:5: RuntimeWarning: invalid value encountered in sqrt\n",
      "  \"\"\"\n",
      "D:\\cbhyconda\\envs\\mljnu\\lib\\site-packages\\ipykernel_launcher.py:5: RuntimeWarning: invalid value encountered in log\n",
      "  \"\"\"\n"
     ]
    }
   ],
   "source": [
    "print(arr3)\n",
    "\n",
    "for func in (np.abs, np.sqrt, np.exp, np.log, np.sign, np.ceil, np.modf, np.isnan, np.cos):\n",
    "    print(\"\\n\", func.__name__)\n",
    "    print(func(arr3))"
   ]
  },
  {
   "cell_type": "code",
   "execution_count": 31,
   "metadata": {},
   "outputs": [
    {
     "name": "stdout",
     "output_type": "stream",
     "text": [
      "[ 3  6  2 11]\n",
      "\n",
      "[False False  True False]\n",
      "\n",
      "[2 8 3 7]\n",
      "\n",
      "[ 1.  2. -3.  4.]\n"
     ]
    }
   ],
   "source": [
    "# 이항 일반 함수\n",
    "a = np.array([1, -2, 3, 4])\n",
    "b = np.array([2, 8, -1, 7])\n",
    "\n",
    "print(np.add(a, b)) # a + b \n",
    "print()\n",
    "print(np.greater(a, b)) # a > b\n",
    "print()\n",
    "print(np.maximum(a, b))\n",
    "print()\n",
    "print(np.copysign(a, b)) # a 의 부호를 b 로 변환하는 함수"
   ]
  },
  {
   "cell_type": "markdown",
   "metadata": {},
   "source": [
    "## 배열 인덱싱 && 슬라이싱 ##"
   ]
  },
  {
   "cell_type": "markdown",
   "metadata": {},
   "source": [
    "### 1차원 배열 ###"
   ]
  },
  {
   "cell_type": "code",
   "execution_count": 33,
   "metadata": {},
   "outputs": [
    {
     "name": "stdout",
     "output_type": "stream",
     "text": [
      "4\n"
     ]
    }
   ],
   "source": [
    "# 1차원 배열은 파이썬 리스트와 비슷하게 사용할 수 있다.\n",
    "arr1 = np.array([1, 2, 3, 4, 5, 6, 7, 8, 9])\n",
    "print(arr1[3])"
   ]
  },
  {
   "cell_type": "code",
   "execution_count": 34,
   "metadata": {},
   "outputs": [
    {
     "name": "stdout",
     "output_type": "stream",
     "text": [
      "[2 3 4 5]\n"
     ]
    }
   ],
   "source": [
    "# 슬라이싱도 마찬가지\n",
    "print(arr1[1 : 5])"
   ]
  },
  {
   "cell_type": "code",
   "execution_count": 42,
   "metadata": {},
   "outputs": [
    {
     "name": "stdout",
     "output_type": "stream",
     "text": [
      "오류\n",
      "[ 1  2 -1 -1 -1  6  7  8  9]\n"
     ]
    }
   ],
   "source": [
    "# 차이점?\n",
    "\n",
    "# 리스트는 불가능\n",
    "lis2 = list(range(10))\n",
    "\n",
    "try:\n",
    "    lis2[2:5] = -1\n",
    "except:\n",
    "    print(\"오류\")\n",
    "    pass\n",
    "\n",
    "# ndarray는 가능\n",
    "arr1[2:5] = -1 \n",
    "print(arr1)"
   ]
  },
  {
   "cell_type": "code",
   "execution_count": 43,
   "metadata": {},
   "outputs": [
    {
     "name": "stdout",
     "output_type": "stream",
     "text": [
      "안됨\n",
      "안됨\n"
     ]
    }
   ],
   "source": [
    "# ndarray의 크기는 고정되어있기 때문에 끼워넣으면서 크기변경 불가능\n",
    "try:\n",
    "    arr1[1:2] = [1, 2, 3, 4, 5, 6]\n",
    "except:\n",
    "    print(\"안됨\")\n",
    "    pass\n",
    "\n",
    "# 이것도 불가능\n",
    "try:\n",
    "    arr1[1:2] = [1, 2]\n",
    "except:\n",
    "    print(\"안됨\")\n",
    "    pass\n"
   ]
  },
  {
   "cell_type": "code",
   "execution_count": 47,
   "metadata": {},
   "outputs": [
    {
     "name": "stdout",
     "output_type": "stream",
     "text": [
      "안됨\n",
      "안됨\n",
      "삭제 확인\n"
     ]
    }
   ],
   "source": [
    "# 원소 삭제도 불가능\n",
    "try:\n",
    "    del arr1[1]\n",
    "except:\n",
    "    print(\"안됨\")\n",
    "    pass\n",
    "\n",
    "print()\n",
    "\n",
    "\n",
    "# 전체 삭제는 가능\n",
    "try:\n",
    "    del arr1\n",
    "except:\n",
    "    print(\"안됨\")\n",
    "    pass\n",
    "finally:\n",
    "    try:\n",
    "        print(arr1)\n",
    "    except:\n",
    "        print(\"삭제 확인\")\n",
    "        pass"
   ]
  },
  {
   "cell_type": "code",
   "execution_count": null,
   "metadata": {},
   "outputs": [],
   "source": [
    "\n",
    "\n"
   ]
  },
  {
   "cell_type": "code",
   "execution_count": null,
   "metadata": {},
   "outputs": [],
   "source": []
  },
  {
   "cell_type": "code",
   "execution_count": null,
   "metadata": {},
   "outputs": [],
   "source": []
  },
  {
   "cell_type": "code",
   "execution_count": null,
   "metadata": {},
   "outputs": [],
   "source": []
  },
  {
   "cell_type": "code",
   "execution_count": null,
   "metadata": {},
   "outputs": [],
   "source": []
  },
  {
   "cell_type": "code",
   "execution_count": null,
   "metadata": {},
   "outputs": [],
   "source": []
  },
  {
   "cell_type": "code",
   "execution_count": null,
   "metadata": {},
   "outputs": [],
   "source": []
  },
  {
   "cell_type": "code",
   "execution_count": null,
   "metadata": {},
   "outputs": [],
   "source": []
  },
  {
   "cell_type": "code",
   "execution_count": null,
   "metadata": {},
   "outputs": [],
   "source": []
  }
 ],
 "metadata": {
  "interpreter": {
   "hash": "eaded5a7997c05586ebf7af8dfcd805bc79ec256ab8efddbe3d03cb2ab32050e"
  },
  "kernelspec": {
   "display_name": "Python 3.7.11 ('mljnu')",
   "language": "python",
   "name": "python3"
  },
  "language_info": {
   "codemirror_mode": {
    "name": "ipython",
    "version": 3
   },
   "file_extension": ".py",
   "mimetype": "text/x-python",
   "name": "python",
   "nbconvert_exporter": "python",
   "pygments_lexer": "ipython3",
   "version": "3.7.11"
  },
  "orig_nbformat": 4
 },
 "nbformat": 4,
 "nbformat_minor": 2
}

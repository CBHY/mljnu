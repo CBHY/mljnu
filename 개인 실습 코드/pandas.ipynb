{
 "cells": [
  {
   "cell_type": "code",
   "execution_count": 2,
   "metadata": {},
   "outputs": [],
   "source": [
    "# Pandas 차원 별 명칭\n",
    "\n",
    "# 1D Series \n",
    "# 2D DataFrame\n",
    "# 3D Panel\n",
    "\n",
    "# 졍형 데이터(ex excel)"
   ]
  },
  {
   "cell_type": "code",
   "execution_count": 3,
   "metadata": {},
   "outputs": [],
   "source": [
    "# Series\n",
    "# 데이터를 담는 차원 배열 구조를 가진다.\n",
    "# 인덱스(index)사용 가능\n",
    "# 데이터 타입(dtype)을 가진다."
   ]
  },
  {
   "cell_type": "code",
   "execution_count": 4,
   "metadata": {},
   "outputs": [
    {
     "name": "stdout",
     "output_type": "stream",
     "text": [
      "[100 101 102 103 104]\n",
      "0    100\n",
      "1    101\n",
      "2    102\n",
      "3    103\n",
      "4    104\n",
      "dtype: int32\n",
      "0    100\n",
      "1    101\n",
      "2    102\n",
      "3    103\n",
      "4    104\n",
      "dtype: int64\n"
     ]
    }
   ],
   "source": [
    "# Series의 생성\n",
    "# numpy로 생성 후 Series에 담는 방법\n",
    "import pandas as pd\n",
    "import numpy as np\n",
    "arr1 = np.arange(100, 105)\n",
    "print(arr1)\n",
    "\n",
    "s = pd.Series(arr1)\n",
    "print(s)\n",
    "\n",
    "# 데이터 타입을 지정해서 생성하는 방법도 있음\n",
    "s = pd.Series(arr1, dtype=\"int64\")\n",
    "print(s)"
   ]
  },
  {
   "cell_type": "code",
   "execution_count": 5,
   "metadata": {},
   "outputs": [
    {
     "name": "stdout",
     "output_type": "stream",
     "text": [
      "0    부장\n",
      "1    차장\n",
      "2    대리\n",
      "3    사원\n",
      "4    인턴\n",
      "dtype: object\n"
     ]
    }
   ],
   "source": [
    "# 리스트로 생성\n",
    "s = pd.Series(['부장', '차장', '대리', '사원', '인턴'])\n",
    "print(s)"
   ]
  },
  {
   "cell_type": "code",
   "execution_count": 6,
   "metadata": {},
   "outputs": [
    {
     "name": "stdout",
     "output_type": "stream",
     "text": [
      "RangeIndex(start=0, stop=5, step=1)\n",
      "부장\n",
      "error\n"
     ]
    }
   ],
   "source": [
    "# 인덱스\n",
    "print(s.index)\n",
    "print(s[0]) # 음수 값 인덱싱은 불가\n",
    "\n",
    "try:\n",
    "    print(s[-1])\n",
    "except:\n",
    "    print(\"error\")\n"
   ]
  },
  {
   "cell_type": "code",
   "execution_count": 7,
   "metadata": {},
   "outputs": [
    {
     "name": "stdout",
     "output_type": "stream",
     "text": [
      "a    마케팅\n",
      "b     경영\n",
      "c     개발\n",
      "d     기획\n",
      "e     인사\n",
      "dtype: object\n",
      "Index(['a', 'b', 'c', 'd', 'e'], dtype='object')\n",
      "개발\n",
      "경영\n",
      "인사\n",
      "\n",
      "2    마케팅\n",
      "3     경영\n",
      "4     개발\n",
      "5     기획\n",
      "6     인사\n",
      "dtype: object\n"
     ]
    }
   ],
   "source": [
    "# 인덱스 부여\n",
    "s = pd.Series(['마케팅', '경영', '개발', '기획', '인사'], index=['a', 'b', 'c', 'd', 'e'])\n",
    "print(s)\n",
    "\n",
    "print(s.index)\n",
    "\n",
    "print(s['c'])\n",
    "print(s[1]) # 판다스가 읽는 순서 : 1번 인덱스 값을 가져옴 > b값으로 확인 > b에 있는 값을 가져옴 \n",
    "print(s[-1]) # 가능함 (-1번째 인덱스 값을 가져옴 > e값으로 확인 > e 값을 가져옴)\n",
    "\n",
    "print()\n",
    "\n",
    "# Series 생성 후 나중에 인덱스를 부여할 수도 있다.\n",
    "s = pd.Series(['마케팅', '경영', '개발', '기획', '인사'])\n",
    "s.index = list('23456')\n",
    "print(s)\n",
    "\n"
   ]
  },
  {
   "cell_type": "code",
   "execution_count": 8,
   "metadata": {},
   "outputs": [
    {
     "name": "stdout",
     "output_type": "stream",
     "text": [
      "0    1.0\n",
      "1    2.0\n",
      "2    3.0\n",
      "3    4.0\n",
      "4    NaN\n",
      "dtype: float64\n"
     ]
    }
   ],
   "source": [
    "# NaN(Not a Number) 비어있는 모든 결측치 데이터\n",
    "# 배열 비워두기\n",
    "s = pd.Series([1, 2, 3, 4, np.nan])\n",
    "print(s)"
   ]
  },
  {
   "cell_type": "code",
   "execution_count": 9,
   "metadata": {},
   "outputs": [],
   "source": [
    "s1 = pd.Series([50, 51, 52, 53, 54], dtype = \"float32\")\n",
    "s1 = pd.Series(np.arange(50, 55), dtype=\"float32\")"
   ]
  },
  {
   "cell_type": "code",
   "execution_count": 10,
   "metadata": {},
   "outputs": [
    {
     "name": "stdout",
     "output_type": "stream",
     "text": [
      "가     apple\n",
      "나       NaN\n",
      "다    banana\n",
      "라      kiwi\n",
      "마    gubong\n",
      "dtype: object\n"
     ]
    }
   ],
   "source": [
    "s2 = pd.Series(['apple', np.nan, 'banana', 'kiwi', 'gubong'])\n",
    "s2.index = ['가', '나', '다', '라', '마']\n",
    "print(s2)"
   ]
  },
  {
   "cell_type": "code",
   "execution_count": 11,
   "metadata": {},
   "outputs": [
    {
     "name": "stdout",
     "output_type": "stream",
     "text": [
      "a    손흥민\n",
      "b    김연아\n",
      "c    박세리\n",
      "d    박찬호\n",
      "e    김연경\n",
      "dtype: object\n",
      "김연아\n",
      "김연아\n",
      "a    손흥민\n",
      "b    김연아\n",
      "e    김연경\n",
      "dtype: object\n",
      "2    3\n",
      "3    4\n",
      "4    5\n",
      "5    6\n",
      "dtype: int64\n"
     ]
    }
   ],
   "source": [
    "s3 = pd.Series(['손흥민', '김연아', '박세리', '박찬호', '김연경'], index=['a','b','c', 'd', 'e'])\n",
    "print(s3)\n",
    "\n",
    "# indexing\n",
    "print(s3[1])\n",
    "print(s3['b'])\n",
    "\n",
    "# fancy indexing # 리스트 형식을 인덱싱\n",
    "s3[['a', 'b']]\n",
    "\n",
    "# boolean indexing (괄호 2개)\n",
    "print(s3[[True, True, False, False, True]])\n",
    "\n",
    "# boolean indexing 응용 (조건 indexing)\n",
    "s4 = pd.Series([1, 2, 3, 4, 5, 6, 7, 8, 9, 10])\n",
    "cond = (s4 < 7) & (s4 > 2)\n",
    "print(s4[cond])"
   ]
  },
  {
   "cell_type": "code",
   "execution_count": 14,
   "metadata": {},
   "outputs": [
    {
     "data": {
      "text/html": [
       "<div>\n",
       "<style scoped>\n",
       "    .dataframe tbody tr th:only-of-type {\n",
       "        vertical-align: middle;\n",
       "    }\n",
       "\n",
       "    .dataframe tbody tr th {\n",
       "        vertical-align: top;\n",
       "    }\n",
       "\n",
       "    .dataframe thead th {\n",
       "        text-align: right;\n",
       "    }\n",
       "</style>\n",
       "<table border=\"1\" class=\"dataframe\">\n",
       "  <thead>\n",
       "    <tr style=\"text-align: right;\">\n",
       "      <th></th>\n",
       "      <th>num</th>\n",
       "    </tr>\n",
       "  </thead>\n",
       "  <tbody>\n",
       "    <tr>\n",
       "      <th>a</th>\n",
       "      <td>1</td>\n",
       "    </tr>\n",
       "    <tr>\n",
       "      <th>b</th>\n",
       "      <td>2</td>\n",
       "    </tr>\n",
       "    <tr>\n",
       "      <th>c</th>\n",
       "      <td>3</td>\n",
       "    </tr>\n",
       "    <tr>\n",
       "      <th>d</th>\n",
       "      <td>4</td>\n",
       "    </tr>\n",
       "    <tr>\n",
       "      <th>e</th>\n",
       "      <td>5</td>\n",
       "    </tr>\n",
       "    <tr>\n",
       "      <th>f</th>\n",
       "      <td>6</td>\n",
       "    </tr>\n",
       "    <tr>\n",
       "      <th>g</th>\n",
       "      <td>7</td>\n",
       "    </tr>\n",
       "  </tbody>\n",
       "</table>\n",
       "</div>"
      ],
      "text/plain": [
       "   num\n",
       "a    1\n",
       "b    2\n",
       "c    3\n",
       "d    4\n",
       "e    5\n",
       "f    6\n",
       "g    7"
      ]
     },
     "execution_count": 14,
     "metadata": {},
     "output_type": "execute_result"
    }
   ],
   "source": [
    "df = pd.DataFrame([1, 2, 3, 4, 5, 6, 7], index=['a', 'b', 'c', 'd', 'e', 'f', 'g'], columns=['num'])\n",
    "\n",
    "df"
   ]
  },
  {
   "cell_type": "code",
   "execution_count": 18,
   "metadata": {},
   "outputs": [
    {
     "ename": "TypeError",
     "evalue": "'DataFrame' object is not callable",
     "output_type": "error",
     "traceback": [
      "\u001b[1;31m---------------------------------------------------------------------------\u001b[0m",
      "\u001b[1;31mTypeError\u001b[0m                                 Traceback (most recent call last)",
      "\u001b[1;32m~\\AppData\\Local\\Temp\\ipykernel_14480\\4139087507.py\u001b[0m in \u001b[0;36m<module>\u001b[1;34m\u001b[0m\n\u001b[1;32m----> 1\u001b[1;33m \u001b[0mdf\u001b[0m\u001b[1;33m.\u001b[0m\u001b[0mT\u001b[0m\u001b[1;33m(\u001b[0m\u001b[1;33m)\u001b[0m\u001b[1;33m\u001b[0m\u001b[1;33m\u001b[0m\u001b[0m\n\u001b[0m",
      "\u001b[1;31mTypeError\u001b[0m: 'DataFrame' object is not callable"
     ]
    }
   ],
   "source": [
    "df.T"
   ]
  },
  {
   "cell_type": "code",
   "execution_count": 28,
   "metadata": {},
   "outputs": [
    {
     "name": "stdout",
     "output_type": "stream",
     "text": [
      "   num\n",
      "a    1\n",
      "b    2\n",
      "   num\n",
      "a    1\n",
      "b    2\n",
      "num    4\n",
      "Name: d, dtype: int64\n"
     ]
    }
   ],
   "source": [
    "print(df['a':'b'][:])\n",
    "print(df.loc[['a', 'b'], :])\n",
    "\n",
    "print(df.iloc[3, :])"
   ]
  },
  {
   "cell_type": "code",
   "execution_count": 32,
   "metadata": {},
   "outputs": [],
   "source": [
    "df = pd.DataFrame([\n",
    "    [45, 44, 73, 39],\n",
    "    [76, 92, 45, 69],\n",
    "    [47, 92, 45, 69],\n",
    "    [92, 81, 85, 40],\n",
    "    [11, 79, 47,26],\n",
    "],index=['수학', '영어', '국어', '사회', '과학'], columns=['1반', '2반', '3반', '4반']\n",
    "    )"
   ]
  },
  {
   "cell_type": "code",
   "execution_count": 36,
   "metadata": {},
   "outputs": [
    {
     "data": {
      "text/html": [
       "<div>\n",
       "<style scoped>\n",
       "    .dataframe tbody tr th:only-of-type {\n",
       "        vertical-align: middle;\n",
       "    }\n",
       "\n",
       "    .dataframe tbody tr th {\n",
       "        vertical-align: top;\n",
       "    }\n",
       "\n",
       "    .dataframe thead th {\n",
       "        text-align: right;\n",
       "    }\n",
       "</style>\n",
       "<table border=\"1\" class=\"dataframe\">\n",
       "  <thead>\n",
       "    <tr style=\"text-align: right;\">\n",
       "      <th></th>\n",
       "      <th>1반</th>\n",
       "      <th>2반</th>\n",
       "      <th>3반</th>\n",
       "      <th>4반</th>\n",
       "    </tr>\n",
       "    <tr>\n",
       "      <th>과목</th>\n",
       "      <th></th>\n",
       "      <th></th>\n",
       "      <th></th>\n",
       "      <th></th>\n",
       "    </tr>\n",
       "  </thead>\n",
       "  <tbody>\n",
       "    <tr>\n",
       "      <th>수학</th>\n",
       "      <td>45</td>\n",
       "      <td>44</td>\n",
       "      <td>73</td>\n",
       "      <td>39</td>\n",
       "    </tr>\n",
       "    <tr>\n",
       "      <th>영어</th>\n",
       "      <td>76</td>\n",
       "      <td>92</td>\n",
       "      <td>45</td>\n",
       "      <td>69</td>\n",
       "    </tr>\n",
       "    <tr>\n",
       "      <th>국어</th>\n",
       "      <td>47</td>\n",
       "      <td>92</td>\n",
       "      <td>45</td>\n",
       "      <td>69</td>\n",
       "    </tr>\n",
       "    <tr>\n",
       "      <th>사회</th>\n",
       "      <td>92</td>\n",
       "      <td>81</td>\n",
       "      <td>85</td>\n",
       "      <td>40</td>\n",
       "    </tr>\n",
       "    <tr>\n",
       "      <th>과학</th>\n",
       "      <td>11</td>\n",
       "      <td>79</td>\n",
       "      <td>47</td>\n",
       "      <td>26</td>\n",
       "    </tr>\n",
       "  </tbody>\n",
       "</table>\n",
       "</div>"
      ],
      "text/plain": [
       "    1반  2반  3반  4반\n",
       "과목                \n",
       "수학  45  44  73  39\n",
       "영어  76  92  45  69\n",
       "국어  47  92  45  69\n",
       "사회  92  81  85  40\n",
       "과학  11  79  47  26"
      ]
     },
     "execution_count": 36,
     "metadata": {},
     "output_type": "execute_result"
    }
   ],
   "source": [
    "df.index.name = '과목'\n",
    "df"
   ]
  },
  {
   "cell_type": "code",
   "execution_count": 38,
   "metadata": {},
   "outputs": [
    {
     "data": {
      "text/plain": [
       "1반    271\n",
       "2반    388\n",
       "3반    295\n",
       "4반    243\n",
       "dtype: int64"
      ]
     },
     "execution_count": 38,
     "metadata": {},
     "output_type": "execute_result"
    }
   ],
   "source": [
    "df.sum()"
   ]
  },
  {
   "cell_type": "code",
   "execution_count": 40,
   "metadata": {},
   "outputs": [
    {
     "data": {
      "text/plain": [
       "과목\n",
       "수학    201\n",
       "영어    282\n",
       "국어    253\n",
       "사회    298\n",
       "과학    163\n",
       "dtype: int64"
      ]
     },
     "execution_count": 40,
     "metadata": {},
     "output_type": "execute_result"
    }
   ],
   "source": [
    "df.sum(axis=1)"
   ]
  },
  {
   "cell_type": "code",
   "execution_count": 41,
   "metadata": {},
   "outputs": [
    {
     "data": {
      "text/plain": [
       "4반    243\n",
       "1반    271\n",
       "3반    295\n",
       "2반    388\n",
       "dtype: int64"
      ]
     },
     "execution_count": 41,
     "metadata": {},
     "output_type": "execute_result"
    }
   ],
   "source": [
    "df.sum().sort_values()"
   ]
  },
  {
   "cell_type": "code",
   "execution_count": 44,
   "metadata": {},
   "outputs": [],
   "source": [
    "# 합계 column 추가\n",
    "df[\"합계\"] = df.sum(axis=1)"
   ]
  },
  {
   "cell_type": "code",
   "execution_count": 48,
   "metadata": {},
   "outputs": [
    {
     "name": "stdout",
     "output_type": "stream",
     "text": [
      "1반     92.0\n",
      "2반     92.0\n",
      "3반     85.0\n",
      "4반     69.0\n",
      "합계    298.0\n",
      "dtype: float64\n",
      "\n",
      "1반     11.0\n",
      "2반     44.0\n",
      "3반     45.0\n",
      "4반     26.0\n",
      "합계    163.0\n",
      "dtype: float64\n"
     ]
    }
   ],
   "source": [
    "print(df.max())\n",
    "\n",
    "print()\n",
    "\n",
    "print(df.min())\n"
   ]
  },
  {
   "cell_type": "code",
   "execution_count": 49,
   "metadata": {},
   "outputs": [
    {
     "name": "stdout",
     "output_type": "stream",
     "text": [
      "과목\n",
      "수학    201.0\n",
      "영어    282.0\n",
      "국어    253.0\n",
      "사회    298.0\n",
      "과학    163.0\n",
      "dtype: float64\n",
      "\n",
      "과목\n",
      "수학    39.0\n",
      "영어    45.0\n",
      "국어    45.0\n",
      "사회    40.0\n",
      "과학    11.0\n",
      "dtype: float64\n"
     ]
    }
   ],
   "source": [
    "print(df.max(axis=1))\n",
    "\n",
    "print()\n",
    "\n",
    "print(df.min(axis=1))"
   ]
  },
  {
   "cell_type": "code",
   "execution_count": null,
   "metadata": {},
   "outputs": [],
   "source": []
  },
  {
   "cell_type": "code",
   "execution_count": null,
   "metadata": {},
   "outputs": [],
   "source": []
  },
  {
   "cell_type": "code",
   "execution_count": null,
   "metadata": {},
   "outputs": [],
   "source": []
  }
 ],
 "metadata": {
  "interpreter": {
   "hash": "eaded5a7997c05586ebf7af8dfcd805bc79ec256ab8efddbe3d03cb2ab32050e"
  },
  "kernelspec": {
   "display_name": "Python 3.7.11 ('mljnu')",
   "language": "python",
   "name": "python3"
  },
  "language_info": {
   "codemirror_mode": {
    "name": "ipython",
    "version": 3
   },
   "file_extension": ".py",
   "mimetype": "text/x-python",
   "name": "python",
   "nbconvert_exporter": "python",
   "pygments_lexer": "ipython3",
   "version": "3.7.11"
  },
  "orig_nbformat": 4
 },
 "nbformat": 4,
 "nbformat_minor": 2
}

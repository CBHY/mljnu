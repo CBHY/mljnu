{
 "cells": [
  {
   "cell_type": "markdown",
   "metadata": {},
   "source": [
    "# Chepter 04. Model Training #"
   ]
  },
  {
   "cell_type": "code",
   "execution_count": 1,
   "metadata": {},
   "outputs": [],
   "source": [
    "# lib import\n",
    "import numpy as np\n",
    "import pandas as pd\n",
    "import tensorflow as tf\n",
    "import sklearn\n",
    "import matplotlib.pyplot as plt\n",
    "import os\n",
    "import sys\n",
    "import math"
   ]
  },
  {
   "cell_type": "markdown",
   "metadata": {},
   "source": [
    "## 수학적으로 모델 파라미터 구현하기 ##"
   ]
  },
  {
   "cell_type": "markdown",
   "metadata": {},
   "source": [
    "### 선형 회귀 모델 함수 (Linear Regression Model Function) 구현 ###  \n",
    "\n"
   ]
  },
  {
   "cell_type": "code",
   "execution_count": 5,
   "metadata": {},
   "outputs": [],
   "source": [
    "# 임의의 점 생성\n",
    "\n",
    "X = 2 * np.random.rand(100, 1) # X 좌표를 랜덤하게 생성\n",
    "y = 4 + 3 * X + np.random.randn(100, 1) # y좌표는 X 좌표에 가우시안 노이즈를 더한 뒤 3배 + 4\n"
   ]
  },
  {
   "cell_type": "markdown",
   "metadata": {},
   "source": [
    "랜덤 수를 생성한 후 plt로 시각화"
   ]
  },
  {
   "cell_type": "code",
   "execution_count": 6,
   "metadata": {},
   "outputs": [
    {
     "data": {
      "image/png": "[encoded data removed]",
      "text/plain": [
       "<Figure size 432x288 with 1 Axes>"
      ]
     },
     "metadata": {
      "needs_background": "light"
     },
     "output_type": "display_data"
    }
   ],
   "source": [
    "plt.plot(X, y, \"b.\") # x, y를 좌표평면 상에 뿌리는데 'blue color dot' style로 출력 \n",
    "plt.xlabel(\"$x_1$\", fontsize=18) # x_label은 x_1를 fortsize = 18로 출력\n",
    "plt.ylabel(\"$y$\", rotation=0, fontsize=18) # y label 은 y를 회전 없이 fontsize = 18로 출력\n",
    "plt.axis([0, 2, 0, 15]) # 순서대로 x최소, x 최대, y 최소, y 최대로 스케일 맞춰줌\n",
    "\n",
    "plt.show()"
   ]
  },
  {
   "cell_type": "markdown",
   "metadata": {},
   "source": [
    "위 그래프의 점들을 가장 잘 대표하는 선형 그래프를 찾는게 목표"
   ]
  },
  {
   "cell_type": "markdown",
   "metadata": {},
   "source": [
    "#### sol 1. 정규 방정식을 이용한 수학적 계산을 통한 구현 ####  \n",
    "\n",
    "**식 4-4: 정규 방정식**\n",
    "\n",
    "$\\hat{\\boldsymbol{\\theta}} = (\\mathbf{X}^T \\mathbf{X})^{-1} \\mathbf{X}^T \\mathbf{y}$  \n",
    "\n",
    "정규방정식을 통해 예측 가중치(기울기)를 구할 수 있다.  \n",
    "  \n",
    "구하는 과정에서 데이터 셋 사이즈가 커지면  \n",
    "$(\\mathbf{X}^T \\mathbf{X})^{-1}$ 의 역행렬을 다루기 부담스럽기 때문에  \n",
    "유사역행렬을 찾아 계산하는 것으로 대체하면 원하는 결과에 근사 가능하다.(특이값 분해, SCD)\n"
   ]
  },
  {
   "cell_type": "code",
   "execution_count": 22,
   "metadata": {},
   "outputs": [],
   "source": [
    "X_b = np.c_[np.ones((100, 1)), X] # 모든 셈플에 x0 = 1을 추가함\n",
    "\n",
    "# 정규방정식 구현\n",
    "predict_theta_best = np.linalg.inv(X_b.T.dot(X_b)).dot(X_b.T).dot(y) #np.linalg.inv 를 통해 역행렬을 만들고, .T를 통해 전치, .dot를 통해 dot product 실행"
   ]
  },
  {
   "cell_type": "code",
   "execution_count": 23,
   "metadata": {},
   "outputs": [
    {
     "data": {
      "text/plain": [
       "array([[3.89391587],\n",
       "       [3.15102595]])"
      ]
     },
     "execution_count": 23,
     "metadata": {},
     "output_type": "execute_result"
    }
   ],
   "source": [
    "# 예측 값 확인\n",
    "predict_theta_best"
   ]
  },
  {
   "cell_type": "markdown",
   "metadata": {},
   "source": [
    "$\\boldsymbol{\\theta}_0$, $\\boldsymbol{\\theta}_1$ 를 순서대로 원소로 가지는 ndarray를 반환  \n",
    "\n",
    "정확한 값으로 가중치 $\\boldsymbol{\\theta}_0 = 4$, $\\boldsymbol{\\theta}_1 = 3$ 을 기대했지만,  \n",
    "데이터 처리 과정에서 주어진 가우시안 노이즈에 의해 정확한 값으로 근사되지 못했음"
   ]
  },
  {
   "cell_type": "code",
   "execution_count": 24,
   "metadata": {},
   "outputs": [],
   "source": [
    "# 새로운 점 생성 후 확인 (x = 0, x = 2)\n",
    "X_new = np.array([[0], [2]])\n",
    "X_new_b = np.c_[np.ones((2, 1)), X_new] # 사이즈 맞춰주기 위해\n",
    "\n",
    "y_predict = X_new_b.dot(predict_theta_best) # 기존 예측 값과 dot product 실행\n"
   ]
  },
  {
   "cell_type": "code",
   "execution_count": 25,
   "metadata": {},
   "outputs": [
    {
     "data": {
      "text/plain": [
       "array([[ 3.89391587],\n",
       "       [10.19596778]])"
      ]
     },
     "execution_count": 25,
     "metadata": {},
     "output_type": "execute_result"
    }
   ],
   "source": [
    "# 결과 출력\n",
    "y_predict"
   ]
  },
  {
   "cell_type": "markdown",
   "metadata": {},
   "source": [
    "예측 값을 가지고 시각화를 진행"
   ]
  },
  {
   "cell_type": "code",
   "execution_count": 26,
   "metadata": {},
   "outputs": [
    {
     "data": {
      "image/png": "[encoded data removed]",
      "text/plain": [
       "<Figure size 432x288 with 1 Axes>"
      ]
     },
     "metadata": {
      "needs_background": "light"
     },
     "output_type": "display_data"
    }
   ],
   "source": [
    "# 기존 fig 위에 그릴 생각\n",
    "plt.plot(X, y, \"b.\") # x, y를 좌표평면 상에 뿌리는데 'blue color dot' style로 출력 \n",
    "plt.xlabel(\"$x_1$\", fontsize=18) # x_label은 x_1를 fortsize = 18로 출력\n",
    "plt.ylabel(\"$y$\", rotation=0, fontsize=18) # y label 은 y를 회전 없이 fontsize = 18로 출력\n",
    "plt.axis([0, 2, 0, 15]) # 순서대로 x최소, x 최대, y 최소, y 최대로 스케일 맞춰줌\n",
    "\n",
    "# 예측 값 표현\n",
    "plt.plot(X_new, y_predict, \"r-\")\n",
    "\n",
    "\n",
    "plt.show()\n"
   ]
  },
  {
   "cell_type": "markdown",
   "metadata": {},
   "source": [
    "예측 선이 얼추 맞아 떨어지는 경향이 있음을 확인"
   ]
  },
  {
   "cell_type": "markdown",
   "metadata": {},
   "source": [
    "#### 특이값 분해(Singular value decomposition, SVD) ####\n",
    "\n",
    "아직 이해가 잘 안되서 나중에 다시 작성 할 예정 (22-03-30)"
   ]
  },
  {
   "cell_type": "markdown",
   "metadata": {},
   "source": [
    "#### sklearn LinearRegression 함수 이용 ####\n",
    "이미 구현되어있는 함수를 이용한 선형 회귀"
   ]
  },
  {
   "cell_type": "code",
   "execution_count": 27,
   "metadata": {},
   "outputs": [
    {
     "data": {
      "text/plain": [
       "LinearRegression()"
      ]
     },
     "execution_count": 27,
     "metadata": {},
     "output_type": "execute_result"
    }
   ],
   "source": [
    "from sklearn.linear_model import LinearRegression\n",
    "\n",
    "lin_reg = LinearRegression() # linearRegression 함수 생성\n",
    "lin_reg.fit(X, y) # 학습(fit) 진행"
   ]
  },
  {
   "cell_type": "code",
   "execution_count": null,
   "metadata": {},
   "outputs": [],
   "source": [
    "# 결과 출력\n",
    "lin_reg.intercept_, lin_reg.coef_ "
   ]
  },
  {
   "cell_type": "markdown",
   "metadata": {},
   "source": [
    "sklearn의 LinearRegression 함수는 intercept와 coef를 분리하여 저장.  \n",
    "  \n",
    "\n",
    "여기서 intercept_는 편향($\\boldsymbol{\\theta}_0$, bias), coef는 가중치($\\boldsymbol{\\theta}_1$, weight)를 나타낸다."
   ]
  },
  {
   "cell_type": "markdown",
   "metadata": {},
   "source": [
    "## 경사하강법(Gradient Descent) ##\n",
    "\n",
    "위 방법들의 계산 복잡도 문제를 해결할 수 있는 새로운 선형 회귀 방법  \n",
    "이 방법으로는 특성, 훈련 샘플이 매우 많아서 메모리에 모두 담을 수 없을 때도 사용 가능함"
   ]
  }
 ],
 "metadata": {
  "interpreter": {
   "hash": "eaded5a7997c05586ebf7af8dfcd805bc79ec256ab8efddbe3d03cb2ab32050e"
  },
  "kernelspec": {
   "display_name": "Python 3.7.11 ('mljnu')",
   "language": "python",
   "name": "python3"
  },
  "language_info": {
   "codemirror_mode": {
    "name": "ipython",
    "version": 3
   },
   "file_extension": ".py",
   "mimetype": "text/x-python",
   "name": "python",
   "nbconvert_exporter": "python",
   "pygments_lexer": "ipython3",
   "version": "3.7.11"
  },
  "orig_nbformat": 4
 },
 "nbformat": 4,
 "nbformat_minor": 2
}

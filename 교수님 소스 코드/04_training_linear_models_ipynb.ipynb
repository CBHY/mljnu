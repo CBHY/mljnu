{
  "cells": [
    {
      "cell_type": "markdown",
      "metadata": {
        "id": "LbnOkzQJ_56_"
      },
      "source": [
        "**4장 – 모델 훈련**"
      ]
    },
    {
      "cell_type": "markdown",
      "metadata": {
        "id": "BJjES90o_57D"
      },
      "source": [
        "_이 노트북은 4장에 있는 모든 샘플 코드와 연습문제 해답을 가지고 있습니다._"
      ]
    },
    {
      "cell_type": "markdown",
      "metadata": {
        "id": "b-ctXUjm_57D"
      },
      "source": [
        "<table align=\"left\">\n",
        "  <td>\n",
        "    <a target=\"_blank\" href=\"https://colab.research.google.com/github/rickiepark/handson-ml2/blob/master/04_training_linear_models.ipynb\"><img src=\"https://www.tensorflow.org/images/colab_logo_32px.png\" />구글 코랩에서 실행하기</a>\n",
        "  </td>\n",
        "</table>"
      ]
    },
    {
      "cell_type": "markdown",
      "metadata": {
        "id": "AIDHVFJL_57E"
      },
      "source": [
        "# 설정"
      ]
    },
    {
      "cell_type": "markdown",
      "metadata": {
        "id": "wOSfVz_A_57E"
      },
      "source": [
        "먼저 몇 개의 모듈을 임포트합니다. 맷플롯립 그래프를 인라인으로 출력하도록 만들고 그림을 저장하는 함수를 준비합니다. 또한 파이썬 버전이 3.5 이상인지 확인합니다(파이썬 2.x에서도 동작하지만 곧 지원이 중단되므로 파이썬 3을 사용하는 것이 좋습니다). 사이킷런 버전이 0.20 이상인지도 확인합니다."
      ]
    },
    {
      "cell_type": "code",
      "execution_count": 47,
      "metadata": {
        "execution": {
          "iopub.execute_input": "2021-11-03T03:33:32.997707Z",
          "iopub.status.busy": "2021-11-03T03:33:32.996989Z",
          "iopub.status.idle": "2021-11-03T03:33:33.750770Z",
          "shell.execute_reply": "2021-11-03T03:33:33.749922Z"
        },
        "id": "SKP_KEeS_57F"
      },
      "outputs": [],
      "source": [
        "# 파이썬 ≥3.5 필수\n",
        "import sys\n",
        "assert sys.version_info >= (3, 5)\n",
        "\n",
        "# 사이킷런 ≥0.20 필수\n",
        "import sklearn\n",
        "assert sklearn.__version__ >= \"0.20\"\n",
        "\n",
        "# 공통 모듈 임포트\n",
        "import numpy as np\n",
        "import os\n",
        "\n",
        "# 노트북 실행 결과를 동일하게 유지하기 위해\n",
        "np.random.seed(42)\n",
        "\n",
        "# 깔끔한 그래프 출력을 위해\n",
        "%matplotlib inline\n",
        "import matplotlib as mpl\n",
        "import matplotlib.pyplot as plt\n",
        "mpl.rc('axes', labelsize=14)\n",
        "mpl.rc('xtick', labelsize=12)\n",
        "mpl.rc('ytick', labelsize=12)\n",
        "\n",
        "# 그림을 저장할 위치\n",
        "PROJECT_ROOT_DIR = \".\"\n",
        "CHAPTER_ID = \"training_linear_models\"\n",
        "IMAGES_PATH = os.path.join(PROJECT_ROOT_DIR, \"images\", CHAPTER_ID)\n",
        "os.makedirs(IMAGES_PATH, exist_ok=True)\n",
        "\n",
        "def save_fig(fig_id, tight_layout=True, fig_extension=\"png\", resolution=300):\n",
        "    path = os.path.join(IMAGES_PATH, fig_id + \".\" + fig_extension)\n",
        "    print(\"그림 저장:\", fig_id)\n",
        "    if tight_layout:\n",
        "        plt.tight_layout()\n",
        "    plt.savefig(path, format=fig_extension, dpi=resolution)"
      ]
    },
    {
      "cell_type": "markdown",
      "metadata": {
        "id": "Z3e5940Z_57G"
      },
      "source": [
        "# 선형 회귀"
      ]
    },
    {
      "cell_type": "code",
      "execution_count": 48,
      "metadata": {
        "execution": {
          "iopub.execute_input": "2021-11-03T03:33:33.755847Z",
          "iopub.status.busy": "2021-11-03T03:33:33.755208Z",
          "iopub.status.idle": "2021-11-03T03:33:33.757085Z",
          "shell.execute_reply": "2021-11-03T03:33:33.757544Z"
        },
        "id": "Mqqzr4Bz_57G"
      },
      "outputs": [],
      "source": [
        "# 예제 데이터\n",
        "\n",
        "# rand : 균등분포로 난수 발생(고르게)\n",
        "# 0~1 난수, 100 by 1의 난수\n",
        "# 2를 곱해서 0~2사이의 값 생성\n",
        "# 샘플은 100개 특성은 1개\n",
        "# x에 값을 부여하여 절편과 기울기를 만들고 난수로 y축을 조정\n",
        "# randn : 표준분포(정규분포), 평균 0, 표준편차 1\n",
        "\n",
        "import numpy as np\n",
        "\n",
        "X = 2 * np.random.rand(100, 1)\n",
        "y = 4 + 3 * X + np.random.randn(100, 1)"
      ]
    },
    {
      "cell_type": "code",
      "execution_count": 49,
      "metadata": {
        "colab": {
          "base_uri": "https://localhost:8080/",
          "height": 315
        },
        "execution": {
          "iopub.execute_input": "2021-11-03T03:33:33.775193Z",
          "iopub.status.busy": "2021-11-03T03:33:33.774529Z",
          "iopub.status.idle": "2021-11-03T03:33:34.434851Z",
          "shell.execute_reply": "2021-11-03T03:33:34.435548Z"
        },
        "id": "u3XIt_cf_57H",
        "outputId": "732ed28d-b1a6-43b2-8c05-3b67a9f08782"
      },
      "outputs": [
        {
          "name": "stdout",
          "output_type": "stream",
          "text": [
            "그림 저장: generated_data_plot\n"
          ]
        },
        {
          "data": {
            "image/png": "[encoded data removed]",
            "text/plain": [
              "<Figure size 432x288 with 1 Axes>"
            ]
          },
          "metadata": {
            "needs_background": "light"
          },
          "output_type": "display_data"
        }
      ],
      "source": [
        "plt.plot(X, y, \"b.\")\n",
        "plt.xlabel(\"$x_1$\", fontsize=18)\n",
        "plt.ylabel(\"$y$\", rotation=0, fontsize=18)\n",
        "plt.axis([0, 2, 0, 15])\n",
        "save_fig(\"generated_data_plot\")\n",
        "plt.show()"
      ]
    },
    {
      "cell_type": "markdown",
      "metadata": {
        "id": "bBhJaF2n_57I"
      },
      "source": [
        "**식 4-4: 정규 방정식**\n",
        "\n",
        "$\\hat{\\boldsymbol{\\theta}} = (\\mathbf{X}^T \\mathbf{X})^{-1} \\mathbf{X}^T \\mathbf{y}$"
      ]
    },
    {
      "cell_type": "code",
      "execution_count": 50,
      "metadata": {
        "execution": {
          "iopub.execute_input": "2021-11-03T03:33:34.441403Z",
          "iopub.status.busy": "2021-11-03T03:33:34.440756Z",
          "iopub.status.idle": "2021-11-03T03:33:34.445091Z",
          "shell.execute_reply": "2021-11-03T03:33:34.444225Z"
        },
        "id": "HI7wUsvO_57I"
      },
      "outputs": [],
      "source": [
        "# 모든 샘플에 x0 = 1을 추가합니다. (절편) 100 by 2\n",
        "# X_b.T : X^T\n",
        "# np.linalg.inv : 역행렬\n",
        "# X_b.T.dot(X_b) : (2,100)(100,2)=> (2,2)\n",
        "# inv(X_b.T.dot(X_b)).dot(X_b.T): (2,2)(2,100) => (2,100)\n",
        "# inv(X_b.T.dot(X_b)).dot(X_b.T).dot(y): (2,100)(100,1)=>(2,1)\n",
        "\n",
        "X_b = np.c_[np.ones((100, 1)), X]  \n",
        "theta_best = np.linalg.inv(X_b.T.dot(X_b)).dot(X_b.T).dot(y)"
      ]
    },
    {
      "cell_type": "code",
      "execution_count": 51,
      "metadata": {
        "colab": {
          "base_uri": "https://localhost:8080/"
        },
        "execution": {
          "iopub.execute_input": "2021-11-03T03:33:34.450416Z",
          "iopub.status.busy": "2021-11-03T03:33:34.449601Z",
          "iopub.status.idle": "2021-11-03T03:33:34.453378Z",
          "shell.execute_reply": "2021-11-03T03:33:34.453815Z"
        },
        "id": "ALy1Kofd_57I",
        "outputId": "c6cd1137-286e-440d-98ad-b1c9767ce8b4"
      },
      "outputs": [
        {
          "data": {
            "text/plain": [
              "array([[4.21509616],\n",
              "       [2.77011339]])"
            ]
          },
          "execution_count": 51,
          "metadata": {},
          "output_type": "execute_result"
        }
      ],
      "source": [
        "theta_best\n",
        "# 세타, 절편"
      ]
    },
    {
      "cell_type": "markdown",
      "metadata": {
        "id": "KjWPS_TK_57I"
      },
      "source": [
        "$\\hat{y} = \\mathbf{X} \\boldsymbol{\\hat{\\theta}}$"
      ]
    },
    {
      "cell_type": "code",
      "execution_count": 52,
      "metadata": {
        "colab": {
          "base_uri": "https://localhost:8080/"
        },
        "execution": {
          "iopub.execute_input": "2021-11-03T03:33:34.460018Z",
          "iopub.status.busy": "2021-11-03T03:33:34.459236Z",
          "iopub.status.idle": "2021-11-03T03:33:34.462691Z",
          "shell.execute_reply": "2021-11-03T03:33:34.463119Z"
        },
        "id": "PWtlDUl-_57J",
        "outputId": "800a0330-fb0c-447e-c233-dd9fc6bdb7ae"
      },
      "outputs": [
        {
          "data": {
            "text/plain": [
              "array([[4.21509616],\n",
              "       [9.75532293]])"
            ]
          },
          "execution_count": 52,
          "metadata": {},
          "output_type": "execute_result"
        }
      ],
      "source": [
        "# 새로운 샘플의 출력\n",
        "# 0 ~ 2까지의 직선을 그려보기\n",
        "\n",
        "X_new = np.array([[0], [2]])\n",
        "\n",
        "# np.ones((2, 1)): 1로 채워진 2 *1 생성\n",
        "# 절편(b)에 대한 가상 특성, 모든 샘플에 x0 = 1을 추가(행렬연산위해)\n",
        "X_new_b = np.c_[np.ones((2, 1)), X_new] \n",
        "\n",
        "# y_predict : 0과 2에 대한 모델의 예측값\n",
        "\n",
        "y_predict = X_new_b.dot(theta_best)\n",
        "y_predict"
      ]
    },
    {
      "cell_type": "code",
      "execution_count": 53,
      "metadata": {
        "colab": {
          "base_uri": "https://localhost:8080/",
          "height": 268
        },
        "execution": {
          "iopub.execute_input": "2021-11-03T03:33:34.481933Z",
          "iopub.status.busy": "2021-11-03T03:33:34.478520Z",
          "iopub.status.idle": "2021-11-03T03:33:34.643689Z",
          "shell.execute_reply": "2021-11-03T03:33:34.644328Z"
        },
        "id": "rmZdW46x_57J",
        "outputId": "2390f583-f84e-4b8f-d83e-770d330cf75d"
      },
      "outputs": [
        {
          "data": {
            "image/png": "[encoded data removed]",
            "text/plain": [
              "<Figure size 432x288 with 1 Axes>"
            ]
          },
          "metadata": {
            "needs_background": "light"
          },
          "output_type": "display_data"
        }
      ],
      "source": [
        "plt.plot(X_new, y_predict, \"r-\")\n",
        "plt.plot(X, y, \"b.\")\n",
        "plt.axis([0, 2, 0, 15])\n",
        "plt.show()\n",
        "\n",
        "# 주황색 선이 최소의 MSE를 보이는 선형 모델"
      ]
    },
    {
      "cell_type": "markdown",
      "metadata": {
        "id": "hyojZutl_57J"
      },
      "source": [
        "책에 있는 그림은 범례와 축 레이블이 있는 그래프입니다:"
      ]
    },
    {
      "cell_type": "code",
      "execution_count": 54,
      "metadata": {
        "colab": {
          "base_uri": "https://localhost:8080/",
          "height": 315
        },
        "execution": {
          "iopub.execute_input": "2021-11-03T03:33:34.670734Z",
          "iopub.status.busy": "2021-11-03T03:33:34.663566Z",
          "iopub.status.idle": "2021-11-03T03:33:35.149787Z",
          "shell.execute_reply": "2021-11-03T03:33:35.150235Z"
        },
        "id": "8HWCXkzF_57J",
        "outputId": "91006f50-1fcf-492c-f1e6-a4ec49c32e3e"
      },
      "outputs": [
        {
          "name": "stdout",
          "output_type": "stream",
          "text": [
            "그림 저장: linear_model_predictions_plot\n"
          ]
        },
        {
          "data": {
            "image/png": "[encoded data removed]",
            "text/plain": [
              "<Figure size 432x288 with 1 Axes>"
            ]
          },
          "metadata": {
            "needs_background": "light"
          },
          "output_type": "display_data"
        }
      ],
      "source": [
        "plt.plot(X_new, y_predict, \"r-\", linewidth=2, label=\"Predictions\")\n",
        "plt.plot(X, y, \"b.\")\n",
        "plt.xlabel(\"$x_1$\", fontsize=18)\n",
        "plt.ylabel(\"$y$\", rotation=0, fontsize=18)\n",
        "plt.legend(loc=\"upper left\", fontsize=14)\n",
        "plt.axis([0, 2, 0, 15])\n",
        "save_fig(\"linear_model_predictions_plot\")\n",
        "plt.show()"
      ]
    },
    {
      "cell_type": "code",
      "execution_count": 55,
      "metadata": {
        "colab": {
          "base_uri": "https://localhost:8080/"
        },
        "execution": {
          "iopub.execute_input": "2021-11-03T03:33:35.155202Z",
          "iopub.status.busy": "2021-11-03T03:33:35.154591Z",
          "iopub.status.idle": "2021-11-03T03:33:35.187153Z",
          "shell.execute_reply": "2021-11-03T03:33:35.186601Z"
        },
        "id": "gaC4Yuh6_57K",
        "outputId": "1b343508-00dd-49ab-b1f0-11ee8825a133"
      },
      "outputs": [
        {
          "data": {
            "text/plain": [
              "(array([4.21509616]), array([[2.77011339]]))"
            ]
          },
          "execution_count": 55,
          "metadata": {},
          "output_type": "execute_result"
        }
      ],
      "source": [
        "# 선형회귀모델\n",
        "\n",
        "from sklearn.linear_model import LinearRegression\n",
        "\n",
        "lin_reg = LinearRegression()\n",
        "lin_reg.fit(X, y)\n",
        "# lin_reg.intercept_: 절편, lin_reg.coef_ : 계수(가중치)\n",
        "\n",
        "lin_reg.intercept_, lin_reg.coef_"
      ]
    },
    {
      "cell_type": "code",
      "execution_count": 56,
      "metadata": {
        "colab": {
          "base_uri": "https://localhost:8080/"
        },
        "execution": {
          "iopub.execute_input": "2021-11-03T03:33:35.191692Z",
          "iopub.status.busy": "2021-11-03T03:33:35.191074Z",
          "iopub.status.idle": "2021-11-03T03:33:35.195374Z",
          "shell.execute_reply": "2021-11-03T03:33:35.195817Z"
        },
        "id": "0WJC-K8C_57K",
        "outputId": "44a18a06-5bfe-488a-d2aa-1835a2fa4e1d"
      },
      "outputs": [
        {
          "data": {
            "text/plain": [
              "array([[4.21509616],\n",
              "       [9.75532293]])"
            ]
          },
          "execution_count": 56,
          "metadata": {},
          "output_type": "execute_result"
        }
      ],
      "source": [
        "# 새로운 데이터에 적용\n",
        "\n",
        "lin_reg.predict(X_new)"
      ]
    },
    {
      "cell_type": "markdown",
      "metadata": {
        "id": "tj1d07Bc_57K"
      },
      "source": [
        "`LinearRegression` 클래스는 `scipy.linalg.lstsq()` 함수(\"least squares\"의 약자)를 사용하므로 이 함수를 직접 사용할 수 있습니다:"
      ]
    },
    {
      "cell_type": "code",
      "execution_count": 57,
      "metadata": {
        "colab": {
          "base_uri": "https://localhost:8080/"
        },
        "execution": {
          "iopub.execute_input": "2021-11-03T03:33:35.203463Z",
          "iopub.status.busy": "2021-11-03T03:33:35.202102Z",
          "iopub.status.idle": "2021-11-03T03:33:35.205838Z",
          "shell.execute_reply": "2021-11-03T03:33:35.205308Z"
        },
        "id": "wg6z8a8d_57K",
        "outputId": "304d7b90-12a3-455a-ba9e-f378c46867a9"
      },
      "outputs": [
        {
          "data": {
            "text/plain": [
              "array([[4.21509616],\n",
              "       [2.77011339]])"
            ]
          },
          "execution_count": 57,
          "metadata": {},
          "output_type": "execute_result"
        }
      ],
      "source": [
        "# 싸이파이 lstsq() 함수를 사용하려면 scipy.linalg.lstsq(X_b, y)와 같이 씁니다.\n",
        "\n",
        "# np.linalg.lstsq : SVD를 이용하여 lease square 구함\n",
        "# rank : 행렬의 랭크\n",
        "# svd(특이값 행렬)방식을 이용하여 계산\n",
        "# rcond=1e-6 : rcond * 최대 특이값을 구해 이것보다 작은 singular value(특이값) 필터링\n",
        "# 작은 값을 0으로 하여 유사 역행렬 구하기\n",
        "\n",
        "theta_best_svd, residuals, rank, s = np.linalg.lstsq(X_b, y, rcond=1e-6)\n",
        "theta_best_svd"
      ]
    },
    {
      "cell_type": "code",
      "execution_count": 58,
      "metadata": {
        "colab": {
          "base_uri": "https://localhost:8080/"
        },
        "id": "G1_nRdVrENpp",
        "outputId": "154823a7-9860-41ac-d1d6-0b66a553415f"
      },
      "outputs": [
        {
          "data": {
            "text/plain": [
              "array([80.6584564])"
            ]
          },
          "execution_count": 58,
          "metadata": {},
          "output_type": "execute_result"
        }
      ],
      "source": [
        "# residuals : theta_best와 y의 차이의 제곱 (yhat-y)**2\n",
        "residuals"
      ]
    },
    {
      "cell_type": "code",
      "execution_count": 59,
      "metadata": {
        "colab": {
          "base_uri": "https://localhost:8080/"
        },
        "id": "SxcJRif2ESyR",
        "outputId": "6fced77d-c816-4351-9ea3-f9a5bcbfb8df"
      },
      "outputs": [
        {
          "data": {
            "text/plain": [
              "2"
            ]
          },
          "execution_count": 59,
          "metadata": {},
          "output_type": "execute_result"
        }
      ],
      "source": [
        "# 독립적인 행의 갯수\n",
        "rank"
      ]
    },
    {
      "cell_type": "code",
      "execution_count": 60,
      "metadata": {
        "colab": {
          "base_uri": "https://localhost:8080/"
        },
        "id": "bD5gaP22EV_Z",
        "outputId": "04f9967b-097f-43c7-c476-2c6e99556f24"
      },
      "outputs": [
        {
          "data": {
            "text/plain": [
              "array([14.37020392,  4.11961067])"
            ]
          },
          "execution_count": 60,
          "metadata": {},
          "output_type": "execute_result"
        }
      ],
      "source": [
        "# Singular values of X_b :특이값\n",
        "s"
      ]
    },
    {
      "cell_type": "markdown",
      "metadata": {
        "id": "4m1CpjRp_57L"
      },
      "source": [
        "이 함수는 $\\mathbf{X}^+\\mathbf{y}$을 계산합니다. $\\mathbf{X}^{+}$는 $\\mathbf{X}$의 _유사역행렬_ (pseudoinverse)입니다(Moore–Penrose 유사역행렬입니다). `np.linalg.pinv()`을 사용해서 유사역행렬을 직접 계산할 수 있습니다:"
      ]
    },
    {
      "cell_type": "markdown",
      "metadata": {
        "id": "mStifMdG_57L"
      },
      "source": [
        "$\\boldsymbol{\\hat{\\theta}} = \\mathbf{X}^{-1}\\hat{y}$\n",
        "\n",
        "$\\hat{y} = \\mathbf{X} \\boldsymbol{\\hat{\\theta}}$"
      ]
    },
    {
      "cell_type": "code",
      "execution_count": 61,
      "metadata": {
        "colab": {
          "base_uri": "https://localhost:8080/"
        },
        "execution": {
          "iopub.execute_input": "2021-11-03T03:33:35.209617Z",
          "iopub.status.busy": "2021-11-03T03:33:35.208939Z",
          "iopub.status.idle": "2021-11-03T03:33:35.214696Z",
          "shell.execute_reply": "2021-11-03T03:33:35.215110Z"
        },
        "id": "p9O4MuJh_57L",
        "outputId": "76b4c764-ed57-4d10-a740-6b52cacd42cd"
      },
      "outputs": [
        {
          "data": {
            "text/plain": [
              "array([[4.21509616],\n",
              "       [2.77011339]])"
            ]
          },
          "execution_count": 61,
          "metadata": {},
          "output_type": "execute_result"
        }
      ],
      "source": [
        "# 유사역행렬(pinv) : 역행렬 근사값\n",
        "\n",
        "np.linalg.pinv(X_b).dot(y)"
      ]
    },
    {
      "cell_type": "markdown",
      "metadata": {
        "id": "1HBFdAuEVG2d"
      },
      "source": [
        "슬라이드보기"
      ]
    },
    {
      "cell_type": "markdown",
      "metadata": {
        "id": "MKcmAnkM_57L"
      },
      "source": [
        "# 경사 하강법\n",
        "## 배치 경사 하강법"
      ]
    },
    {
      "cell_type": "markdown",
      "metadata": {
        "id": "sxiTqM5O_57L"
      },
      "source": [
        "**식 4-6: 비용 함수의 그레이디언트 벡터**\n",
        "\n",
        "$\n",
        "\\dfrac{\\partial}{\\partial \\boldsymbol{\\theta}} \\text{MSE}(\\boldsymbol{\\theta})\n",
        " = \\dfrac{2}{m} \\mathbf{X}^T (\\mathbf{X} \\boldsymbol{\\theta} - \\mathbf{y})\n",
        "$\n",
        "\n",
        "**식 4-7: 경사 하강법의 스텝**\n",
        "\n",
        "$\n",
        "\\boldsymbol{\\theta}^{(\\text{next step})} = \\boldsymbol{\\theta} - \\eta \\dfrac{\\partial}{\\partial \\boldsymbol{\\theta}} \\text{MSE}(\\boldsymbol{\\theta})\n",
        "$\n"
      ]
    },
    {
      "cell_type": "code",
      "execution_count": 62,
      "metadata": {
        "execution": {
          "iopub.execute_input": "2021-11-03T03:33:35.219843Z",
          "iopub.status.busy": "2021-11-03T03:33:35.219229Z",
          "iopub.status.idle": "2021-11-03T03:33:35.225997Z",
          "shell.execute_reply": "2021-11-03T03:33:35.226388Z"
        },
        "id": "FxQVUsIK_57M"
      },
      "outputs": [],
      "source": [
        "# 미분이 경사도, 경사도를 옮겨가면서 최적의 값(세타 =오류가 가정 적은곳)을 찾는다\n",
        "\n",
        "eta = 0.1  # 학습률, 작은 학습률\n",
        "n_iterations = 1000\n",
        "m = 100\n",
        "\n",
        "# 정규분포에서 난수 발생\n",
        "theta = np.random.randn(2,1)  # 랜덤 초기화\n",
        "\n",
        "# 1000번 반복\n",
        "\n",
        "for iteration in range(n_iterations):\n",
        "    gradients = 2/m * X_b.T.dot(X_b.dot(theta) - y) # mse 미분\n",
        "    theta = theta - eta * gradients # 학습률을 곱해서 빼준다"
      ]
    },
    {
      "cell_type": "code",
      "execution_count": 63,
      "metadata": {
        "colab": {
          "base_uri": "https://localhost:8080/"
        },
        "execution": {
          "iopub.execute_input": "2021-11-03T03:33:35.231433Z",
          "iopub.status.busy": "2021-11-03T03:33:35.230509Z",
          "iopub.status.idle": "2021-11-03T03:33:35.233513Z",
          "shell.execute_reply": "2021-11-03T03:33:35.233911Z"
        },
        "id": "XcKzcaJg_57M",
        "outputId": "3eee1d0f-f42d-404c-bea6-b6d997cab0b2"
      },
      "outputs": [
        {
          "data": {
            "text/plain": [
              "array([[4.21509616],\n",
              "       [2.77011339]])"
            ]
          },
          "execution_count": 63,
          "metadata": {},
          "output_type": "execute_result"
        }
      ],
      "source": [
        "theta"
      ]
    },
    {
      "cell_type": "code",
      "execution_count": 64,
      "metadata": {
        "colab": {
          "base_uri": "https://localhost:8080/"
        },
        "execution": {
          "iopub.execute_input": "2021-11-03T03:33:35.239550Z",
          "iopub.status.busy": "2021-11-03T03:33:35.238245Z",
          "iopub.status.idle": "2021-11-03T03:33:35.241941Z",
          "shell.execute_reply": "2021-11-03T03:33:35.241419Z"
        },
        "id": "l7YRLI-l_57M",
        "outputId": "3a90a11d-9fe7-422e-a5bc-5e9f144a175c"
      },
      "outputs": [
        {
          "data": {
            "text/plain": [
              "array([[4.21509616],\n",
              "       [9.75532293]])"
            ]
          },
          "execution_count": 64,
          "metadata": {},
          "output_type": "execute_result"
        }
      ],
      "source": [
        "X_new_b.dot(theta)"
      ]
    },
    {
      "cell_type": "code",
      "execution_count": 65,
      "metadata": {
        "execution": {
          "iopub.execute_input": "2021-11-03T03:33:35.248361Z",
          "iopub.status.busy": "2021-11-03T03:33:35.247758Z",
          "iopub.status.idle": "2021-11-03T03:33:35.251156Z",
          "shell.execute_reply": "2021-11-03T03:33:35.250569Z"
        },
        "id": "Y-DVj0iY_57M"
      },
      "outputs": [],
      "source": [
        "theta_path_bgd = []\n",
        "\n",
        "def plot_gradient_descent(theta, eta, theta_path=None):\n",
        "    m = len(X_b)\n",
        "    plt.plot(X, y, \"b.\")\n",
        "    n_iterations = 1000\n",
        "    for iteration in range(n_iterations):\n",
        "        if iteration < 10:   # 초기 10번만 직선 그림\n",
        "            y_predict = X_new_b.dot(theta)\n",
        "            style = \"b-\" if iteration > 0 else \"r--\"\n",
        "            plt.plot(X_new, y_predict, style)\n",
        "        gradients = 2/m * X_b.T.dot(X_b.dot(theta) - y)\n",
        "        theta = theta - eta * gradients\n",
        "        if theta_path is not None:\n",
        "            theta_path.append(theta)\n",
        "    plt.xlabel(\"$x_1$\", fontsize=18)\n",
        "    plt.axis([0, 2, 0, 15])\n",
        "    plt.title(r\"$\\eta = {}$\".format(eta), fontsize=16)"
      ]
    },
    {
      "cell_type": "code",
      "execution_count": 66,
      "metadata": {
        "colab": {
          "base_uri": "https://localhost:8080/",
          "height": 315
        },
        "execution": {
          "iopub.execute_input": "2021-11-03T03:33:35.280459Z",
          "iopub.status.busy": "2021-11-03T03:33:35.279761Z",
          "iopub.status.idle": "2021-11-03T03:33:36.524497Z",
          "shell.execute_reply": "2021-11-03T03:33:36.524919Z"
        },
        "id": "UX7soFmG_57N",
        "outputId": "627a6dfa-ad50-4a99-86a7-d694bafac22f"
      },
      "outputs": [
        {
          "name": "stdout",
          "output_type": "stream",
          "text": [
            "그림 저장: gradient_descent_plot\n"
          ]
        },
        {
          "data": {
            "image/png": "[encoded data removed]",
            "text/plain": [
              "<Figure size 720x288 with 3 Axes>"
            ]
          },
          "metadata": {
            "needs_background": "light"
          },
          "output_type": "display_data"
        }
      ],
      "source": [
        "np.random.seed(42)\n",
        "theta = np.random.randn(2,1)  # random initialization\n",
        "\n",
        "plt.figure(figsize=(10,4))\n",
        "plt.subplot(131); plot_gradient_descent(theta, eta=0.02)\n",
        "plt.ylabel(\"$y$\", rotation=0, fontsize=18)\n",
        "plt.subplot(132); plot_gradient_descent(theta, eta=0.1, theta_path=theta_path_bgd)\n",
        "plt.subplot(133); plot_gradient_descent(theta, eta=0.5)\n",
        "\n",
        "save_fig(\"gradient_descent_plot\")\n",
        "plt.show()\n",
        "\n",
        "# 학습률(에타)=0.02일때 10번으로 적절한 직선을 찾기 어려움\n",
        "# 학습률이 낮다, 최적점에 도달하는데 오래결린다\n",
        "\n",
        "# 학습률(에타)=0.1일때 10번으로 적절한 직선을 찾음\n",
        "# 학습률(에타)=0.5일때 스텝이 커지면서 발산\n",
        "# 적절한 학습률 : 그리드서치 (반복횟수 제한)\n",
        "# 반복횟수를 크게하고, 허용오차를 작게해서 변화가 없으면 멈추게\n"
      ]
    },
    {
      "cell_type": "markdown",
      "metadata": {
        "id": "BgFmYQIw_57N"
      },
      "source": [
        "## 확률적 경사 하강법"
      ]
    },
    {
      "cell_type": "code",
      "execution_count": 67,
      "metadata": {
        "execution": {
          "iopub.execute_input": "2021-11-03T03:33:36.528194Z",
          "iopub.status.busy": "2021-11-03T03:33:36.527532Z",
          "iopub.status.idle": "2021-11-03T03:33:36.530302Z",
          "shell.execute_reply": "2021-11-03T03:33:36.530730Z"
        },
        "id": "wnfK5qL5_57N"
      },
      "outputs": [],
      "source": [
        "# 한스텝에서 한개의 샘플을 선택하고 그 샘플에 대해 그레디언트를 계산\n",
        "# theta_path_sgd : theta의 변화 보기 위한 리스트\n",
        "\n",
        "theta_path_sgd = []\n",
        "m = len(X_b)  # 첫번째 차원의 길이, 100개\n",
        "\n",
        "np.random.seed(42)"
      ]
    },
    {
      "cell_type": "code",
      "execution_count": 68,
      "metadata": {
        "colab": {
          "base_uri": "https://localhost:8080/",
          "height": 315
        },
        "execution": {
          "iopub.execute_input": "2021-11-03T03:33:36.534274Z",
          "iopub.status.busy": "2021-11-03T03:33:36.532863Z",
          "iopub.status.idle": "2021-11-03T03:33:37.108070Z",
          "shell.execute_reply": "2021-11-03T03:33:37.108516Z"
        },
        "id": "25HC_caX_57N",
        "outputId": "0dc70a09-1925-4cd5-bb0f-f726d8b8365c"
      },
      "outputs": [
        {
          "name": "stdout",
          "output_type": "stream",
          "text": [
            "그림 저장: sgd_plot\n"
          ]
        },
        {
          "data": {
            "image/png": "[encoded data removed]",
            "text/plain": [
              "<Figure size 432x288 with 1 Axes>"
            ]
          },
          "metadata": {
            "needs_background": "light"
          },
          "output_type": "display_data"
        }
      ],
      "source": [
        "# 전체샘플 반복을 50번\n",
        "\n",
        "n_epochs = 50\n",
        "t0, t1 = 5, 50  # 학습 스케줄 하이퍼파라미터\n",
        "\n",
        "def learning_schedule(t):\n",
        "    return t0 / (t + t1)\n",
        "# 0.1로 시작해서 값이 줄어든다.\n",
        "# 첫번째 에타 : epoch =0, i=0, 5/50=0.1\n",
        "# 에포크가 커질수로 분모가 커져서 학습률이 작아진다\n",
        "# 마지막 : 49에포크, m=100개 샘플,i=99\n",
        "# 5/(49*100+99+50) \n",
        "\n",
        "\n",
        "theta = np.random.randn(2,1)  # 랜덤 초기화\n",
        "\n",
        "for epoch in range(n_epochs):\n",
        "    for i in range(m):                           # 전체샘플 m번 반복\n",
        "        if epoch == 0 and i < 20:                    # 20번 반복\n",
        "            y_predict = X_new_b.dot(theta)           # 책에는 없음\n",
        "            style = \"b-\" if i > 0 else \"r--\"         # 책에는 없음\n",
        "            plt.plot(X_new, y_predict, style)        # 책에는 없음\n",
        "        random_index = np.random.randint(m)          # 0에서 m사이의 인덱스 랜덤 선택, 중복이 될수 있다\n",
        "        xi = X_b[random_index:random_index+1]        # 경사하강법\n",
        "        yi = y[random_index:random_index+1]\n",
        "        gradients = 2 * xi.T.dot(xi.dot(theta) - yi)   # 전체 샘플대상이 아니므로 2/m이 없음\n",
        "        eta = learning_schedule(epoch * m + i)         # 학습할수록 에타값을 줄인다. 정교하게\n",
        "        theta = theta - eta * gradients\n",
        "        theta_path_sgd.append(theta)                 # 책에는 없음\n",
        "\n",
        "plt.plot(X, y, \"b.\")                                 # 책에는 없음\n",
        "plt.xlabel(\"$x_1$\", fontsize=18)                     # 책에는 없음\n",
        "plt.ylabel(\"$y$\", rotation=0, fontsize=18)           # 책에는 없음\n",
        "plt.axis([0, 2, 0, 15])                              # 책에는 없음\n",
        "save_fig(\"sgd_plot\")                                 # 책에는 없음\n",
        "plt.show()                                           # 책에는 없음\n",
        "\n",
        "# sklearn은 중복을 허용하지 않는 샘플링(모든 샘플이 한 에포크에서 기여할수 있도록)"
      ]
    },
    {
      "cell_type": "code",
      "execution_count": 69,
      "metadata": {
        "colab": {
          "base_uri": "https://localhost:8080/"
        },
        "execution": {
          "iopub.execute_input": "2021-11-03T03:33:37.114210Z",
          "iopub.status.busy": "2021-11-03T03:33:37.113270Z",
          "iopub.status.idle": "2021-11-03T03:33:37.116295Z",
          "shell.execute_reply": "2021-11-03T03:33:37.116729Z"
        },
        "id": "PN7rj-DH_57N",
        "outputId": "d1f74cae-d835-4303-cce7-1751436649e6",
        "scrolled": true
      },
      "outputs": [
        {
          "data": {
            "text/plain": [
              "array([[4.21076011],\n",
              "       [2.74856079]])"
            ]
          },
          "execution_count": 69,
          "metadata": {},
          "output_type": "execute_result"
        }
      ],
      "source": [
        "theta\n",
        "# 선형회귀와 비슷한 값"
      ]
    },
    {
      "cell_type": "code",
      "execution_count": 70,
      "metadata": {
        "colab": {
          "base_uri": "https://localhost:8080/"
        },
        "execution": {
          "iopub.execute_input": "2021-11-03T03:33:37.122497Z",
          "iopub.status.busy": "2021-11-03T03:33:37.121873Z",
          "iopub.status.idle": "2021-11-03T03:33:37.126106Z",
          "shell.execute_reply": "2021-11-03T03:33:37.126538Z"
        },
        "id": "e7_jEJYi_57O",
        "outputId": "a8ff79b3-a6c0-411f-b7d8-251e622ae6cd"
      },
      "outputs": [
        {
          "data": {
            "text/plain": [
              "SGDRegressor(eta0=0.1, penalty=None, random_state=42)"
            ]
          },
          "execution_count": 70,
          "metadata": {},
          "output_type": "execute_result"
        }
      ],
      "source": [
        "# 경사하강법\n",
        "# max_iter=1000 : 에포크수\n",
        "# penalty : 릿지나 라소 모델에서 사용\n",
        "# tol=1e-3 : 결과에 차이가 없으면 (진전이 없으면) 멈추기\n",
        "# eta0=0.1 : 초기 학습률\n",
        "# learning_rate ='invscaling' : eta0/t**0.25\n",
        "# learning_rate ='constant' ,'optimal','adaptive'\n",
        "\n",
        "from sklearn.linear_model import SGDRegressor\n",
        "\n",
        "sgd_reg = SGDRegressor(max_iter=1000, tol=1e-3, penalty=None, eta0=0.1, random_state=42)\n",
        "sgd_reg.fit(X, y.ravel()) # 2차원 행렬을 1차원 배열로\n"
      ]
    },
    {
      "cell_type": "code",
      "execution_count": 71,
      "metadata": {
        "colab": {
          "base_uri": "https://localhost:8080/"
        },
        "execution": {
          "iopub.execute_input": "2021-11-03T03:33:37.132013Z",
          "iopub.status.busy": "2021-11-03T03:33:37.131081Z",
          "iopub.status.idle": "2021-11-03T03:33:37.134650Z",
          "shell.execute_reply": "2021-11-03T03:33:37.134127Z"
        },
        "id": "iI_wZMFq_57O",
        "outputId": "3e0a46d0-4707-4daa-e3d6-a1bd3439b050"
      },
      "outputs": [
        {
          "data": {
            "text/plain": [
              "(array([4.24365286]), array([2.8250878]))"
            ]
          },
          "execution_count": 71,
          "metadata": {},
          "output_type": "execute_result"
        }
      ],
      "source": [
        "# 절편, 계수 출력\n",
        "sgd_reg.intercept_, sgd_reg.coef_"
      ]
    },
    {
      "cell_type": "markdown",
      "metadata": {
        "id": "iCdN31vF_57O"
      },
      "source": [
        "## 미니배치 경사 하강법"
      ]
    },
    {
      "cell_type": "code",
      "execution_count": 72,
      "metadata": {
        "execution": {
          "iopub.execute_input": "2021-11-03T03:33:37.142248Z",
          "iopub.status.busy": "2021-11-03T03:33:37.141630Z",
          "iopub.status.idle": "2021-11-03T03:33:37.145954Z",
          "shell.execute_reply": "2021-11-03T03:33:37.145436Z"
        },
        "id": "8bEX-ZsX_57O"
      },
      "outputs": [],
      "source": [
        "# 배치와 확률적의 중간\n",
        "# 샘플수를 적당히 사용\n",
        "\n",
        "theta_path_mgd = []\n",
        "\n",
        "n_iterations = 50\n",
        "minibatch_size = 20\n",
        "\n",
        "np.random.seed(42)\n",
        "theta = np.random.randn(2,1)  # 랜덤 초기화\n",
        "\n",
        "t0, t1 = 200, 1000\n",
        "def learning_schedule(t):\n",
        "    return t0 / (t + t1)\n",
        "\n",
        "t = 0\n",
        "for epoch in range(n_iterations):\n",
        "    shuffled_indices = np.random.permutation(m)  # 반복때 마다 섞어서 중복을 사용하지 않는 샘플링\n",
        "    X_b_shuffled = X_b[shuffled_indices]  # 섞여 있는 인덱스 사용\n",
        "    y_shuffled = y[shuffled_indices]\n",
        "    for i in range(0, m, minibatch_size):\n",
        "        t += 1\n",
        "        xi = X_b_shuffled[i:i+minibatch_size]  # 미니배치 사이즈만큼 넘파이슬라이싱으로 꺼내온다\n",
        "        yi = y_shuffled[i:i+minibatch_size]\n",
        "        gradients = 2/minibatch_size * xi.T.dot(xi.dot(theta) - yi) # 미니배치 사이즈만큼\n",
        "        eta = learning_schedule(t)   # 에타 구하기\n",
        "        theta = theta - eta * gradients  # 세타 구하기\n",
        "        theta_path_mgd.append(theta)"
      ]
    },
    {
      "cell_type": "code",
      "execution_count": 73,
      "metadata": {
        "colab": {
          "base_uri": "https://localhost:8080/"
        },
        "execution": {
          "iopub.execute_input": "2021-11-03T03:33:37.151370Z",
          "iopub.status.busy": "2021-11-03T03:33:37.150148Z",
          "iopub.status.idle": "2021-11-03T03:33:37.153699Z",
          "shell.execute_reply": "2021-11-03T03:33:37.153155Z"
        },
        "id": "s3tT51dv_57O",
        "outputId": "d9a85d72-e1ce-40c9-bf8a-e40905cfd3cb"
      },
      "outputs": [
        {
          "data": {
            "text/plain": [
              "array([[4.25214635],\n",
              "       [2.7896408 ]])"
            ]
          },
          "execution_count": 73,
          "metadata": {},
          "output_type": "execute_result"
        }
      ],
      "source": [
        "# 결과보기\n",
        "\n",
        "theta"
      ]
    },
    {
      "cell_type": "code",
      "execution_count": 74,
      "metadata": {
        "execution": {
          "iopub.execute_input": "2021-11-03T03:33:37.157663Z",
          "iopub.status.busy": "2021-11-03T03:33:37.157040Z",
          "iopub.status.idle": "2021-11-03T03:33:37.162612Z",
          "shell.execute_reply": "2021-11-03T03:33:37.162006Z"
        },
        "id": "YHRerqVK_57O"
      },
      "outputs": [],
      "source": [
        "theta_path_bgd = np.array(theta_path_bgd)\n",
        "theta_path_sgd = np.array(theta_path_sgd)\n",
        "theta_path_mgd = np.array(theta_path_mgd)"
      ]
    },
    {
      "cell_type": "code",
      "execution_count": 75,
      "metadata": {
        "colab": {
          "base_uri": "https://localhost:8080/",
          "height": 315
        },
        "execution": {
          "iopub.execute_input": "2021-11-03T03:33:37.185821Z",
          "iopub.status.busy": "2021-11-03T03:33:37.185138Z",
          "iopub.status.idle": "2021-11-03T03:33:37.834598Z",
          "shell.execute_reply": "2021-11-03T03:33:37.835006Z"
        },
        "id": "uOMAf8BE_57P",
        "outputId": "0b652ca7-bbc5-40bb-9144-145c692ddbee"
      },
      "outputs": [
        {
          "name": "stdout",
          "output_type": "stream",
          "text": [
            "그림 저장: gradient_descent_paths_plot\n"
          ]
        },
        {
          "data": {
            "image/png": "[encoded data removed]",
            "text/plain": [
              "<Figure size 504x288 with 1 Axes>"
            ]
          },
          "metadata": {
            "needs_background": "light"
          },
          "output_type": "display_data"
        }
      ],
      "source": [
        "plt.figure(figsize=(7,4))\n",
        "plt.plot(theta_path_sgd[:, 0], theta_path_sgd[:, 1], \"r-s\", linewidth=1, label=\"Stochastic\")\n",
        "plt.plot(theta_path_mgd[:, 0], theta_path_mgd[:, 1], \"g-+\", linewidth=2, label=\"Mini-batch\")\n",
        "plt.plot(theta_path_bgd[:, 0], theta_path_bgd[:, 1], \"b-o\", linewidth=3, label=\"Batch\")\n",
        "plt.legend(loc=\"upper left\", fontsize=16)\n",
        "plt.xlabel(r\"$\\theta_0$\", fontsize=20)\n",
        "plt.ylabel(r\"$\\theta_1$   \", fontsize=20, rotation=0)\n",
        "plt.axis([2.5, 4.5, 2.3, 3.9])\n",
        "save_fig(\"gradient_descent_paths_plot\")\n",
        "plt.show()\n",
        "\n",
        "# 확률적경사하강보다 좌충우돌\n",
        "# 미니배치는 좌충우돌이 적고 빠르다: 샘플의 일부로 조금씩 훈련\n",
        "# 전체 데이처 사용하여 배치 부드럽다\n"
      ]
    },
    {
      "cell_type": "markdown",
      "metadata": {
        "id": "sgDG2MSy_57P"
      },
      "source": [
        "# 다항 회귀"
      ]
    },
    {
      "cell_type": "code",
      "execution_count": 76,
      "metadata": {
        "execution": {
          "iopub.execute_input": "2021-11-03T03:33:37.839300Z",
          "iopub.status.busy": "2021-11-03T03:33:37.838709Z",
          "iopub.status.idle": "2021-11-03T03:33:37.841771Z",
          "shell.execute_reply": "2021-11-03T03:33:37.842178Z"
        },
        "id": "lruQCPCB_57P"
      },
      "outputs": [],
      "source": [
        "# 다항회귀 : 특성이 여러개\n",
        "# polynomial regression\n",
        "\n",
        "import numpy as np\n",
        "import numpy.random as rnd\n",
        "\n",
        "np.random.seed(42)"
      ]
    },
    {
      "cell_type": "code",
      "execution_count": 77,
      "metadata": {
        "execution": {
          "iopub.execute_input": "2021-11-03T03:33:37.846594Z",
          "iopub.status.busy": "2021-11-03T03:33:37.845996Z",
          "iopub.status.idle": "2021-11-03T03:33:37.849481Z",
          "shell.execute_reply": "2021-11-03T03:33:37.848690Z"
        },
        "id": "wgCB39NB_57P"
      },
      "outputs": [],
      "source": [
        "# 균등분포로 100로 -3~3까지의 범위, 100 *1 사이즈\n",
        "\n",
        "m = 100\n",
        "X = 6 * np.random.rand(m, 1) - 3\n",
        "\n",
        "# 이차방정식 1/2 x^2 + x+2 + 노이즈\n",
        "\n",
        "y = 0.5 * X**2 + X + 2 + np.random.randn(m, 1)"
      ]
    },
    {
      "cell_type": "code",
      "execution_count": 78,
      "metadata": {
        "colab": {
          "base_uri": "https://localhost:8080/",
          "height": 315
        },
        "execution": {
          "iopub.execute_input": "2021-11-03T03:33:37.890685Z",
          "iopub.status.busy": "2021-11-03T03:33:37.870867Z",
          "iopub.status.idle": "2021-11-03T03:33:38.297547Z",
          "shell.execute_reply": "2021-11-03T03:33:38.296963Z"
        },
        "id": "PZbMvm98_57P",
        "outputId": "33d2c39c-0493-4ada-e068-b951087a0201"
      },
      "outputs": [
        {
          "name": "stdout",
          "output_type": "stream",
          "text": [
            "그림 저장: quadratic_data_plot\n"
          ]
        },
        {
          "data": {
            "image/png": "[encoded data removed]",
            "text/plain": [
              "<Figure size 432x288 with 1 Axes>"
            ]
          },
          "metadata": {
            "needs_background": "light"
          },
          "output_type": "display_data"
        }
      ],
      "source": [
        "plt.plot(X, y, \"b.\")\n",
        "plt.xlabel(\"$x_1$\", fontsize=18)\n",
        "plt.ylabel(\"$y$\", rotation=0, fontsize=18)\n",
        "plt.axis([-3, 3, 0, 10])\n",
        "save_fig(\"quadratic_data_plot\")\n",
        "plt.show()\n",
        "# 그림그리기"
      ]
    },
    {
      "cell_type": "code",
      "execution_count": 79,
      "metadata": {
        "colab": {
          "base_uri": "https://localhost:8080/"
        },
        "execution": {
          "iopub.execute_input": "2021-11-03T03:33:38.303745Z",
          "iopub.status.busy": "2021-11-03T03:33:38.303010Z",
          "iopub.status.idle": "2021-11-03T03:33:38.306444Z",
          "shell.execute_reply": "2021-11-03T03:33:38.306898Z"
        },
        "id": "JMvFO9uu_57P",
        "outputId": "62ece07f-1e7d-490a-bc7c-94b055b67364"
      },
      "outputs": [
        {
          "data": {
            "text/plain": [
              "array([-0.75275929])"
            ]
          },
          "execution_count": 79,
          "metadata": {},
          "output_type": "execute_result"
        }
      ],
      "source": [
        "#PolynomialFeatures\n",
        "\n",
        "from sklearn.preprocessing import PolynomialFeatures\n",
        "\n",
        "# 특성의 dgree 가 2까지 (기본값)\n",
        "# include_bias=False : 편향특성 1 추가 => True (선형회귀모델은 편향 추가해줌)\n",
        "# 선형모델에서 model.intercept_, model.coef_ 절편을 구함\n",
        "\n",
        "poly_features = PolynomialFeatures(degree=2, include_bias=False)\n",
        "X_poly = poly_features.fit_transform(X)\n",
        "\n",
        "# 원래 X\n",
        "X[0]"
      ]
    },
    {
      "cell_type": "code",
      "execution_count": 80,
      "metadata": {
        "colab": {
          "base_uri": "https://localhost:8080/"
        },
        "execution": {
          "iopub.execute_input": "2021-11-03T03:33:38.312053Z",
          "iopub.status.busy": "2021-11-03T03:33:38.311202Z",
          "iopub.status.idle": "2021-11-03T03:33:38.314685Z",
          "shell.execute_reply": "2021-11-03T03:33:38.315169Z"
        },
        "id": "K-A12qGS_57Q",
        "outputId": "b0a4a382-ad6a-46f0-bb88-164fc6d2c55a"
      },
      "outputs": [
        {
          "data": {
            "text/plain": [
              "array([-0.75275929,  0.56664654])"
            ]
          },
          "execution_count": 80,
          "metadata": {},
          "output_type": "execute_result"
        }
      ],
      "source": [
        "# 랜덤생성값, 제곱값\n",
        "\n",
        "X_poly[0]"
      ]
    },
    {
      "cell_type": "code",
      "execution_count": 81,
      "metadata": {
        "colab": {
          "base_uri": "https://localhost:8080/"
        },
        "id": "PwtDV1AW4Ghr",
        "outputId": "09c452cf-5e2e-4e76-e810-a5821b4b65f1"
      },
      "outputs": [
        {
          "name": "stderr",
          "output_type": "stream",
          "text": [
            "/usr/local/lib/python3.7/dist-packages/sklearn/utils/deprecation.py:87: FutureWarning: Function get_feature_names is deprecated; get_feature_names is deprecated in 1.0 and will be removed in 1.2. Please use get_feature_names_out instead.\n",
            "  warnings.warn(msg, category=FutureWarning)\n"
          ]
        },
        {
          "data": {
            "text/plain": [
              "['x0', 'x0^2']"
            ]
          },
          "execution_count": 81,
          "metadata": {},
          "output_type": "execute_result"
        }
      ],
      "source": [
        "#  어떤항이 만들어졌는지 확인\n",
        "\n",
        "poly_features.get_feature_names()"
      ]
    },
    {
      "cell_type": "code",
      "execution_count": 82,
      "metadata": {
        "id": "bssPUPHh-RLx"
      },
      "outputs": [],
      "source": [
        "# degree = 3, a,b,c (차수가 3, 특성이 3개)\n",
        "# 1, a,b,c,a2,b2,c2,a3,b3,c3, ab, bc,ca,a2b,ab2,abc2,...a3, b3...\n",
        "# interaction_only=True : a,b.c와 교차항만 포함(ab,a2b)\n",
        " "
      ]
    },
    {
      "cell_type": "code",
      "execution_count": 83,
      "metadata": {
        "colab": {
          "base_uri": "https://localhost:8080/"
        },
        "execution": {
          "iopub.execute_input": "2021-11-03T03:33:38.321743Z",
          "iopub.status.busy": "2021-11-03T03:33:38.320968Z",
          "iopub.status.idle": "2021-11-03T03:33:38.324149Z",
          "shell.execute_reply": "2021-11-03T03:33:38.324573Z"
        },
        "id": "lyV3xuFp_57Q",
        "outputId": "3188e772-c66b-41a2-f888-8e5121f583d0"
      },
      "outputs": [
        {
          "data": {
            "text/plain": [
              "(array([1.78134581]), array([[0.93366893, 0.56456263]]))"
            ]
          },
          "execution_count": 83,
          "metadata": {},
          "output_type": "execute_result"
        }
      ],
      "source": [
        "# 선형회귀 훈련\n",
        "\n",
        "lin_reg = LinearRegression()\n",
        "lin_reg.fit(X_poly, y)\n",
        "# 선형회귀의 절편, 계수\n",
        "lin_reg.intercept_, lin_reg.coef_"
      ]
    },
    {
      "cell_type": "code",
      "execution_count": 84,
      "metadata": {
        "colab": {
          "base_uri": "https://localhost:8080/"
        },
        "id": "COMP2CgZ-r7Y",
        "outputId": "21c42d90-3e06-4821-fbd2-ccd41a7c374a"
      },
      "outputs": [
        {
          "data": {
            "text/plain": [
              "array([ 1.        , -0.75275929,  0.56664654])"
            ]
          },
          "execution_count": 84,
          "metadata": {},
          "output_type": "execute_result"
        }
      ],
      "source": [
        "#include_bias=True, 절편이 추가된다\n",
        "\n",
        "poly_features = PolynomialFeatures(degree=2, include_bias=True)\n",
        "X_poly = poly_features.fit_transform(X)\n",
        "X_poly[0]\n",
        "# 확인 1이 추가됨"
      ]
    },
    {
      "cell_type": "code",
      "execution_count": 85,
      "metadata": {
        "colab": {
          "base_uri": "https://localhost:8080/"
        },
        "id": "PC7umTEt_sF6",
        "outputId": "4cdcd272-7626-4531-f653-ac94203912e8"
      },
      "outputs": [
        {
          "name": "stderr",
          "output_type": "stream",
          "text": [
            "/usr/local/lib/python3.7/dist-packages/sklearn/utils/deprecation.py:87: FutureWarning: Function get_feature_names is deprecated; get_feature_names is deprecated in 1.0 and will be removed in 1.2. Please use get_feature_names_out instead.\n",
            "  warnings.warn(msg, category=FutureWarning)\n"
          ]
        },
        {
          "data": {
            "text/plain": [
              "['1', 'x0', 'x0^2']"
            ]
          },
          "execution_count": 85,
          "metadata": {},
          "output_type": "execute_result"
        }
      ],
      "source": [
        "poly_features.get_feature_names()\n",
        "# feature 살펴보기"
      ]
    },
    {
      "cell_type": "code",
      "execution_count": 86,
      "metadata": {
        "colab": {
          "base_uri": "https://localhost:8080/"
        },
        "id": "kGP8EIwU_ejq",
        "outputId": "a4afaed8-9e2e-4923-9cea-e5f3608653ee"
      },
      "outputs": [
        {
          "data": {
            "text/plain": [
              "(array([1.78134581]), array([[0.        , 0.93366893, 0.56456263]]))"
            ]
          },
          "execution_count": 86,
          "metadata": {},
          "output_type": "execute_result"
        }
      ],
      "source": [
        "lin_reg = LinearRegression()\n",
        "lin_reg.fit(X_poly, y)\n",
        "\n",
        "# 선형회귀의 절편, 계수\n",
        "lin_reg.intercept_, lin_reg.coef_\n",
        "\n",
        "# 첫번째항(절편) 무시됨. 따로 구함"
      ]
    },
    {
      "cell_type": "code",
      "execution_count": 87,
      "metadata": {
        "colab": {
          "base_uri": "https://localhost:8080/",
          "height": 315
        },
        "execution": {
          "iopub.execute_input": "2021-11-03T03:33:38.359427Z",
          "iopub.status.busy": "2021-11-03T03:33:38.330265Z",
          "iopub.status.idle": "2021-11-03T03:33:38.803607Z",
          "shell.execute_reply": "2021-11-03T03:33:38.804045Z"
        },
        "id": "K_UUCIQT_57Q",
        "outputId": "96264535-3b47-4fe7-ac5d-b154d4b843c3"
      },
      "outputs": [
        {
          "name": "stdout",
          "output_type": "stream",
          "text": [
            "그림 저장: quadratic_predictions_plot\n"
          ]
        },
        {
          "data": {
            "image/png": "[encoded data removed]",
            "text/plain": [
              "<Figure size 432x288 with 1 Axes>"
            ]
          },
          "metadata": {
            "needs_background": "light"
          },
          "output_type": "display_data"
        }
      ],
      "source": [
        "\n",
        "# -3~3 까지 100개 생성\n",
        "\n",
        "X_new=np.linspace(-3, 3, 100).reshape(100, 1)\n",
        "X_new_poly = poly_features.transform(X_new)\n",
        "y_new = lin_reg.predict(X_new_poly)\n",
        "plt.plot(X, y, \"b.\")\n",
        "plt.plot(X_new, y_new, \"r-\", linewidth=2, label=\"Predictions\")\n",
        "plt.xlabel(\"$x_1$\", fontsize=18)\n",
        "plt.ylabel(\"$y$\", rotation=0, fontsize=18)\n",
        "plt.legend(loc=\"upper left\", fontsize=14)\n",
        "plt.axis([-3, 3, 0, 10])\n",
        "save_fig(\"quadratic_predictions_plot\")\n",
        "plt.show()"
      ]
    },
    {
      "cell_type": "code",
      "execution_count": 88,
      "metadata": {
        "colab": {
          "base_uri": "https://localhost:8080/",
          "height": 1000
        },
        "execution": {
          "iopub.execute_input": "2021-11-03T03:33:38.812230Z",
          "iopub.status.busy": "2021-11-03T03:33:38.811249Z",
          "iopub.status.idle": "2021-11-03T03:33:39.409084Z",
          "shell.execute_reply": "2021-11-03T03:33:39.409561Z"
        },
        "id": "Xm2UwQHC_57Q",
        "outputId": "7a1c8273-de06-4fcb-c8fa-f7927e5a1938"
      },
      "outputs": [
        {
          "name": "stdout",
          "output_type": "stream",
          "text": [
            "[[ 5.80006972e-01  1.33734126e+02  1.16655848e+03 -1.44536159e+04\n",
            "  -1.18556274e+05  6.39704397e+05  4.92997173e+06 -1.52482734e+07\n",
            "  -1.12575106e+08  2.23673574e+08  1.60786572e+09 -2.17548676e+09\n",
            "  -1.54032058e+10  1.46549931e+10  1.02832846e+11 -6.99939739e+10\n",
            "  -4.86469523e+11  2.38641607e+11  1.62550252e+12 -5.74207116e+11\n",
            "  -3.72160181e+12  9.35903701e+11  5.33924272e+12 -9.18107128e+11\n",
            "  -3.42236558e+12  2.94729136e+11 -1.87784934e+12  4.20892609e+11\n",
            "   3.70385946e+12 -4.48790010e+11  1.19763013e+12 -1.42104583e+11\n",
            "  -3.07597833e+12  4.33145517e+11 -2.08091684e+12  9.36462671e+10\n",
            "   1.68966233e+12 -4.35593770e+11  2.91551608e+12 -3.10030173e+11\n",
            "   7.59913152e+11  3.21710255e+11 -1.91141109e+12  6.01913282e+11\n",
            "  -2.55937484e+12  2.80562320e+11 -9.94042367e+11 -4.34285874e+11\n",
            "   1.17906571e+12 -8.26308499e+11  2.28540689e+12 -5.39999399e+11\n",
            "   1.79210005e+12  1.57173341e+11  2.93428680e+11  7.71728489e+11\n",
            "  -1.23697764e+12  1.00676660e+12 -1.95926121e+12  6.23423854e+11\n",
            "  -1.67798349e+12 -4.59337597e+10 -6.46523954e+11 -7.39909050e+11\n",
            "   5.24890564e+11 -1.16904750e+12  1.40010532e+12 -1.04819260e+12\n",
            "   1.63535764e+12 -6.18320899e+11  1.29299207e+12  1.17084230e+11\n",
            "   5.46959622e+11  7.78866852e+11 -2.92051552e+11  1.26250647e+12\n",
            "  -9.53436796e+11  1.30965241e+12 -1.27309014e+12  9.92101695e+11\n",
            "  -1.26409703e+12  4.70395358e+11 -8.70518166e+11 -1.77326283e+11\n",
            "  -3.34482770e+11 -8.10773104e+11  2.43957330e+11 -1.24291070e+12\n",
            "   6.85007873e+11 -1.35691615e+12  9.78664825e+11 -1.25067924e+12\n",
            "   1.02112413e+12 -9.56551757e+11  8.39403494e+11 -4.82106009e+11\n",
            "   5.13018028e+11  1.29600572e+11  1.53392247e+11  6.54032200e+11\n",
            "  -2.31294735e+11  1.04002547e+12 -5.59681255e+11  1.31511401e+12\n",
            "  -7.53344147e+11  1.34759977e+12 -8.32068567e+11  1.21914130e+12\n",
            "  -7.47677400e+11  9.76330667e+11 -5.69290218e+11  6.59765053e+11\n",
            "  -3.42211073e+11  1.64622864e+11 -2.95244533e+10 -2.32961065e+11\n",
            "   2.28428803e+11 -6.41433943e+11  4.91858270e+11 -1.00413190e+12\n",
            "   6.36960361e+11 -1.15932142e+12  7.45795958e+11 -1.25947518e+12\n",
            "   7.61901868e+11 -1.23982173e+12  7.02857233e+11 -1.04255686e+12\n",
            "   5.65731366e+11 -8.45712983e+11  3.28582453e+11 -5.92089509e+11\n",
            "   9.73067929e+10 -2.57242066e+11 -1.18809036e+11 -2.29292346e+10\n",
            "  -3.67620695e+11  3.40535227e+11 -5.32678806e+11  5.65264235e+11\n",
            "  -6.92536734e+11  8.34859838e+11 -7.56901948e+11  9.20648792e+11\n",
            "  -7.97453971e+11  1.03189465e+12 -8.00925744e+11  1.04392384e+12\n",
            "  -7.19262766e+11  1.01910917e+12 -6.14960396e+11  8.90319113e+11\n",
            "  -4.98312592e+11  6.86586591e+11 -2.60029170e+11  5.75720363e+11\n",
            "  -1.40581536e+11  3.57591896e+11  1.12482478e+11  1.12537211e+11\n",
            "   2.98322029e+11 -1.64679055e+10  4.30791539e+11 -1.97369451e+11\n",
            "   5.98452515e+11 -3.71683926e+11  7.37086606e+11 -5.37047748e+11\n",
            "   8.03728669e+11 -6.69137110e+11  8.40674034e+11 -7.58777305e+11\n",
            "   9.03070204e+11 -7.83735527e+11  8.81396200e+11 -7.95130913e+11\n",
            "   8.64215799e+11 -7.37893818e+11  7.02781504e+11 -7.29552082e+11\n",
            "   6.40000490e+11 -6.84413363e+11  5.43355289e+11 -5.18221553e+11\n",
            "   3.96171844e+11 -4.69945567e+11  2.61634678e+11 -3.63484955e+11\n",
            "   9.96675017e+10 -2.21485032e+11 -7.87692460e+10 -9.98829375e+10\n",
            "  -2.33975267e+11  7.87928582e+10 -3.77742650e+11  1.40042901e+11\n",
            "  -4.79893174e+11  3.22576478e+11 -6.07436711e+11  3.51399006e+11\n",
            "  -7.15824046e+11  4.19701011e+11 -7.95955732e+11  5.72616256e+11\n",
            "  -8.03999743e+11  6.00004724e+11 -8.88304996e+11  6.06427226e+11\n",
            "  -8.90341376e+11  6.18157277e+11 -9.03135736e+11  6.39484594e+11\n",
            "  -8.60830467e+11  6.40231252e+11 -8.31986838e+11  5.49580155e+11\n",
            "  -7.61458171e+11  4.92757367e+11 -6.65377005e+11  4.39760266e+11\n",
            "  -6.21491637e+11  4.43184131e+11 -5.44596331e+11  2.81158081e+11\n",
            "  -3.98344634e+11  2.12756036e+11 -2.99989458e+11  1.15437685e+11\n",
            "  -2.15778646e+11  1.13251380e+11 -1.37488341e+11  2.34000756e+10\n",
            "  -2.21749703e+10 -7.78650858e+10  7.18961701e+10 -1.46755866e+11\n",
            "   2.28215783e+11 -3.20047162e+11  2.69446540e+11 -3.10328590e+11\n",
            "   3.59734876e+11 -4.39270557e+11  4.27487986e+11 -4.44239795e+11\n",
            "   5.10510627e+11 -5.42416662e+11  6.30784272e+11 -5.55252426e+11\n",
            "   7.03906715e+11 -6.07285927e+11  6.76854108e+11 -5.87710008e+11\n",
            "   7.58212241e+11 -6.52551390e+11  7.76887710e+11 -5.93146706e+11\n",
            "   7.95312715e+11 -6.57439962e+11  8.13904185e+11 -5.66869974e+11\n",
            "   7.23852734e+11 -5.91680853e+11  6.96183625e+11 -5.33958731e+11\n",
            "   6.79168358e+11 -4.74085844e+11  6.58777770e+11 -4.62378894e+11\n",
            "   6.11853944e+11 -3.35418428e+11  5.02025275e+11 -3.20277343e+11\n",
            "   4.09941248e+11 -2.05933822e+11  3.97464062e+11 -1.60734988e+11\n",
            "   2.60193418e+11 -3.30238145e+10  2.21235190e+11  8.45297186e+10\n",
            "   1.24206997e+11  2.13268170e+11  9.22229008e+09  3.01120351e+11\n",
            "  -1.26907085e+11  4.03283523e+11 -1.77625537e+11  5.52904365e+11\n",
            "  -3.03588619e+11  5.82135151e+11 -5.01002670e+11  7.67467577e+11\n",
            "  -6.10304118e+11  9.11157205e+11 -7.10385045e+11  9.39466770e+11\n",
            "  -8.71223668e+11  1.09025784e+12 -9.35604009e+11  1.27413098e+12]]\n",
            "['x0', 'x0^2', 'x0^3', 'x0^4', 'x0^5', 'x0^6', 'x0^7', 'x0^8', 'x0^9', 'x0^10', 'x0^11', 'x0^12', 'x0^13', 'x0^14', 'x0^15', 'x0^16', 'x0^17', 'x0^18', 'x0^19', 'x0^20', 'x0^21', 'x0^22', 'x0^23', 'x0^24', 'x0^25', 'x0^26', 'x0^27', 'x0^28', 'x0^29', 'x0^30', 'x0^31', 'x0^32', 'x0^33', 'x0^34', 'x0^35', 'x0^36', 'x0^37', 'x0^38', 'x0^39', 'x0^40', 'x0^41', 'x0^42', 'x0^43', 'x0^44', 'x0^45', 'x0^46', 'x0^47', 'x0^48', 'x0^49', 'x0^50', 'x0^51', 'x0^52', 'x0^53', 'x0^54', 'x0^55', 'x0^56', 'x0^57', 'x0^58', 'x0^59', 'x0^60', 'x0^61', 'x0^62', 'x0^63', 'x0^64', 'x0^65', 'x0^66', 'x0^67', 'x0^68', 'x0^69', 'x0^70', 'x0^71', 'x0^72', 'x0^73', 'x0^74', 'x0^75', 'x0^76', 'x0^77', 'x0^78', 'x0^79', 'x0^80', 'x0^81', 'x0^82', 'x0^83', 'x0^84', 'x0^85', 'x0^86', 'x0^87', 'x0^88', 'x0^89', 'x0^90', 'x0^91', 'x0^92', 'x0^93', 'x0^94', 'x0^95', 'x0^96', 'x0^97', 'x0^98', 'x0^99', 'x0^100', 'x0^101', 'x0^102', 'x0^103', 'x0^104', 'x0^105', 'x0^106', 'x0^107', 'x0^108', 'x0^109', 'x0^110', 'x0^111', 'x0^112', 'x0^113', 'x0^114', 'x0^115', 'x0^116', 'x0^117', 'x0^118', 'x0^119', 'x0^120', 'x0^121', 'x0^122', 'x0^123', 'x0^124', 'x0^125', 'x0^126', 'x0^127', 'x0^128', 'x0^129', 'x0^130', 'x0^131', 'x0^132', 'x0^133', 'x0^134', 'x0^135', 'x0^136', 'x0^137', 'x0^138', 'x0^139', 'x0^140', 'x0^141', 'x0^142', 'x0^143', 'x0^144', 'x0^145', 'x0^146', 'x0^147', 'x0^148', 'x0^149', 'x0^150', 'x0^151', 'x0^152', 'x0^153', 'x0^154', 'x0^155', 'x0^156', 'x0^157', 'x0^158', 'x0^159', 'x0^160', 'x0^161', 'x0^162', 'x0^163', 'x0^164', 'x0^165', 'x0^166', 'x0^167', 'x0^168', 'x0^169', 'x0^170', 'x0^171', 'x0^172', 'x0^173', 'x0^174', 'x0^175', 'x0^176', 'x0^177', 'x0^178', 'x0^179', 'x0^180', 'x0^181', 'x0^182', 'x0^183', 'x0^184', 'x0^185', 'x0^186', 'x0^187', 'x0^188', 'x0^189', 'x0^190', 'x0^191', 'x0^192', 'x0^193', 'x0^194', 'x0^195', 'x0^196', 'x0^197', 'x0^198', 'x0^199', 'x0^200', 'x0^201', 'x0^202', 'x0^203', 'x0^204', 'x0^205', 'x0^206', 'x0^207', 'x0^208', 'x0^209', 'x0^210', 'x0^211', 'x0^212', 'x0^213', 'x0^214', 'x0^215', 'x0^216', 'x0^217', 'x0^218', 'x0^219', 'x0^220', 'x0^221', 'x0^222', 'x0^223', 'x0^224', 'x0^225', 'x0^226', 'x0^227', 'x0^228', 'x0^229', 'x0^230', 'x0^231', 'x0^232', 'x0^233', 'x0^234', 'x0^235', 'x0^236', 'x0^237', 'x0^238', 'x0^239', 'x0^240', 'x0^241', 'x0^242', 'x0^243', 'x0^244', 'x0^245', 'x0^246', 'x0^247', 'x0^248', 'x0^249', 'x0^250', 'x0^251', 'x0^252', 'x0^253', 'x0^254', 'x0^255', 'x0^256', 'x0^257', 'x0^258', 'x0^259', 'x0^260', 'x0^261', 'x0^262', 'x0^263', 'x0^264', 'x0^265', 'x0^266', 'x0^267', 'x0^268', 'x0^269', 'x0^270', 'x0^271', 'x0^272', 'x0^273', 'x0^274', 'x0^275', 'x0^276', 'x0^277', 'x0^278', 'x0^279', 'x0^280', 'x0^281', 'x0^282', 'x0^283', 'x0^284', 'x0^285', 'x0^286', 'x0^287', 'x0^288', 'x0^289', 'x0^290', 'x0^291', 'x0^292', 'x0^293', 'x0^294', 'x0^295', 'x0^296', 'x0^297', 'x0^298', 'x0^299', 'x0^300']\n",
            "[[1.65818609 1.50762934]]\n",
            "['x0', 'x0^2']\n",
            "[[1.49826128]]\n",
            "['x0']\n",
            "그림 저장: high_degree_polynomials_plot\n"
          ]
        },
        {
          "name": "stderr",
          "output_type": "stream",
          "text": [
            "/usr/local/lib/python3.7/dist-packages/sklearn/utils/deprecation.py:87: FutureWarning: Function get_feature_names is deprecated; get_feature_names is deprecated in 1.0 and will be removed in 1.2. Please use get_feature_names_out instead.\n",
            "  warnings.warn(msg, category=FutureWarning)\n",
            "/usr/local/lib/python3.7/dist-packages/sklearn/utils/deprecation.py:87: FutureWarning: Function get_feature_names is deprecated; get_feature_names is deprecated in 1.0 and will be removed in 1.2. Please use get_feature_names_out instead.\n",
            "  warnings.warn(msg, category=FutureWarning)\n",
            "/usr/local/lib/python3.7/dist-packages/sklearn/utils/deprecation.py:87: FutureWarning: Function get_feature_names is deprecated; get_feature_names is deprecated in 1.0 and will be removed in 1.2. Please use get_feature_names_out instead.\n",
            "  warnings.warn(msg, category=FutureWarning)\n"
          ]
        },
        {
          "data": {
            "image/png": "[encoded data removed]",
            "text/plain": [
              "<Figure size 432x288 with 1 Axes>"
            ]
          },
          "metadata": {
            "needs_background": "light"
          },
          "output_type": "display_data"
        }
      ],
      "source": [
        "from sklearn.preprocessing import StandardScaler\n",
        "from sklearn.pipeline import Pipeline\n",
        "\n",
        "# dgree를 300, 2, 1로 지정\n",
        "for style, width, degree in ((\"g-\", 1, 300), (\"b--\", 2, 2), (\"r-+\", 2, 1)):\n",
        "    polybig_features = PolynomialFeatures(degree=degree, include_bias=False)\n",
        "    std_scaler = StandardScaler() # 스케일러\n",
        "    lin_reg = LinearRegression()\n",
        "    polynomial_regression = Pipeline([    #여러개의 변환기 파이프라인으로 묶기\n",
        "            (\"poly_features\", polybig_features),\n",
        "            (\"std_scaler\", std_scaler),\n",
        "            (\"lin_reg\", lin_reg), \n",
        "        ])\n",
        "    polynomial_regression.fit(X, y)\n",
        "    y_newbig = polynomial_regression.predict(X_new)\n",
        "#   coef 출력해보기 : 300차원으로 큰값 존재 (-150승)\n",
        "    print(polynomial_regression['lin_reg'].coef_)\n",
        "\n",
        "#   feature name 출력\n",
        "    print(polynomial_regression['poly_features'].get_feature_names())\n",
        "    plt.plot(X_new, y_newbig, style, label=str(degree), linewidth=width)\n",
        "\n",
        "plt.plot(X, y, \"b.\", linewidth=3)\n",
        "plt.legend(loc=\"upper left\")\n",
        "plt.xlabel(\"$x_1$\", fontsize=18)\n",
        "plt.ylabel(\"$y$\", rotation=0, fontsize=18)\n",
        "plt.axis([-3, 3, 0, 10])\n",
        "save_fig(\"high_degree_polynomials_plot\")\n",
        "plt.show()"
      ]
    },
    {
      "cell_type": "code",
      "execution_count": 89,
      "metadata": {
        "id": "vvRGGTPwCMw7"
      },
      "outputs": [],
      "source": [
        "# 300일때 복잡한 모양의 선형회귀\n"
      ]
    },
    {
      "cell_type": "markdown",
      "metadata": {
        "id": "mIaoz4_S_57Q"
      },
      "source": [
        "# 학습 곡선"
      ]
    },
    {
      "cell_type": "code",
      "execution_count": 90,
      "metadata": {
        "execution": {
          "iopub.execute_input": "2021-11-03T03:33:39.413459Z",
          "iopub.status.busy": "2021-11-03T03:33:39.412444Z",
          "iopub.status.idle": "2021-11-03T03:33:39.419196Z",
          "shell.execute_reply": "2021-11-03T03:33:39.419627Z"
        },
        "id": "7jOEihBC_57Q"
      },
      "outputs": [],
      "source": [
        "# 과대적합, 과소적합 살펴보기 Learning curve\n",
        "\n",
        "from sklearn.metrics import mean_squared_error\n",
        "from sklearn.model_selection import train_test_split\n",
        "\n",
        "def plot_learning_curves(model, X, y):\n",
        "  # 100개를 훈련과 테스트 8:2\n",
        "    X_train, X_val, y_train, y_val = train_test_split(X, y, test_size=0.2, random_state=10)\n",
        "    train_errors, val_errors = [], []\n",
        "    for m in range(1, len(X_train) + 1):  # 1~80개로 늘려가면서 실험\n",
        "        model.fit(X_train[:m], y_train[:m])\n",
        "        y_train_predict = model.predict(X_train[:m])\n",
        "        y_val_predict = model.predict(X_val)\n",
        "        train_errors.append(mean_squared_error(y_train[:m], y_train_predict)) # MSE (훈련세트)\n",
        "        val_errors.append(mean_squared_error(y_val, y_val_predict)) # MSE (검증세트)\n",
        "\n",
        "    plt.plot(np.sqrt(train_errors), \"r-+\", linewidth=2, label=\"train\")\n",
        "    plt.plot(np.sqrt(val_errors), \"b-\", linewidth=3, label=\"val\")\n",
        "    plt.legend(loc=\"upper right\", fontsize=14)   # 책에는 없음\n",
        "    plt.xlabel(\"Training set size\", fontsize=14) # 책에는 없음\n",
        "    plt.ylabel(\"RMSE\", fontsize=14)              # 책에는 없음"
      ]
    },
    {
      "cell_type": "code",
      "execution_count": 91,
      "metadata": {
        "colab": {
          "base_uri": "https://localhost:8080/",
          "height": 315
        },
        "execution": {
          "iopub.execute_input": "2021-11-03T03:33:39.451562Z",
          "iopub.status.busy": "2021-11-03T03:33:39.428168Z",
          "iopub.status.idle": "2021-11-03T03:33:39.972442Z",
          "shell.execute_reply": "2021-11-03T03:33:39.971847Z"
        },
        "id": "06NNyucS_57R",
        "outputId": "7fd54b9c-f6c8-4a52-a730-b297998edf2e"
      },
      "outputs": [
        {
          "name": "stdout",
          "output_type": "stream",
          "text": [
            "그림 저장: underfitting_learning_curves_plot\n"
          ]
        },
        {
          "data": {
            "image/png": "[encoded data removed]",
            "text/plain": [
              "<Figure size 432x288 with 1 Axes>"
            ]
          },
          "metadata": {
            "needs_background": "light"
          },
          "output_type": "display_data"
        }
      ],
      "source": [
        "#  선형회귀\n",
        "lin_reg = LinearRegression()\n",
        "plot_learning_curves(lin_reg, X, y)\n",
        "plt.axis([0, 80, 0, 3])                         # 책에는 없음\n",
        "save_fig(\"underfitting_learning_curves_plot\")   # 책에는 없음\n",
        "plt.show()  \n",
        "\n",
        "# 훈련데이터가 1개일때는 오차가 없다가 점차로 증가  \n",
        "# 너무일찍 가까와지고, 훈련과 검증의 차이가 거의 없다    \n",
        "# 과소적합                        "
      ]
    },
    {
      "cell_type": "code",
      "execution_count": 92,
      "metadata": {
        "colab": {
          "base_uri": "https://localhost:8080/",
          "height": 315
        },
        "execution": {
          "iopub.execute_input": "2021-11-03T03:33:40.016103Z",
          "iopub.status.busy": "2021-11-03T03:33:40.010539Z",
          "iopub.status.idle": "2021-11-03T03:33:40.639115Z",
          "shell.execute_reply": "2021-11-03T03:33:40.638472Z"
        },
        "id": "OKCVb4PY_57R",
        "outputId": "d749d09e-f2df-4ee9-f397-1a17fc104025"
      },
      "outputs": [
        {
          "name": "stdout",
          "output_type": "stream",
          "text": [
            "그림 저장: learning_curves_plot\n"
          ]
        },
        {
          "data": {
            "image/png": "[encoded data removed]",
            "text/plain": [
              "<Figure size 432x288 with 1 Axes>"
            ]
          },
          "metadata": {
            "needs_background": "light"
          },
          "output_type": "display_data"
        }
      ],
      "source": [
        "# 과소적합을 줄이기 위해 다항특성을 넣는다\n",
        "# 10차까지\n",
        "from sklearn.pipeline import Pipeline\n",
        "\n",
        "polynomial_regression = Pipeline([\n",
        "        (\"poly_features\", PolynomialFeatures(degree=10, include_bias=False)),\n",
        "        (\"lin_reg\", LinearRegression()),\n",
        "    ])\n",
        "\n",
        "plot_learning_curves(polynomial_regression, X, y)\n",
        "plt.axis([0, 80, 0, 3])           # 책에는 없음\n",
        "save_fig(\"learning_curves_plot\")  # 책에는 없음\n",
        "plt.show()                        # 책에는 없음\n",
        "\n",
        "# mse 가 내려감, 훈련과 검증이 만나는 점이 늦어지고 간격이 있다"
      ]
    },
    {
      "cell_type": "markdown",
      "metadata": {
        "id": "d848_9wF_57R"
      },
      "source": [
        "# 규제가 있는 선형 모델"
      ]
    },
    {
      "cell_type": "markdown",
      "metadata": {
        "id": "GvRKOjJg_57R"
      },
      "source": [
        "## 릿지 회귀"
      ]
    },
    {
      "cell_type": "code",
      "execution_count": 93,
      "metadata": {
        "execution": {
          "iopub.execute_input": "2021-11-03T03:33:40.644539Z",
          "iopub.status.busy": "2021-11-03T03:33:40.643753Z",
          "iopub.status.idle": "2021-11-03T03:33:40.647696Z",
          "shell.execute_reply": "2021-11-03T03:33:40.647178Z"
        },
        "id": "FP0gkLG3_57R"
      },
      "outputs": [],
      "source": [
        "# 데이터셋 생성\n",
        "# 20개 0~1의 수에 3곱하기\n",
        "# y : 0 ~ 2.5 + noise\n",
        "# 0 ~ 3 까지 100개의 점\n",
        "\n",
        "np.random.seed(42)\n",
        "m = 20\n",
        "X = 3 * np.random.rand(m, 1)\n",
        "y = 1 + 0.5 * X + np.random.randn(m, 1) / 1.5\n",
        "X_new = np.linspace(0, 3, 100).reshape(100, 1)\n",
        "\n"
      ]
    },
    {
      "cell_type": "markdown",
      "metadata": {
        "id": "umtJSNbe_57R"
      },
      "source": [
        "**식 4-8: 릿지 회귀의 비용 함수**\n",
        "\n",
        "$\n",
        "J(\\boldsymbol{\\theta}) = \\text{MSE}(\\boldsymbol{\\theta}) + \\alpha \\dfrac{1}{2}\\sum\\limits_{i=1}^{n}{\\theta_i}^2\n",
        "$"
      ]
    },
    {
      "cell_type": "code",
      "execution_count": 94,
      "metadata": {
        "id": "wYYBr3_Kaf5j"
      },
      "outputs": [],
      "source": [
        "# 특성의 가중치를 제곱해서 합 L2 노름\n",
        "# 알파: 규제항의 정도\n",
        "# 크게하면 가중치가 작아진다. 규제가 커진다\n",
        "# 작게하면 가중치가 커진다\n",
        "# 1/2 : 미분시 없어지게 하려고\n",
        "# 모델 훈련시만 규제사용하고 평가시에는 MSE만 사용"
      ]
    },
    {
      "cell_type": "code",
      "execution_count": 95,
      "metadata": {
        "colab": {
          "base_uri": "https://localhost:8080/"
        },
        "execution": {
          "iopub.execute_input": "2021-11-03T03:33:40.657679Z",
          "iopub.status.busy": "2021-11-03T03:33:40.656578Z",
          "iopub.status.idle": "2021-11-03T03:33:40.660154Z",
          "shell.execute_reply": "2021-11-03T03:33:40.659645Z"
        },
        "id": "8NP0BeeB_57S",
        "outputId": "c0cd9aac-428c-45e1-e1c0-2d9448c90035"
      },
      "outputs": [
        {
          "data": {
            "text/plain": [
              "array([[1.55071465]])"
            ]
          },
          "execution_count": 95,
          "metadata": {},
          "output_type": "execute_result"
        }
      ],
      "source": [
        "# 릿지(Ridge) import\n",
        "#  solver = cholesky (행렬분해방법)\n",
        "\n",
        "from sklearn.linear_model import Ridge\n",
        "ridge_reg = Ridge(alpha=1, solver=\"cholesky\", random_state=42)\n",
        "ridge_reg.fit(X, y)\n",
        "ridge_reg.predict([[1.5]])  # 1.5를 예측"
      ]
    },
    {
      "cell_type": "code",
      "execution_count": 96,
      "metadata": {
        "colab": {
          "base_uri": "https://localhost:8080/"
        },
        "execution": {
          "iopub.execute_input": "2021-11-03T03:33:40.665166Z",
          "iopub.status.busy": "2021-11-03T03:33:40.664547Z",
          "iopub.status.idle": "2021-11-03T03:33:40.667762Z",
          "shell.execute_reply": "2021-11-03T03:33:40.668275Z"
        },
        "id": "9XT5fu1u_57S",
        "outputId": "269f3d78-502e-43dd-a077-afc01bf66122"
      },
      "outputs": [
        {
          "data": {
            "text/plain": [
              "array([[1.5507201]])"
            ]
          },
          "execution_count": 96,
          "metadata": {},
          "output_type": "execute_result"
        }
      ],
      "source": [
        "# solver=sag : stochastic average gradient (경사하강법과 유사)\n",
        "# saga : 데이터셋이 더 클때 사용\n",
        "# max_iter = 1000 : 반복수(기본값)\n",
        "\n",
        "ridge_reg = Ridge(alpha=1, solver=\"sag\", random_state=42)\n",
        "ridge_reg.fit(X, y)\n",
        "# 1.5에 대해 예측\n",
        "ridge_reg.predict([[1.5]])"
      ]
    },
    {
      "cell_type": "code",
      "execution_count": 97,
      "metadata": {
        "colab": {
          "base_uri": "https://localhost:8080/",
          "height": 315
        },
        "execution": {
          "iopub.execute_input": "2021-11-03T03:33:40.671124Z",
          "iopub.status.busy": "2021-11-03T03:33:40.670489Z",
          "iopub.status.idle": "2021-11-03T03:33:41.502656Z",
          "shell.execute_reply": "2021-11-03T03:33:41.503104Z"
        },
        "id": "uIIf2lTL_57S",
        "outputId": "56a06c93-3977-4713-cd77-9aed51553ce7"
      },
      "outputs": [
        {
          "name": "stdout",
          "output_type": "stream",
          "text": [
            "그림 저장: ridge_regression_plot\n"
          ]
        },
        {
          "data": {
            "image/png": "[encoded data removed]",
            "text/plain": [
              "<Figure size 576x288 with 2 Axes>"
            ]
          },
          "metadata": {
            "needs_background": "light"
          },
          "output_type": "display_data"
        }
      ],
      "source": [
        "# 알파에 따른 변화\n",
        "\n",
        "from sklearn.linear_model import Ridge\n",
        "\n",
        "# 특성의 scale을 표준화 (규제가 있는 모델 특히 중요)\n",
        "\n",
        "def plot_model(model_class, polynomial, alphas, **model_kargs):\n",
        "    for alpha, style in zip(alphas, (\"b-\", \"g--\", \"r:\")):\n",
        "      # alpha=0이면 선형모델, 0보다 크면 주어진 모델\n",
        "        model = model_class(alpha, **model_kargs) if alpha > 0 else LinearRegression()\n",
        "        if polynomial:\n",
        "            model = Pipeline([\n",
        "                    (\"poly_features\", PolynomialFeatures(degree=10, include_bias=False)),\n",
        "                    (\"std_scaler\", StandardScaler()),\n",
        "                    (\"regul_reg\", model),\n",
        "                ])\n",
        "        model.fit(X, y)\n",
        "        y_new_regul = model.predict(X_new)\n",
        "        lw = 2 if alpha > 0 else 1\n",
        "        plt.plot(X_new, y_new_regul, style, linewidth=lw, label=r\"$\\alpha = {}$\".format(alpha))\n",
        "    plt.plot(X, y, \"b.\", linewidth=3)\n",
        "    plt.legend(loc=\"upper left\", fontsize=15)\n",
        "    plt.xlabel(\"$x_1$\", fontsize=18)\n",
        "    plt.axis([0, 3, 0, 4])\n",
        "\n",
        "plt.figure(figsize=(8,4))\n",
        "plt.subplot(121) # plt.subplot(1,2,1) : col,row,index\n",
        "plot_model(Ridge, polynomial=False, alphas=(0, 10, 100), random_state=42)\n",
        "plt.ylabel(\"$y$\", rotation=0, fontsize=18)\n",
        "plt.subplot(122)\n",
        "\n",
        "# 다항특성 추가\n",
        "plot_model(Ridge, polynomial=True, alphas=(0, 10**-5, 1), random_state=42)\n",
        "\n",
        "save_fig(\"ridge_regression_plot\")\n",
        "plt.show()\n",
        "\n",
        "# (left)알파 0 : 선형회귀모델, alpha 10, 100 : ridge\n",
        "# (right) alpha = 0 : 다항특성의 선형\n",
        "# alpha를 작게하면 모델의 복잡도가 낮아진다 \n",
        "# alpha를 1 했을때 선형회귀처럼 직선으로\n"
      ]
    },
    {
      "cell_type": "markdown",
      "metadata": {
        "id": "6BKKCGkF_57S"
      },
      "source": [
        "**노트**: 향후 버전이 바뀌더라도 동일한 결과를 만들기 위해 사이킷런 0.21 버전의 기본값인 `max_iter=1000`과 `tol=1e-3`으로 지정합니다."
      ]
    },
    {
      "cell_type": "code",
      "execution_count": 98,
      "metadata": {
        "colab": {
          "base_uri": "https://localhost:8080/"
        },
        "execution": {
          "iopub.execute_input": "2021-11-03T03:33:41.506289Z",
          "iopub.status.busy": "2021-11-03T03:33:41.505670Z",
          "iopub.status.idle": "2021-11-03T03:33:41.512071Z",
          "shell.execute_reply": "2021-11-03T03:33:41.512460Z"
        },
        "id": "vLRadJcb_57S",
        "outputId": "cde7b829-c853-4225-fa4d-bc1ee16bf1b1"
      },
      "outputs": [
        {
          "data": {
            "text/plain": [
              "array([1.47012588])"
            ]
          },
          "execution_count": 98,
          "metadata": {},
          "output_type": "execute_result"
        }
      ],
      "source": [
        "#  penalty=\"l2\" : 패널치 l2 노름 사용, 릿지모델과 비슷한 손실함수 \n",
        "\n",
        "sgd_reg = SGDRegressor(penalty=\"l2\", max_iter=1000, tol=1e-3, random_state=42)\n",
        "sgd_reg.fit(X, y.ravel())\n",
        "sgd_reg.predict([[1.5]])"
      ]
    },
    {
      "cell_type": "markdown",
      "metadata": {
        "id": "KU7Z8vC1_57S"
      },
      "source": [
        "**식 4-10: 라쏘 회귀의 비용 함수**\n",
        "\n",
        "$\n",
        "J(\\boldsymbol{\\theta}) = \\text{MSE}(\\boldsymbol{\\theta}) + \\alpha \\sum\\limits_{i=1}^{n}\\left| \\theta_i \\right|\n",
        "$"
      ]
    },
    {
      "cell_type": "markdown",
      "metadata": {
        "id": "eV9jGKSV_57T"
      },
      "source": [
        "## 라쏘 회귀"
      ]
    },
    {
      "cell_type": "code",
      "execution_count": 99,
      "metadata": {
        "colab": {
          "base_uri": "https://localhost:8080/",
          "height": 371
        },
        "execution": {
          "iopub.execute_input": "2021-11-03T03:33:41.538848Z",
          "iopub.status.busy": "2021-11-03T03:33:41.514890Z",
          "iopub.status.idle": "2021-11-03T03:33:42.333288Z",
          "shell.execute_reply": "2021-11-03T03:33:42.333749Z"
        },
        "id": "SPUEiiBI_57T",
        "outputId": "44fec7bd-3f42-4b00-fb7b-0be0a0c2767f",
        "scrolled": true
      },
      "outputs": [
        {
          "name": "stderr",
          "output_type": "stream",
          "text": [
            "/usr/local/lib/python3.7/dist-packages/sklearn/linear_model/_coordinate_descent.py:648: ConvergenceWarning: Objective did not converge. You might want to increase the number of iterations, check the scale of the features or consider increasing regularisation. Duality gap: 2.803e+00, tolerance: 9.295e-04\n",
            "  coef_, l1_reg, l2_reg, X, y, max_iter, tol, rng, random, positive\n"
          ]
        },
        {
          "name": "stdout",
          "output_type": "stream",
          "text": [
            "그림 저장: lasso_regression_plot\n"
          ]
        },
        {
          "data": {
            "image/png": "[encoded data removed]",
            "text/plain": [
              "<Figure size 576x288 with 2 Axes>"
            ]
          },
          "metadata": {
            "needs_background": "light"
          },
          "output_type": "display_data"
        }
      ],
      "source": [
        "# 비용함수에 가중치의 절대값의 합 사용, l1 노름 \n",
        "# theta를 0으로 만들수 있다\n",
        "\n",
        "from sklearn.linear_model import Lasso\n",
        "\n",
        "plt.figure(figsize=(8,4))\n",
        "plt.subplot(121)\n",
        "plot_model(Lasso, polynomial=False, alphas=(0, 0.1, 1), random_state=42)\n",
        "plt.ylabel(\"$y$\", rotation=0, fontsize=18)\n",
        "plt.subplot(122)\n",
        "plot_model(Lasso, polynomial=True, alphas=(0, 10**-7, 1), random_state=42)\n",
        "\n",
        "save_fig(\"lasso_regression_plot\")\n",
        "plt.show()\n",
        "\n",
        "# (left) alpha =0 이면 선형, alpha가 커지면 수평\n",
        "#(right) alpha가 커지면 규제가 많이되어서 절편만 남은것처럼 된다"
      ]
    },
    {
      "cell_type": "code",
      "execution_count": 100,
      "metadata": {
        "colab": {
          "base_uri": "https://localhost:8080/"
        },
        "execution": {
          "iopub.execute_input": "2021-11-03T03:33:42.336866Z",
          "iopub.status.busy": "2021-11-03T03:33:42.336276Z",
          "iopub.status.idle": "2021-11-03T03:33:42.341530Z",
          "shell.execute_reply": "2021-11-03T03:33:42.341954Z"
        },
        "id": "sfrp0EVV_57T",
        "outputId": "6209ca4a-db6c-4cd3-e964-608a2ea588db"
      },
      "outputs": [
        {
          "data": {
            "text/plain": [
              "array([1.53788174])"
            ]
          },
          "execution_count": 100,
          "metadata": {},
          "output_type": "execute_result"
        }
      ],
      "source": [
        "from sklearn.linear_model import Lasso\n",
        "lasso_reg = Lasso(alpha=0.1)\n",
        "lasso_reg.fit(X, y)\n",
        "lasso_reg.predict([[1.5]])"
      ]
    },
    {
      "cell_type": "markdown",
      "metadata": {
        "id": "hGRqrz-S_57T"
      },
      "source": [
        "## 엘라스틱넷"
      ]
    },
    {
      "cell_type": "markdown",
      "metadata": {
        "id": "SJlcEDfw_57U"
      },
      "source": [
        "**식 4-12: 엘라스틱넷 비용 함수**\n",
        "\n",
        "$\n",
        "J(\\boldsymbol{\\theta}) = \\text{MSE}(\\boldsymbol{\\theta}) + r \\alpha \\sum\\limits_{i=1}^{n}\\left| \\theta_i \\right| + \\dfrac{1 - r}{2} \\alpha \\sum\\limits_{i=1}^{n}{{\\theta_i}^2}\n",
        "$"
      ]
    },
    {
      "cell_type": "code",
      "execution_count": 101,
      "metadata": {
        "colab": {
          "base_uri": "https://localhost:8080/"
        },
        "execution": {
          "iopub.execute_input": "2021-11-03T03:33:42.347854Z",
          "iopub.status.busy": "2021-11-03T03:33:42.344488Z",
          "iopub.status.idle": "2021-11-03T03:33:42.351592Z",
          "shell.execute_reply": "2021-11-03T03:33:42.352015Z"
        },
        "id": "8FHFDNzB_57U",
        "outputId": "8a61147d-d5b2-4c69-f165-ad82103f13fe"
      },
      "outputs": [
        {
          "data": {
            "text/plain": [
              "array([1.54333232])"
            ]
          },
          "execution_count": 101,
          "metadata": {},
          "output_type": "execute_result"
        }
      ],
      "source": [
        "# 비용함수 mse + l1+ l2\n",
        "from sklearn.linear_model import ElasticNet\n",
        "\n",
        "# l1_ratio(r)=1 : ㅣ2 노름 파트가 0이되어 랏소모델이 된다\n",
        "# l1_ratio(r)=0 : ㅣ1 노름 파트가 0이되어 릿지모델과 비슷 (훈련방식이 다름)\n",
        "# l2 norm을 사용하는 릿지, elasticnet 이 선호된다\n",
        "\n",
        "elastic_net = ElasticNet(alpha=0.1, l1_ratio=0.5, random_state=42)\n",
        "elastic_net.fit(X, y)\n",
        "elastic_net.predict([[1.5]])"
      ]
    },
    {
      "cell_type": "markdown",
      "metadata": {
        "id": "LyVpkvQg_57U"
      },
      "source": [
        "## 조기 종료"
      ]
    },
    {
      "cell_type": "code",
      "execution_count": 102,
      "metadata": {
        "execution": {
          "iopub.execute_input": "2021-11-03T03:33:42.357913Z",
          "iopub.status.busy": "2021-11-03T03:33:42.357312Z",
          "iopub.status.idle": "2021-11-03T03:33:42.359402Z",
          "shell.execute_reply": "2021-11-03T03:33:42.359789Z"
        },
        "id": "MqzAfeyv_57U"
      },
      "outputs": [],
      "source": [
        "# 훈련세트와 검정세트의 결과가 가까와졌을때 종료\n",
        "# 검증세트 결과가 더 나빠지려고 할때 종료\n",
        "\n",
        "np.random.seed(42)\n",
        "m = 100\n",
        "X = 6 * np.random.rand(m, 1) - 3\n",
        "y = 2 + X + 0.5 * X**2 + np.random.randn(m, 1)\n",
        "\n",
        "X_train, X_val, y_train, y_val = train_test_split(X[:50], y[:50].ravel(), test_size=0.5, random_state=10)"
      ]
    },
    {
      "cell_type": "code",
      "execution_count": 103,
      "metadata": {
        "execution": {
          "iopub.execute_input": "2021-11-03T03:33:42.367380Z",
          "iopub.status.busy": "2021-11-03T03:33:42.366737Z",
          "iopub.status.idle": "2021-11-03T03:33:43.004924Z",
          "shell.execute_reply": "2021-11-03T03:33:43.005436Z"
        },
        "id": "K8IrkG9R_57U",
        "scrolled": true
      },
      "outputs": [],
      "source": [
        "from copy import deepcopy\n",
        "\n",
        "# 특성변환을 한번에 처리하는 파이프라인\n",
        "\n",
        "poly_scaler = Pipeline([\n",
        "        (\"poly_features\", PolynomialFeatures(degree=90, include_bias=False)),\n",
        "        (\"std_scaler\", StandardScaler())\n",
        "    ])\n",
        "\n",
        "X_train_poly_scaled = poly_scaler.fit_transform(X_train)\n",
        "X_val_poly_scaled = poly_scaler.transform(X_val)\n",
        "\n",
        "# SGDRegressor\n",
        "\n",
        "# max_iter=1 : 에포크 1번만 \n",
        "# penalty=None : 패널티 사용 안함\n",
        "# warm_start=True : 이전결과 기억\n",
        "# learning_rate=\"constant\", eta0=0.0005 : 학습률 상수로 지정\n",
        "\n",
        "sgd_reg = SGDRegressor(max_iter=1, tol=-np.infty, warm_start=True,\n",
        "                       penalty=None, learning_rate=\"constant\", eta0=0.0005, random_state=42)\n",
        "\n",
        "minimum_val_error = float(\"inf\")\n",
        "best_epoch = None\n",
        "best_model = None\n",
        "for epoch in range(1000):\n",
        "    sgd_reg.fit(X_train_poly_scaled, y_train)  # 중지된 곳에서 다시 시작합니다\n",
        "    y_val_predict = sgd_reg.predict(X_val_poly_scaled)\n",
        "    # validation error 저장\n",
        "    val_error = mean_squared_error(y_val, y_val_predict)\n",
        "    # 최소에러 저장 minimum_val_error\n",
        "    if val_error < minimum_val_error:\n",
        "        minimum_val_error = val_error\n",
        "        best_epoch = epoch\n",
        "        best_model = deepcopy(sgd_reg)"
      ]
    },
    {
      "cell_type": "markdown",
      "metadata": {
        "id": "O0QL_3zb_57V"
      },
      "source": [
        "그래프를 그립니다:"
      ]
    },
    {
      "cell_type": "code",
      "execution_count": 104,
      "metadata": {
        "colab": {
          "base_uri": "https://localhost:8080/",
          "height": 315
        },
        "execution": {
          "iopub.execute_input": "2021-11-03T03:33:43.009182Z",
          "iopub.status.busy": "2021-11-03T03:33:43.008224Z",
          "iopub.status.idle": "2021-11-03T03:33:43.952515Z",
          "shell.execute_reply": "2021-11-03T03:33:43.951936Z"
        },
        "id": "AJPog_J6_57V",
        "outputId": "e427e862-f805-443b-f375-ebae60e4a31f"
      },
      "outputs": [
        {
          "name": "stdout",
          "output_type": "stream",
          "text": [
            "그림 저장: early_stopping_plot\n"
          ]
        },
        {
          "data": {
            "image/png": "[encoded data removed]",
            "text/plain": [
              "<Figure size 432x288 with 1 Axes>"
            ]
          },
          "metadata": {
            "needs_background": "light"
          },
          "output_type": "display_data"
        }
      ],
      "source": [
        "sgd_reg = SGDRegressor(max_iter=1, tol=-np.infty, warm_start=True,\n",
        "                        penalty=None, learning_rate=\"constant\", eta0=0.0005, random_state=42)\n",
        "\n",
        "n_epochs = 500\n",
        "train_errors, val_errors = [], []\n",
        "for epoch in range(n_epochs):\n",
        "    sgd_reg.fit(X_train_poly_scaled, y_train)\n",
        "    y_train_predict = sgd_reg.predict(X_train_poly_scaled)\n",
        "    y_val_predict = sgd_reg.predict(X_val_poly_scaled)\n",
        "    # 그래프위해 저장\n",
        "    train_errors.append(mean_squared_error(y_train, y_train_predict))\n",
        "    val_errors.append(mean_squared_error(y_val, y_val_predict))\n",
        "\n",
        "best_epoch = np.argmin(val_errors)\n",
        "best_val_rmse = np.sqrt(val_errors[best_epoch])\n",
        "\n",
        "plt.annotate('Best model',\n",
        "            xy=(best_epoch, best_val_rmse),\n",
        "            xytext=(best_epoch, best_val_rmse + 1),\n",
        "            ha=\"center\",\n",
        "            arrowprops=dict(facecolor='black', shrink=0.05),\n",
        "            fontsize=16,\n",
        "            )\n",
        "\n",
        "best_val_rmse -= 0.03  # just to make the graph look better\n",
        "plt.plot([0, n_epochs], [best_val_rmse, best_val_rmse], \"k:\", linewidth=2)\n",
        "plt.plot(np.sqrt(val_errors), \"b-\", linewidth=3, label=\"Validation set\")\n",
        "plt.plot(np.sqrt(train_errors), \"r--\", linewidth=2, label=\"Training set\")\n",
        "plt.legend(loc=\"upper right\", fontsize=14)\n",
        "plt.xlabel(\"Epoch\", fontsize=14)\n",
        "plt.ylabel(\"RMSE\", fontsize=14)\n",
        "save_fig(\"early_stopping_plot\")\n",
        "plt.show()\n",
        "\n",
        "# 검증세트 값이 상승하는 점 "
      ]
    },
    {
      "cell_type": "code",
      "execution_count": 105,
      "metadata": {
        "colab": {
          "base_uri": "https://localhost:8080/"
        },
        "execution": {
          "iopub.execute_input": "2021-11-03T03:33:43.958209Z",
          "iopub.status.busy": "2021-11-03T03:33:43.957324Z",
          "iopub.status.idle": "2021-11-03T03:33:43.961242Z",
          "shell.execute_reply": "2021-11-03T03:33:43.960660Z"
        },
        "id": "ArjkRsLl_57V",
        "outputId": "83d116dc-eaa1-4133-83c0-f7413375cd91"
      },
      "outputs": [
        {
          "data": {
            "text/plain": [
              "(239,\n",
              " 1.3513110512453865,\n",
              " SGDRegressor(eta0=0.0005, learning_rate='constant', max_iter=1, penalty=None,\n",
              "              random_state=42, tol=-inf, warm_start=True))"
            ]
          },
          "execution_count": 105,
          "metadata": {},
          "output_type": "execute_result"
        }
      ],
      "source": [
        "# 최상의 에포크, 최소에러, 최상의 모델 출력\n",
        "best_epoch, minimum_val_error, best_model"
      ]
    },
    {
      "cell_type": "code",
      "execution_count": 106,
      "metadata": {
        "id": "bzxTY1ofksxN"
      },
      "outputs": [],
      "source": [
        "sgd_reg = SGDRegressor(penalty=None, learning_rate=\"constant\", eta0=0.0005, random_state=42,\n",
        "                       early_stopping=True)\n",
        "\n",
        "#  early_stopping=True : 조기종료, 성능이 좋아지지 않을때 종료 ( 훈련데이터의 일부로 검증)\n",
        "#  tol로 지정가능, 0.001이상 5회 연속 좋아지지 않으면 중단"
      ]
    },
    {
      "cell_type": "code",
      "execution_count": 107,
      "metadata": {
        "colab": {
          "base_uri": "https://localhost:8080/"
        },
        "id": "0bbGXvjlmPN5",
        "outputId": "22aee90e-efad-4dfe-c89f-fb17ee67e4d6"
      },
      "outputs": [
        {
          "data": {
            "text/plain": [
              "(0.8987688364730185, 293)"
            ]
          },
          "execution_count": 107,
          "metadata": {},
          "output_type": "execute_result"
        }
      ],
      "source": [
        "sgd_reg.fit(X_train_poly_scaled, y_train)\n",
        "y_val_predict = sgd_reg.predict(X_val_poly_scaled)\n",
        "mean_squared_error(y_val,y_val_predict), sgd_reg.n_iter_\n",
        "# MSE 계산, 293 에포크에서 중단"
      ]
    },
    {
      "cell_type": "code",
      "execution_count": 108,
      "metadata": {
        "execution": {
          "iopub.execute_input": "2021-11-03T03:33:43.966629Z",
          "iopub.status.busy": "2021-11-03T03:33:43.965760Z",
          "iopub.status.idle": "2021-11-03T03:33:43.968228Z",
          "shell.execute_reply": "2021-11-03T03:33:43.967635Z"
        },
        "id": "eG_xp7zx_57V"
      },
      "outputs": [],
      "source": [
        "%matplotlib inline\n",
        "import matplotlib.pyplot as plt\n",
        "import numpy as np"
      ]
    },
    {
      "cell_type": "code",
      "execution_count": 109,
      "metadata": {
        "execution": {
          "iopub.execute_input": "2021-11-03T03:33:43.977176Z",
          "iopub.status.busy": "2021-11-03T03:33:43.975845Z",
          "iopub.status.idle": "2021-11-03T03:33:44.020330Z",
          "shell.execute_reply": "2021-11-03T03:33:44.021091Z"
        },
        "id": "iujnBoNb_57V"
      },
      "outputs": [],
      "source": [
        "t1a, t1b, t2a, t2b = -1, 3, -1.5, 1.5\n",
        "\n",
        "t1s = np.linspace(t1a, t1b, 500)\n",
        "t2s = np.linspace(t2a, t2b, 500)\n",
        "t1, t2 = np.meshgrid(t1s, t2s)\n",
        "T = np.c_[t1.ravel(), t2.ravel()]\n",
        "Xr = np.array([[1, 1], [1, -1], [1, 0.5]])\n",
        "yr = 2 * Xr[:, :1] + 0.5 * Xr[:, 1:]\n",
        "\n",
        "J = (1/len(Xr) * np.sum((T.dot(Xr.T) - yr.T)**2, axis=1)).reshape(t1.shape)\n",
        "\n",
        "N1 = np.linalg.norm(T, ord=1, axis=1).reshape(t1.shape)\n",
        "N2 = np.linalg.norm(T, ord=2, axis=1).reshape(t1.shape)\n",
        "\n",
        "t_min_idx = np.unravel_index(np.argmin(J), J.shape)\n",
        "t1_min, t2_min = t1[t_min_idx], t2[t_min_idx]\n",
        "\n",
        "t_init = np.array([[0.25], [-1]])"
      ]
    },
    {
      "cell_type": "code",
      "execution_count": 110,
      "metadata": {
        "colab": {
          "base_uri": "https://localhost:8080/",
          "height": 603
        },
        "execution": {
          "iopub.execute_input": "2021-11-03T03:33:44.026616Z",
          "iopub.status.busy": "2021-11-03T03:33:44.025542Z",
          "iopub.status.idle": "2021-11-03T03:33:46.086576Z",
          "shell.execute_reply": "2021-11-03T03:33:46.086995Z"
        },
        "id": "GGE4sQkX_57V",
        "outputId": "7e83eaa7-c419-4c5e-c13e-5d8bfb6953e2"
      },
      "outputs": [
        {
          "name": "stdout",
          "output_type": "stream",
          "text": [
            "그림 저장: lasso_vs_ridge_plot\n"
          ]
        },
        {
          "data": {
            "image/png": "[encoded data removed]",
            "text/plain": [
              "<Figure size 727.2x576 with 4 Axes>"
            ]
          },
          "metadata": {
            "needs_background": "light"
          },
          "output_type": "display_data"
        }
      ],
      "source": [
        "def bgd_path(theta, X, y, l1, l2, core = 1, eta = 0.05, n_iterations = 200):\n",
        "    path = [theta]\n",
        "    for iteration in range(n_iterations):\n",
        "        gradients = core * 2/len(X) * X.T.dot(X.dot(theta) - y) + l1 * np.sign(theta) + l2 * theta\n",
        "        theta = theta - eta * gradients\n",
        "        path.append(theta)\n",
        "    return np.array(path)\n",
        "\n",
        "fig, axes = plt.subplots(2, 2, sharex=True, sharey=True, figsize=(10.1, 8))\n",
        "for i, N, l1, l2, title in ((0, N1, 2., 0, \"Lasso\"), (1, N2, 0,  2., \"Ridge\")):\n",
        "    JR = J + l1 * N1 + l2 * 0.5 * N2**2\n",
        "    \n",
        "    tr_min_idx = np.unravel_index(np.argmin(JR), JR.shape)\n",
        "    t1r_min, t2r_min = t1[tr_min_idx], t2[tr_min_idx]\n",
        "\n",
        "    levelsJ=(np.exp(np.linspace(0, 1, 20)) - 1) * (np.max(J) - np.min(J)) + np.min(J)\n",
        "    levelsJR=(np.exp(np.linspace(0, 1, 20)) - 1) * (np.max(JR) - np.min(JR)) + np.min(JR)\n",
        "    levelsN=np.linspace(0, np.max(N), 10)\n",
        "    \n",
        "    path_J = bgd_path(t_init, Xr, yr, l1=0, l2=0)\n",
        "    path_JR = bgd_path(t_init, Xr, yr, l1, l2)\n",
        "    path_N = bgd_path(np.array([[2.0], [0.5]]), Xr, yr, np.sign(l1)/3, np.sign(l2), core=0)\n",
        "\n",
        "    ax = axes[i, 0]\n",
        "    ax.grid(True)\n",
        "    ax.axhline(y=0, color='k')\n",
        "    ax.axvline(x=0, color='k')\n",
        "    ax.contourf(t1, t2, N / 2., levels=levelsN)\n",
        "    ax.plot(path_N[:, 0], path_N[:, 1], \"y--\")\n",
        "    ax.plot(0, 0, \"ys\")\n",
        "    ax.plot(t1_min, t2_min, \"ys\")\n",
        "    ax.set_title(r\"$\\ell_{}$ penalty\".format(i + 1), fontsize=16)\n",
        "    ax.axis([t1a, t1b, t2a, t2b])\n",
        "    if i == 1:\n",
        "        ax.set_xlabel(r\"$\\theta_1$\", fontsize=16)\n",
        "    ax.set_ylabel(r\"$\\theta_2$\", fontsize=16, rotation=0)\n",
        "\n",
        "    ax = axes[i, 1]\n",
        "    ax.grid(True)\n",
        "    ax.axhline(y=0, color='k')\n",
        "    ax.axvline(x=0, color='k')\n",
        "    ax.contourf(t1, t2, JR, levels=levelsJR, alpha=0.9)\n",
        "    ax.plot(path_JR[:, 0], path_JR[:, 1], \"w-o\")\n",
        "    ax.plot(path_N[:, 0], path_N[:, 1], \"y--\")\n",
        "    ax.plot(0, 0, \"ys\")\n",
        "    ax.plot(t1_min, t2_min, \"ys\")\n",
        "    ax.plot(t1r_min, t2r_min, \"rs\")\n",
        "    ax.set_title(title, fontsize=16)\n",
        "    ax.axis([t1a, t1b, t2a, t2b])\n",
        "    if i == 1:\n",
        "        ax.set_xlabel(r\"$\\theta_1$\", fontsize=16)\n",
        "\n",
        "save_fig(\"lasso_vs_ridge_plot\")\n",
        "plt.show()\n",
        "\n",
        "#진한색이 손실이 낮은지점, 밝은색이 손실이 높은 지점\n",
        "# l1 : 오른쪽에서 시작해서 경사가 빠른 방향으로 theta2로\n",
        "# l2 : 동심원을 따라 바로 최저값으로\n",
        "# 라쏘 : 아래에서 시작. 진동하면서 빨간점으로\n",
        "# 규제가 주어지면 빨간점이 왼쪽으로 이동(규제로 가중치가 작아진다)\n",
        "# 릿지 : 최적점을 바로 찾아간다. L2 규제"
      ]
    },
    {
      "cell_type": "markdown",
      "metadata": {
        "id": "-ymW3rZo_57W"
      },
      "source": [
        "# 로지스틱 회귀"
      ]
    },
    {
      "cell_type": "markdown",
      "metadata": {
        "id": "_gEyCbI5_57W"
      },
      "source": [
        "## 결정 경계"
      ]
    },
    {
      "cell_type": "code",
      "execution_count": 111,
      "metadata": {
        "colab": {
          "base_uri": "https://localhost:8080/",
          "height": 243
        },
        "execution": {
          "iopub.execute_input": "2021-11-03T03:33:46.138687Z",
          "iopub.status.busy": "2021-11-03T03:33:46.136893Z",
          "iopub.status.idle": "2021-11-03T03:33:46.630790Z",
          "shell.execute_reply": "2021-11-03T03:33:46.631238Z"
        },
        "id": "x_bR4Sao_57W",
        "outputId": "88c0ccee-5e91-4c96-cb00-f2df3f84e8a1"
      },
      "outputs": [
        {
          "name": "stdout",
          "output_type": "stream",
          "text": [
            "그림 저장: logistic_function_plot\n"
          ]
        },
        {
          "data": {
            "image/png": "[encoded data removed]",
            "text/plain": [
              "<Figure size 648x216 with 1 Axes>"
            ]
          },
          "metadata": {
            "needs_background": "light"
          },
          "output_type": "display_data"
        }
      ],
      "source": [
        "# 로지스틱회귀 : 분류모델\n",
        "# 방정식 계산 결과가 임계값을 기준으로 임계값보다 크면 양성, 아니면 음성\n",
        "# predict_proba 로 확률값 제공\n",
        "# 로지스틱함수(로짓함수, 시그모이드함수) : -inf~ +inf를 0~1 사이값으로 변환\n",
        "# 확률로 사용가능\n",
        "# 선형모델과 유사하지만 결과 생성시 로짓함수로 분류결과 결정\n",
        "\n",
        "t = np.linspace(-10, 10, 100)\n",
        "sig = 1 / (1 + np.exp(-t))\n",
        "plt.figure(figsize=(9, 3))\n",
        "plt.plot([-10, 10], [0, 0], \"k-\")\n",
        "plt.plot([-10, 10], [0.5, 0.5], \"k:\")\n",
        "plt.plot([-10, 10], [1, 1], \"k:\")\n",
        "plt.plot([0, 0], [-1.1, 1.1], \"k-\")\n",
        "plt.plot(t, sig, \"b-\", linewidth=2, label=r\"$\\sigma(t) = \\frac{1}{1 + e^{-t}}$\")\n",
        "plt.xlabel(\"t\")\n",
        "plt.legend(loc=\"upper left\", fontsize=20)\n",
        "plt.axis([-10, 10, -0.1, 1.1])\n",
        "save_fig(\"logistic_function_plot\")\n",
        "plt.show()\n",
        "\n",
        "# 시그모이드 함수"
      ]
    },
    {
      "cell_type": "markdown",
      "metadata": {
        "id": "psKiA4lh_57W"
      },
      "source": [
        "**식 4-16: 하나의 훈련 샘플에 대한 비용 함수**\n",
        "\n",
        "$\n",
        "c(\\boldsymbol{\\theta}) =\n",
        "\\begin{cases}\n",
        "  -\\log(\\hat{p}) & \\text{if } y = 1, \\\\\n",
        "  -\\log(1 - \\hat{p}) & \\text{if } y = 0.\n",
        "\\end{cases}\n",
        "$\n",
        "\n",
        "\n",
        "**식 4-17: 로지스틱 회귀 비용 함수(로그 손실)**\n",
        "\n",
        "$\n",
        "J(\\boldsymbol{\\theta}) = -\\dfrac{1}{m} \\sum\\limits_{i=1}^{m}{\\left[ y^{(i)} log\\left(\\hat{p}^{(i)}\\right) + (1 - y^{(i)}) log\\left(1 - \\hat{p}^{(i)}\\right)\\right]}\n",
        "$\n",
        "\n",
        "\n",
        "**식 4-18: 로지스틱 비용 함수의 편도 함수**\n",
        "\n",
        "$\n",
        "\\dfrac{\\partial}{\\partial \\theta_j} \\text{J}(\\boldsymbol{\\theta}) = \\dfrac{1}{m}\\sum\\limits_{i=1}^{m}\\left(\\mathbf{\\sigma(\\boldsymbol{\\theta}}^T \\mathbf{x}^{(i)}) - y^{(i)}\\right)\\, x_j^{(i)}\n",
        "$"
      ]
    },
    {
      "cell_type": "code",
      "execution_count": 120,
      "metadata": {
        "execution": {
          "iopub.execute_input": "2021-11-03T03:33:46.636046Z",
          "iopub.status.busy": "2021-11-03T03:33:46.635416Z",
          "iopub.status.idle": "2021-11-03T03:33:46.661631Z",
          "shell.execute_reply": "2021-11-03T03:33:46.661038Z"
        },
        "id": "LegXT7Yq_57W"
      },
      "outputs": [],
      "source": [
        "# 분류모델의 목표 : 정확도 (갯수) \n",
        "# 분류를 위한 비용함수\n",
        "# log 손실함수 1=> 0, 0에 가까우면 =>-inf\n",
        "# p^ : 시그모이드를 통과한 값\n",
        "# 양성클래스: p^이 0에 가까우면 (잘못맞추면) log(p^)이 -inf, -log(p^)가 큰양수가 된다\n",
        "# p^이 1에 가까우면(제대로 맞추면) log(p^)는 0에 가까운 - 값.-log(p^)는 작은 양수값 \n",
        "# 잘 맞추면 작은 손실값, 못맞추면 큰 손실값\n",
        "# 음성클래스: p^이 1에 가까우면 잘못예측 log(1-p^)=>큰 음수 => -log(1-p^)큰양수\n",
        "# 식 4-17 : 음성과 양성일때를 합쳐서 로지스틱 회귀 비용함수\n",
        "# y=1(양성클래스)이면 앞의 항만 남는다\n",
        "# y=0(음성클래스)이면 뒤의 항만 남는다\n",
        "# 4-18 : 4-17을 미분 => sigma(mse)\n",
        "\n"
      ]
    },
    {
      "cell_type": "code",
      "execution_count": 121,
      "metadata": {
        "colab": {
          "base_uri": "https://localhost:8080/"
        },
        "id": "OYmP9P7b0yJ8",
        "outputId": "554fc0ea-4145-48a6-b55c-bf3be64ee50f"
      },
      "outputs": [
        {
          "data": {
            "text/plain": [
              "['data',\n",
              " 'target',\n",
              " 'frame',\n",
              " 'target_names',\n",
              " 'DESCR',\n",
              " 'feature_names',\n",
              " 'filename',\n",
              " 'data_module']"
            ]
          },
          "execution_count": 121,
          "metadata": {},
          "output_type": "execute_result"
        }
      ],
      "source": [
        "from sklearn import datasets\n",
        "iris = datasets.load_iris()\n",
        "list(iris.keys())"
      ]
    },
    {
      "cell_type": "code",
      "execution_count": 122,
      "metadata": {
        "id": "GWFHnwZHcg0k"
      },
      "outputs": [],
      "source": [
        "# data : 입력데이터\n",
        "# target: label\n",
        "# target_names : 0,1,2\n",
        "# feature_names : 너비, 길이\n",
        "# file_name : 경로"
      ]
    },
    {
      "cell_type": "code",
      "execution_count": 124,
      "metadata": {
        "colab": {
          "base_uri": "https://localhost:8080/"
        },
        "execution": {
          "iopub.execute_input": "2021-11-03T03:33:46.665529Z",
          "iopub.status.busy": "2021-11-03T03:33:46.664852Z",
          "iopub.status.idle": "2021-11-03T03:33:46.668042Z",
          "shell.execute_reply": "2021-11-03T03:33:46.667516Z"
        },
        "id": "eCfKPEKX_57W",
        "outputId": "156cbfc7-45db-4f8e-e7c5-bfd761f00297"
      },
      "outputs": [
        {
          "name": "stdout",
          "output_type": "stream",
          "text": [
            ".. _iris_dataset:\n",
            "\n",
            "Iris plants dataset\n",
            "--------------------\n",
            "\n",
            "**Data Set Characteristics:**\n",
            "\n",
            "    :Number of Instances: 150 (50 in each of three classes)\n",
            "    :Number of Attributes: 4 numeric, predictive attributes and the class\n",
            "    :Attribute Information:\n",
            "        - sepal length in cm\n",
            "        - sepal width in cm\n",
            "        - petal length in cm\n",
            "        - petal width in cm\n",
            "        - class:\n",
            "                - Iris-Setosa\n",
            "                - Iris-Versicolour\n",
            "                - Iris-Virginica\n",
            "                \n",
            "    :Summary Statistics:\n",
            "\n",
            "    ============== ==== ==== ======= ===== ====================\n",
            "                    Min  Max   Mean    SD   Class Correlation\n",
            "    ============== ==== ==== ======= ===== ====================\n",
            "    sepal length:   4.3  7.9   5.84   0.83    0.7826\n",
            "    sepal width:    2.0  4.4   3.05   0.43   -0.4194\n",
            "    petal length:   1.0  6.9   3.76   1.76    0.9490  (high!)\n",
            "    petal width:    0.1  2.5   1.20   0.76    0.9565  (high!)\n",
            "    ============== ==== ==== ======= ===== ====================\n",
            "\n",
            "    :Missing Attribute Values: None\n",
            "    :Class Distribution: 33.3% for each of 3 classes.\n",
            "    :Creator: R.A. Fisher\n",
            "    :Donor: Michael Marshall (MARSHALL%PLU@io.arc.nasa.gov)\n",
            "    :Date: July, 1988\n",
            "\n",
            "The famous Iris database, first used by Sir R.A. Fisher. The dataset is taken\n",
            "from Fisher's paper. Note that it's the same as in R, but not as in the UCI\n",
            "Machine Learning Repository, which has two wrong data points.\n",
            "\n",
            "This is perhaps the best known database to be found in the\n",
            "pattern recognition literature.  Fisher's paper is a classic in the field and\n",
            "is referenced frequently to this day.  (See Duda & Hart, for example.)  The\n",
            "data set contains 3 classes of 50 instances each, where each class refers to a\n",
            "type of iris plant.  One class is linearly separable from the other 2; the\n",
            "latter are NOT linearly separable from each other.\n",
            "\n",
            ".. topic:: References\n",
            "\n",
            "   - Fisher, R.A. \"The use of multiple measurements in taxonomic problems\"\n",
            "     Annual Eugenics, 7, Part II, 179-188 (1936); also in \"Contributions to\n",
            "     Mathematical Statistics\" (John Wiley, NY, 1950).\n",
            "   - Duda, R.O., & Hart, P.E. (1973) Pattern Classification and Scene Analysis.\n",
            "     (Q327.D83) John Wiley & Sons.  ISBN 0-471-22361-1.  See page 218.\n",
            "   - Dasarathy, B.V. (1980) \"Nosing Around the Neighborhood: A New System\n",
            "     Structure and Classification Rule for Recognition in Partially Exposed\n",
            "     Environments\".  IEEE Transactions on Pattern Analysis and Machine\n",
            "     Intelligence, Vol. PAMI-2, No. 1, 67-71.\n",
            "   - Gates, G.W. (1972) \"The Reduced Nearest Neighbor Rule\".  IEEE Transactions\n",
            "     on Information Theory, May 1972, 431-433.\n",
            "   - See also: 1988 MLC Proceedings, 54-64.  Cheeseman et al\"s AUTOCLASS II\n",
            "     conceptual clustering system finds 3 classes in the data.\n",
            "   - Many, many more ...\n"
          ]
        }
      ],
      "source": [
        "print(iris.DESCR)"
      ]
    },
    {
      "cell_type": "code",
      "execution_count": 125,
      "metadata": {
        "colab": {
          "base_uri": "https://localhost:8080/"
        },
        "id": "3NWw5Oh7c9ha",
        "outputId": "058d7b3e-15e3-40d4-9f11-a336ed9eb32f"
      },
      "outputs": [
        {
          "data": {
            "text/plain": [
              "(array([0, 1, 2]), array([50, 50, 50]))"
            ]
          },
          "execution_count": 125,
          "metadata": {},
          "output_type": "execute_result"
        }
      ],
      "source": [
        "#클래스별 인스턴스 갯수 출력\n",
        "\n",
        "np.unique(iris.target, return_counts=True)"
      ]
    },
    {
      "cell_type": "code",
      "execution_count": 126,
      "metadata": {
        "execution": {
          "iopub.execute_input": "2021-11-03T03:33:46.672096Z",
          "iopub.status.busy": "2021-11-03T03:33:46.671482Z",
          "iopub.status.idle": "2021-11-03T03:33:46.673745Z",
          "shell.execute_reply": "2021-11-03T03:33:46.674177Z"
        },
        "id": "S1W3_FaM_57X"
      },
      "outputs": [],
      "source": [
        "# 이진분류\n",
        "# 클래스가 2일때 양성 그외에는 음성\n",
        "# 특성 1개만 사용\n",
        "\n",
        "X = iris[\"data\"][:, 3:]  # 꽃잎 너비(4개 특성중 마지막) 슬라이싱으로 2차원배열로 리턴\n",
        "y = (iris[\"target\"] == 2).astype(int)  # Iris virginica이면 1 아니면 0"
      ]
    },
    {
      "cell_type": "markdown",
      "metadata": {
        "id": "7xxMfNBc_57X"
      },
      "source": [
        "**노트**: 향후 버전이 바뀌더라도 동일한 결과를 만들기 위해 사이킷런 0.22 버전의 기본값인 `solver=\"lbfgs\"`로 지정합니다."
      ]
    },
    {
      "cell_type": "code",
      "execution_count": 127,
      "metadata": {
        "colab": {
          "base_uri": "https://localhost:8080/"
        },
        "execution": {
          "iopub.execute_input": "2021-11-03T03:33:46.684039Z",
          "iopub.status.busy": "2021-11-03T03:33:46.678824Z",
          "iopub.status.idle": "2021-11-03T03:33:46.688269Z",
          "shell.execute_reply": "2021-11-03T03:33:46.688705Z"
        },
        "id": "_FAyCyCs_57X",
        "outputId": "320f54d1-0fd9-4686-f12f-7715df7ee74a"
      },
      "outputs": [
        {
          "data": {
            "text/plain": [
              "LogisticRegression(random_state=42)"
            ]
          },
          "execution_count": 127,
          "metadata": {},
          "output_type": "execute_result"
        }
      ],
      "source": [
        "# 로지스틱회귀\n",
        "from sklearn.linear_model import LogisticRegression\n",
        "log_reg = LogisticRegression(solver=\"lbfgs\", random_state=42) # 모델만들기, solver 기본\n",
        "log_reg.fit(X, y) # fit모델 호출"
      ]
    },
    {
      "cell_type": "code",
      "execution_count": null,
      "metadata": {
        "execution": {
          "iopub.execute_input": "2021-11-03T03:33:46.716769Z",
          "iopub.status.busy": "2021-11-03T03:33:46.700443Z",
          "iopub.status.idle": "2021-11-03T03:33:46.878324Z",
          "shell.execute_reply": "2021-11-03T03:33:46.877739Z"
        },
        "id": "PM5nv9BL_57X",
        "outputId": "ca631785-7b03-4bc8-d543-a21f9f55176c"
      },
      "outputs": [
        {
          "data": {
            "text/plain": [
              "[<matplotlib.lines.Line2D at 0x7f2dc51f0a90>]"
            ]
          },
          "execution_count": 58,
          "metadata": {},
          "output_type": "execute_result"
        },
        {
          "data": {
            "image/png": "[encoded data removed]",
            "text/plain": [
              "<Figure size 432x288 with 1 Axes>"
            ]
          },
          "metadata": {
            "needs_background": "light"
          },
          "output_type": "display_data"
        }
      ],
      "source": [
        "# 전체데이터 사용하여 로지스틱 회귀의 동작 살펴보기\n",
        "# 0~3까지 1000개의 구간으로 나누어 확률예측\n",
        "\n",
        "X_new = np.linspace(0, 3, 1000).reshape(-1, 1)\n",
        "y_proba = log_reg.predict_proba(X_new)\n",
        "\n",
        "# pridict_proba\n",
        "\n",
        "plt.plot(X_new, y_proba[:, 1], \"g-\", linewidth=2, label=\"Iris virginica\")  # 양성클래스\n",
        "plt.plot(X_new, y_proba[:, 0], \"b--\", linewidth=2, label=\"Not Iris virginica\") # 음성클래스\n",
        "\n",
        "# 꽃잎 너비가 커지면 양성 확률이 높아진다\n",
        "# 꽃잎 너비가 작아지면 음성 확률이 높아진다"
      ]
    },
    {
      "cell_type": "markdown",
      "metadata": {
        "id": "ylkUeTKV_57X"
      },
      "source": [
        "책에 실린 그림은 조금 더 예쁘게 꾸몄습니다:"
      ]
    },
    {
      "cell_type": "code",
      "execution_count": null,
      "metadata": {
        "execution": {
          "iopub.execute_input": "2021-11-03T03:33:46.882352Z",
          "iopub.status.busy": "2021-11-03T03:33:46.881173Z",
          "iopub.status.idle": "2021-11-03T03:33:47.397602Z",
          "shell.execute_reply": "2021-11-03T03:33:47.396771Z"
        },
        "id": "rcRdHdms_57X",
        "outputId": "da5b82f6-b473-4917-d8d3-af10ac0191ef"
      },
      "outputs": [
        {
          "name": "stdout",
          "output_type": "stream",
          "text": [
            "그림 저장: logistic_regression_plot\n"
          ]
        },
        {
          "data": {
            "image/png": "[encoded data removed]",
            "text/plain": [
              "<Figure size 576x216 with 1 Axes>"
            ]
          },
          "metadata": {
            "needs_background": "light"
          },
          "output_type": "display_data"
        }
      ],
      "source": [
        "X_new = np.linspace(0, 3, 1000).reshape(-1, 1)\n",
        "y_proba = log_reg.predict_proba(X_new)\n",
        "decision_boundary = X_new[y_proba[:, 1] >= 0.5][0]  # decision boundary\n",
        "\n",
        "plt.figure(figsize=(8, 3))\n",
        "plt.plot(X[y==0], y[y==0], \"bs\")\n",
        "plt.plot(X[y==1], y[y==1], \"g^\")\n",
        "plt.plot([decision_boundary, decision_boundary], [-1, 2], \"k:\", linewidth=2)\n",
        "plt.plot(X_new, y_proba[:, 1], \"g-\", linewidth=2, label=\"Iris virginica\")\n",
        "plt.plot(X_new, y_proba[:, 0], \"b--\", linewidth=2, label=\"Not Iris virginica\")\n",
        "plt.text(decision_boundary+0.02, 0.15, \"Decision  boundary\", fontsize=14, color=\"k\", ha=\"center\")\n",
        "plt.arrow(decision_boundary[0], 0.08, -0.3, 0, head_width=0.05, head_length=0.1, fc='b', ec='b')\n",
        "plt.arrow(decision_boundary[0], 0.92, 0.3, 0, head_width=0.05, head_length=0.1, fc='g', ec='g')\n",
        "plt.xlabel(\"Petal width (cm)\", fontsize=14)\n",
        "plt.ylabel(\"Probability\", fontsize=14)\n",
        "plt.legend(loc=\"center left\", fontsize=14)\n",
        "plt.axis([0, 3, -0.02, 1.02])\n",
        "save_fig(\"logistic_regression_plot\")\n",
        "plt.show()\n",
        "\n",
        "# 꽃잎너비 1.6 근처에서 오른쪽이면 양성 확률이 높아짐; 확률 0.5\n"
      ]
    },
    {
      "cell_type": "code",
      "execution_count": null,
      "metadata": {
        "execution": {
          "iopub.execute_input": "2021-11-03T03:33:47.402810Z",
          "iopub.status.busy": "2021-11-03T03:33:47.401959Z",
          "iopub.status.idle": "2021-11-03T03:33:47.405672Z",
          "shell.execute_reply": "2021-11-03T03:33:47.406297Z"
        },
        "id": "GhtULy8i_57X",
        "outputId": "63b81087-7ec4-4fdf-d40b-92dedb65d279"
      },
      "outputs": [
        {
          "data": {
            "text/plain": [
              "array([1.66066066])"
            ]
          },
          "execution_count": 60,
          "metadata": {},
          "output_type": "execute_result"
        }
      ],
      "source": [
        "# 결정경계\n",
        "decision_boundary"
      ]
    },
    {
      "cell_type": "code",
      "execution_count": 129,
      "metadata": {
        "colab": {
          "base_uri": "https://localhost:8080/"
        },
        "execution": {
          "iopub.execute_input": "2021-11-03T03:33:47.411625Z",
          "iopub.status.busy": "2021-11-03T03:33:47.410792Z",
          "iopub.status.idle": "2021-11-03T03:33:47.414437Z",
          "shell.execute_reply": "2021-11-03T03:33:47.415082Z"
        },
        "id": "3TuZ8AjP_57Y",
        "outputId": "85cfb7d3-e15b-47f3-ed09-90df88db277b"
      },
      "outputs": [
        {
          "data": {
            "text/plain": [
              "array([1, 0])"
            ]
          },
          "execution_count": 129,
          "metadata": {},
          "output_type": "execute_result"
        }
      ],
      "source": [
        "# 예측\n",
        "log_reg.predict([[1.7], [1.5]])\n",
        "# 1.7은 1.6하고 비교하여 양성"
      ]
    },
    {
      "cell_type": "markdown",
      "metadata": {
        "id": "wNG8mWFe_57Y"
      },
      "source": [
        "## 소프트맥스 회귀"
      ]
    },
    {
      "cell_type": "code",
      "execution_count": 130,
      "metadata": {
        "colab": {
          "base_uri": "https://localhost:8080/",
          "height": 315
        },
        "execution": {
          "iopub.execute_input": "2021-11-03T03:33:47.453961Z",
          "iopub.status.busy": "2021-11-03T03:33:47.429809Z",
          "iopub.status.idle": "2021-11-03T03:33:48.234323Z",
          "shell.execute_reply": "2021-11-03T03:33:48.234969Z"
        },
        "id": "bYZIk2q__57Y",
        "outputId": "770e588b-8157-45a8-8184-df7ac3da2532"
      },
      "outputs": [
        {
          "name": "stdout",
          "output_type": "stream",
          "text": [
            "그림 저장: logistic_regression_contour_plot\n"
          ]
        },
        {
          "data": {
            "image/png": "[encoded data removed]",
            "text/plain": [
              "<Figure size 720x288 with 1 Axes>"
            ]
          },
          "metadata": {
            "needs_background": "light"
          },
          "output_type": "display_data"
        }
      ],
      "source": [
        "# 길이와 너비로 특징 2개로 예측\n",
        "\n",
        "from sklearn.linear_model import LogisticRegression\n",
        "\n",
        "X = iris[\"data\"][:, (2, 3)]  # petal length, petal width\n",
        "y = (iris[\"target\"] == 2).astype(int)\n",
        "\n",
        "log_reg = LogisticRegression(solver=\"lbfgs\", C=10**10, random_state=42)\n",
        "log_reg.fit(X, y)\n",
        "\n",
        "# meshgrid\n",
        "# meshgrid : 각 축에 대한 포인트 입력-> 포인트가 교차하는 좌표 계산\n",
        "#x0 : 500구간이 200번 반복\n",
        "#x1 : 200구간이 500번 반복\n",
        "\n",
        "x0, x1 = np.meshgrid(\n",
        "        np.linspace(2.9, 7, 500).reshape(-1, 1),  # 2.9~7까지 500구간이 y축으로 200번\n",
        "        np.linspace(0.8, 2.7, 200).reshape(-1, 1),\n",
        "    )\n",
        "# 새로운 X 데이터 생성\n",
        "X_new = np.c_[x0.ravel(), x1.ravel()]\n",
        "\n",
        "# y_proba그리기\n",
        "y_proba = log_reg.predict_proba(X_new)\n",
        "\n",
        "plt.figure(figsize=(10, 4))\n",
        "plt.plot(X[y==0, 0], X[y==0, 1], \"bs\")\n",
        "plt.plot(X[y==1, 0], X[y==1, 1], \"g^\")\n",
        "\n",
        "zz = y_proba[:, 1].reshape(x0.shape)\n",
        "contour = plt.contour(x0, x1, zz, cmap=plt.cm.brg)\n",
        "\n",
        "\n",
        "# 결정함수 값 = coef_[0][0]*길이 + coef_[0][1]* 너비 + 절편\n",
        "# boundary : 너비(y)를 구하기 위해 너비만 남기고 왼쪽을 이동\n",
        "\n",
        "left_right = np.array([2.9, 7]) # x축, 길이\n",
        "boundary = -(log_reg.coef_[0][0] * left_right + log_reg.intercept_[0]) / log_reg.coef_[0][1]\n",
        "\n",
        "plt.clabel(contour, inline=1, fontsize=12)\n",
        "plt.plot(left_right, boundary, \"k--\", linewidth=3)\n",
        "plt.text(3.5, 1.5, \"Not Iris virginica\", fontsize=14, color=\"b\", ha=\"center\")\n",
        "plt.text(6.5, 2.3, \"Iris virginica\", fontsize=14, color=\"g\", ha=\"center\")\n",
        "plt.xlabel(\"Petal length\", fontsize=14)\n",
        "plt.ylabel(\"Petal width\", fontsize=14)\n",
        "plt.axis([2.9, 7, 0.8, 2.7])\n",
        "save_fig(\"logistic_regression_contour_plot\")\n",
        "plt.show()\n",
        "\n",
        "# 결정경계 출력\n",
        "# 화면에 수직인 확률축\n",
        "# 등고선 구하기"
      ]
    },
    {
      "cell_type": "code",
      "execution_count": null,
      "metadata": {
        "id": "DUF0umYx_1XX"
      },
      "outputs": [],
      "source": [
        "# p^:클래스마다 결정함수에 지수 적용 /클래스마다 결정함수에 지수를 적용한 합\n",
        "# p^이 가장큰 클래스가 타겟 : 클래스 예측 확률"
      ]
    },
    {
      "cell_type": "markdown",
      "metadata": {
        "id": "cPNuElFh_57Y"
      },
      "source": [
        "**식 4-20: 소프트맥스 함수**\n",
        "\n",
        "$\n",
        "\\hat{p}_k = \\sigma\\left(\\mathbf{s}(\\mathbf{x})\\right)_k = \\dfrac{\\exp\\left(s_k(\\mathbf{x})\\right)}{\\sum\\limits_{j=1}^{K}{\\exp\\left(s_j(\\mathbf{x})\\right)}}\n",
        "$\n",
        "\n"
      ]
    },
    {
      "cell_type": "code",
      "execution_count": 131,
      "metadata": {
        "id": "vqrdlOXWCdpi"
      },
      "outputs": [],
      "source": [
        "# 4-22 : 크로스 엔트로피 (로지스틱 손실(이진크로스엔트로피)과 비슷)\n",
        "# K는 클래스 갯수\n",
        "# 타깃클래스(y1)이 1이면 -log(p1^)만 남고, log(p2^), log(p3^)는 사라진다\n",
        "\n",
        "#  4-23 : 로지스틱, mse 미분과 동일"
      ]
    },
    {
      "cell_type": "markdown",
      "metadata": {
        "id": "J9DL19H_Cb6A"
      },
      "source": [
        "**식 4-22: 크로스 엔트로피 비용 함수**\n",
        "\n",
        "$\n",
        "J(\\boldsymbol{\\Theta}) = - \\dfrac{1}{m}\\sum\\limits_{i=1}^{m}\\sum\\limits_{k=1}^{K}{y_k^{(i)}\\log\\left(\\hat{p}_k^{(i)}\\right)}\n",
        "$\n",
        "\n",
        "**식 4-23: 클래스 k에 대한 크로스 엔트로피의 그레이디언트 벡터**\n",
        "\n",
        "$\n",
        "\\nabla_{\\boldsymbol{\\theta}^{(k)}} \\, J(\\boldsymbol{\\Theta}) = \\dfrac{1}{m} \\sum\\limits_{i=1}^{m}{ \\left ( \\hat{p}^{(i)}_k - y_k^{(i)} \\right ) \\mathbf{x}^{(i)}}\n",
        "$"
      ]
    },
    {
      "cell_type": "code",
      "execution_count": 133,
      "metadata": {
        "colab": {
          "base_uri": "https://localhost:8080/"
        },
        "execution": {
          "iopub.execute_input": "2021-11-03T03:33:48.262266Z",
          "iopub.status.busy": "2021-11-03T03:33:48.244842Z",
          "iopub.status.idle": "2021-11-03T03:33:48.265170Z",
          "shell.execute_reply": "2021-11-03T03:33:48.265839Z"
        },
        "id": "JpG9J1LK_57Y",
        "outputId": "13081b03-5fad-4b19-b910-1d7021a351f7"
      },
      "outputs": [
        {
          "data": {
            "text/plain": [
              "LogisticRegression(C=10, multi_class='multinomial', random_state=42)"
            ]
          },
          "execution_count": 133,
          "metadata": {},
          "output_type": "execute_result"
        }
      ],
      "source": [
        "# 다중분류: 소프트맥스, 다중분류 로지스틱\n",
        "# 결정경계그리기 위해 2개의 특성 사용\n",
        "\n",
        "X = iris[\"data\"][:, (2, 3)]  # 꽃잎 길이, 꽃잎 너비\n",
        "y = iris[\"target\"]\n",
        "\n",
        "# multi_class=\"multinomial : 다중분류\n",
        "\n",
        "softmax_reg = LogisticRegression(multi_class=\"multinomial\",solver=\"lbfgs\", C=10, random_state=42)\n",
        "softmax_reg.fit(X, y)"
      ]
    },
    {
      "cell_type": "code",
      "execution_count": null,
      "metadata": {
        "execution": {
          "iopub.execute_input": "2021-11-03T03:33:48.275268Z",
          "iopub.status.busy": "2021-11-03T03:33:48.274376Z",
          "iopub.status.idle": "2021-11-03T03:33:49.179044Z",
          "shell.execute_reply": "2021-11-03T03:33:49.179700Z"
        },
        "id": "1yALGR92_57Y",
        "outputId": "ac99967d-16fc-478c-e602-22c4c10b615e"
      },
      "outputs": [
        {
          "name": "stdout",
          "output_type": "stream",
          "text": [
            "그림 저장: softmax_regression_contour_plot\n"
          ]
        },
        {
          "data": {
            "image/png": "[encoded data removed]",
            "text/plain": [
              "<Figure size 720x288 with 1 Axes>"
            ]
          },
          "metadata": {
            "needs_background": "light"
          },
          "output_type": "display_data"
        }
      ],
      "source": [
        "x0, x1 = np.meshgrid(\n",
        "        np.linspace(0, 8, 500).reshape(-1, 1),\n",
        "        np.linspace(0, 3.5, 200).reshape(-1, 1),\n",
        "    )\n",
        "X_new = np.c_[x0.ravel(), x1.ravel()]\n",
        "\n",
        "# softmax_reg.predict_proba : 확률값\n",
        "y_proba = softmax_reg.predict_proba(X_new)\n",
        "\n",
        "# softmax_reg.predict : 예측값\n",
        "y_predict = softmax_reg.predict(X_new)\n",
        "\n",
        "zz1 = y_proba[:, 1].reshape(x0.shape)\n",
        "zz = y_predict.reshape(x0.shape)\n",
        "\n",
        "plt.figure(figsize=(10, 4))\n",
        "plt.plot(X[y==2, 0], X[y==2, 1], \"g^\", label=\"Iris virginica\")\n",
        "plt.plot(X[y==1, 0], X[y==1, 1], \"bs\", label=\"Iris versicolor\")\n",
        "plt.plot(X[y==0, 0], X[y==0, 1], \"yo\", label=\"Iris setosa\")\n",
        "\n",
        "from matplotlib.colors import ListedColormap\n",
        "custom_cmap = ListedColormap(['#fafab0','#9898ff','#a0faa0'])\n",
        "\n",
        "# 등고선 그리기\n",
        "# contourf : 3개의 색깔로 (예측값으로)\n",
        "\n",
        "plt.contourf(x0, x1, zz, cmap=custom_cmap)\n",
        "contour = plt.contour(x0, x1, zz1, cmap=plt.cm.brg)\n",
        "plt.clabel(contour, inline=1, fontsize=12)\n",
        "plt.xlabel(\"Petal length\", fontsize=14)\n",
        "plt.ylabel(\"Petal width\", fontsize=14)\n",
        "plt.legend(loc=\"center left\", fontsize=14)\n",
        "plt.axis([0, 7, 0, 3.5])\n",
        "save_fig(\"softmax_regression_contour_plot\")\n",
        "plt.show()\n",
        "\n",
        "# 세개의 클래스로 분류"
      ]
    },
    {
      "cell_type": "code",
      "execution_count": null,
      "metadata": {
        "execution": {
          "iopub.execute_input": "2021-11-03T03:33:49.184907Z",
          "iopub.status.busy": "2021-11-03T03:33:49.182418Z",
          "iopub.status.idle": "2021-11-03T03:33:49.187818Z",
          "shell.execute_reply": "2021-11-03T03:33:49.187328Z"
        },
        "id": "iGwOy8Pj_57Z",
        "outputId": "75cf1020-3fce-4229-a7b7-41e8d4975360"
      },
      "outputs": [
        {
          "data": {
            "text/plain": [
              "array([2])"
            ]
          },
          "execution_count": 65,
          "metadata": {},
          "output_type": "execute_result"
        }
      ],
      "source": [
        "# 예측\n",
        "softmax_reg.predict([[5, 2]])\n",
        "# 3번째 클래스로 예측"
      ]
    },
    {
      "cell_type": "code",
      "execution_count": null,
      "metadata": {
        "execution": {
          "iopub.execute_input": "2021-11-03T03:33:49.192780Z",
          "iopub.status.busy": "2021-11-03T03:33:49.192185Z",
          "iopub.status.idle": "2021-11-03T03:33:49.197965Z",
          "shell.execute_reply": "2021-11-03T03:33:49.197406Z"
        },
        "id": "cv_1rFls_57Z",
        "outputId": "07200829-adff-4f1e-f369-a5f0da998c94"
      },
      "outputs": [
        {
          "data": {
            "text/plain": [
              "array([[6.38014896e-07, 5.74929995e-02, 9.42506362e-01]])"
            ]
          },
          "execution_count": 66,
          "metadata": {},
          "output_type": "execute_result"
        }
      ],
      "source": [
        "# 확률값 출력\n",
        "softmax_reg.predict_proba([[5, 2]])\n",
        "# 3번째가 94퍼\n"
      ]
    },
    {
      "cell_type": "markdown",
      "metadata": {
        "id": "-XJa7xI4_57Z"
      },
      "source": [
        "# 연습문제 해답"
      ]
    },
    {
      "cell_type": "markdown",
      "metadata": {
        "id": "LL-J2xjp_57Z"
      },
      "source": [
        "## 1. to 11."
      ]
    },
    {
      "cell_type": "markdown",
      "metadata": {
        "id": "ygJvCyF3_57Z"
      },
      "source": [
        "부록 A를 참고하세요."
      ]
    },
    {
      "cell_type": "markdown",
      "metadata": {
        "id": "t4qOyjfK_57Z"
      },
      "source": [
        "## 12. 조기 종료를 사용한 배치 경사 하강법으로 소프트맥스 회귀 구현하기\n",
        "(사이킷런을 사용하지 않고)"
      ]
    },
    {
      "cell_type": "markdown",
      "metadata": {
        "id": "EITmRdTu_57a"
      },
      "source": [
        "먼저 데이터를 로드합니다. 앞서 사용했던 Iris 데이터셋을 재사용하겠습니다."
      ]
    },
    {
      "cell_type": "code",
      "execution_count": null,
      "metadata": {
        "execution": {
          "iopub.execute_input": "2021-11-03T03:33:49.202622Z",
          "iopub.status.busy": "2021-11-03T03:33:49.201904Z",
          "iopub.status.idle": "2021-11-03T03:33:49.204262Z",
          "shell.execute_reply": "2021-11-03T03:33:49.203780Z"
        },
        "id": "dE-Ec-CC_57a"
      },
      "outputs": [],
      "source": [
        "X = iris[\"data\"][:, (2, 3)]  # 꽃잎 길이, 꽃잎 넓이\n",
        "y = iris[\"target\"]"
      ]
    },
    {
      "cell_type": "markdown",
      "metadata": {
        "id": "nXWs70Eu_57c"
      },
      "source": [
        "모든 샘플에 편향을 추가합니다 ($x_0 = 1$):"
      ]
    },
    {
      "cell_type": "code",
      "execution_count": null,
      "metadata": {
        "execution": {
          "iopub.execute_input": "2021-11-03T03:33:49.208489Z",
          "iopub.status.busy": "2021-11-03T03:33:49.207840Z",
          "iopub.status.idle": "2021-11-03T03:33:49.210366Z",
          "shell.execute_reply": "2021-11-03T03:33:49.209802Z"
        },
        "id": "FyEoHjjg_57c"
      },
      "outputs": [],
      "source": [
        "X_with_bias = np.c_[np.ones([len(X), 1]), X]"
      ]
    },
    {
      "cell_type": "markdown",
      "metadata": {
        "id": "vWovizFK_57c"
      },
      "source": [
        "결과를 일정하게 유지하기 위해 랜덤 시드를 지정합니다:"
      ]
    },
    {
      "cell_type": "code",
      "execution_count": null,
      "metadata": {
        "execution": {
          "iopub.execute_input": "2021-11-03T03:33:49.214034Z",
          "iopub.status.busy": "2021-11-03T03:33:49.213433Z",
          "iopub.status.idle": "2021-11-03T03:33:49.216697Z",
          "shell.execute_reply": "2021-11-03T03:33:49.217149Z"
        },
        "id": "ljrezsxd_57d"
      },
      "outputs": [],
      "source": [
        "np.random.seed(2042)"
      ]
    },
    {
      "cell_type": "markdown",
      "metadata": {
        "id": "L7etRR09_57d"
      },
      "source": [
        "데이터셋을 훈련 세트, 검증 세트, 테스트 세트로 나누는 가장 쉬운 방법은 사이킷런의 `train_test_split()` 함수를 사용하는 것입니다. 하지만 이 연습문제의 목적은 직접 만들어 보면서 알고리즘을 이해하는 것이므로 다음과 같이 수동으로 나누어 보겠습니다:"
      ]
    },
    {
      "cell_type": "code",
      "execution_count": null,
      "metadata": {
        "execution": {
          "iopub.execute_input": "2021-11-03T03:33:49.222970Z",
          "iopub.status.busy": "2021-11-03T03:33:49.222368Z",
          "iopub.status.idle": "2021-11-03T03:33:49.225650Z",
          "shell.execute_reply": "2021-11-03T03:33:49.226066Z"
        },
        "id": "MIN6SU5M_57d"
      },
      "outputs": [],
      "source": [
        "test_ratio = 0.2\n",
        "validation_ratio = 0.2\n",
        "total_size = len(X_with_bias)\n",
        "\n",
        "test_size = int(total_size * test_ratio)\n",
        "validation_size = int(total_size * validation_ratio)\n",
        "train_size = total_size - test_size - validation_size\n",
        "\n",
        "rnd_indices = np.random.permutation(total_size)\n",
        "\n",
        "X_train = X_with_bias[rnd_indices[:train_size]]\n",
        "y_train = y[rnd_indices[:train_size]]\n",
        "X_valid = X_with_bias[rnd_indices[train_size:-test_size]]\n",
        "y_valid = y[rnd_indices[train_size:-test_size]]\n",
        "X_test = X_with_bias[rnd_indices[-test_size:]]\n",
        "y_test = y[rnd_indices[-test_size:]]"
      ]
    },
    {
      "cell_type": "markdown",
      "metadata": {
        "id": "38bRDhAi_57d"
      },
      "source": [
        "타깃은 클래스 인덱스(0, 1 그리고 2)이지만 소프트맥스 회귀 모델을 훈련시키기 위해 필요한 것은 타깃 클래스의 확률입니다. 각 샘플에서 확률이 1인 타깃 클래스를 제외한 다른 클래스의 확률은 0입니다(다른 말로하면 주어진 샘플에 대한 클래스 확률이 원-핫 벡터입니다). 클래스 인덱스를 원-핫 벡터로 바꾸는 간단한 함수를 작성하겠습니다:"
      ]
    },
    {
      "cell_type": "code",
      "execution_count": null,
      "metadata": {
        "execution": {
          "iopub.execute_input": "2021-11-03T03:33:49.230912Z",
          "iopub.status.busy": "2021-11-03T03:33:49.229969Z",
          "iopub.status.idle": "2021-11-03T03:33:49.232482Z",
          "shell.execute_reply": "2021-11-03T03:33:49.231959Z"
        },
        "id": "j9_8awdZ_57d"
      },
      "outputs": [],
      "source": [
        "def to_one_hot(y):\n",
        "    n_classes = y.max() + 1\n",
        "    m = len(y)\n",
        "    Y_one_hot = np.zeros((m, n_classes))\n",
        "    Y_one_hot[np.arange(m), y] = 1\n",
        "    return Y_one_hot"
      ]
    },
    {
      "cell_type": "markdown",
      "metadata": {
        "id": "amsW6w86_57d"
      },
      "source": [
        "10개 샘플만 넣어 이 함수를 테스트해 보죠:"
      ]
    },
    {
      "cell_type": "code",
      "execution_count": null,
      "metadata": {
        "execution": {
          "iopub.execute_input": "2021-11-03T03:33:49.236807Z",
          "iopub.status.busy": "2021-11-03T03:33:49.236222Z",
          "iopub.status.idle": "2021-11-03T03:33:49.241787Z",
          "shell.execute_reply": "2021-11-03T03:33:49.241111Z"
        },
        "id": "MYfAgaUE_57d",
        "outputId": "ca15cb3f-b6a5-4f92-8cd9-d42bb81c8d2a"
      },
      "outputs": [
        {
          "data": {
            "text/plain": [
              "array([0, 1, 2, 1, 1, 0, 1, 1, 1, 0])"
            ]
          },
          "execution_count": 72,
          "metadata": {},
          "output_type": "execute_result"
        }
      ],
      "source": [
        "y_train[:10]"
      ]
    },
    {
      "cell_type": "code",
      "execution_count": null,
      "metadata": {
        "execution": {
          "iopub.execute_input": "2021-11-03T03:33:49.246817Z",
          "iopub.status.busy": "2021-11-03T03:33:49.246052Z",
          "iopub.status.idle": "2021-11-03T03:33:49.249275Z",
          "shell.execute_reply": "2021-11-03T03:33:49.249699Z"
        },
        "id": "701B6I87_57e",
        "outputId": "9eaa7042-8c3b-4b8a-9aec-2954b5c14bf4"
      },
      "outputs": [
        {
          "data": {
            "text/plain": [
              "array([[1., 0., 0.],\n",
              "       [0., 1., 0.],\n",
              "       [0., 0., 1.],\n",
              "       [0., 1., 0.],\n",
              "       [0., 1., 0.],\n",
              "       [1., 0., 0.],\n",
              "       [0., 1., 0.],\n",
              "       [0., 1., 0.],\n",
              "       [0., 1., 0.],\n",
              "       [1., 0., 0.]])"
            ]
          },
          "execution_count": 73,
          "metadata": {},
          "output_type": "execute_result"
        }
      ],
      "source": [
        "to_one_hot(y_train[:10])"
      ]
    },
    {
      "cell_type": "markdown",
      "metadata": {
        "id": "6H6CbIKm_57e"
      },
      "source": [
        "잘 되네요, 이제 훈련 세트와 테스트 세트의 타깃 클래스 확률을 담은 행렬을 만들겠습니다:"
      ]
    },
    {
      "cell_type": "code",
      "execution_count": null,
      "metadata": {
        "execution": {
          "iopub.execute_input": "2021-11-03T03:33:49.254097Z",
          "iopub.status.busy": "2021-11-03T03:33:49.253272Z",
          "iopub.status.idle": "2021-11-03T03:33:49.255221Z",
          "shell.execute_reply": "2021-11-03T03:33:49.255614Z"
        },
        "id": "AHSOijiY_57e"
      },
      "outputs": [],
      "source": [
        "Y_train_one_hot = to_one_hot(y_train)\n",
        "Y_valid_one_hot = to_one_hot(y_valid)\n",
        "Y_test_one_hot = to_one_hot(y_test)"
      ]
    },
    {
      "cell_type": "markdown",
      "metadata": {
        "id": "wgnBrfkr_57e"
      },
      "source": [
        "이제 소프트맥스 함수를 만듭니다. 다음 공식을 참고하세요:\n",
        "\n",
        "$\\sigma\\left(\\mathbf{s}(\\mathbf{x})\\right)_k = \\dfrac{\\exp\\left(s_k(\\mathbf{x})\\right)}{\\sum\\limits_{j=1}^{K}{\\exp\\left(s_j(\\mathbf{x})\\right)}}$"
      ]
    },
    {
      "cell_type": "code",
      "execution_count": null,
      "metadata": {
        "execution": {
          "iopub.execute_input": "2021-11-03T03:33:49.260095Z",
          "iopub.status.busy": "2021-11-03T03:33:49.259297Z",
          "iopub.status.idle": "2021-11-03T03:33:49.261903Z",
          "shell.execute_reply": "2021-11-03T03:33:49.261312Z"
        },
        "id": "5p29tebw_57e"
      },
      "outputs": [],
      "source": [
        "def softmax(logits):\n",
        "    exps = np.exp(logits)\n",
        "    exp_sums = np.sum(exps, axis=1, keepdims=True)\n",
        "    return exps / exp_sums"
      ]
    },
    {
      "cell_type": "markdown",
      "metadata": {
        "id": "2Nq2BTXm_57e"
      },
      "source": [
        "훈련을 위한 준비를 거의 마쳤습니다. 입력과 출력의 개수를 정의합니다:"
      ]
    },
    {
      "cell_type": "code",
      "execution_count": null,
      "metadata": {
        "execution": {
          "iopub.execute_input": "2021-11-03T03:33:49.266310Z",
          "iopub.status.busy": "2021-11-03T03:33:49.265426Z",
          "iopub.status.idle": "2021-11-03T03:33:49.267831Z",
          "shell.execute_reply": "2021-11-03T03:33:49.267338Z"
        },
        "id": "gBrpddpt_57e"
      },
      "outputs": [],
      "source": [
        "n_inputs = X_train.shape[1] # == 3 (특성 2개와 편향)\n",
        "n_outputs = len(np.unique(y_train))   # == 3 (3개의 붓꽃 클래스)"
      ]
    },
    {
      "cell_type": "markdown",
      "metadata": {
        "id": "WqdkP65X_57f"
      },
      "source": [
        "이제 좀 복잡한 훈련 파트입니다! 이론적으로는 간단합니다. 그냥 수학 공식을 파이썬 코드로 바꾸기만 하면 됩니다. 하지만 실제로는 꽤 까다로운 면이 있습니다. 특히, 항이나 인덱스의 순서가 뒤섞이기 쉽습니다. 제대로 작동할 것처럼 코드를 작성했더라도 실제 제대로 계산하지 못합니다. 확실하지 않을 때는 각 항의 크기를 기록하고 이에 상응하는 코드가 같은 크기를 만드는지 확인합니다. 각 항을 독립적으로 평가해서 출력해 보는 것도 좋습니다. 사실 사이킷런에 이미 잘 구현되어 있기 때문에 이렇게 할 필요는 없습니다. 하지만 직접 만들어 보면 어떻게 작동하는지 이해하는데 도움이 됩니다.\n",
        "\n",
        "구현할 공식은 비용함수입니다:\n",
        "\n",
        "$J(\\mathbf{\\Theta}) =\n",
        "- \\dfrac{1}{m}\\sum\\limits_{i=1}^{m}\\sum\\limits_{k=1}^{K}{y_k^{(i)}\\log\\left(\\hat{p}_k^{(i)}\\right)}$\n",
        "\n",
        "그리고 그레이디언트 공식입니다:\n",
        "\n",
        "$\\nabla_{\\mathbf{\\theta}^{(k)}} \\, J(\\mathbf{\\Theta}) = \\dfrac{1}{m} \\sum\\limits_{i=1}^{m}{ \\left ( \\hat{p}^{(i)}_k - y_k^{(i)} \\right ) \\mathbf{x}^{(i)}}$\n",
        "\n",
        "$\\hat{p}_k^{(i)} = 0$이면 $\\log\\left(\\hat{p}_k^{(i)}\\right)$를 계산할 수 없습니다. `nan` 값을 피하기 위해 $\\log\\left(\\hat{p}_k^{(i)}\\right)$에 아주 작은 값 $\\epsilon$을 추가하겠습니다."
      ]
    },
    {
      "cell_type": "code",
      "execution_count": null,
      "metadata": {
        "execution": {
          "iopub.execute_input": "2021-11-03T03:33:49.275255Z",
          "iopub.status.busy": "2021-11-03T03:33:49.273635Z",
          "iopub.status.idle": "2021-11-03T03:33:49.395059Z",
          "shell.execute_reply": "2021-11-03T03:33:49.394498Z"
        },
        "id": "gdE-L1ih_57f",
        "outputId": "34169573-16ce-414c-f1d9-91315858155d"
      },
      "outputs": [
        {
          "name": "stdout",
          "output_type": "stream",
          "text": [
            "0 5.446205811872683\n",
            "500 0.8350062641405651\n",
            "1000 0.6878801447192402\n",
            "1500 0.6012379137693314\n",
            "2000 0.5444496861981872\n",
            "2500 0.5038530181431525\n",
            "3000 0.47292289721922487\n",
            "3500 0.44824244188957774\n",
            "4000 0.4278651093928793\n",
            "4500 0.41060071429187134\n",
            "5000 0.3956780375390374\n"
          ]
        }
      ],
      "source": [
        "eta = 0.01\n",
        "n_iterations = 5001\n",
        "m = len(X_train)\n",
        "epsilon = 1e-7\n",
        "\n",
        "Theta = np.random.randn(n_inputs, n_outputs)\n",
        "\n",
        "for iteration in range(n_iterations):\n",
        "    logits = X_train.dot(Theta)\n",
        "    Y_proba = softmax(logits)\n",
        "    if iteration % 500 == 0:\n",
        "        loss = -np.mean(np.sum(Y_train_one_hot * np.log(Y_proba + epsilon), axis=1))\n",
        "        print(iteration, loss)\n",
        "    error = Y_proba - Y_train_one_hot\n",
        "    gradients = 1/m * X_train.T.dot(error)\n",
        "    Theta = Theta - eta * gradients"
      ]
    },
    {
      "cell_type": "markdown",
      "metadata": {
        "id": "Sqpy7m3S_57f"
      },
      "source": [
        "바로 이겁니다! 소프트맥스 모델을 훈련시켰습니다. 모델 파라미터를 확인해 보겠습니다:"
      ]
    },
    {
      "cell_type": "code",
      "execution_count": null,
      "metadata": {
        "execution": {
          "iopub.execute_input": "2021-11-03T03:33:49.400124Z",
          "iopub.status.busy": "2021-11-03T03:33:49.399354Z",
          "iopub.status.idle": "2021-11-03T03:33:49.402638Z",
          "shell.execute_reply": "2021-11-03T03:33:49.403057Z"
        },
        "id": "1xjOlTXZ_57f",
        "outputId": "dd9b740b-7420-48b7-8960-d81205f6e0a6"
      },
      "outputs": [
        {
          "data": {
            "text/plain": [
              "array([[ 3.32094157, -0.6501102 , -2.99979416],\n",
              "       [-1.1718465 ,  0.11706172,  0.10507543],\n",
              "       [-0.70224261, -0.09527802,  1.4786383 ]])"
            ]
          },
          "execution_count": 78,
          "metadata": {},
          "output_type": "execute_result"
        }
      ],
      "source": [
        "Theta"
      ]
    },
    {
      "cell_type": "markdown",
      "metadata": {
        "id": "eQSpeNKq_57f"
      },
      "source": [
        "검증 세트에 대한 예측과 정확도를 확인해 보겠습니다:"
      ]
    },
    {
      "cell_type": "code",
      "execution_count": null,
      "metadata": {
        "execution": {
          "iopub.execute_input": "2021-11-03T03:33:49.408869Z",
          "iopub.status.busy": "2021-11-03T03:33:49.408158Z",
          "iopub.status.idle": "2021-11-03T03:33:49.411263Z",
          "shell.execute_reply": "2021-11-03T03:33:49.411687Z"
        },
        "id": "ec-qvZYz_57f",
        "outputId": "d4f40ee2-e155-44f5-c9fc-48b324af791c"
      },
      "outputs": [
        {
          "data": {
            "text/plain": [
              "0.9666666666666667"
            ]
          },
          "execution_count": 79,
          "metadata": {},
          "output_type": "execute_result"
        }
      ],
      "source": [
        "logits = X_valid.dot(Theta)\n",
        "Y_proba = softmax(logits)\n",
        "y_predict = np.argmax(Y_proba, axis=1)\n",
        "\n",
        "accuracy_score = np.mean(y_predict == y_valid)\n",
        "accuracy_score"
      ]
    },
    {
      "cell_type": "markdown",
      "metadata": {
        "id": "sdGPu3tE_57g"
      },
      "source": [
        "와우, 이 모델이 매우 잘 작동하는 것 같습니다. 연습을 위해서 $\\ell_2$ 규제를 조금 추가해 보겠습니다. 다음 코드는 위와 거의 동일하지만 손실에 $\\ell_2$ 페널티가 추가되었고 그래디언트에도 항이 추가되었습니다(`Theta`의 첫 번째 원소는 편향이므로 규제하지 않습니다). 학습률 `eta`도 증가시켜 보겠습니다."
      ]
    },
    {
      "cell_type": "code",
      "execution_count": null,
      "metadata": {
        "execution": {
          "iopub.execute_input": "2021-11-03T03:33:49.482735Z",
          "iopub.status.busy": "2021-11-03T03:33:49.480998Z",
          "iopub.status.idle": "2021-11-03T03:33:49.739221Z",
          "shell.execute_reply": "2021-11-03T03:33:49.738667Z"
        },
        "id": "0dJTx1jX_57g",
        "outputId": "3f4119af-bf94-4575-d63f-cb4beff52ebd"
      },
      "outputs": [
        {
          "name": "stdout",
          "output_type": "stream",
          "text": [
            "0 6.629842469083912\n",
            "500 0.5339667976629505\n",
            "1000 0.503640075014894\n",
            "1500 0.4946891059460321\n",
            "2000 0.4912968418075477\n",
            "2500 0.48989924700933296\n",
            "3000 0.4892990598451198\n",
            "3500 0.489035124439786\n",
            "4000 0.4889173621830818\n",
            "4500 0.4888643337449303\n",
            "5000 0.48884031207388184\n"
          ]
        }
      ],
      "source": [
        "eta = 0.1\n",
        "n_iterations = 5001\n",
        "m = len(X_train)\n",
        "epsilon = 1e-7\n",
        "alpha = 0.1  # 규제 하이퍼파라미터\n",
        "\n",
        "Theta = np.random.randn(n_inputs, n_outputs)\n",
        "\n",
        "for iteration in range(n_iterations):\n",
        "    logits = X_train.dot(Theta)\n",
        "    Y_proba = softmax(logits)\n",
        "    if iteration % 500 == 0:\n",
        "        xentropy_loss = -np.mean(np.sum(Y_train_one_hot * np.log(Y_proba + epsilon), axis=1))\n",
        "        l2_loss = 1/2 * np.sum(np.square(Theta[1:]))\n",
        "        loss = xentropy_loss + alpha * l2_loss\n",
        "        print(iteration, loss)\n",
        "    error = Y_proba - Y_train_one_hot\n",
        "    gradients = 1/m * X_train.T.dot(error) + np.r_[np.zeros([1, n_outputs]), alpha * Theta[1:]]\n",
        "    Theta = Theta - eta * gradients"
      ]
    },
    {
      "cell_type": "markdown",
      "metadata": {
        "id": "8OSrRmbx_57g"
      },
      "source": [
        "추가된 $\\ell_2$ 페널티 때문에 이전보다 손실이 조금 커보이지만 더 잘 작동하는 모델이 되었을까요? 확인해 보죠:"
      ]
    },
    {
      "cell_type": "code",
      "execution_count": null,
      "metadata": {
        "execution": {
          "iopub.execute_input": "2021-11-03T03:33:49.745314Z",
          "iopub.status.busy": "2021-11-03T03:33:49.744498Z",
          "iopub.status.idle": "2021-11-03T03:33:49.747774Z",
          "shell.execute_reply": "2021-11-03T03:33:49.748211Z"
        },
        "id": "A0pJpuwI_57g",
        "outputId": "8310f2fc-e88c-41d2-e0d5-80729a7efbc6"
      },
      "outputs": [
        {
          "data": {
            "text/plain": [
              "1.0"
            ]
          },
          "execution_count": 81,
          "metadata": {},
          "output_type": "execute_result"
        }
      ],
      "source": [
        "logits = X_valid.dot(Theta)\n",
        "Y_proba = softmax(logits)\n",
        "y_predict = np.argmax(Y_proba, axis=1)\n",
        "\n",
        "accuracy_score = np.mean(y_predict == y_valid)\n",
        "accuracy_score"
      ]
    },
    {
      "cell_type": "markdown",
      "metadata": {
        "id": "106Cuvcm_57g"
      },
      "source": [
        "와우, 완벽한 정확도네요! 운이 좋은 검증 세트일지 모르지만 잘 된 것은 맞습니다."
      ]
    },
    {
      "cell_type": "markdown",
      "metadata": {
        "id": "SFBWN_jh_57g"
      },
      "source": [
        "이제 조기 종료를 추가해 보죠. 이렇게 하려면 매 반복에서 검증 세트에 대한 손실을 계산해서 오차가 증가하기 시작할 때 멈춰야 합니다."
      ]
    },
    {
      "cell_type": "code",
      "execution_count": null,
      "metadata": {
        "execution": {
          "iopub.execute_input": "2021-11-03T03:33:49.759386Z",
          "iopub.status.busy": "2021-11-03T03:33:49.756686Z",
          "iopub.status.idle": "2021-11-03T03:33:50.032008Z",
          "shell.execute_reply": "2021-11-03T03:33:50.031402Z"
        },
        "id": "YbAkciSE_57h",
        "outputId": "61c22a68-c59b-4aa8-f274-ceff24686dbe"
      },
      "outputs": [
        {
          "name": "stdout",
          "output_type": "stream",
          "text": [
            "0 4.7096017363419875\n",
            "500 0.5739711987633518\n",
            "1000 0.5435638529109127\n",
            "1500 0.5355752782580262\n",
            "2000 0.5331959249285544\n",
            "2500 0.5325946767399383\n",
            "2765 0.5325460966791898\n",
            "2766 0.5325460971327977 조기 종료!\n"
          ]
        }
      ],
      "source": [
        "eta = 0.1 \n",
        "n_iterations = 5001\n",
        "m = len(X_train)\n",
        "epsilon = 1e-7\n",
        "alpha = 0.1  # 규제 하이퍼파라미터\n",
        "best_loss = np.infty\n",
        "\n",
        "Theta = np.random.randn(n_inputs, n_outputs)\n",
        "\n",
        "for iteration in range(n_iterations):\n",
        "    logits = X_train.dot(Theta)\n",
        "    Y_proba = softmax(logits)\n",
        "    error = Y_proba - Y_train_one_hot\n",
        "    gradients = 1/m * X_train.T.dot(error) + np.r_[np.zeros([1, n_outputs]), alpha * Theta[1:]]\n",
        "    Theta = Theta - eta * gradients\n",
        "\n",
        "    logits = X_valid.dot(Theta)\n",
        "    Y_proba = softmax(logits)\n",
        "    xentropy_loss = -np.mean(np.sum(Y_valid_one_hot * np.log(Y_proba + epsilon), axis=1))\n",
        "    l2_loss = 1/2 * np.sum(np.square(Theta[1:]))\n",
        "    loss = xentropy_loss + alpha * l2_loss\n",
        "    if iteration % 500 == 0:\n",
        "        print(iteration, loss)\n",
        "    if loss < best_loss:\n",
        "        best_loss = loss\n",
        "    else:\n",
        "        print(iteration - 1, best_loss)\n",
        "        print(iteration, loss, \"조기 종료!\")\n",
        "        break"
      ]
    },
    {
      "cell_type": "code",
      "execution_count": null,
      "metadata": {
        "execution": {
          "iopub.execute_input": "2021-11-03T03:33:50.038521Z",
          "iopub.status.busy": "2021-11-03T03:33:50.037583Z",
          "iopub.status.idle": "2021-11-03T03:33:50.041091Z",
          "shell.execute_reply": "2021-11-03T03:33:50.041542Z"
        },
        "id": "r0qEUNfT_57h",
        "outputId": "5eba8b5b-6e12-49b1-c247-58e40acd2f9d"
      },
      "outputs": [
        {
          "data": {
            "text/plain": [
              "1.0"
            ]
          },
          "execution_count": 83,
          "metadata": {},
          "output_type": "execute_result"
        }
      ],
      "source": [
        "logits = X_valid.dot(Theta)\n",
        "Y_proba = softmax(logits)\n",
        "y_predict = np.argmax(Y_proba, axis=1)\n",
        "\n",
        "accuracy_score = np.mean(y_predict == y_valid)\n",
        "accuracy_score"
      ]
    },
    {
      "cell_type": "markdown",
      "metadata": {
        "id": "iheO5S6W_57h"
      },
      "source": [
        "여전히 완벽하지만 더 빠릅니다."
      ]
    },
    {
      "cell_type": "markdown",
      "metadata": {
        "id": "zPZgFGTb_57h"
      },
      "source": [
        "이제 전체 데이터셋에 대한 모델의 예측을 그래프로 나타내 보겠습니다:"
      ]
    },
    {
      "cell_type": "code",
      "execution_count": null,
      "metadata": {
        "execution": {
          "iopub.execute_input": "2021-11-03T03:33:50.051912Z",
          "iopub.status.busy": "2021-11-03T03:33:50.050947Z",
          "iopub.status.idle": "2021-11-03T03:33:50.439375Z",
          "shell.execute_reply": "2021-11-03T03:33:50.439850Z"
        },
        "id": "xfAveN9X_57h",
        "outputId": "2e188d9e-8c96-4a4d-e844-72de1645188c"
      },
      "outputs": [
        {
          "data": {
            "image/png": "[encoded data removed]",
            "text/plain": [
              "<Figure size 720x288 with 1 Axes>"
            ]
          },
          "metadata": {
            "needs_background": "light"
          },
          "output_type": "display_data"
        }
      ],
      "source": [
        "x0, x1 = np.meshgrid(\n",
        "        np.linspace(0, 8, 500).reshape(-1, 1),\n",
        "        np.linspace(0, 3.5, 200).reshape(-1, 1),\n",
        "    )\n",
        "X_new = np.c_[x0.ravel(), x1.ravel()]\n",
        "X_new_with_bias = np.c_[np.ones([len(X_new), 1]), X_new]\n",
        "\n",
        "logits = X_new_with_bias.dot(Theta)\n",
        "Y_proba = softmax(logits)\n",
        "y_predict = np.argmax(Y_proba, axis=1)\n",
        "\n",
        "zz1 = Y_proba[:, 1].reshape(x0.shape)\n",
        "zz = y_predict.reshape(x0.shape)\n",
        "\n",
        "plt.figure(figsize=(10, 4))\n",
        "plt.plot(X[y==2, 0], X[y==2, 1], \"g^\", label=\"Iris virginica\")\n",
        "plt.plot(X[y==1, 0], X[y==1, 1], \"bs\", label=\"Iris versicolor\")\n",
        "plt.plot(X[y==0, 0], X[y==0, 1], \"yo\", label=\"Iris setosa\")\n",
        "\n",
        "from matplotlib.colors import ListedColormap\n",
        "custom_cmap = ListedColormap(['#fafab0','#9898ff','#a0faa0'])\n",
        "\n",
        "plt.contourf(x0, x1, zz, cmap=custom_cmap)\n",
        "contour = plt.contour(x0, x1, zz1, cmap=plt.cm.brg)\n",
        "plt.clabel(contour, inline=1, fontsize=12)\n",
        "plt.xlabel(\"Petal length\", fontsize=14)\n",
        "plt.ylabel(\"Petal width\", fontsize=14)\n",
        "plt.legend(loc=\"upper left\", fontsize=14)\n",
        "plt.axis([0, 7, 0, 3.5])\n",
        "plt.show()"
      ]
    },
    {
      "cell_type": "markdown",
      "metadata": {
        "id": "v0mkNNBv_57h"
      },
      "source": [
        "이제 테스트 세트에 대한 모델의 최종 정확도를 측정해 보겠습니다:"
      ]
    },
    {
      "cell_type": "code",
      "execution_count": null,
      "metadata": {
        "execution": {
          "iopub.execute_input": "2021-11-03T03:33:50.446187Z",
          "iopub.status.busy": "2021-11-03T03:33:50.445308Z",
          "iopub.status.idle": "2021-11-03T03:33:50.448635Z",
          "shell.execute_reply": "2021-11-03T03:33:50.449053Z"
        },
        "id": "305BCmoR_57i",
        "outputId": "6cb79c58-6767-4e14-be00-0e0e2a260682"
      },
      "outputs": [
        {
          "data": {
            "text/plain": [
              "0.9333333333333333"
            ]
          },
          "execution_count": 85,
          "metadata": {},
          "output_type": "execute_result"
        }
      ],
      "source": [
        "logits = X_test.dot(Theta)\n",
        "Y_proba = softmax(logits)\n",
        "y_predict = np.argmax(Y_proba, axis=1)\n",
        "\n",
        "accuracy_score = np.mean(y_predict == y_test)\n",
        "accuracy_score"
      ]
    },
    {
      "cell_type": "markdown",
      "metadata": {
        "id": "zAwnzmy3_57i"
      },
      "source": [
        "완벽했던 최종 모델의 성능이 조금 떨어졌습니다. 이런 차이는 데이터셋이 작기 때문일 것입니다. 훈련 세트와 검증 세트, 테스트 세트를 어떻게 샘플링했는지에 따라 매우 다른 결과를 얻을 수 있습니다. 몇 번 랜덤 시드를 바꾸고 이 코드를 다시 실행해 보면 결과가 달라지는 것을 확인할 수 있습니다."
      ]
    }
  ],
  "metadata": {
    "colab": {
      "collapsed_sections": [
        "LL-J2xjp_57Z",
        "t4qOyjfK_57Z"
      ],
      "name": "04_training_linear_models.ipynb의 사본",
      "provenance": []
    },
    "kernelspec": {
      "display_name": "Python 3",
      "language": "python",
      "name": "python3"
    },
    "language_info": {
      "codemirror_mode": {
        "name": "ipython",
        "version": 3
      },
      "file_extension": ".py",
      "mimetype": "text/x-python",
      "name": "python",
      "nbconvert_exporter": "python",
      "pygments_lexer": "ipython3",
      "version": "3.7.11"
    },
    "nav_menu": {},
    "toc": {
      "navigate_menu": true,
      "number_sections": true,
      "sideBar": true,
      "threshold": 6,
      "toc_cell": false,
      "toc_section_display": "block",
      "toc_window_display": false
    }
  },
  "nbformat": 4,
  "nbformat_minor": 0
}

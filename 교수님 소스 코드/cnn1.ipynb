{
  "cells": [
    {
      "cell_type": "markdown",
      "metadata": {
        "id": "Q5GmEbUi6OWW"
      },
      "source": [
        "# 8장. 이미지를 분류합니다"
      ]
    },
    {
      "cell_type": "markdown",
      "metadata": {
        "id": "MIQLUnzA6OWY"
      },
      "source": [
        "이 노트북을 주피터 노트북 뷰어(nbviewer.jupyter.org)로 보거나 구글 코랩(colab.research.google.com)에서 실행할 수 있습니다.\n",
        "\n",
        "<table class=\"tfo-notebook-buttons\" align=\"left\">\n",
        "  <td>\n",
        "    <a target=\"_blank\" href=\"https://nbviewer.org/github/rickiepark/do-it-dl/blob/master/Ch08.ipynb\"><img src=\"https://jupyter.org/assets/share.png\" width=\"60\" />주피터 노트북 뷰어로 보기</a>\n",
        "  </td>\n",
        "  <td>\n",
        "    <a target=\"_blank\" href=\"https://colab.research.google.com/github/rickiepark/do-it-dl/blob/master/Ch08.ipynb\"><img src=\"https://www.tensorflow.org/images/colab_logo_32px.png\" />구글 코랩(Colab)에서 실행하기</a>\n",
        "  </td>\n",
        "</table>"
      ]
    },
    {
      "cell_type": "markdown",
      "metadata": {
        "id": "eChsadR86OWZ"
      },
      "source": [
        "이 노트북을 실행하려면 텐서플로 2.0.0-alpha0 버전 이상이 필요합니다."
      ]
    },
    {
      "cell_type": "markdown",
      "metadata": {
        "id": "ayt5wxyd6OWm"
      },
      "source": [
        "## 08-5 케라스로 합성곱 신경망 모델을 만듭니다."
      ]
    },
    {
      "cell_type": "code",
      "source": [
        "import tensorflow as tf\n",
        "import numpy as np"
      ],
      "metadata": {
        "id": "_eFhDa_R6rsC"
      },
      "execution_count": null,
      "outputs": []
    },
    {
      "cell_type": "code",
      "source": [
        "(x_train_all, y_train_all), (x_test, y_test) = tf.keras.datasets.fashion_mnist.load_data()"
      ],
      "metadata": {
        "id": "LxKcEbqG6mxy"
      },
      "execution_count": null,
      "outputs": []
    },
    {
      "cell_type": "code",
      "source": [
        "from sklearn.model_selection import train_test_split\n",
        "x_train, x_val, y_train, y_val = train_test_split(x_train_all, y_train_all, stratify=y_train_all, \n",
        "                                                  test_size=0.2, random_state=42)"
      ],
      "metadata": {
        "id": "v5EnttsB7UBv"
      },
      "execution_count": null,
      "outputs": []
    },
    {
      "cell_type": "code",
      "source": [
        "y_train_encoded = tf.keras.utils.to_categorical(y_train)\n",
        "y_val_encoded = tf.keras.utils.to_categorical(y_val)"
      ],
      "metadata": {
        "id": "jNVg43-17XuO"
      },
      "execution_count": null,
      "outputs": []
    },
    {
      "cell_type": "code",
      "source": [
        "x_train = x_train.reshape(-1, 28, 28, 1)\n",
        "x_val = x_val.reshape(-1, 28, 28, 1)"
      ],
      "metadata": {
        "id": "RFh5ambQ7amq"
      },
      "execution_count": null,
      "outputs": []
    },
    {
      "cell_type": "code",
      "source": [
        "x_train.shape"
      ],
      "metadata": {
        "colab": {
          "base_uri": "https://localhost:8080/"
        },
        "id": "6URhW5Xj7dE3",
        "outputId": "c3eee796-690e-412d-82e0-ff0d34fbb757"
      },
      "execution_count": null,
      "outputs": [
        {
          "output_type": "execute_result",
          "data": {
            "text/plain": [
              "(48000, 28, 28, 1)"
            ]
          },
          "metadata": {},
          "execution_count": 15
        }
      ]
    },
    {
      "cell_type": "code",
      "source": [
        "x_train = x_train / 255\n",
        "x_val = x_val / 255"
      ],
      "metadata": {
        "id": "P2tyZ7m87fgF"
      },
      "execution_count": null,
      "outputs": []
    },
    {
      "cell_type": "code",
      "execution_count": null,
      "metadata": {
        "id": "H3YNxuTm6OWm"
      },
      "outputs": [],
      "source": [
        "#Flastten : 케라스 API, 가중치 없고 펼치는 역할\n",
        "from tensorflow.keras.layers import Conv2D, MaxPooling2D, Flatten, Dense"
      ]
    },
    {
      "cell_type": "code",
      "execution_count": null,
      "metadata": {
        "id": "bGvfR1c86OWn"
      },
      "outputs": [],
      "source": [
        "conv1 = tf.keras.Sequential() # 시퀀셜 사용\n",
        "# 필터 10개\n",
        "# 입력 지정\n",
        "conv1.add(Conv2D(10, (3, 3), activation='relu', padding='same', input_shape=(28, 28, 1)))\n",
        "# 맥스풀링\n",
        "conv1.add(MaxPooling2D((2, 2)))\n",
        "conv1.add(Flatten())\n",
        "conv1.add(Dense(100, activation='relu'))\n",
        "# 출력층, 다중출력\n",
        "conv1.add(Dense(10, activation='softmax'))"
      ]
    },
    {
      "cell_type": "code",
      "execution_count": null,
      "metadata": {
        "colab": {
          "base_uri": "https://localhost:8080/"
        },
        "id": "xngFCMyp6OWn",
        "outputId": "b518887e-c2d5-49aa-e4a8-782e8c42ab77",
        "scrolled": true
      },
      "outputs": [
        {
          "output_type": "stream",
          "name": "stdout",
          "text": [
            "Model: \"sequential_1\"\n",
            "_________________________________________________________________\n",
            " Layer (type)                Output Shape              Param #   \n",
            "=================================================================\n",
            " conv2d_1 (Conv2D)           (None, 28, 28, 10)        100       \n",
            "                                                                 \n",
            " max_pooling2d_1 (MaxPooling  (None, 14, 14, 10)       0         \n",
            " 2D)                                                             \n",
            "                                                                 \n",
            " flatten_1 (Flatten)         (None, 1960)              0         \n",
            "                                                                 \n",
            " dense_2 (Dense)             (None, 100)               196100    \n",
            "                                                                 \n",
            " dense_3 (Dense)             (None, 10)                1010      \n",
            "                                                                 \n",
            "=================================================================\n",
            "Total params: 197,210\n",
            "Trainable params: 197,210\n",
            "Non-trainable params: 0\n",
            "_________________________________________________________________\n"
          ]
        }
      ],
      "source": [
        "conv1.summary()\n",
        "# 깊이 10\n",
        "# 합성곱층 가중치 100개\n",
        "# 필터하나당 10개 가중치 (3*3+1)\n"
      ]
    },
    {
      "cell_type": "code",
      "execution_count": null,
      "metadata": {
        "id": "2Mp-BDDL6OWn"
      },
      "outputs": [],
      "source": [
        "# 옵티마이저 : 아담\n",
        "\n",
        "conv1.compile(optimizer='adam', loss='categorical_crossentropy',\n",
        "              metrics=['accuracy'])"
      ]
    },
    {
      "cell_type": "code",
      "execution_count": null,
      "metadata": {
        "colab": {
          "base_uri": "https://localhost:8080/"
        },
        "id": "6NKXTSSi6OWn",
        "outputId": "64b80195-a9a2-4a82-ff6c-7a91816f6ef9"
      },
      "outputs": [
        {
          "output_type": "stream",
          "name": "stdout",
          "text": [
            "Epoch 1/20\n",
            "1500/1500 [==============================] - 8s 5ms/step - loss: 0.0368 - accuracy: 0.9872 - val_loss: 0.4109 - val_accuracy: 0.9143\n",
            "Epoch 2/20\n",
            "1500/1500 [==============================] - 8s 5ms/step - loss: 0.0339 - accuracy: 0.9885 - val_loss: 0.4205 - val_accuracy: 0.9146\n",
            "Epoch 3/20\n",
            "1500/1500 [==============================] - 8s 5ms/step - loss: 0.0279 - accuracy: 0.9905 - val_loss: 0.4365 - val_accuracy: 0.9156\n",
            "Epoch 4/20\n",
            "1500/1500 [==============================] - 11s 7ms/step - loss: 0.0288 - accuracy: 0.9899 - val_loss: 0.4665 - val_accuracy: 0.9172\n",
            "Epoch 5/20\n",
            "1500/1500 [==============================] - 12s 8ms/step - loss: 0.0246 - accuracy: 0.9911 - val_loss: 0.5082 - val_accuracy: 0.9113\n",
            "Epoch 6/20\n",
            "1500/1500 [==============================] - 7s 5ms/step - loss: 0.0247 - accuracy: 0.9914 - val_loss: 0.4922 - val_accuracy: 0.9134\n",
            "Epoch 7/20\n",
            "1500/1500 [==============================] - 8s 5ms/step - loss: 0.0236 - accuracy: 0.9917 - val_loss: 0.4998 - val_accuracy: 0.9167\n",
            "Epoch 8/20\n",
            "1500/1500 [==============================] - 7s 5ms/step - loss: 0.0228 - accuracy: 0.9918 - val_loss: 0.5519 - val_accuracy: 0.9143\n",
            "Epoch 9/20\n",
            "1500/1500 [==============================] - 7s 5ms/step - loss: 0.0211 - accuracy: 0.9922 - val_loss: 0.5405 - val_accuracy: 0.9106\n",
            "Epoch 10/20\n",
            "1500/1500 [==============================] - 7s 5ms/step - loss: 0.0174 - accuracy: 0.9943 - val_loss: 0.5391 - val_accuracy: 0.9139\n",
            "Epoch 11/20\n",
            "1500/1500 [==============================] - 8s 5ms/step - loss: 0.0190 - accuracy: 0.9935 - val_loss: 0.5711 - val_accuracy: 0.9113\n",
            "Epoch 12/20\n",
            "1500/1500 [==============================] - 8s 5ms/step - loss: 0.0185 - accuracy: 0.9935 - val_loss: 0.5828 - val_accuracy: 0.9132\n",
            "Epoch 13/20\n",
            "1500/1500 [==============================] - 8s 5ms/step - loss: 0.0172 - accuracy: 0.9943 - val_loss: 0.5877 - val_accuracy: 0.9161\n",
            "Epoch 14/20\n",
            "1500/1500 [==============================] - 8s 5ms/step - loss: 0.0180 - accuracy: 0.9938 - val_loss: 0.5973 - val_accuracy: 0.9127\n",
            "Epoch 15/20\n",
            "1500/1500 [==============================] - 7s 5ms/step - loss: 0.0161 - accuracy: 0.9945 - val_loss: 0.6163 - val_accuracy: 0.9122\n",
            "Epoch 16/20\n",
            "1500/1500 [==============================] - 8s 5ms/step - loss: 0.0150 - accuracy: 0.9948 - val_loss: 0.6274 - val_accuracy: 0.9145\n",
            "Epoch 17/20\n",
            "1500/1500 [==============================] - 8s 6ms/step - loss: 0.0154 - accuracy: 0.9946 - val_loss: 0.6791 - val_accuracy: 0.9105\n",
            "Epoch 18/20\n",
            "1500/1500 [==============================] - 8s 5ms/step - loss: 0.0118 - accuracy: 0.9959 - val_loss: 0.6463 - val_accuracy: 0.9103\n",
            "Epoch 19/20\n",
            "1500/1500 [==============================] - 8s 5ms/step - loss: 0.0165 - accuracy: 0.9944 - val_loss: 0.7284 - val_accuracy: 0.9059\n",
            "Epoch 20/20\n",
            "1500/1500 [==============================] - 8s 5ms/step - loss: 0.0137 - accuracy: 0.9953 - val_loss: 0.6613 - val_accuracy: 0.9122\n"
          ]
        }
      ],
      "source": [
        "# 훈련\n",
        "# y는 one-hot\n",
        "history = conv1.fit(x_train, y_train_encoded, epochs=20, \n",
        "                    validation_data=(x_val, y_val_encoded))"
      ]
    },
    {
      "cell_type": "code",
      "source": [
        "import matplotlib.pyplot as plt"
      ],
      "metadata": {
        "id": "Cqwb7MV58oHR"
      },
      "execution_count": null,
      "outputs": []
    },
    {
      "cell_type": "code",
      "execution_count": null,
      "metadata": {
        "colab": {
          "base_uri": "https://localhost:8080/",
          "height": 279
        },
        "id": "kMQsHGiy6OWn",
        "outputId": "35f89541-1d38-4306-9a38-cd71faf616db"
      },
      "outputs": [
        {
          "output_type": "display_data",
          "data": {
            "text/plain": [
              "<Figure size 432x288 with 1 Axes>"
            ],
            "image/png": "[encoded data removed]"
          },
          "metadata": {
            "needs_background": "light"
          }
        }
      ],
      "source": [
        "plt.plot(history.history['loss'])\n",
        "plt.plot(history.history['val_loss'])\n",
        "plt.ylabel('loss')\n",
        "plt.xlabel('epoch')\n",
        "plt.legend(['train_loss', 'val_loss'])\n",
        "plt.show()\n",
        "\n",
        "# 훈련손실 급격히 감소, 검증세트 손실 급격히 증가 : 과대적합"
      ]
    },
    {
      "cell_type": "code",
      "execution_count": null,
      "metadata": {
        "colab": {
          "base_uri": "https://localhost:8080/",
          "height": 283
        },
        "id": "40-oCtFP6OWn",
        "outputId": "19fc7f0f-ca54-4d25-b6b5-08655e08a5f5"
      },
      "outputs": [
        {
          "output_type": "display_data",
          "data": {
            "text/plain": [
              "<Figure size 432x288 with 1 Axes>"
            ],
            "image/png": "[encoded data removed]"
          },
          "metadata": {
            "needs_background": "light"
          }
        }
      ],
      "source": [
        "plt.plot(history.history['accuracy'])\n",
        "plt.plot(history.history['val_accuracy'])\n",
        "plt.ylabel('accuracy')\n",
        "plt.xlabel('epoch')\n",
        "plt.legend(['train_accuracy', 'val_accuracy'])\n",
        "plt.show()"
      ]
    },
    {
      "cell_type": "code",
      "execution_count": null,
      "metadata": {
        "id": "59yJsFvS6OWn"
      },
      "outputs": [],
      "source": [
        "loss, accuracy = conv1.evaluate(x_val, y_val_encoded, verbose=0)"
      ]
    },
    {
      "cell_type": "code",
      "execution_count": null,
      "metadata": {
        "colab": {
          "base_uri": "https://localhost:8080/"
        },
        "id": "2Xf6dRhF6OWo",
        "outputId": "3623a886-b500-44af-fd3a-38ed1746cc04"
      },
      "outputs": [
        {
          "output_type": "stream",
          "name": "stdout",
          "text": [
            "0.9121666550636292\n"
          ]
        }
      ],
      "source": [
        "print(accuracy)"
      ]
    },
    {
      "cell_type": "code",
      "execution_count": null,
      "metadata": {
        "id": "jYNO9PnB6OWo"
      },
      "outputs": [],
      "source": [
        "from tensorflow.keras.layers import Dropout"
      ]
    },
    {
      "cell_type": "code",
      "execution_count": null,
      "metadata": {
        "id": "iMGUZIjb6OWo"
      },
      "outputs": [],
      "source": [
        "# 드롭아웃 적용 : 과대 적합 방지\n",
        "conv2 = tf.keras.Sequential()\n",
        "conv2.add(Conv2D(10, (3, 3), activation='relu', padding='same', input_shape=(28, 28, 1)))\n",
        "conv2.add(MaxPooling2D((2, 2)))\n",
        "conv2.add(Flatten())\n",
        "# 0.5의 드롭 아웃\n",
        "conv2.add(Dropout(0.5))\n",
        "conv2.add(Dense(100, activation='relu'))\n",
        "conv2.add(Dense(10, activation='softmax'))"
      ]
    },
    {
      "cell_type": "code",
      "execution_count": null,
      "metadata": {
        "colab": {
          "base_uri": "https://localhost:8080/"
        },
        "id": "aVBRIZNz6OWo",
        "outputId": "ac94a5ad-b6f0-4582-8fc1-c2b7bb876873",
        "scrolled": true
      },
      "outputs": [
        {
          "output_type": "stream",
          "name": "stdout",
          "text": [
            "Model: \"sequential_2\"\n",
            "_________________________________________________________________\n",
            " Layer (type)                Output Shape              Param #   \n",
            "=================================================================\n",
            " conv2d_2 (Conv2D)           (None, 28, 28, 10)        100       \n",
            "                                                                 \n",
            " max_pooling2d_2 (MaxPooling  (None, 14, 14, 10)       0         \n",
            " 2D)                                                             \n",
            "                                                                 \n",
            " flatten_2 (Flatten)         (None, 1960)              0         \n",
            "                                                                 \n",
            " dropout (Dropout)           (None, 1960)              0         \n",
            "                                                                 \n",
            " dense_4 (Dense)             (None, 100)               196100    \n",
            "                                                                 \n",
            " dense_5 (Dense)             (None, 10)                1010      \n",
            "                                                                 \n",
            "=================================================================\n",
            "Total params: 197,210\n",
            "Trainable params: 197,210\n",
            "Non-trainable params: 0\n",
            "_________________________________________________________________\n"
          ]
        }
      ],
      "source": [
        "conv2.summary()"
      ]
    },
    {
      "cell_type": "code",
      "execution_count": null,
      "metadata": {
        "id": "HXzsdchY6OWo"
      },
      "outputs": [],
      "source": [
        "conv2.compile(optimizer='adam', loss='categorical_crossentropy',\n",
        "              metrics=['accuracy'])"
      ]
    },
    {
      "cell_type": "code",
      "execution_count": null,
      "metadata": {
        "colab": {
          "base_uri": "https://localhost:8080/"
        },
        "id": "SJ8qDlnv6OWo",
        "outputId": "a34dca38-a6e5-4349-f98b-f5a5558ce867"
      },
      "outputs": [
        {
          "output_type": "stream",
          "name": "stdout",
          "text": [
            "Epoch 1/20\n",
            "1500/1500 [==============================] - 9s 5ms/step - loss: 0.5117 - accuracy: 0.8176 - val_loss: 0.3646 - val_accuracy: 0.8720\n",
            "Epoch 2/20\n",
            "1500/1500 [==============================] - 9s 6ms/step - loss: 0.3758 - accuracy: 0.8642 - val_loss: 0.3180 - val_accuracy: 0.8814\n",
            "Epoch 3/20\n",
            "1500/1500 [==============================] - 8s 5ms/step - loss: 0.3331 - accuracy: 0.8786 - val_loss: 0.2828 - val_accuracy: 0.8952\n",
            "Epoch 4/20\n",
            "1500/1500 [==============================] - 8s 5ms/step - loss: 0.3076 - accuracy: 0.8881 - val_loss: 0.2687 - val_accuracy: 0.9022\n",
            "Epoch 5/20\n",
            "1500/1500 [==============================] - 8s 5ms/step - loss: 0.2849 - accuracy: 0.8939 - val_loss: 0.2613 - val_accuracy: 0.9047\n",
            "Epoch 6/20\n",
            "1500/1500 [==============================] - 8s 5ms/step - loss: 0.2692 - accuracy: 0.9000 - val_loss: 0.2505 - val_accuracy: 0.9083\n",
            "Epoch 7/20\n",
            "1500/1500 [==============================] - 8s 5ms/step - loss: 0.2564 - accuracy: 0.9039 - val_loss: 0.2527 - val_accuracy: 0.9077\n",
            "Epoch 8/20\n",
            "1500/1500 [==============================] - 8s 5ms/step - loss: 0.2461 - accuracy: 0.9082 - val_loss: 0.2424 - val_accuracy: 0.9129\n",
            "Epoch 9/20\n",
            "1500/1500 [==============================] - 8s 5ms/step - loss: 0.2356 - accuracy: 0.9119 - val_loss: 0.2384 - val_accuracy: 0.9166\n",
            "Epoch 10/20\n",
            "1500/1500 [==============================] - 8s 5ms/step - loss: 0.2257 - accuracy: 0.9146 - val_loss: 0.2386 - val_accuracy: 0.9129\n",
            "Epoch 11/20\n",
            "1500/1500 [==============================] - 8s 5ms/step - loss: 0.2198 - accuracy: 0.9162 - val_loss: 0.2332 - val_accuracy: 0.9185\n",
            "Epoch 12/20\n",
            "1500/1500 [==============================] - 8s 5ms/step - loss: 0.2120 - accuracy: 0.9203 - val_loss: 0.2377 - val_accuracy: 0.9146\n",
            "Epoch 13/20\n",
            "1500/1500 [==============================] - 8s 5ms/step - loss: 0.2032 - accuracy: 0.9242 - val_loss: 0.2365 - val_accuracy: 0.9156\n",
            "Epoch 14/20\n",
            "1500/1500 [==============================] - 8s 5ms/step - loss: 0.1986 - accuracy: 0.9263 - val_loss: 0.2306 - val_accuracy: 0.9207\n",
            "Epoch 15/20\n",
            "1500/1500 [==============================] - 8s 5ms/step - loss: 0.1947 - accuracy: 0.9268 - val_loss: 0.2289 - val_accuracy: 0.9224\n",
            "Epoch 16/20\n",
            "1500/1500 [==============================] - 8s 5ms/step - loss: 0.1889 - accuracy: 0.9287 - val_loss: 0.2343 - val_accuracy: 0.9191\n",
            "Epoch 17/20\n",
            "1500/1500 [==============================] - 8s 5ms/step - loss: 0.1866 - accuracy: 0.9295 - val_loss: 0.2248 - val_accuracy: 0.9224\n",
            "Epoch 18/20\n",
            "1500/1500 [==============================] - 8s 5ms/step - loss: 0.1841 - accuracy: 0.9310 - val_loss: 0.2315 - val_accuracy: 0.9197\n",
            "Epoch 19/20\n",
            "1500/1500 [==============================] - 8s 5ms/step - loss: 0.1800 - accuracy: 0.9328 - val_loss: 0.2343 - val_accuracy: 0.9211\n",
            "Epoch 20/20\n",
            "1500/1500 [==============================] - 8s 5ms/step - loss: 0.1757 - accuracy: 0.9341 - val_loss: 0.2323 - val_accuracy: 0.9212\n"
          ]
        }
      ],
      "source": [
        "history = conv2.fit(x_train, y_train_encoded, epochs=20, \n",
        "                    validation_data=(x_val, y_val_encoded))"
      ]
    },
    {
      "cell_type": "code",
      "execution_count": null,
      "metadata": {
        "colab": {
          "base_uri": "https://localhost:8080/",
          "height": 280
        },
        "id": "QomOeHer6OWo",
        "outputId": "5e1cf0a4-1772-43f9-f9f8-bca4ccf2e8c2"
      },
      "outputs": [
        {
          "data": {
            "image/png": "[encoded data removed]",
            "text/plain": [
              "<Figure size 432x288 with 1 Axes>"
            ]
          },
          "metadata": {
            "needs_background": "light",
            "tags": []
          },
          "output_type": "display_data"
        }
      ],
      "source": [
        "plt.plot(history.history['loss'])\n",
        "plt.plot(history.history['val_loss'])\n",
        "plt.ylabel('loss')\n",
        "plt.xlabel('epoch')\n",
        "plt.legend(['train_loss', 'val_loss'])\n",
        "plt.show()\n",
        "# 격차가 크지 않고 완만하게 감소"
      ]
    },
    {
      "cell_type": "code",
      "execution_count": null,
      "metadata": {
        "colab": {
          "base_uri": "https://localhost:8080/",
          "height": 280
        },
        "id": "LxbZ6Poa6OWp",
        "outputId": "da02dd8e-59fe-40f8-d4fe-b21e05dc66d6",
        "scrolled": true
      },
      "outputs": [
        {
          "data": {
            "image/png": "[encoded data removed]",
            "text/plain": [
              "<Figure size 432x288 with 1 Axes>"
            ]
          },
          "metadata": {
            "needs_background": "light",
            "tags": []
          },
          "output_type": "display_data"
        }
      ],
      "source": [
        "plt.plot(history.history['accuracy'])\n",
        "plt.plot(history.history['val_accuracy'])\n",
        "plt.ylabel('accuracy')\n",
        "plt.xlabel('epoch')\n",
        "plt.legend(['train_accuracy', 'val_accuracy'])\n",
        "plt.show()"
      ]
    },
    {
      "cell_type": "code",
      "execution_count": null,
      "metadata": {
        "id": "IzEjOY7I6OWp"
      },
      "outputs": [],
      "source": [
        "loss, accuracy = conv2.evaluate(x_val, y_val_encoded, verbose=0)"
      ]
    },
    {
      "cell_type": "code",
      "execution_count": null,
      "metadata": {
        "colab": {
          "base_uri": "https://localhost:8080/"
        },
        "id": "ecBCf5QD6OWp",
        "outputId": "02c5777c-126f-4ec2-f6b8-1cd4b5953b67"
      },
      "outputs": [
        {
          "name": "stdout",
          "output_type": "stream",
          "text": [
            "0.9206666946411133\n"
          ]
        }
      ],
      "source": [
        "print(accuracy)"
      ]
    }
  ],
  "metadata": {
    "accelerator": "GPU",
    "colab": {
      "name": "Ch08.ipynb의 사본의 사본",
      "provenance": [],
      "collapsed_sections": []
    },
    "kernelspec": {
      "display_name": "Python 3 (ipykernel)",
      "language": "python",
      "name": "python3"
    },
    "language_info": {
      "codemirror_mode": {
        "name": "ipython",
        "version": 3
      },
      "file_extension": ".py",
      "mimetype": "text/x-python",
      "name": "python",
      "nbconvert_exporter": "python",
      "pygments_lexer": "ipython3",
      "version": "3.7.3"
    }
  },
  "nbformat": 4,
  "nbformat_minor": 0
}
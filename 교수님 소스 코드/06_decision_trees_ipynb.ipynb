{
  "cells": [
    {
      "cell_type": "markdown",
      "metadata": {
        "id": "HA1VitBncLn_"
      },
      "source": [
        "**6장 – 결정 트리**"
      ]
    },
    {
      "cell_type": "markdown",
      "metadata": {
        "id": "6we5NhI3cLoE"
      },
      "source": [
        "_이 노트북은 6장에 있는 모든 샘플 코드와 연습문제 해답을 가지고 있습니다._"
      ]
    },
    {
      "cell_type": "markdown",
      "metadata": {
        "id": "sBWxxhTxcLoF"
      },
      "source": [
        "<table align=\"left\">\n",
        "  <td>\n",
        "    <a target=\"_blank\" href=\"https://colab.research.google.com/github/rickiepark/handson-ml2/blob/master/06_decision_trees.ipynb\"><img src=\"https://www.tensorflow.org/images/colab_logo_32px.png\" />구글 코랩에서 실행하기</a>\n",
        "  </td>\n",
        "</table>"
      ]
    },
    {
      "cell_type": "markdown",
      "metadata": {
        "id": "G78jbShvcLoG"
      },
      "source": [
        "# 설정"
      ]
    },
    {
      "cell_type": "markdown",
      "metadata": {
        "id": "DcomeJCVcLoG"
      },
      "source": [
        "먼저 몇 개의 모듈을 임포트합니다. 맷플롯립 그래프를 인라인으로 출력하도록 만들고 그림을 저장하는 함수를 준비합니다. 또한 파이썬 버전이 3.5 이상인지 확인합니다(파이썬 2.x에서도 동작하지만 곧 지원이 중단되므로 파이썬 3을 사용하는 것이 좋습니다). 사이킷런 버전이 0.20 이상인지도 확인합니다."
      ]
    },
    {
      "cell_type": "code",
      "execution_count": 12,
      "metadata": {
        "execution": {
          "iopub.execute_input": "2021-10-23T12:53:07.215807Z",
          "iopub.status.busy": "2021-10-23T12:53:07.214689Z",
          "iopub.status.idle": "2021-10-23T12:53:08.708427Z",
          "shell.execute_reply": "2021-10-23T12:53:08.709400Z"
        },
        "id": "JWh3fIX0cLoG"
      },
      "outputs": [],
      "source": [
        "# 파이썬 ≥3.5 필수\n",
        "import sys\n",
        "assert sys.version_info >= (3, 5)\n",
        "\n",
        "# 사이킷런 ≥0.20 필수\n",
        "import sklearn\n",
        "assert sklearn.__version__ >= \"0.20\"\n",
        "\n",
        "# 공통 모듈 임포트\n",
        "import numpy as np\n",
        "import os\n",
        "\n",
        "# 노트북 실행 결과를 동일하게 유지하기 위해\n",
        "np.random.seed(42)\n",
        "\n",
        "# 깔끔한 그래프 출력을 위해\n",
        "%matplotlib inline\n",
        "import matplotlib as mpl\n",
        "import matplotlib.pyplot as plt\n",
        "mpl.rc('axes', labelsize=14)\n",
        "mpl.rc('xtick', labelsize=12)\n",
        "mpl.rc('ytick', labelsize=12)\n",
        "\n",
        "# 그림을 저장할 위치\n",
        "PROJECT_ROOT_DIR = \".\"\n",
        "CHAPTER_ID = \"decision_trees\"\n",
        "IMAGES_PATH = os.path.join(PROJECT_ROOT_DIR, \"images\", CHAPTER_ID)\n",
        "os.makedirs(IMAGES_PATH, exist_ok=True)\n",
        "\n",
        "def save_fig(fig_id, tight_layout=True, fig_extension=\"png\", resolution=300):\n",
        "    path = os.path.join(IMAGES_PATH, fig_id + \".\" + fig_extension)\n",
        "    print(\"그림 저장:\", fig_id)\n",
        "    if tight_layout:\n",
        "        plt.tight_layout()\n",
        "    plt.savefig(path, format=fig_extension, dpi=resolution)"
      ]
    },
    {
      "cell_type": "markdown",
      "metadata": {
        "id": "UMVrD8TccLoI"
      },
      "source": [
        "# 결정 트리 학습과 시각화"
      ]
    },
    {
      "cell_type": "code",
      "execution_count": 13,
      "metadata": {
        "execution": {
          "iopub.execute_input": "2021-10-23T12:53:08.716962Z",
          "iopub.status.busy": "2021-10-23T12:53:08.715975Z",
          "iopub.status.idle": "2021-10-23T12:53:08.967541Z",
          "shell.execute_reply": "2021-10-23T12:53:08.966581Z"
        },
        "id": "-yi-GMY6cLoJ",
        "outputId": "36111f12-4112-499a-a30b-91c2c08123f0",
        "colab": {
          "base_uri": "https://localhost:8080/"
        }
      },
      "outputs": [
        {
          "output_type": "execute_result",
          "data": {
            "text/plain": [
              "DecisionTreeClassifier(criterion='entropy', random_state=42)"
            ]
          },
          "metadata": {},
          "execution_count": 13
        }
      ],
      "source": [
        "# 결정트리 회귀 분류 모두에 사용\n",
        "\n",
        "from sklearn.datasets import load_iris\n",
        "from sklearn.tree import DecisionTreeClassifier\n",
        "\n",
        "# 붓꽃 데이터 로드\n",
        "\n",
        "iris = load_iris()\n",
        "X = iris.data[:, 2:] # 꽃잎 길이와 너비, 2차원으로 그려보기위해\n",
        "y = iris.target\n",
        "\n",
        "# tree_clf = DecisionTreeClassifier(max_depth=2, random_state=42) # 트리의 깊이를 2\n",
        "# criterion='entropy' 'gini'(기본)\n",
        "tree_clf = DecisionTreeClassifier(criterion='entropy', random_state=42) # 트리의 깊이를 지정하지 않고\n",
        "tree_clf.fit(X, y)"
      ]
    },
    {
      "cell_type": "markdown",
      "metadata": {
        "id": "FLwsaRBWcLoL"
      },
      "source": [
        "**<그림 6-1. 붓꽃 결정 트리> 생성 코드**"
      ]
    },
    {
      "cell_type": "code",
      "execution_count": 14,
      "metadata": {
        "execution": {
          "iopub.execute_input": "2021-10-23T12:53:08.975823Z",
          "iopub.status.busy": "2021-10-23T12:53:08.974778Z",
          "iopub.status.idle": "2021-10-23T12:53:09.073431Z",
          "shell.execute_reply": "2021-10-23T12:53:09.072533Z"
        },
        "id": "krqv_3PFcLoM",
        "outputId": "8f7afc83-212c-4fdc-cc80-076a8412f67b",
        "colab": {
          "base_uri": "https://localhost:8080/",
          "height": 914
        }
      },
      "outputs": [
        {
          "output_type": "execute_result",
          "data": {
            "text/plain": [
              "<graphviz.files.Source at 0x7faa11d5e090>"
            ],
            "image/svg+xml": "<?xml version=\"1.0\" encoding=\"UTF-8\" standalone=\"no\"?>\n<!DOCTYPE svg PUBLIC \"-//W3C//DTD SVG 1.1//EN\"\n \"http://www.w3.org/Graphics/SVG/1.1/DTD/svg11.dtd\">\n<!-- Generated by graphviz version 2.40.1 (20161225.0304)\n -->\n<!-- Title: Tree Pages: 1 -->\n<svg width=\"768pt\" height=\"671pt\"\n viewBox=\"0.00 0.00 767.50 671.00\" xmlns=\"http://www.w3.org/2000/svg\" xmlns:xlink=\"http://www.w3.org/1999/xlink\">\n<g id=\"graph0\" class=\"graph\" transform=\"scale(1 1) rotate(0) translate(4 667)\">\n<title>Tree</title>\n<polygon fill=\"#ffffff\" stroke=\"transparent\" points=\"-4,4 -4,-667 763.5,-667 763.5,4 -4,4\"/>\n<!-- 0 -->\n<g id=\"node1\" class=\"node\">\n<title>0</title>\n<path fill=\"#ffffff\" stroke=\"#000000\" d=\"M463,-663C463,-663 311,-663 311,-663 305,-663 299,-657 299,-651 299,-651 299,-592 299,-592 299,-586 305,-580 311,-580 311,-580 463,-580 463,-580 469,-580 475,-586 475,-592 475,-592 475,-651 475,-651 475,-657 469,-663 463,-663\"/>\n<text text-anchor=\"middle\" x=\"387\" y=\"-647.8\" font-family=\"Helvetica,sans-Serif\" font-size=\"14.00\" fill=\"#000000\">petal length (cm) &lt;= 2.45</text>\n<text text-anchor=\"middle\" x=\"387\" y=\"-632.8\" font-family=\"Helvetica,sans-Serif\" font-size=\"14.00\" fill=\"#000000\">entropy = 1.585</text>\n<text text-anchor=\"middle\" x=\"387\" y=\"-617.8\" font-family=\"Helvetica,sans-Serif\" font-size=\"14.00\" fill=\"#000000\">samples = 150</text>\n<text text-anchor=\"middle\" x=\"387\" y=\"-602.8\" font-family=\"Helvetica,sans-Serif\" font-size=\"14.00\" fill=\"#000000\">value = [50, 50, 50]</text>\n<text text-anchor=\"middle\" x=\"387\" y=\"-587.8\" font-family=\"Helvetica,sans-Serif\" font-size=\"14.00\" fill=\"#000000\">class = setosa</text>\n</g>\n<!-- 1 -->\n<g id=\"node2\" class=\"node\">\n<title>1</title>\n<path fill=\"#e58139\" stroke=\"#000000\" d=\"M354.5,-536.5C354.5,-536.5 255.5,-536.5 255.5,-536.5 249.5,-536.5 243.5,-530.5 243.5,-524.5 243.5,-524.5 243.5,-480.5 243.5,-480.5 243.5,-474.5 249.5,-468.5 255.5,-468.5 255.5,-468.5 354.5,-468.5 354.5,-468.5 360.5,-468.5 366.5,-474.5 366.5,-480.5 366.5,-480.5 366.5,-524.5 366.5,-524.5 366.5,-530.5 360.5,-536.5 354.5,-536.5\"/>\n<text text-anchor=\"middle\" x=\"305\" y=\"-521.3\" font-family=\"Helvetica,sans-Serif\" font-size=\"14.00\" fill=\"#000000\">entropy = 0.0</text>\n<text text-anchor=\"middle\" x=\"305\" y=\"-506.3\" font-family=\"Helvetica,sans-Serif\" font-size=\"14.00\" fill=\"#000000\">samples = 50</text>\n<text text-anchor=\"middle\" x=\"305\" y=\"-491.3\" font-family=\"Helvetica,sans-Serif\" font-size=\"14.00\" fill=\"#000000\">value = [50, 0, 0]</text>\n<text text-anchor=\"middle\" x=\"305\" y=\"-476.3\" font-family=\"Helvetica,sans-Serif\" font-size=\"14.00\" fill=\"#000000\">class = setosa</text>\n</g>\n<!-- 0&#45;&gt;1 -->\n<g id=\"edge1\" class=\"edge\">\n<title>0&#45;&gt;1</title>\n<path fill=\"none\" stroke=\"#000000\" d=\"M358.3204,-579.8796C350.5917,-568.6636 342.2191,-556.5131 334.4492,-545.2372\"/>\n<polygon fill=\"#000000\" stroke=\"#000000\" points=\"337.2018,-543.0634 328.6456,-536.8149 331.4377,-547.0353 337.2018,-543.0634\"/>\n<text text-anchor=\"middle\" x=\"324.1196\" y=\"-557.7018\" font-family=\"Helvetica,sans-Serif\" font-size=\"14.00\" fill=\"#000000\">True</text>\n</g>\n<!-- 2 -->\n<g id=\"node3\" class=\"node\">\n<title>2</title>\n<path fill=\"#ffffff\" stroke=\"#000000\" d=\"M543,-544C543,-544 397,-544 397,-544 391,-544 385,-538 385,-532 385,-532 385,-473 385,-473 385,-467 391,-461 397,-461 397,-461 543,-461 543,-461 549,-461 555,-467 555,-473 555,-473 555,-532 555,-532 555,-538 549,-544 543,-544\"/>\n<text text-anchor=\"middle\" x=\"470\" y=\"-528.8\" font-family=\"Helvetica,sans-Serif\" font-size=\"14.00\" fill=\"#000000\">petal width (cm) &lt;= 1.75</text>\n<text text-anchor=\"middle\" x=\"470\" y=\"-513.8\" font-family=\"Helvetica,sans-Serif\" font-size=\"14.00\" fill=\"#000000\">entropy = 1.0</text>\n<text text-anchor=\"middle\" x=\"470\" y=\"-498.8\" font-family=\"Helvetica,sans-Serif\" font-size=\"14.00\" fill=\"#000000\">samples = 100</text>\n<text text-anchor=\"middle\" x=\"470\" y=\"-483.8\" font-family=\"Helvetica,sans-Serif\" font-size=\"14.00\" fill=\"#000000\">value = [0, 50, 50]</text>\n<text text-anchor=\"middle\" x=\"470\" y=\"-468.8\" font-family=\"Helvetica,sans-Serif\" font-size=\"14.00\" fill=\"#000000\">class = versicolor</text>\n</g>\n<!-- 0&#45;&gt;2 -->\n<g id=\"edge2\" class=\"edge\">\n<title>0&#45;&gt;2</title>\n<path fill=\"none\" stroke=\"#000000\" d=\"M416.0294,-579.8796C422.1855,-571.0534 428.7451,-561.6485 435.0936,-552.5466\"/>\n<polygon fill=\"#000000\" stroke=\"#000000\" points=\"437.9967,-554.5024 440.8467,-544.2981 432.2552,-550.4978 437.9967,-554.5024\"/>\n<text text-anchor=\"middle\" x=\"445.2331\" y=\"-565.2103\" font-family=\"Helvetica,sans-Serif\" font-size=\"14.00\" fill=\"#000000\">False</text>\n</g>\n<!-- 3 -->\n<g id=\"node4\" class=\"node\">\n<title>3</title>\n<path fill=\"#4de88e\" stroke=\"#000000\" d=\"M449,-425C449,-425 297,-425 297,-425 291,-425 285,-419 285,-413 285,-413 285,-354 285,-354 285,-348 291,-342 297,-342 297,-342 449,-342 449,-342 455,-342 461,-348 461,-354 461,-354 461,-413 461,-413 461,-419 455,-425 449,-425\"/>\n<text text-anchor=\"middle\" x=\"373\" y=\"-409.8\" font-family=\"Helvetica,sans-Serif\" font-size=\"14.00\" fill=\"#000000\">petal length (cm) &lt;= 4.95</text>\n<text text-anchor=\"middle\" x=\"373\" y=\"-394.8\" font-family=\"Helvetica,sans-Serif\" font-size=\"14.00\" fill=\"#000000\">entropy = 0.445</text>\n<text text-anchor=\"middle\" x=\"373\" y=\"-379.8\" font-family=\"Helvetica,sans-Serif\" font-size=\"14.00\" fill=\"#000000\">samples = 54</text>\n<text text-anchor=\"middle\" x=\"373\" y=\"-364.8\" font-family=\"Helvetica,sans-Serif\" font-size=\"14.00\" fill=\"#000000\">value = [0, 49, 5]</text>\n<text text-anchor=\"middle\" x=\"373\" y=\"-349.8\" font-family=\"Helvetica,sans-Serif\" font-size=\"14.00\" fill=\"#000000\">class = versicolor</text>\n</g>\n<!-- 2&#45;&gt;3 -->\n<g id=\"edge3\" class=\"edge\">\n<title>2&#45;&gt;3</title>\n<path fill=\"none\" stroke=\"#000000\" d=\"M436.0741,-460.8796C428.8062,-451.9633 421.057,-442.4565 413.5672,-433.268\"/>\n<polygon fill=\"#000000\" stroke=\"#000000\" points=\"416.1018,-430.8379 407.0707,-425.2981 410.676,-435.2606 416.1018,-430.8379\"/>\n</g>\n<!-- 12 -->\n<g id=\"node13\" class=\"node\">\n<title>12</title>\n<path fill=\"#843de6\" stroke=\"#000000\" d=\"M643,-425C643,-425 491,-425 491,-425 485,-425 479,-419 479,-413 479,-413 479,-354 479,-354 479,-348 485,-342 491,-342 491,-342 643,-342 643,-342 649,-342 655,-348 655,-354 655,-354 655,-413 655,-413 655,-419 649,-425 643,-425\"/>\n<text text-anchor=\"middle\" x=\"567\" y=\"-409.8\" font-family=\"Helvetica,sans-Serif\" font-size=\"14.00\" fill=\"#000000\">petal length (cm) &lt;= 4.85</text>\n<text text-anchor=\"middle\" x=\"567\" y=\"-394.8\" font-family=\"Helvetica,sans-Serif\" font-size=\"14.00\" fill=\"#000000\">entropy = 0.151</text>\n<text text-anchor=\"middle\" x=\"567\" y=\"-379.8\" font-family=\"Helvetica,sans-Serif\" font-size=\"14.00\" fill=\"#000000\">samples = 46</text>\n<text text-anchor=\"middle\" x=\"567\" y=\"-364.8\" font-family=\"Helvetica,sans-Serif\" font-size=\"14.00\" fill=\"#000000\">value = [0, 1, 45]</text>\n<text text-anchor=\"middle\" x=\"567\" y=\"-349.8\" font-family=\"Helvetica,sans-Serif\" font-size=\"14.00\" fill=\"#000000\">class = virginica</text>\n</g>\n<!-- 2&#45;&gt;12 -->\n<g id=\"edge12\" class=\"edge\">\n<title>2&#45;&gt;12</title>\n<path fill=\"none\" stroke=\"#000000\" d=\"M503.9259,-460.8796C511.1938,-451.9633 518.943,-442.4565 526.4328,-433.268\"/>\n<polygon fill=\"#000000\" stroke=\"#000000\" points=\"529.324,-435.2606 532.9293,-425.2981 523.8982,-430.8379 529.324,-435.2606\"/>\n</g>\n<!-- 4 -->\n<g id=\"node5\" class=\"node\">\n<title>4</title>\n<path fill=\"#3de684\" stroke=\"#000000\" d=\"M266,-306C266,-306 120,-306 120,-306 114,-306 108,-300 108,-294 108,-294 108,-235 108,-235 108,-229 114,-223 120,-223 120,-223 266,-223 266,-223 272,-223 278,-229 278,-235 278,-235 278,-294 278,-294 278,-300 272,-306 266,-306\"/>\n<text text-anchor=\"middle\" x=\"193\" y=\"-290.8\" font-family=\"Helvetica,sans-Serif\" font-size=\"14.00\" fill=\"#000000\">petal width (cm) &lt;= 1.65</text>\n<text text-anchor=\"middle\" x=\"193\" y=\"-275.8\" font-family=\"Helvetica,sans-Serif\" font-size=\"14.00\" fill=\"#000000\">entropy = 0.146</text>\n<text text-anchor=\"middle\" x=\"193\" y=\"-260.8\" font-family=\"Helvetica,sans-Serif\" font-size=\"14.00\" fill=\"#000000\">samples = 48</text>\n<text text-anchor=\"middle\" x=\"193\" y=\"-245.8\" font-family=\"Helvetica,sans-Serif\" font-size=\"14.00\" fill=\"#000000\">value = [0, 47, 1]</text>\n<text text-anchor=\"middle\" x=\"193\" y=\"-230.8\" font-family=\"Helvetica,sans-Serif\" font-size=\"14.00\" fill=\"#000000\">class = versicolor</text>\n</g>\n<!-- 3&#45;&gt;4 -->\n<g id=\"edge4\" class=\"edge\">\n<title>3&#45;&gt;4</title>\n<path fill=\"none\" stroke=\"#000000\" d=\"M310.0447,-341.8796C295.3834,-332.1868 279.6664,-321.7961 264.6599,-311.8752\"/>\n<polygon fill=\"#000000\" stroke=\"#000000\" points=\"266.1918,-308.6922 255.9197,-306.0969 262.3313,-314.5315 266.1918,-308.6922\"/>\n</g>\n<!-- 7 -->\n<g id=\"node8\" class=\"node\">\n<title>7</title>\n<path fill=\"#c09cf2\" stroke=\"#000000\" d=\"M454,-306C454,-306 308,-306 308,-306 302,-306 296,-300 296,-294 296,-294 296,-235 296,-235 296,-229 302,-223 308,-223 308,-223 454,-223 454,-223 460,-223 466,-229 466,-235 466,-235 466,-294 466,-294 466,-300 460,-306 454,-306\"/>\n<text text-anchor=\"middle\" x=\"381\" y=\"-290.8\" font-family=\"Helvetica,sans-Serif\" font-size=\"14.00\" fill=\"#000000\">petal width (cm) &lt;= 1.55</text>\n<text text-anchor=\"middle\" x=\"381\" y=\"-275.8\" font-family=\"Helvetica,sans-Serif\" font-size=\"14.00\" fill=\"#000000\">entropy = 0.918</text>\n<text text-anchor=\"middle\" x=\"381\" y=\"-260.8\" font-family=\"Helvetica,sans-Serif\" font-size=\"14.00\" fill=\"#000000\">samples = 6</text>\n<text text-anchor=\"middle\" x=\"381\" y=\"-245.8\" font-family=\"Helvetica,sans-Serif\" font-size=\"14.00\" fill=\"#000000\">value = [0, 2, 4]</text>\n<text text-anchor=\"middle\" x=\"381\" y=\"-230.8\" font-family=\"Helvetica,sans-Serif\" font-size=\"14.00\" fill=\"#000000\">class = virginica</text>\n</g>\n<!-- 3&#45;&gt;7 -->\n<g id=\"edge7\" class=\"edge\">\n<title>3&#45;&gt;7</title>\n<path fill=\"none\" stroke=\"#000000\" d=\"M375.798,-341.8796C376.349,-333.6838 376.9335,-324.9891 377.5041,-316.5013\"/>\n<polygon fill=\"#000000\" stroke=\"#000000\" points=\"381.0113,-316.5103 378.19,-306.2981 374.0271,-316.0408 381.0113,-316.5103\"/>\n</g>\n<!-- 5 -->\n<g id=\"node6\" class=\"node\">\n<title>5</title>\n<path fill=\"#39e581\" stroke=\"#000000\" d=\"M116,-179.5C116,-179.5 12,-179.5 12,-179.5 6,-179.5 0,-173.5 0,-167.5 0,-167.5 0,-123.5 0,-123.5 0,-117.5 6,-111.5 12,-111.5 12,-111.5 116,-111.5 116,-111.5 122,-111.5 128,-117.5 128,-123.5 128,-123.5 128,-167.5 128,-167.5 128,-173.5 122,-179.5 116,-179.5\"/>\n<text text-anchor=\"middle\" x=\"64\" y=\"-164.3\" font-family=\"Helvetica,sans-Serif\" font-size=\"14.00\" fill=\"#000000\">entropy = 0.0</text>\n<text text-anchor=\"middle\" x=\"64\" y=\"-149.3\" font-family=\"Helvetica,sans-Serif\" font-size=\"14.00\" fill=\"#000000\">samples = 47</text>\n<text text-anchor=\"middle\" x=\"64\" y=\"-134.3\" font-family=\"Helvetica,sans-Serif\" font-size=\"14.00\" fill=\"#000000\">value = [0, 47, 0]</text>\n<text text-anchor=\"middle\" x=\"64\" y=\"-119.3\" font-family=\"Helvetica,sans-Serif\" font-size=\"14.00\" fill=\"#000000\">class = versicolor</text>\n</g>\n<!-- 4&#45;&gt;5 -->\n<g id=\"edge5\" class=\"edge\">\n<title>4&#45;&gt;5</title>\n<path fill=\"none\" stroke=\"#000000\" d=\"M147.8821,-222.8796C135.2467,-211.2237 121.5174,-198.5587 108.895,-186.9148\"/>\n<polygon fill=\"#000000\" stroke=\"#000000\" points=\"110.922,-184.0228 101.1985,-179.8149 106.1756,-189.168 110.922,-184.0228\"/>\n</g>\n<!-- 6 -->\n<g id=\"node7\" class=\"node\">\n<title>6</title>\n<path fill=\"#8139e5\" stroke=\"#000000\" d=\"M253.5,-179.5C253.5,-179.5 158.5,-179.5 158.5,-179.5 152.5,-179.5 146.5,-173.5 146.5,-167.5 146.5,-167.5 146.5,-123.5 146.5,-123.5 146.5,-117.5 152.5,-111.5 158.5,-111.5 158.5,-111.5 253.5,-111.5 253.5,-111.5 259.5,-111.5 265.5,-117.5 265.5,-123.5 265.5,-123.5 265.5,-167.5 265.5,-167.5 265.5,-173.5 259.5,-179.5 253.5,-179.5\"/>\n<text text-anchor=\"middle\" x=\"206\" y=\"-164.3\" font-family=\"Helvetica,sans-Serif\" font-size=\"14.00\" fill=\"#000000\">entropy = 0.0</text>\n<text text-anchor=\"middle\" x=\"206\" y=\"-149.3\" font-family=\"Helvetica,sans-Serif\" font-size=\"14.00\" fill=\"#000000\">samples = 1</text>\n<text text-anchor=\"middle\" x=\"206\" y=\"-134.3\" font-family=\"Helvetica,sans-Serif\" font-size=\"14.00\" fill=\"#000000\">value = [0, 0, 1]</text>\n<text text-anchor=\"middle\" x=\"206\" y=\"-119.3\" font-family=\"Helvetica,sans-Serif\" font-size=\"14.00\" fill=\"#000000\">class = virginica</text>\n</g>\n<!-- 4&#45;&gt;6 -->\n<g id=\"edge6\" class=\"edge\">\n<title>4&#45;&gt;6</title>\n<path fill=\"none\" stroke=\"#000000\" d=\"M197.5468,-222.8796C198.712,-212.2134 199.9695,-200.7021 201.1494,-189.9015\"/>\n<polygon fill=\"#000000\" stroke=\"#000000\" points=\"204.6445,-190.1359 202.2513,-179.8149 197.6859,-189.3757 204.6445,-190.1359\"/>\n</g>\n<!-- 8 -->\n<g id=\"node9\" class=\"node\">\n<title>8</title>\n<path fill=\"#8139e5\" stroke=\"#000000\" d=\"M415.5,-179.5C415.5,-179.5 320.5,-179.5 320.5,-179.5 314.5,-179.5 308.5,-173.5 308.5,-167.5 308.5,-167.5 308.5,-123.5 308.5,-123.5 308.5,-117.5 314.5,-111.5 320.5,-111.5 320.5,-111.5 415.5,-111.5 415.5,-111.5 421.5,-111.5 427.5,-117.5 427.5,-123.5 427.5,-123.5 427.5,-167.5 427.5,-167.5 427.5,-173.5 421.5,-179.5 415.5,-179.5\"/>\n<text text-anchor=\"middle\" x=\"368\" y=\"-164.3\" font-family=\"Helvetica,sans-Serif\" font-size=\"14.00\" fill=\"#000000\">entropy = 0.0</text>\n<text text-anchor=\"middle\" x=\"368\" y=\"-149.3\" font-family=\"Helvetica,sans-Serif\" font-size=\"14.00\" fill=\"#000000\">samples = 3</text>\n<text text-anchor=\"middle\" x=\"368\" y=\"-134.3\" font-family=\"Helvetica,sans-Serif\" font-size=\"14.00\" fill=\"#000000\">value = [0, 0, 3]</text>\n<text text-anchor=\"middle\" x=\"368\" y=\"-119.3\" font-family=\"Helvetica,sans-Serif\" font-size=\"14.00\" fill=\"#000000\">class = virginica</text>\n</g>\n<!-- 7&#45;&gt;8 -->\n<g id=\"edge8\" class=\"edge\">\n<title>7&#45;&gt;8</title>\n<path fill=\"none\" stroke=\"#000000\" d=\"M376.4532,-222.8796C375.288,-212.2134 374.0305,-200.7021 372.8506,-189.9015\"/>\n<polygon fill=\"#000000\" stroke=\"#000000\" points=\"376.3141,-189.3757 371.7487,-179.8149 369.3555,-190.1359 376.3141,-189.3757\"/>\n</g>\n<!-- 9 -->\n<g id=\"node10\" class=\"node\">\n<title>9</title>\n<path fill=\"#9cf2c0\" stroke=\"#000000\" d=\"M610,-187C610,-187 458,-187 458,-187 452,-187 446,-181 446,-175 446,-175 446,-116 446,-116 446,-110 452,-104 458,-104 458,-104 610,-104 610,-104 616,-104 622,-110 622,-116 622,-116 622,-175 622,-175 622,-181 616,-187 610,-187\"/>\n<text text-anchor=\"middle\" x=\"534\" y=\"-171.8\" font-family=\"Helvetica,sans-Serif\" font-size=\"14.00\" fill=\"#000000\">petal length (cm) &lt;= 5.45</text>\n<text text-anchor=\"middle\" x=\"534\" y=\"-156.8\" font-family=\"Helvetica,sans-Serif\" font-size=\"14.00\" fill=\"#000000\">entropy = 0.918</text>\n<text text-anchor=\"middle\" x=\"534\" y=\"-141.8\" font-family=\"Helvetica,sans-Serif\" font-size=\"14.00\" fill=\"#000000\">samples = 3</text>\n<text text-anchor=\"middle\" x=\"534\" y=\"-126.8\" font-family=\"Helvetica,sans-Serif\" font-size=\"14.00\" fill=\"#000000\">value = [0, 2, 1]</text>\n<text text-anchor=\"middle\" x=\"534\" y=\"-111.8\" font-family=\"Helvetica,sans-Serif\" font-size=\"14.00\" fill=\"#000000\">class = versicolor</text>\n</g>\n<!-- 7&#45;&gt;9 -->\n<g id=\"edge9\" class=\"edge\">\n<title>7&#45;&gt;9</title>\n<path fill=\"none\" stroke=\"#000000\" d=\"M434.512,-222.8796C446.7412,-213.368 459.8344,-203.1843 472.3732,-193.432\"/>\n<polygon fill=\"#000000\" stroke=\"#000000\" points=\"474.7735,-195.9991 480.5182,-187.0969 470.4759,-190.4736 474.7735,-195.9991\"/>\n</g>\n<!-- 10 -->\n<g id=\"node11\" class=\"node\">\n<title>10</title>\n<path fill=\"#39e581\" stroke=\"#000000\" d=\"M515,-68C515,-68 411,-68 411,-68 405,-68 399,-62 399,-56 399,-56 399,-12 399,-12 399,-6 405,0 411,0 411,0 515,0 515,0 521,0 527,-6 527,-12 527,-12 527,-56 527,-56 527,-62 521,-68 515,-68\"/>\n<text text-anchor=\"middle\" x=\"463\" y=\"-52.8\" font-family=\"Helvetica,sans-Serif\" font-size=\"14.00\" fill=\"#000000\">entropy = 0.0</text>\n<text text-anchor=\"middle\" x=\"463\" y=\"-37.8\" font-family=\"Helvetica,sans-Serif\" font-size=\"14.00\" fill=\"#000000\">samples = 2</text>\n<text text-anchor=\"middle\" x=\"463\" y=\"-22.8\" font-family=\"Helvetica,sans-Serif\" font-size=\"14.00\" fill=\"#000000\">value = [0, 2, 0]</text>\n<text text-anchor=\"middle\" x=\"463\" y=\"-7.8\" font-family=\"Helvetica,sans-Serif\" font-size=\"14.00\" fill=\"#000000\">class = versicolor</text>\n</g>\n<!-- 9&#45;&gt;10 -->\n<g id=\"edge10\" class=\"edge\">\n<title>9&#45;&gt;10</title>\n<path fill=\"none\" stroke=\"#000000\" d=\"M507.5622,-103.9815C501.944,-95.1585 496.0012,-85.8258 490.3497,-76.9506\"/>\n<polygon fill=\"#000000\" stroke=\"#000000\" points=\"493.1416,-74.8188 484.8181,-68.2637 487.2371,-78.5787 493.1416,-74.8188\"/>\n</g>\n<!-- 11 -->\n<g id=\"node12\" class=\"node\">\n<title>11</title>\n<path fill=\"#8139e5\" stroke=\"#000000\" d=\"M652.5,-68C652.5,-68 557.5,-68 557.5,-68 551.5,-68 545.5,-62 545.5,-56 545.5,-56 545.5,-12 545.5,-12 545.5,-6 551.5,0 557.5,0 557.5,0 652.5,0 652.5,0 658.5,0 664.5,-6 664.5,-12 664.5,-12 664.5,-56 664.5,-56 664.5,-62 658.5,-68 652.5,-68\"/>\n<text text-anchor=\"middle\" x=\"605\" y=\"-52.8\" font-family=\"Helvetica,sans-Serif\" font-size=\"14.00\" fill=\"#000000\">entropy = 0.0</text>\n<text text-anchor=\"middle\" x=\"605\" y=\"-37.8\" font-family=\"Helvetica,sans-Serif\" font-size=\"14.00\" fill=\"#000000\">samples = 1</text>\n<text text-anchor=\"middle\" x=\"605\" y=\"-22.8\" font-family=\"Helvetica,sans-Serif\" font-size=\"14.00\" fill=\"#000000\">value = [0, 0, 1]</text>\n<text text-anchor=\"middle\" x=\"605\" y=\"-7.8\" font-family=\"Helvetica,sans-Serif\" font-size=\"14.00\" fill=\"#000000\">class = virginica</text>\n</g>\n<!-- 9&#45;&gt;11 -->\n<g id=\"edge11\" class=\"edge\">\n<title>9&#45;&gt;11</title>\n<path fill=\"none\" stroke=\"#000000\" d=\"M560.4378,-103.9815C566.056,-95.1585 571.9988,-85.8258 577.6503,-76.9506\"/>\n<polygon fill=\"#000000\" stroke=\"#000000\" points=\"580.7629,-78.5787 583.1819,-68.2637 574.8584,-74.8188 580.7629,-78.5787\"/>\n</g>\n<!-- 13 -->\n<g id=\"node14\" class=\"node\">\n<title>13</title>\n<path fill=\"#c09cf2\" stroke=\"#000000\" d=\"M606.5,-298.5C606.5,-298.5 511.5,-298.5 511.5,-298.5 505.5,-298.5 499.5,-292.5 499.5,-286.5 499.5,-286.5 499.5,-242.5 499.5,-242.5 499.5,-236.5 505.5,-230.5 511.5,-230.5 511.5,-230.5 606.5,-230.5 606.5,-230.5 612.5,-230.5 618.5,-236.5 618.5,-242.5 618.5,-242.5 618.5,-286.5 618.5,-286.5 618.5,-292.5 612.5,-298.5 606.5,-298.5\"/>\n<text text-anchor=\"middle\" x=\"559\" y=\"-283.3\" font-family=\"Helvetica,sans-Serif\" font-size=\"14.00\" fill=\"#000000\">entropy = 0.918</text>\n<text text-anchor=\"middle\" x=\"559\" y=\"-268.3\" font-family=\"Helvetica,sans-Serif\" font-size=\"14.00\" fill=\"#000000\">samples = 3</text>\n<text text-anchor=\"middle\" x=\"559\" y=\"-253.3\" font-family=\"Helvetica,sans-Serif\" font-size=\"14.00\" fill=\"#000000\">value = [0, 1, 2]</text>\n<text text-anchor=\"middle\" x=\"559\" y=\"-238.3\" font-family=\"Helvetica,sans-Serif\" font-size=\"14.00\" fill=\"#000000\">class = virginica</text>\n</g>\n<!-- 12&#45;&gt;13 -->\n<g id=\"edge13\" class=\"edge\">\n<title>12&#45;&gt;13</title>\n<path fill=\"none\" stroke=\"#000000\" d=\"M564.202,-341.8796C563.4849,-331.2134 562.7111,-319.7021 561.985,-308.9015\"/>\n<polygon fill=\"#000000\" stroke=\"#000000\" points=\"565.4699,-308.5576 561.3069,-298.8149 558.4856,-309.0272 565.4699,-308.5576\"/>\n</g>\n<!-- 14 -->\n<g id=\"node15\" class=\"node\">\n<title>14</title>\n<path fill=\"#8139e5\" stroke=\"#000000\" d=\"M747.5,-298.5C747.5,-298.5 648.5,-298.5 648.5,-298.5 642.5,-298.5 636.5,-292.5 636.5,-286.5 636.5,-286.5 636.5,-242.5 636.5,-242.5 636.5,-236.5 642.5,-230.5 648.5,-230.5 648.5,-230.5 747.5,-230.5 747.5,-230.5 753.5,-230.5 759.5,-236.5 759.5,-242.5 759.5,-242.5 759.5,-286.5 759.5,-286.5 759.5,-292.5 753.5,-298.5 747.5,-298.5\"/>\n<text text-anchor=\"middle\" x=\"698\" y=\"-283.3\" font-family=\"Helvetica,sans-Serif\" font-size=\"14.00\" fill=\"#000000\">entropy = 0.0</text>\n<text text-anchor=\"middle\" x=\"698\" y=\"-268.3\" font-family=\"Helvetica,sans-Serif\" font-size=\"14.00\" fill=\"#000000\">samples = 43</text>\n<text text-anchor=\"middle\" x=\"698\" y=\"-253.3\" font-family=\"Helvetica,sans-Serif\" font-size=\"14.00\" fill=\"#000000\">value = [0, 0, 43]</text>\n<text text-anchor=\"middle\" x=\"698\" y=\"-238.3\" font-family=\"Helvetica,sans-Serif\" font-size=\"14.00\" fill=\"#000000\">class = virginica</text>\n</g>\n<!-- 12&#45;&gt;14 -->\n<g id=\"edge14\" class=\"edge\">\n<title>12&#45;&gt;14</title>\n<path fill=\"none\" stroke=\"#000000\" d=\"M612.8174,-341.8796C625.7697,-330.1138 639.854,-317.3197 652.7714,-305.5855\"/>\n<polygon fill=\"#000000\" stroke=\"#000000\" points=\"655.1761,-308.1296 660.2247,-298.8149 650.4694,-302.9482 655.1761,-308.1296\"/>\n</g>\n</g>\n</svg>\n"
          },
          "metadata": {},
          "execution_count": 14
        }
      ],
      "source": [
        "# 트리모델 그리는 graphviz\n",
        "# .dot로 저장\n",
        "\n",
        "from graphviz import Source\n",
        "from sklearn.tree import export_graphviz\n",
        "\n",
        "export_graphviz(\n",
        "        tree_clf,\n",
        "        out_file=os.path.join(IMAGES_PATH, \"iris_tree.dot\"),\n",
        "        feature_names=iris.feature_names[2:],\n",
        "        class_names=iris.target_names,\n",
        "        rounded=True,\n",
        "        filled=True\n",
        "    )\n",
        "\n",
        "Source.from_file(os.path.join(IMAGES_PATH, \"iris_tree.dot\"))\n",
        "\n",
        "# 최상위 : 루트, 맨마지막 : 리프노드\n",
        "# 두개씩 가지를 뻗어가며 성장\n",
        "# 꽃잎길이 <=2.45 이면 왼쪽\n",
        "# 처음 각 50개씩\n",
        "# 주황색 : 세토사에 50, 나머지는 없다 (순수노드)\n",
        "# 흰색 : petal with <= 1.75이면 왼쪽\n",
        "# 초록색 : versicolor 가 다수\n",
        "# 새로운 데이터에 기준을 적용하여 도착하는 리프노드를 타겟으로 출력\n",
        "# 화이트박스 알고리즘 : 결정과정이 명확하다\n",
        "# 블랙박스 박스: 신경망\n",
        "# non-parametric model : 파라미터수가 정해지지 않는다. 사전에 정의가 어렵다\n",
        "# parametric model : 선형회귀, 파라미터가 시작할때 정해진다.\n",
        "# .dot 파일은 모델을 훈련시킨대로 그래프 그린다\n"
      ]
    },
    {
      "cell_type": "code",
      "source": [
        "# 사이킷런에 그래프그리기 제공\n",
        "from sklearn.tree import plot_tree\n",
        "\n",
        "plt.figure(figsize=(10, 8))  # 그림 사이즈 조절\n",
        "\n",
        "plot_tree(tree_clf, filled=True, rounded=True, max_depth=2, \n",
        "          feature_names=iris.feature_names[2:],\n",
        "          class_names=iris.target_names) \n",
        "\n",
        "# rounded=True : 사각형 둥글게\n",
        "# filled=True : 사각형 채우기\n",
        "#feature_names : 특징이름\n",
        "# class_names : 클래스 이름\n",
        "# max_depth : 모델 훈련은 끝까지 하고 그릴때 깊이 조절이 가능"
      ],
      "metadata": {
        "colab": {
          "base_uri": "https://localhost:8080/",
          "height": 628
        },
        "id": "ECjSPW0MfCgc",
        "outputId": "1f0e3a76-1325-4195-d246-cb1316b20acc"
      },
      "execution_count": 15,
      "outputs": [
        {
          "output_type": "execute_result",
          "data": {
            "text/plain": [
              "[Text(0.375, 0.875, 'petal length (cm) <= 2.45\\nentropy = 1.585\\nsamples = 150\\nvalue = [50, 50, 50]\\nclass = setosa'),\n",
              " Text(0.25, 0.625, 'entropy = 0.0\\nsamples = 50\\nvalue = [50, 0, 0]\\nclass = setosa'),\n",
              " Text(0.5, 0.625, 'petal width (cm) <= 1.75\\nentropy = 1.0\\nsamples = 100\\nvalue = [0, 50, 50]\\nclass = versicolor'),\n",
              " Text(0.25, 0.375, 'petal length (cm) <= 4.95\\nentropy = 0.445\\nsamples = 54\\nvalue = [0, 49, 5]\\nclass = versicolor'),\n",
              " Text(0.125, 0.125, '\\n  (...)  \\n'),\n",
              " Text(0.375, 0.125, '\\n  (...)  \\n'),\n",
              " Text(0.75, 0.375, 'petal length (cm) <= 4.85\\nentropy = 0.151\\nsamples = 46\\nvalue = [0, 1, 45]\\nclass = virginica'),\n",
              " Text(0.625, 0.125, '\\n  (...)  \\n'),\n",
              " Text(0.875, 0.125, '\\n  (...)  \\n')]"
            ]
          },
          "metadata": {},
          "execution_count": 15
        },
        {
          "output_type": "display_data",
          "data": {
            "text/plain": [
              "<Figure size 720x576 with 1 Axes>"
            ],
            "image/png": "[encoded data removed]"
          },
          "metadata": {
            "needs_background": "light"
          }
        }
      ]
    },
    {
      "cell_type": "markdown",
      "metadata": {
        "id": "Zy0rIXI8cLoM"
      },
      "source": [
        "# 예측하기"
      ]
    },
    {
      "cell_type": "markdown",
      "source": [
        "**식 6-1: 지니 불순도**\n",
        "\n",
        "$\n",
        "G_i = 1 - \\sum\\limits_{k=1}^{n}{{p_{i,k}}^2}\n",
        "$\n"
      ],
      "metadata": {
        "id": "qGCTJzMzuXfP"
      }
    },
    {
      "cell_type": "markdown",
      "source": [
        "(GINI 불순도)\n",
        "\n",
        "불순도가 낮아지도록, 순수노드가 되도록 노드 분할\n",
        "\n",
        "pik : i번째 노드의 k클래스의 비율\n",
        "\n",
        "[0,49,5] : 1-((0/54)^2 + (49/54)^2 + (5/54)^2) =0.168\n"
      ],
      "metadata": {
        "id": "wwCI80J6ueq0"
      }
    },
    {
      "cell_type": "markdown",
      "source": [
        "**식 6-3: 엔트로피 불순도**\n",
        "\n",
        "$\n",
        "H_i = -\\sum\\limits_{k=1 \\atop p_{i,k} \\ne 0}^{n}{{p_{i,k}}\\log_2(p_{i,k})}\n",
        "$"
      ],
      "metadata": {
        "id": "Ms9k1RkMI7Hf"
      }
    },
    {
      "cell_type": "markdown",
      "source": [
        "[0,49,5] : -((0/54)*log2(0/54) + (49/54)*log2(49/54) + (5/54)*log2(5/54)) \n",
        "\n",
        "엔트로피 불순도가 최소가 되도록 분할"
      ],
      "metadata": {
        "id": "BNiFy7oPI94O"
      }
    },
    {
      "cell_type": "code",
      "source": [
        "# 엔트로피 사용 결정트리\n",
        "\n",
        "# DecisionTreeClassifier(criterion='entropy')"
      ],
      "metadata": {
        "id": "MJG_CbLkJyrw"
      },
      "execution_count": 16,
      "outputs": []
    },
    {
      "cell_type": "markdown",
      "metadata": {
        "id": "fGJVe0OJcLoN"
      },
      "source": [
        "**식 6-2: 분류에 대한 CART 비용 함수**\n",
        "\n",
        "$\n",
        "\\begin{split}\n",
        "&J(k, t_k) = \\dfrac{m_{\\text{left}}}{m}G_\\text{left} + \\dfrac{m_{\\text{right}}}{m}G_{\\text{right}}\\\\\n",
        "&\\text{여기에서 }\\begin{cases}\n",
        "G_\\text{left/right} \\text{는 왼쪽/오른쪽 서브셋의 불순도}\\\\\n",
        "m_\\text{left/right} \\text{는 왼쪽/오른쪽 서브셋의 샘플 수}\n",
        "\\end{cases}\n",
        "\\end{split}\n",
        "$"
      ]
    },
    {
      "cell_type": "markdown",
      "source": [
        "불손도를 이용해서 손실함수 계산\n",
        "\n",
        "샘플비율 * 왼쪽의 불순도 + 샘플비율 * 오른쪽 불순도"
      ],
      "metadata": {
        "id": "snF3V3bAO7jU"
      }
    },
    {
      "cell_type": "markdown",
      "metadata": {
        "id": "pridBUyjcLoN"
      },
      "source": [
        "**<그림 6-2. 결정 트리의 결정 경계> 생성 코드**"
      ]
    },
    {
      "cell_type": "code",
      "execution_count": 17,
      "metadata": {
        "execution": {
          "iopub.execute_input": "2021-10-23T12:53:09.079551Z",
          "iopub.status.busy": "2021-10-23T12:53:09.078548Z",
          "iopub.status.idle": "2021-10-23T12:53:10.623472Z",
          "shell.execute_reply": "2021-10-23T12:53:10.624564Z"
        },
        "id": "6JUVj8wccLoO",
        "outputId": "2d75aa13-45ca-4e7c-da2d-c790ab04cfe2",
        "colab": {
          "base_uri": "https://localhost:8080/",
          "height": 315
        }
      },
      "outputs": [
        {
          "output_type": "stream",
          "name": "stdout",
          "text": [
            "그림 저장: decision_tree_decision_boundaries_plot\n"
          ]
        },
        {
          "output_type": "display_data",
          "data": {
            "text/plain": [
              "<Figure size 576x288 with 1 Axes>"
            ],
            "image/png": "[encoded data removed]"
          },
          "metadata": {
            "needs_background": "light"
          }
        }
      ],
      "source": [
        "from matplotlib.colors import ListedColormap\n",
        "\n",
        "# 결정경계 그리기\n",
        "# 축 : 0~7.5, 0~3\n",
        " \n",
        "def plot_decision_boundary(clf, X, y, axes=[0, 7.5, 0, 3], iris=True, legend=False, plot_training=True):\n",
        "    x1s = np.linspace(axes[0], axes[1], 100)  # 100개포인트\n",
        "    x2s = np.linspace(axes[2], axes[3], 100)\n",
        "    x1, x2 = np.meshgrid(x1s, x2s)\n",
        "    X_new = np.c_[x1.ravel(), x2.ravel()] # 다차원을 1차원으로\n",
        "    y_pred = clf.predict(X_new).reshape(x1.shape) # 예측\n",
        "    custom_cmap = ListedColormap(['#fafab0','#9898ff','#a0faa0'])\n",
        "    plt.contourf(x1, x2, y_pred, alpha=0.3, cmap=custom_cmap) #색이 채워진 등고선 그리기\n",
        "    if not iris:\n",
        "        custom_cmap2 = ListedColormap(['#7d7d58','#4c4c7f','#507d50'])\n",
        "        plt.contour(x1, x2, y_pred, cmap=custom_cmap2, alpha=0.8) # 경계면만 그리기\n",
        "    if plot_training:  # 산점도 출력\n",
        "        plt.plot(X[:, 0][y==0], X[:, 1][y==0], \"yo\", label=\"Iris setosa\")\n",
        "        plt.plot(X[:, 0][y==1], X[:, 1][y==1], \"bs\", label=\"Iris versicolor\")\n",
        "        plt.plot(X[:, 0][y==2], X[:, 1][y==2], \"g^\", label=\"Iris virginica\")\n",
        "        plt.axis(axes)\n",
        "    if iris:\n",
        "        plt.xlabel(\"Petal length\", fontsize=14) # 특징으로 출력\n",
        "        plt.ylabel(\"Petal width\", fontsize=14)\n",
        "    else:\n",
        "        plt.xlabel(r\"$x_1$\", fontsize=18)\n",
        "        plt.ylabel(r\"$x_2$\", fontsize=18, rotation=0)\n",
        "    if legend:\n",
        "        plt.legend(loc=\"lower right\", fontsize=14)\n",
        "\n",
        "plt.figure(figsize=(8, 4))\n",
        "plot_decision_boundary(tree_clf, X, y)\n",
        "plt.plot([2.45, 2.45], [0, 3], \"k-\", linewidth=2) # 결정경계 그리기\n",
        "plt.plot([2.45, 7.5], [1.75, 1.75], \"k--\", linewidth=2)\n",
        "plt.plot([4.95, 4.95], [0, 1.75], \"k:\", linewidth=2)\n",
        "plt.plot([4.85, 4.85], [1.75, 3], \"k:\", linewidth=2)\n",
        "plt.text(1.40, 1.0, \"Depth=0\", fontsize=15)\n",
        "plt.text(3.2, 1.80, \"Depth=1\", fontsize=13)\n",
        "plt.text(4.05, 0.5, \"(Depth=2)\", fontsize=11)\n",
        "\n",
        "save_fig(\"decision_tree_decision_boundaries_plot\")\n",
        "plt.show()"
      ]
    },
    {
      "cell_type": "code",
      "source": [
        "# 각 뎁스별로 결정경계 출력"
      ],
      "metadata": {
        "id": "ktHrAX8fQ1Fm"
      },
      "execution_count": 18,
      "outputs": []
    },
    {
      "cell_type": "markdown",
      "metadata": {
        "id": "aKT-LTjccLoP"
      },
      "source": [
        "# 클래스 확률 추정"
      ]
    },
    {
      "cell_type": "code",
      "execution_count": 19,
      "metadata": {
        "execution": {
          "iopub.execute_input": "2021-10-23T12:53:10.632808Z",
          "iopub.status.busy": "2021-10-23T12:53:10.632121Z",
          "iopub.status.idle": "2021-10-23T12:53:10.651844Z",
          "shell.execute_reply": "2021-10-23T12:53:10.650809Z"
        },
        "id": "Nl-goL7pcLoP",
        "outputId": "8654b98c-01c6-4213-dc0f-d7dcd662c208",
        "colab": {
          "base_uri": "https://localhost:8080/"
        }
      },
      "outputs": [
        {
          "output_type": "execute_result",
          "data": {
            "text/plain": [
              "array([[0., 0., 1.]])"
            ]
          },
          "metadata": {},
          "execution_count": 19
        }
      ],
      "source": [
        "tree_clf.predict_proba([[5, 1.5]]) # 리프노트의 클래스 비율이 가장높은게 타겟\n",
        "# 클래스 확률"
      ]
    },
    {
      "cell_type": "code",
      "execution_count": 20,
      "metadata": {
        "execution": {
          "iopub.execute_input": "2021-10-23T12:53:10.659356Z",
          "iopub.status.busy": "2021-10-23T12:53:10.658066Z",
          "iopub.status.idle": "2021-10-23T12:53:10.664741Z",
          "shell.execute_reply": "2021-10-23T12:53:10.665367Z"
        },
        "id": "59y9HDiscLoQ",
        "outputId": "a03e4a56-6832-4884-a06e-eac608a8de07",
        "colab": {
          "base_uri": "https://localhost:8080/"
        }
      },
      "outputs": [
        {
          "output_type": "execute_result",
          "data": {
            "text/plain": [
              "array([2])"
            ]
          },
          "metadata": {},
          "execution_count": 20
        }
      ],
      "source": [
        "tree_clf.predict([[5, 1.5]]) # max depth =2일때 클래스 예측"
      ]
    },
    {
      "cell_type": "markdown",
      "metadata": {
        "id": "uKHo81PBcLoQ"
      },
      "source": [
        "# 규제 매개변수"
      ]
    },
    {
      "cell_type": "markdown",
      "metadata": {
        "id": "qvQtiFbrcLoR"
      },
      "source": [
        "(회전 같은) 데이터셋의 작은 변화가 매우 다른 결정 트리를 만들었습니다.\n",
        "사이킷런에서 사용하는 CART 훈련 알고리즘은 확률적이기 때문에 동일한 데이터에서 같은 모델을 훈련하여 매번 매우 다른 모델을 만들 수 있습니다. 이를 확인하기 위해 `random_state`를 다른 값으로 지정해 보겠습니다:"
      ]
    },
    {
      "cell_type": "code",
      "execution_count": 23,
      "metadata": {
        "execution": {
          "iopub.execute_input": "2021-10-23T12:53:10.673648Z",
          "iopub.status.busy": "2021-10-23T12:53:10.671403Z",
          "iopub.status.idle": "2021-10-23T12:53:10.678032Z",
          "shell.execute_reply": "2021-10-23T12:53:10.677452Z"
        },
        "id": "mioYdbIfcLoR",
        "outputId": "08f10740-50f8-4a2a-d802-59f2a41c42e3",
        "colab": {
          "base_uri": "https://localhost:8080/"
        }
      },
      "outputs": [
        {
          "output_type": "execute_result",
          "data": {
            "text/plain": [
              "DecisionTreeClassifier(max_depth=2, random_state=40)"
            ]
          },
          "metadata": {},
          "execution_count": 23
        }
      ],
      "source": [
        "tree_clf_tweaked = DecisionTreeClassifier(max_depth=2, random_state=40)  # random_state 40/42 변경해보기\n",
        "tree_clf_tweaked.fit(X, y)"
      ]
    },
    {
      "cell_type": "markdown",
      "metadata": {
        "id": "e3_eHaUrcLoR"
      },
      "source": [
        "**<그림 6-8. 훈련 세트의 세부사항에 민감한 결정 트리> 생성 코드**"
      ]
    },
    {
      "cell_type": "code",
      "execution_count": 24,
      "metadata": {
        "execution": {
          "iopub.execute_input": "2021-10-23T12:53:10.687273Z",
          "iopub.status.busy": "2021-10-23T12:53:10.686533Z",
          "iopub.status.idle": "2021-10-23T12:53:11.919984Z",
          "shell.execute_reply": "2021-10-23T12:53:11.921123Z"
        },
        "id": "ADAiC1__cLoS",
        "outputId": "24461566-34ef-432c-c588-b0a981fa983e",
        "colab": {
          "base_uri": "https://localhost:8080/",
          "height": 315
        }
      },
      "outputs": [
        {
          "output_type": "stream",
          "name": "stdout",
          "text": [
            "그림 저장: decision_tree_instability_plot\n"
          ]
        },
        {
          "output_type": "display_data",
          "data": {
            "text/plain": [
              "<Figure size 576x288 with 1 Axes>"
            ],
            "image/png": "[encoded data removed]"
          },
          "metadata": {
            "needs_background": "light"
          }
        }
      ],
      "source": [
        "plt.figure(figsize=(8, 4))\n",
        "plot_decision_boundary(tree_clf_tweaked, X, y, legend=False)\n",
        "#plt.plot([0, 7.5], [0.8, 0.8], \"k-\", linewidth=2)\n",
        "#plt.plot([0, 7.5], [1.75, 1.75], \"k--\", linewidth=2)\n",
        "#plt.text(1.0, 0.9, \"Depth=0\", fontsize=15)\n",
        "#plt.text(1.0, 1.80, \"Depth=1\", fontsize=13)\n",
        "\n",
        "save_fig(\"decision_tree_instability_plot\")\n",
        "plt.show()"
      ]
    },
    {
      "cell_type": "markdown",
      "metadata": {
        "id": "xmtaI9gScLoS"
      },
      "source": [
        "**<그림 6-3. min_samples_leaf 매개변수를 사용한 규제> 생성 코드**"
      ]
    },
    {
      "cell_type": "code",
      "execution_count": null,
      "metadata": {
        "execution": {
          "iopub.execute_input": "2021-10-23T12:53:11.926821Z",
          "iopub.status.busy": "2021-10-23T12:53:11.925080Z",
          "iopub.status.idle": "2021-10-23T12:53:14.297383Z",
          "shell.execute_reply": "2021-10-23T12:53:14.298691Z"
        },
        "id": "lNXpQvfrcLoS",
        "outputId": "b4a0e6dc-a361-4549-c702-ddf6c94ec4e3"
      },
      "outputs": [
        {
          "name": "stdout",
          "output_type": "stream",
          "text": [
            "그림 저장: min_samples_leaf_plot\n"
          ]
        },
        {
          "data": {
            "image/png": "[encoded data removed]",
            "text/plain": [
              "<Figure size 720x288 with 2 Axes>"
            ]
          },
          "metadata": {
            "needs_background": "light"
          },
          "output_type": "display_data"
        }
      ],
      "source": [
        "# 제약이 없으면 마지막까지 분할, 리프노드가 순수클래스가 되도록: 과대적합\n",
        "# 트리의 성장을 규제 max-depth : 사전 가지치기\n",
        "# min_samples_leaf : 리프노드의 최소 샘플 개수 (4보다 작아지면 멈춘다)\n",
        "# 정수(샘플의 갯수), 실수(비율로 조절)\n",
        "\n",
        "from sklearn.datasets import make_moons\n",
        "Xm, ym = make_moons(n_samples=100, noise=0.25, random_state=53)\n",
        "\n",
        "deep_tree_clf1 = DecisionTreeClassifier(random_state=42) # 규제 없이\n",
        "deep_tree_clf2 = DecisionTreeClassifier(min_samples_leaf=4, random_state=42) # min_samples\n",
        "deep_tree_clf1.fit(Xm, ym)\n",
        "deep_tree_clf2.fit(Xm, ym)\n",
        "\n",
        "\n",
        "fig, axes = plt.subplots(ncols=2, figsize=(10, 4), sharey=True)\n",
        "plt.sca(axes[0])\n",
        "plot_decision_boundary(deep_tree_clf1, Xm, ym, axes=[-1.5, 2.4, -1, 1.5], iris=False)\n",
        "plt.title(\"No restrictions\", fontsize=16)\n",
        "plt.sca(axes[1])\n",
        "plot_decision_boundary(deep_tree_clf2, Xm, ym, axes=[-1.5, 2.4, -1, 1.5], iris=False)\n",
        "plt.title(\"min_samples_leaf = {}\".format(deep_tree_clf2.min_samples_leaf), fontsize=14)\n",
        "plt.ylabel(\"\")\n",
        "\n",
        "save_fig(\"min_samples_leaf_plot\")\n",
        "plt.show()\n",
        "\n",
        "# 지니불순도, 엔트로피가 샘플의 비율만 사용하고 특성의 거리사용하지 않아 특성표준 전처리가 필요하지 않다\n",
        "# 규제하지 않아 과대적합"
      ]
    },
    {
      "cell_type": "markdown",
      "metadata": {
        "id": "myLG-yZOcLoT"
      },
      "source": [
        "데이터셋을 회전하면 완전히 다른 결정 경계를 만듭니다:"
      ]
    },
    {
      "cell_type": "code",
      "execution_count": null,
      "metadata": {
        "execution": {
          "iopub.execute_input": "2021-10-23T12:53:14.304940Z",
          "iopub.status.busy": "2021-10-23T12:53:14.303197Z",
          "iopub.status.idle": "2021-10-23T12:53:14.786330Z",
          "shell.execute_reply": "2021-10-23T12:53:14.787259Z"
        },
        "id": "1Sdtnns9cLoT",
        "outputId": "5ab27ba1-2637-4df3-a49d-303a9f096c27"
      },
      "outputs": [
        {
          "data": {
            "image/png": "[encoded data removed]",
            "text/plain": [
              "<Figure size 576x216 with 1 Axes>"
            ]
          },
          "metadata": {
            "needs_background": "light"
          },
          "output_type": "display_data"
        }
      ],
      "source": [
        "# 데이터의 위치가 바뀌면(회전) 결과가 달라진다.\n",
        "# 결정경계가 특성에 수직\n",
        "\n",
        "angle = np.pi / 180 * 20   # 20도 회전\n",
        "rotation_matrix = np.array([[np.cos(angle), -np.sin(angle)], [np.sin(angle), np.cos(angle)]])\n",
        "Xr = X.dot(rotation_matrix)\n",
        "\n",
        "tree_clf_r = DecisionTreeClassifier(random_state=42)\n",
        "tree_clf_r.fit(Xr, y)\n",
        "\n",
        "plt.figure(figsize=(8, 3))\n",
        "plot_decision_boundary(tree_clf_r, Xr, y, axes=[0.5, 7.5, -1.0, 1], iris=False)\n",
        "\n",
        "plt.show()"
      ]
    },
    {
      "cell_type": "markdown",
      "metadata": {
        "id": "-GUka0vEcLoU"
      },
      "source": [
        "**<그림 6-7. 훈련 세트의 회전에 민감한 결정 트리> 생성 코드**"
      ]
    },
    {
      "cell_type": "code",
      "execution_count": null,
      "metadata": {
        "execution": {
          "iopub.execute_input": "2021-10-23T12:53:14.799508Z",
          "iopub.status.busy": "2021-10-23T12:53:14.798530Z",
          "iopub.status.idle": "2021-10-23T12:53:17.045378Z",
          "shell.execute_reply": "2021-10-23T12:53:17.046013Z"
        },
        "id": "6KoyMYEFcLoU",
        "outputId": "be8946ca-0423-4359-9fb6-a6feb6525988"
      },
      "outputs": [
        {
          "name": "stdout",
          "output_type": "stream",
          "text": [
            "그림 저장: sensitivity_to_rotation_plot\n"
          ]
        },
        {
          "data": {
            "image/png": "[encoded data removed]",
            "text/plain": [
              "<Figure size 720x288 with 2 Axes>"
            ]
          },
          "metadata": {
            "needs_background": "light"
          },
          "output_type": "display_data"
        }
      ],
      "source": [
        "# 샘플데이터 균등분포 100개 -0.5~0.5\n",
        "# 0보다 크면 2, 0보다 작으면 0\n",
        "\n",
        "np.random.seed(6)\n",
        "Xs = np.random.rand(100, 2) - 0.5\n",
        "ys = (Xs[:, 0] > 0).astype(np.float32) * 2\n",
        "\n",
        "angle = np.pi / 4  # 45도 회전\n",
        "rotation_matrix = np.array([[np.cos(angle), -np.sin(angle)], [np.sin(angle), np.cos(angle)]])\n",
        "Xsr = Xs.dot(rotation_matrix)\n",
        "\n",
        "tree_clf_s = DecisionTreeClassifier(random_state=42)\n",
        "tree_clf_s.fit(Xs, ys)\n",
        "tree_clf_sr = DecisionTreeClassifier(random_state=42)\n",
        "tree_clf_sr.fit(Xsr, ys)\n",
        "\n",
        "fig, axes = plt.subplots(ncols=2, figsize=(10, 4), sharey=True)\n",
        "plt.sca(axes[0])\n",
        "plot_decision_boundary(tree_clf_s, Xs, ys, axes=[-0.7, 0.7, -0.7, 0.7], iris=False)\n",
        "plt.sca(axes[1])\n",
        "plot_decision_boundary(tree_clf_sr, Xsr, ys, axes=[-0.7, 0.7, -0.7, 0.7], iris=False)\n",
        "plt.ylabel(\"\")\n",
        "\n",
        "save_fig(\"sensitivity_to_rotation_plot\")\n",
        "plt.show()\n",
        "\n",
        "# 원래 데이터, 45도 회전 데이터(계단모양 결정경계)"
      ]
    },
    {
      "cell_type": "markdown",
      "metadata": {
        "id": "zUvbbQ_NcLoU"
      },
      "source": [
        "# 회귀"
      ]
    },
    {
      "cell_type": "markdown",
      "metadata": {
        "id": "MiyRuzLlcLoU"
      },
      "source": [
        "간단한 선형 데이터셋을 준비합니다:"
      ]
    },
    {
      "cell_type": "code",
      "execution_count": 41,
      "metadata": {
        "execution": {
          "iopub.execute_input": "2021-10-23T12:53:17.055576Z",
          "iopub.status.busy": "2021-10-23T12:53:17.054630Z",
          "iopub.status.idle": "2021-10-23T12:53:17.072235Z",
          "shell.execute_reply": "2021-10-23T12:53:17.072916Z"
        },
        "id": "Nv2WavmZcLoU"
      },
      "outputs": [],
      "source": [
        "# 2차식으로 만든 데이터셋 + 잡음\n",
        "# 타겟을 2차원 평면에 표현하기 위해 특성 한가지 사용\n",
        "\n",
        "np.random.seed(42)\n",
        "m = 200\n",
        "X = np.random.rand(m, 1)\n",
        "y = 4 * (X - 0.5) ** 2  # 2차식으로 만든 타겟\n",
        "y = y + np.random.randn(m, 1) / 10 # 랜덤값으로 넓게 분포하도록"
      ]
    },
    {
      "cell_type": "markdown",
      "metadata": {
        "id": "U0lxkjqUcLoV"
      },
      "source": [
        "**코드 예제:**"
      ]
    },
    {
      "cell_type": "code",
      "execution_count": 45,
      "metadata": {
        "execution": {
          "iopub.execute_input": "2021-10-23T12:53:17.082878Z",
          "iopub.status.busy": "2021-10-23T12:53:17.081654Z",
          "iopub.status.idle": "2021-10-23T12:53:17.086702Z",
          "shell.execute_reply": "2021-10-23T12:53:17.087430Z"
        },
        "id": "JpNU_E_YcLoV",
        "outputId": "56525cd2-2997-47ae-deb4-3ce575fd9d12",
        "colab": {
          "base_uri": "https://localhost:8080/"
        }
      },
      "outputs": [
        {
          "output_type": "execute_result",
          "data": {
            "text/plain": [
              "DecisionTreeRegressor(max_depth=2, random_state=42)"
            ]
          },
          "metadata": {},
          "execution_count": 45
        }
      ],
      "source": [
        "from sklearn.tree import DecisionTreeRegressor\n",
        "\n",
        "tree_reg = DecisionTreeRegressor(max_depth=2, random_state=42)\n",
        "tree_reg.fit(X, y)"
      ]
    },
    {
      "cell_type": "markdown",
      "metadata": {
        "id": "DlcrB-AdcLoV"
      },
      "source": [
        "**<그림 6-5. 두 개의 결정 트리 회귀 모델의 예측> 생성 코드**"
      ]
    },
    {
      "cell_type": "code",
      "execution_count": 47,
      "metadata": {
        "execution": {
          "iopub.execute_input": "2021-10-23T12:53:17.109083Z",
          "iopub.status.busy": "2021-10-23T12:53:17.107998Z",
          "iopub.status.idle": "2021-10-23T12:53:18.581377Z",
          "shell.execute_reply": "2021-10-23T12:53:18.582515Z"
        },
        "id": "VXL5sdrwcLoV",
        "outputId": "a5f695fd-f23f-4f07-fdca-45ff95c42727",
        "colab": {
          "base_uri": "https://localhost:8080/",
          "height": 315
        }
      },
      "outputs": [
        {
          "output_type": "stream",
          "name": "stdout",
          "text": [
            "그림 저장: tree_regression_plot\n"
          ]
        },
        {
          "output_type": "display_data",
          "data": {
            "text/plain": [
              "<Figure size 720x288 with 2 Axes>"
            ],
            "image/png": "[encoded data removed]"
          },
          "metadata": {
            "needs_background": "light"
          }
        }
      ],
      "source": [
        "from sklearn.tree import DecisionTreeRegressor\n",
        "\n",
        "tree_reg1 = DecisionTreeRegressor(random_state=42, max_depth=2)  # max_depth\n",
        "tree_reg2 = DecisionTreeRegressor(random_state=42, max_depth=3)\n",
        "tree_reg1.fit(X, y)\n",
        "tree_reg2.fit(X, y)\n",
        "\n",
        "def plot_regression_predictions(tree_reg, X, y, axes=[0, 1, -0.2, 1], ylabel=\"$y$\"):\n",
        "    x1 = np.linspace(axes[0], axes[1], 500).reshape(-1, 1) # 500개 그리기\n",
        "    y_pred = tree_reg.predict(x1)\n",
        "    plt.axis(axes)\n",
        "    plt.xlabel(\"$x_1$\", fontsize=18)\n",
        "    if ylabel:\n",
        "        plt.ylabel(ylabel, fontsize=18, rotation=0)\n",
        "    plt.plot(X, y, \"b.\")\n",
        "    plt.plot(x1, y_pred, \"r.-\", linewidth=2, label=r\"$\\hat{y}$\")\n",
        "\n",
        "fig, axes = plt.subplots(ncols=2, figsize=(10, 4), sharey=True)\n",
        "plt.sca(axes[0])\n",
        "plot_regression_predictions(tree_reg1, X, y)\n",
        "for split, style in ((0.1973, \"k-\"), (0.0917, \"k--\"), (0.7718, \"k--\")):\n",
        "    plt.plot([split, split], [-0.2, 1], style, linewidth=2)\n",
        "plt.text(0.21, 0.65, \"Depth=0\", fontsize=15)\n",
        "plt.text(0.01, 0.2, \"Depth=1\", fontsize=13)\n",
        "plt.text(0.65, 0.8, \"Depth=1\", fontsize=13)\n",
        "plt.legend(loc=\"upper center\", fontsize=18)\n",
        "plt.title(\"max_depth=2\", fontsize=14)\n",
        "\n",
        "plt.sca(axes[1])\n",
        "plot_regression_predictions(tree_reg2, X, y, ylabel=None)\n",
        "for split, style in ((0.1973, \"k-\"), (0.0917, \"k--\"), (0.7718, \"k--\")):\n",
        "    plt.plot([split, split], [-0.2, 1], style, linewidth=2)\n",
        "for split in (0.0458, 0.1298, 0.2873, 0.9040):\n",
        "    plt.plot([split, split], [-0.2, 1], \"k:\", linewidth=1)\n",
        "plt.text(0.3, 0.5, \"Depth=2\", fontsize=13)\n",
        "plt.title(\"max_depth=3\", fontsize=14)\n",
        "\n",
        "save_fig(\"tree_regression_plot\")\n",
        "plt.show()\n",
        "\n",
        "# 리프노드의 평균값이 예측값\n",
        "#4개의 노드\n",
        "# 왼쪽 세로라인 두개가 왼쪽 두개 노드 (영역의 평균이 예측값)"
      ]
    },
    {
      "cell_type": "markdown",
      "metadata": {
        "id": "aEdF6iMBcLoW"
      },
      "source": [
        "**<그림 6-4. 회귀 결정 트리> 생성 코드**"
      ]
    },
    {
      "cell_type": "code",
      "execution_count": 48,
      "metadata": {
        "execution": {
          "iopub.execute_input": "2021-10-23T12:53:18.594152Z",
          "iopub.status.busy": "2021-10-23T12:53:18.592439Z",
          "iopub.status.idle": "2021-10-23T12:53:18.607758Z",
          "shell.execute_reply": "2021-10-23T12:53:18.608846Z"
        },
        "id": "JVRwQrxdcLoW"
      },
      "outputs": [],
      "source": [
        "export_graphviz(\n",
        "        tree_reg1,\n",
        "        out_file=os.path.join(IMAGES_PATH, \"regression_tree.dot\"),\n",
        "        feature_names=[\"x1\"],\n",
        "        rounded=True,\n",
        "        filled=True\n",
        "    )"
      ]
    },
    {
      "cell_type": "code",
      "execution_count": 49,
      "metadata": {
        "execution": {
          "iopub.execute_input": "2021-10-23T12:53:18.614069Z",
          "iopub.status.busy": "2021-10-23T12:53:18.612469Z",
          "iopub.status.idle": "2021-10-23T12:53:18.703255Z",
          "shell.execute_reply": "2021-10-23T12:53:18.702383Z"
        },
        "id": "n9-V7qTacLoX",
        "outputId": "cfe67415-97b1-4257-d51e-db78a3bcd381",
        "colab": {
          "base_uri": "https://localhost:8080/",
          "height": 379
        }
      },
      "outputs": [
        {
          "output_type": "execute_result",
          "data": {
            "text/plain": [
              "<graphviz.files.Source at 0x7fb362c83650>"
            ],
            "image/svg+xml": "<?xml version=\"1.0\" encoding=\"UTF-8\" standalone=\"no\"?>\n<!DOCTYPE svg PUBLIC \"-//W3C//DTD SVG 1.1//EN\"\n \"http://www.w3.org/Graphics/SVG/1.1/DTD/svg11.dtd\">\n<!-- Generated by graphviz version 2.40.1 (20161225.0304)\n -->\n<!-- Title: Tree Pages: 1 -->\n<svg width=\"706pt\" height=\"269pt\"\n viewBox=\"0.00 0.00 706.00 269.00\" xmlns=\"http://www.w3.org/2000/svg\" xmlns:xlink=\"http://www.w3.org/1999/xlink\">\n<g id=\"graph0\" class=\"graph\" transform=\"scale(1 1) rotate(0) translate(4 265)\">\n<title>Tree</title>\n<polygon fill=\"#ffffff\" stroke=\"transparent\" points=\"-4,4 -4,-265 702,-265 702,4 -4,4\"/>\n<!-- 0 -->\n<g id=\"node1\" class=\"node\">\n<title>0</title>\n<path fill=\"#f6d6be\" stroke=\"#000000\" d=\"M417,-261C417,-261 280,-261 280,-261 274,-261 268,-255 268,-249 268,-249 268,-205 268,-205 268,-199 274,-193 280,-193 280,-193 417,-193 417,-193 423,-193 429,-199 429,-205 429,-205 429,-249 429,-249 429,-255 423,-261 417,-261\"/>\n<text text-anchor=\"middle\" x=\"348.5\" y=\"-245.8\" font-family=\"Helvetica,sans-Serif\" font-size=\"14.00\" fill=\"#000000\">x1 &lt;= 0.197</text>\n<text text-anchor=\"middle\" x=\"348.5\" y=\"-230.8\" font-family=\"Helvetica,sans-Serif\" font-size=\"14.00\" fill=\"#000000\">squared_error = 0.098</text>\n<text text-anchor=\"middle\" x=\"348.5\" y=\"-215.8\" font-family=\"Helvetica,sans-Serif\" font-size=\"14.00\" fill=\"#000000\">samples = 200</text>\n<text text-anchor=\"middle\" x=\"348.5\" y=\"-200.8\" font-family=\"Helvetica,sans-Serif\" font-size=\"14.00\" fill=\"#000000\">value = 0.354</text>\n</g>\n<!-- 1 -->\n<g id=\"node2\" class=\"node\">\n<title>1</title>\n<path fill=\"#eb9d65\" stroke=\"#000000\" d=\"M328,-157C328,-157 191,-157 191,-157 185,-157 179,-151 179,-145 179,-145 179,-101 179,-101 179,-95 185,-89 191,-89 191,-89 328,-89 328,-89 334,-89 340,-95 340,-101 340,-101 340,-145 340,-145 340,-151 334,-157 328,-157\"/>\n<text text-anchor=\"middle\" x=\"259.5\" y=\"-141.8\" font-family=\"Helvetica,sans-Serif\" font-size=\"14.00\" fill=\"#000000\">x1 &lt;= 0.092</text>\n<text text-anchor=\"middle\" x=\"259.5\" y=\"-126.8\" font-family=\"Helvetica,sans-Serif\" font-size=\"14.00\" fill=\"#000000\">squared_error = 0.038</text>\n<text text-anchor=\"middle\" x=\"259.5\" y=\"-111.8\" font-family=\"Helvetica,sans-Serif\" font-size=\"14.00\" fill=\"#000000\">samples = 44</text>\n<text text-anchor=\"middle\" x=\"259.5\" y=\"-96.8\" font-family=\"Helvetica,sans-Serif\" font-size=\"14.00\" fill=\"#000000\">value = 0.689</text>\n</g>\n<!-- 0&#45;&gt;1 -->\n<g id=\"edge1\" class=\"edge\">\n<title>0&#45;&gt;1</title>\n<path fill=\"none\" stroke=\"#000000\" d=\"M319.3581,-192.9465C311.6745,-183.968 303.2947,-174.1758 295.3041,-164.8385\"/>\n<polygon fill=\"#000000\" stroke=\"#000000\" points=\"297.8685,-162.4521 288.7074,-157.13 292.5501,-167.0034 297.8685,-162.4521\"/>\n<text text-anchor=\"middle\" x=\"286.7702\" y=\"-178.3548\" font-family=\"Helvetica,sans-Serif\" font-size=\"14.00\" fill=\"#000000\">True</text>\n</g>\n<!-- 4 -->\n<g id=\"node5\" class=\"node\">\n<title>4</title>\n<path fill=\"#fae6d7\" stroke=\"#000000\" d=\"M507,-157C507,-157 370,-157 370,-157 364,-157 358,-151 358,-145 358,-145 358,-101 358,-101 358,-95 364,-89 370,-89 370,-89 507,-89 507,-89 513,-89 519,-95 519,-101 519,-101 519,-145 519,-145 519,-151 513,-157 507,-157\"/>\n<text text-anchor=\"middle\" x=\"438.5\" y=\"-141.8\" font-family=\"Helvetica,sans-Serif\" font-size=\"14.00\" fill=\"#000000\">x1 &lt;= 0.772</text>\n<text text-anchor=\"middle\" x=\"438.5\" y=\"-126.8\" font-family=\"Helvetica,sans-Serif\" font-size=\"14.00\" fill=\"#000000\">squared_error = 0.074</text>\n<text text-anchor=\"middle\" x=\"438.5\" y=\"-111.8\" font-family=\"Helvetica,sans-Serif\" font-size=\"14.00\" fill=\"#000000\">samples = 156</text>\n<text text-anchor=\"middle\" x=\"438.5\" y=\"-96.8\" font-family=\"Helvetica,sans-Serif\" font-size=\"14.00\" fill=\"#000000\">value = 0.259</text>\n</g>\n<!-- 0&#45;&gt;4 -->\n<g id=\"edge4\" class=\"edge\">\n<title>0&#45;&gt;4</title>\n<path fill=\"none\" stroke=\"#000000\" d=\"M377.9694,-192.9465C385.7393,-183.968 394.2132,-174.1758 402.2936,-164.8385\"/>\n<polygon fill=\"#000000\" stroke=\"#000000\" points=\"405.0672,-166.982 408.9644,-157.13 399.774,-162.4014 405.0672,-166.982\"/>\n<text text-anchor=\"middle\" x=\"410.7639\" y=\"-178.3652\" font-family=\"Helvetica,sans-Serif\" font-size=\"14.00\" fill=\"#000000\">False</text>\n</g>\n<!-- 2 -->\n<g id=\"node3\" class=\"node\">\n<title>2</title>\n<path fill=\"#e58139\" stroke=\"#000000\" d=\"M149,-53C149,-53 12,-53 12,-53 6,-53 0,-47 0,-41 0,-41 0,-12 0,-12 0,-6 6,0 12,0 12,0 149,0 149,0 155,0 161,-6 161,-12 161,-12 161,-41 161,-41 161,-47 155,-53 149,-53\"/>\n<text text-anchor=\"middle\" x=\"80.5\" y=\"-37.8\" font-family=\"Helvetica,sans-Serif\" font-size=\"14.00\" fill=\"#000000\">squared_error = 0.018</text>\n<text text-anchor=\"middle\" x=\"80.5\" y=\"-22.8\" font-family=\"Helvetica,sans-Serif\" font-size=\"14.00\" fill=\"#000000\">samples = 20</text>\n<text text-anchor=\"middle\" x=\"80.5\" y=\"-7.8\" font-family=\"Helvetica,sans-Serif\" font-size=\"14.00\" fill=\"#000000\">value = 0.854</text>\n</g>\n<!-- 1&#45;&gt;2 -->\n<g id=\"edge2\" class=\"edge\">\n<title>1&#45;&gt;2</title>\n<path fill=\"none\" stroke=\"#000000\" d=\"M196.3913,-88.9777C177.6208,-78.8584 157.1494,-67.8222 138.7063,-57.8794\"/>\n<polygon fill=\"#000000\" stroke=\"#000000\" points=\"140.295,-54.7597 129.8317,-53.095 136.9732,-60.9213 140.295,-54.7597\"/>\n</g>\n<!-- 3 -->\n<g id=\"node4\" class=\"node\">\n<title>3</title>\n<path fill=\"#f0b489\" stroke=\"#000000\" d=\"M328,-53C328,-53 191,-53 191,-53 185,-53 179,-47 179,-41 179,-41 179,-12 179,-12 179,-6 185,0 191,0 191,0 328,0 328,0 334,0 340,-6 340,-12 340,-12 340,-41 340,-41 340,-47 334,-53 328,-53\"/>\n<text text-anchor=\"middle\" x=\"259.5\" y=\"-37.8\" font-family=\"Helvetica,sans-Serif\" font-size=\"14.00\" fill=\"#000000\">squared_error = 0.013</text>\n<text text-anchor=\"middle\" x=\"259.5\" y=\"-22.8\" font-family=\"Helvetica,sans-Serif\" font-size=\"14.00\" fill=\"#000000\">samples = 24</text>\n<text text-anchor=\"middle\" x=\"259.5\" y=\"-7.8\" font-family=\"Helvetica,sans-Serif\" font-size=\"14.00\" fill=\"#000000\">value = 0.552</text>\n</g>\n<!-- 1&#45;&gt;3 -->\n<g id=\"edge3\" class=\"edge\">\n<title>1&#45;&gt;3</title>\n<path fill=\"none\" stroke=\"#000000\" d=\"M259.5,-88.9777C259.5,-80.7364 259.5,-71.887 259.5,-63.5153\"/>\n<polygon fill=\"#000000\" stroke=\"#000000\" points=\"263.0001,-63.2484 259.5,-53.2485 256.0001,-63.2485 263.0001,-63.2484\"/>\n</g>\n<!-- 5 -->\n<g id=\"node6\" class=\"node\">\n<title>5</title>\n<path fill=\"#ffffff\" stroke=\"#000000\" d=\"M507,-53C507,-53 370,-53 370,-53 364,-53 358,-47 358,-41 358,-41 358,-12 358,-12 358,-6 364,0 370,0 370,0 507,0 507,0 513,0 519,-6 519,-12 519,-12 519,-41 519,-41 519,-47 513,-53 507,-53\"/>\n<text text-anchor=\"middle\" x=\"438.5\" y=\"-37.8\" font-family=\"Helvetica,sans-Serif\" font-size=\"14.00\" fill=\"#000000\">squared_error = 0.015</text>\n<text text-anchor=\"middle\" x=\"438.5\" y=\"-22.8\" font-family=\"Helvetica,sans-Serif\" font-size=\"14.00\" fill=\"#000000\">samples = 110</text>\n<text text-anchor=\"middle\" x=\"438.5\" y=\"-7.8\" font-family=\"Helvetica,sans-Serif\" font-size=\"14.00\" fill=\"#000000\">value = 0.111</text>\n</g>\n<!-- 4&#45;&gt;5 -->\n<g id=\"edge5\" class=\"edge\">\n<title>4&#45;&gt;5</title>\n<path fill=\"none\" stroke=\"#000000\" d=\"M438.5,-88.9777C438.5,-80.7364 438.5,-71.887 438.5,-63.5153\"/>\n<polygon fill=\"#000000\" stroke=\"#000000\" points=\"442.0001,-63.2484 438.5,-53.2485 435.0001,-63.2485 442.0001,-63.2484\"/>\n</g>\n<!-- 6 -->\n<g id=\"node7\" class=\"node\">\n<title>6</title>\n<path fill=\"#edaa79\" stroke=\"#000000\" d=\"M686,-53C686,-53 549,-53 549,-53 543,-53 537,-47 537,-41 537,-41 537,-12 537,-12 537,-6 543,0 549,0 549,0 686,0 686,0 692,0 698,-6 698,-12 698,-12 698,-41 698,-41 698,-47 692,-53 686,-53\"/>\n<text text-anchor=\"middle\" x=\"617.5\" y=\"-37.8\" font-family=\"Helvetica,sans-Serif\" font-size=\"14.00\" fill=\"#000000\">squared_error = 0.036</text>\n<text text-anchor=\"middle\" x=\"617.5\" y=\"-22.8\" font-family=\"Helvetica,sans-Serif\" font-size=\"14.00\" fill=\"#000000\">samples = 46</text>\n<text text-anchor=\"middle\" x=\"617.5\" y=\"-7.8\" font-family=\"Helvetica,sans-Serif\" font-size=\"14.00\" fill=\"#000000\">value = 0.615</text>\n</g>\n<!-- 4&#45;&gt;6 -->\n<g id=\"edge6\" class=\"edge\">\n<title>4&#45;&gt;6</title>\n<path fill=\"none\" stroke=\"#000000\" d=\"M501.6087,-88.9777C520.3792,-78.8584 540.8506,-67.8222 559.2937,-57.8794\"/>\n<polygon fill=\"#000000\" stroke=\"#000000\" points=\"561.0268,-60.9213 568.1683,-53.095 557.705,-54.7597 561.0268,-60.9213\"/>\n</g>\n</g>\n</svg>\n"
          },
          "metadata": {},
          "execution_count": 49
        }
      ],
      "source": [
        "Source.from_file(os.path.join(IMAGES_PATH, \"regression_tree.dot\"))\n",
        "# 노드 색이 진한것은 value값이 높을때\n",
        "# value : 예측값\n"
      ]
    },
    {
      "cell_type": "markdown",
      "metadata": {
        "id": "jXdmJLlZcLoX"
      },
      "source": [
        "**<그림 6-6. 결정 트리 회귀 모델의 규제> 생성 코드**"
      ]
    },
    {
      "cell_type": "code",
      "execution_count": null,
      "metadata": {
        "execution": {
          "iopub.execute_input": "2021-10-23T12:53:18.716933Z",
          "iopub.status.busy": "2021-10-23T12:53:18.715830Z",
          "iopub.status.idle": "2021-10-23T12:53:20.950387Z",
          "shell.execute_reply": "2021-10-23T12:53:20.951554Z"
        },
        "id": "LLb6fnNEcLoX",
        "outputId": "2b6006b4-798f-4c5c-d0bf-60a5641466d1"
      },
      "outputs": [
        {
          "name": "stdout",
          "output_type": "stream",
          "text": [
            "그림 저장: tree_regression_regularization_plot\n"
          ]
        },
        {
          "data": {
            "image/png": "[encoded data removed]",
            "text/plain": [
              "<Figure size 720x288 with 2 Axes>"
            ]
          },
          "metadata": {
            "needs_background": "light"
          },
          "output_type": "display_data"
        }
      ],
      "source": [
        "# min_samples_leaf=10\n",
        "tree_reg1 = DecisionTreeRegressor(random_state=42)\n",
        "tree_reg2 = DecisionTreeRegressor(random_state=42, min_samples_leaf=10)\n",
        "tree_reg1.fit(X, y)\n",
        "tree_reg2.fit(X, y)\n",
        "\n",
        "x1 = np.linspace(0, 1, 500).reshape(-1, 1)\n",
        "y_pred1 = tree_reg1.predict(x1)\n",
        "y_pred2 = tree_reg2.predict(x1)\n",
        "\n",
        "fig, axes = plt.subplots(ncols=2, figsize=(10, 4), sharey=True)\n",
        "\n",
        "plt.sca(axes[0])\n",
        "plt.plot(X, y, \"b.\")\n",
        "plt.plot(x1, y_pred1, \"r.-\", linewidth=2, label=r\"$\\hat{y}$\")\n",
        "plt.axis([0, 1, -0.2, 1.1])\n",
        "plt.xlabel(\"$x_1$\", fontsize=18)\n",
        "plt.ylabel(\"$y$\", fontsize=18, rotation=0)\n",
        "plt.legend(loc=\"upper center\", fontsize=18)\n",
        "plt.title(\"No restrictions\", fontsize=14)\n",
        "\n",
        "plt.sca(axes[1])\n",
        "plt.plot(X, y, \"b.\")\n",
        "plt.plot(x1, y_pred2, \"r.-\", linewidth=2, label=r\"$\\hat{y}$\")\n",
        "plt.axis([0, 1, -0.2, 1.1])\n",
        "plt.xlabel(\"$x_1$\", fontsize=18)\n",
        "plt.title(\"min_samples_leaf={}\".format(tree_reg2.min_samples_leaf), fontsize=14)\n",
        "\n",
        "save_fig(\"tree_regression_regularization_plot\")\n",
        "plt.show()\n",
        "\n",
        "# 규제없을때 복잡한 경계\n"
      ]
    },
    {
      "cell_type": "markdown",
      "metadata": {
        "collapsed": true,
        "id": "cKaTgQOWcLoY"
      },
      "source": [
        "# 연습문제 해답"
      ]
    },
    {
      "cell_type": "markdown",
      "metadata": {
        "id": "erls2xJTcLoY"
      },
      "source": [
        "## 1. to 6."
      ]
    },
    {
      "cell_type": "markdown",
      "metadata": {
        "id": "1vBFGLEtcLoY"
      },
      "source": [
        "부록 A 참조."
      ]
    },
    {
      "cell_type": "markdown",
      "metadata": {
        "collapsed": true,
        "id": "6dR-yFx3cLoY"
      },
      "source": [
        "## 7."
      ]
    },
    {
      "cell_type": "markdown",
      "metadata": {
        "id": "VjhEp0k5cLoY"
      },
      "source": [
        "_문제: moons 데이터셋에 결정 트리를 훈련시키고 세밀하게 튜닝해보세요._"
      ]
    },
    {
      "cell_type": "markdown",
      "metadata": {
        "id": "pH-wN4SocLoZ"
      },
      "source": [
        "a. `make_moons(n_samples=1000, noise=0.4)`를 사용해 데이터셋을 생성합니다."
      ]
    },
    {
      "cell_type": "markdown",
      "metadata": {
        "id": "cE_tgpEqcLoZ"
      },
      "source": [
        "`random_state=42`를 지정하여 결과를 일정하게 만듭니다:"
      ]
    },
    {
      "cell_type": "code",
      "execution_count": null,
      "metadata": {
        "execution": {
          "iopub.execute_input": "2021-10-23T12:53:20.960860Z",
          "iopub.status.busy": "2021-10-23T12:53:20.959219Z",
          "iopub.status.idle": "2021-10-23T12:53:20.965924Z",
          "shell.execute_reply": "2021-10-23T12:53:20.965104Z"
        },
        "id": "hqAM6zS3cLoZ"
      },
      "outputs": [],
      "source": [
        "from sklearn.datasets import make_moons\n",
        "\n",
        "X, y = make_moons(n_samples=10000, noise=0.4, random_state=42)"
      ]
    },
    {
      "cell_type": "markdown",
      "metadata": {
        "id": "d3vLItEjcLoZ"
      },
      "source": [
        "b. 이를 `train_test_split()`을 사용해 훈련 세트와 테스트 세트로 나눕니다"
      ]
    },
    {
      "cell_type": "code",
      "execution_count": null,
      "metadata": {
        "execution": {
          "iopub.execute_input": "2021-10-23T12:53:20.973986Z",
          "iopub.status.busy": "2021-10-23T12:53:20.973011Z",
          "iopub.status.idle": "2021-10-23T12:53:20.978422Z",
          "shell.execute_reply": "2021-10-23T12:53:20.977633Z"
        },
        "id": "KP-f3yq6cLoZ"
      },
      "outputs": [],
      "source": [
        "from sklearn.model_selection import train_test_split\n",
        "\n",
        "X_train, X_test, y_train, y_test = train_test_split(X, y, test_size=0.2, random_state=42)"
      ]
    },
    {
      "cell_type": "markdown",
      "metadata": {
        "id": "qOvX6AMNcLoZ"
      },
      "source": [
        "c. `DecisionTreeClassifier`의 최적의 매개변수를 찾기 위해 교차 검증과 함께 그리드 탐색을 수행합니다(`GridSearchCV`를 사용하면 됩니다). 힌트: 여러 가지 `max_leaf_nodes` 값을 시도해보세요."
      ]
    },
    {
      "cell_type": "code",
      "execution_count": null,
      "metadata": {
        "execution": {
          "iopub.execute_input": "2021-10-23T12:53:20.986074Z",
          "iopub.status.busy": "2021-10-23T12:53:20.985159Z",
          "iopub.status.idle": "2021-10-23T12:53:42.687309Z",
          "shell.execute_reply": "2021-10-23T12:53:42.686455Z"
        },
        "id": "CruDHWqecLoa",
        "outputId": "9e3acd57-578e-4aba-f9e0-8e5759a55d0b"
      },
      "outputs": [
        {
          "name": "stdout",
          "output_type": "stream",
          "text": [
            "Fitting 3 folds for each of 294 candidates, totalling 882 fits\n"
          ]
        },
        {
          "data": {
            "text/plain": [
              "GridSearchCV(cv=3, estimator=DecisionTreeClassifier(random_state=42),\n",
              "             param_grid={'max_leaf_nodes': [2, 3, 4, 5, 6, 7, 8, 9, 10, 11, 12,\n",
              "                                            13, 14, 15, 16, 17, 18, 19, 20, 21,\n",
              "                                            22, 23, 24, 25, 26, 27, 28, 29, 30,\n",
              "                                            31, ...],\n",
              "                         'min_samples_split': [2, 3, 4]},\n",
              "             verbose=1)"
            ]
          },
          "execution_count": 20,
          "metadata": {},
          "output_type": "execute_result"
        }
      ],
      "source": [
        "from sklearn.model_selection import GridSearchCV\n",
        "\n",
        "params = {'max_leaf_nodes': list(range(2, 100)), 'min_samples_split': [2, 3, 4]}\n",
        "grid_search_cv = GridSearchCV(DecisionTreeClassifier(random_state=42), params, verbose=1, cv=3)\n",
        "\n",
        "grid_search_cv.fit(X_train, y_train)"
      ]
    },
    {
      "cell_type": "code",
      "execution_count": null,
      "metadata": {
        "execution": {
          "iopub.execute_input": "2021-10-23T12:53:42.695023Z",
          "iopub.status.busy": "2021-10-23T12:53:42.693943Z",
          "iopub.status.idle": "2021-10-23T12:53:42.708483Z",
          "shell.execute_reply": "2021-10-23T12:53:42.708990Z"
        },
        "id": "sW-oocsicLoa",
        "outputId": "19b91193-7208-478b-a03e-612bbd3a072e"
      },
      "outputs": [
        {
          "data": {
            "text/plain": [
              "DecisionTreeClassifier(max_leaf_nodes=17, random_state=42)"
            ]
          },
          "execution_count": 21,
          "metadata": {},
          "output_type": "execute_result"
        }
      ],
      "source": [
        "grid_search_cv.best_estimator_"
      ]
    },
    {
      "cell_type": "markdown",
      "metadata": {
        "id": "HdDwepbjcLoa"
      },
      "source": [
        "d. 찾은 매개변수를 사용해 전체 훈련 세트에 대해 모델을 훈련시키고 테스트 세트에서 성능을 측정합니다. 대략 85~87%의 정확도가 나올 것입니다."
      ]
    },
    {
      "cell_type": "markdown",
      "metadata": {
        "id": "XXqWrL46cLoa"
      },
      "source": [
        "기본적으로 `GridSearchCV`는 전체 훈련 세트로 찾은 최적의 모델을 다시 훈련시킵니다(`refit=False`로 지정해서 바꿀 수 있습니다). 그래서 별도로 작업할 필요가 없습니다. 모델의 정확도를 바로 평가할 수 있습니다:"
      ]
    },
    {
      "cell_type": "code",
      "execution_count": null,
      "metadata": {
        "execution": {
          "iopub.execute_input": "2021-10-23T12:53:42.714857Z",
          "iopub.status.busy": "2021-10-23T12:53:42.713944Z",
          "iopub.status.idle": "2021-10-23T12:53:42.718727Z",
          "shell.execute_reply": "2021-10-23T12:53:42.719390Z"
        },
        "id": "9Iy4ojhEcLoa",
        "outputId": "3ecb328c-e1ad-40ef-f18e-48f8c5c892e0"
      },
      "outputs": [
        {
          "data": {
            "text/plain": [
              "0.8695"
            ]
          },
          "execution_count": 22,
          "metadata": {},
          "output_type": "execute_result"
        }
      ],
      "source": [
        "from sklearn.metrics import accuracy_score\n",
        "\n",
        "y_pred = grid_search_cv.predict(X_test)\n",
        "accuracy_score(y_test, y_pred)"
      ]
    },
    {
      "cell_type": "markdown",
      "metadata": {
        "id": "ftqfJpSxcLoa"
      },
      "source": [
        "## 8."
      ]
    },
    {
      "cell_type": "markdown",
      "metadata": {
        "id": "JRknyZYZcLob"
      },
      "source": [
        "_문제: 랜덤 포레스트를 만들어보세요._"
      ]
    },
    {
      "cell_type": "markdown",
      "metadata": {
        "id": "mFlCUgYjcLob"
      },
      "source": [
        "a. 이전 연습문제에 이어서, 훈련 세트의 서브셋을 1,000개 생성합니다. 각각은 무작위로 선택된 100개의 샘플을 담고 있습니다. 힌트: 사이킷런의 `ShuffleSplit`을 사용할 수 있습니다."
      ]
    },
    {
      "cell_type": "code",
      "execution_count": null,
      "metadata": {
        "execution": {
          "iopub.execute_input": "2021-10-23T12:53:42.727046Z",
          "iopub.status.busy": "2021-10-23T12:53:42.726143Z",
          "iopub.status.idle": "2021-10-23T12:53:43.198599Z",
          "shell.execute_reply": "2021-10-23T12:53:43.199627Z"
        },
        "id": "MPiTVUF7cLob"
      },
      "outputs": [],
      "source": [
        "from sklearn.model_selection import ShuffleSplit\n",
        "\n",
        "n_trees = 1000\n",
        "n_instances = 100\n",
        "\n",
        "mini_sets = []\n",
        "\n",
        "rs = ShuffleSplit(n_splits=n_trees, test_size=len(X_train) - n_instances, random_state=42)\n",
        "for mini_train_index, mini_test_index in rs.split(X_train):\n",
        "    X_mini_train = X_train[mini_train_index]\n",
        "    y_mini_train = y_train[mini_train_index]\n",
        "    mini_sets.append((X_mini_train, y_mini_train))"
      ]
    },
    {
      "cell_type": "markdown",
      "metadata": {
        "id": "NTD2vVY-cLob"
      },
      "source": [
        "b. 앞에서 찾은 최적의 매개변수를 사용해 각 서브셋에 결정 트리를 훈련시킵니다. 테스트 세트로 이 1,000개의 결정 트리를 평가합니다. 더 작은 데이터셋에서 훈련되었기 때문에 이 결정 트리는 앞서 만든 결정 트리보다 성능이 떨어져 약 80%의 정확도를 냅니다."
      ]
    },
    {
      "cell_type": "code",
      "execution_count": null,
      "metadata": {
        "execution": {
          "iopub.execute_input": "2021-10-23T12:53:43.214688Z",
          "iopub.status.busy": "2021-10-23T12:53:43.213839Z",
          "iopub.status.idle": "2021-10-23T12:53:46.544035Z",
          "shell.execute_reply": "2021-10-23T12:53:46.544986Z"
        },
        "id": "-iLXeNEecLoc",
        "outputId": "ec42507d-2214-4080-b46c-9b7d6cbf7145"
      },
      "outputs": [
        {
          "data": {
            "text/plain": [
              "0.8054499999999999"
            ]
          },
          "execution_count": 24,
          "metadata": {},
          "output_type": "execute_result"
        }
      ],
      "source": [
        "from sklearn.base import clone\n",
        "\n",
        "forest = [clone(grid_search_cv.best_estimator_) for _ in range(n_trees)]\n",
        "\n",
        "accuracy_scores = []\n",
        "\n",
        "for tree, (X_mini_train, y_mini_train) in zip(forest, mini_sets):\n",
        "    tree.fit(X_mini_train, y_mini_train)\n",
        "    \n",
        "    y_pred = tree.predict(X_test)\n",
        "    accuracy_scores.append(accuracy_score(y_test, y_pred))\n",
        "\n",
        "np.mean(accuracy_scores)"
      ]
    },
    {
      "cell_type": "markdown",
      "metadata": {
        "id": "3A3GMhAlcLoc"
      },
      "source": [
        "c. 이제 마술을 부릴 차례입니다. 각 테스트 세트 샘플에 대해 1,000개의 결정 트리 예측을 만들고 다수로 나온 예측만 취합니다(사이파이의 `mode()` 함수를 사용할 수 있습니다). 그러면 테스트 세트에 대한 _다수결 예측_이 만들어집니다."
      ]
    },
    {
      "cell_type": "code",
      "execution_count": null,
      "metadata": {
        "execution": {
          "iopub.execute_input": "2021-10-23T12:53:46.551441Z",
          "iopub.status.busy": "2021-10-23T12:53:46.548321Z",
          "iopub.status.idle": "2021-10-23T12:53:47.064461Z",
          "shell.execute_reply": "2021-10-23T12:53:47.065250Z"
        },
        "id": "Y6UHnWSNcLoc"
      },
      "outputs": [],
      "source": [
        "Y_pred = np.empty([n_trees, len(X_test)], dtype=np.uint8)\n",
        "\n",
        "for tree_index, tree in enumerate(forest):\n",
        "    Y_pred[tree_index] = tree.predict(X_test)"
      ]
    },
    {
      "cell_type": "code",
      "execution_count": null,
      "metadata": {
        "execution": {
          "iopub.execute_input": "2021-10-23T12:53:47.082919Z",
          "iopub.status.busy": "2021-10-23T12:53:47.068344Z",
          "iopub.status.idle": "2021-10-23T12:53:47.330312Z",
          "shell.execute_reply": "2021-10-23T12:53:47.331351Z"
        },
        "id": "01F1blPkcLoc"
      },
      "outputs": [],
      "source": [
        "from scipy.stats import mode\n",
        "\n",
        "y_pred_majority_votes, n_votes = mode(Y_pred, axis=0)"
      ]
    },
    {
      "cell_type": "markdown",
      "metadata": {
        "id": "HZS9kNEScLoc"
      },
      "source": [
        "d. 테스트 세트에서 이 예측을 평가합니다. 앞서 만든 모델보다 조금 높은(약 0.5~1.5% 정도) 정확도를 얻게 될 것입니다. 축하합니다. 랜덤 포레스트 분류기를 훈련시켰습니다!"
      ]
    },
    {
      "cell_type": "code",
      "execution_count": null,
      "metadata": {
        "execution": {
          "iopub.execute_input": "2021-10-23T12:53:47.343320Z",
          "iopub.status.busy": "2021-10-23T12:53:47.342621Z",
          "iopub.status.idle": "2021-10-23T12:53:47.354273Z",
          "shell.execute_reply": "2021-10-23T12:53:47.354743Z"
        },
        "id": "r9Ly0g2xcLoc",
        "outputId": "e0e08d90-0b57-4770-c402-892f1571d5c3"
      },
      "outputs": [
        {
          "data": {
            "text/plain": [
              "0.872"
            ]
          },
          "execution_count": 27,
          "metadata": {},
          "output_type": "execute_result"
        }
      ],
      "source": [
        "accuracy_score(y_test, y_pred_majority_votes.reshape([-1]))"
      ]
    }
  ],
  "metadata": {
    "kernelspec": {
      "display_name": "Python 3",
      "language": "python",
      "name": "python3"
    },
    "language_info": {
      "codemirror_mode": {
        "name": "ipython",
        "version": 3
      },
      "file_extension": ".py",
      "mimetype": "text/x-python",
      "name": "python",
      "nbconvert_exporter": "python",
      "pygments_lexer": "ipython3",
      "version": "3.7.3"
    },
    "nav_menu": {
      "height": "309px",
      "width": "468px"
    },
    "toc": {
      "navigate_menu": true,
      "number_sections": true,
      "sideBar": true,
      "threshold": 6,
      "toc_cell": false,
      "toc_section_display": "block",
      "toc_window_display": false
    },
    "colab": {
      "name": "06_decision_trees.ipynb의 사본",
      "provenance": [],
      "collapsed_sections": [
        "erls2xJTcLoY",
        "6dR-yFx3cLoY",
        "ftqfJpSxcLoa"
      ]
    }
  },
  "nbformat": 4,
  "nbformat_minor": 0
}
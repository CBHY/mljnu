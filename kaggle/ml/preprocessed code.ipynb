{
 "cells": [
  {
   "cell_type": "markdown",
   "metadata": {},
   "source": [
    "# Preprocessed Code 22.05.02 #\n",
    "Train mass Column Fill NaN - Linear Regression  \n",
    "Other Columns Fill NaN - median Value\n"
   ]
  },
  {
   "cell_type": "code",
   "execution_count": 1,
   "metadata": {},
   "outputs": [
    {
     "name": "stdout",
     "output_type": "stream",
     "text": [
      "   index           method  number  orbital_period   mass  distance  year\n",
      "0      0  Radial Velocity       4      241.258000  1.981     13.47  1999\n",
      "1      1          Transit       1        1.337118    NaN       NaN  2011\n",
      "2      2          Transit       1        1.573292    NaN    350.00  2012\n",
      "3      3  Radial Velocity       2     3000.000000    NaN       NaN  2014\n",
      "4      4  Radial Velocity       1        9.494000  0.026     21.30  2010\n"
     ]
    }
   ],
   "source": [
    "# import\n",
    "import numpy as np\n",
    "import pandas as pd\n",
    "import sklearn\n",
    "\n",
    "# load dataset (Planets Dataset)\n",
    "train = pd.read_csv('D:\\CodingData\\mljnu\\kaggle\\ml\\datasets\\\\train_kaggle.csv')\n",
    "test = pd.read_csv('D:\\CodingData\\mljnu\\kaggle\\ml\\datasets\\\\test_kaggle.csv')\n",
    "\n",
    "\n",
    "print(train.head())\n",
    "# method column to num data\n",
    "from sklearn.preprocessing import LabelEncoder\n",
    "encoder = LabelEncoder()\n",
    "encoder.fit(train['method'])\n",
    "train['method'] = encoder.transform(train['method'])\n",
    "\n",
    "# NaN processing\n",
    "reg_train = train[train['mass'].isnull() == False].copy()\n",
    "reg_nan = train[train['mass'].isnull() == True].copy()\n",
    "\n",
    "\n",
    "\n",
    "RTrain_X = reg_train.drop(\"mass\", axis=1).copy() # Train X\n",
    "RTrain_y = reg_train['mass'].copy() # Train y\n",
    "reg_nan = reg_nan.drop('mass', axis=1).copy()\n",
    "\n",
    "from sklearn.impute import SimpleImputer\n",
    "imputer = SimpleImputer(strategy='median') # Strategy = 'mdeian', most_frequent || fill_value = 0 \n",
    "RTrain_X_array = imputer.fit_transform(RTrain_X)\n",
    "reg_nan_array = imputer.fit_transform(reg_nan)\n",
    "test_array = imputer.fit_transform(test)\n",
    "\n",
    "\n",
    "# from np.ndarray to pd.DataFrame\n",
    "\n",
    "RTrain_X = pd.DataFrame(RTrain_X_array, index=RTrain_X.index, columns=RTrain_X.columns).copy()\n",
    "reg_nan = pd.DataFrame(reg_nan_array, index=reg_nan.index, columns=reg_nan.columns).copy()\n",
    "test = pd.DataFrame(test_array, index=test.index, columns=test.columns).copy()\n",
    "\n",
    "# 연관성 없는 단순 숫자나열인 index remove\n",
    "RTrain_X = RTrain_X.drop(\"index\", axis=1).copy()\n",
    "reg_nan = reg_nan.drop('index', axis=1).copy()\n",
    "\n",
    "# RTrain_y index setting\n",
    "RTrain_y.index = range(375, 751)\n",
    "\n",
    "\n",
    "# Train with Regression model\n",
    "# model Selection\n",
    "from sklearn.linear_model import LinearRegression\n",
    "\n",
    "Linear_Reg = LinearRegression()\n",
    "Linear_Reg.fit(RTrain_X, RTrain_y)\n",
    "\n",
    "\n",
    "\n",
    "# predict and Trans ndarray to Series\n",
    "predict_mass = Linear_Reg.predict(reg_nan)\n",
    "predict_mass = pd.Series((predict_mass), name='mass').copy()\n",
    "\n",
    "# IndexRange setting\n",
    "reg_nan = reg_nan.set_index(pd.Index(range(0, 375))).copy()\n",
    "predict_mass = pd.Series(predict_mass, index=range(0, 375)).copy()\n",
    "\n",
    "RTrain_X = RTrain_X.set_index(pd.Index(range(375, 751))).copy()\n",
    "\n",
    "\n",
    "# concat mass\n",
    "RTrain_X_y = pd.concat([RTrain_X ,RTrain_y], axis=1).copy()\n",
    "Preprocessed_NaN = pd.concat([reg_nan ,predict_mass], axis=1).copy()\n",
    "\n",
    "\n",
    "\n",
    "train = pd.concat([Preprocessed_NaN, RTrain_X_y], axis=0).copy()\n",
    "train['index'] = range(0, 751)\n",
    "\n",
    "\n",
    "# Type Cast\n",
    "train = train.astype({'number' : 'int64'})\n",
    "train = train.astype({'index' : 'int64'})\n",
    "train = train.astype({'method' : 'int64'})\n",
    "train = train.astype({'orbital_period' : 'float64'})\n",
    "train = train.astype({'mass' : 'float64'})\n",
    "train = train.astype( {'year' : 'int64'})\n",
    "\n",
    "test = test.astype({'number' : 'int64'})\n",
    "test = test.astype({'index' : 'int64'})\n",
    "test = test.astype({'orbital_period' : 'float64'})\n",
    "test = test.astype({'mass' : 'float64'})\n",
    "test = test.astype({'year' : 'int64'})\n",
    "\n",
    "# Column Settinng\n",
    "train = train[['index', 'method' ,'number', 'orbital_period', 'mass', 'distance', 'year']]\n",
    "\n",
    "\n",
    "# 굳이 index랑 number column을 남겨 둘 필요가 있을까?\n",
    "train = train.drop(\"index\", axis=1).copy()\n",
    "train = train.drop(\"number\", axis=1).copy()\n",
    "test = test.drop('index', axis=1).copy()\n",
    "test = test.drop('number', axis=1).copy()\n",
    "\n",
    "# ________________________________________________________PreProcessing Complete_____________________________________________________\n"
   ]
  },
  {
   "cell_type": "code",
   "execution_count": 2,
   "metadata": {},
   "outputs": [],
   "source": [
    "train.to_csv('LR_train.csv')"
   ]
  },
  {
   "cell_type": "code",
   "execution_count": null,
   "metadata": {},
   "outputs": [],
   "source": []
  }
 ],
 "metadata": {
  "interpreter": {
   "hash": "eaded5a7997c05586ebf7af8dfcd805bc79ec256ab8efddbe3d03cb2ab32050e"
  },
  "kernelspec": {
   "display_name": "Python 3.7.11 ('mljnu')",
   "language": "python",
   "name": "python3"
  },
  "language_info": {
   "codemirror_mode": {
    "name": "ipython",
    "version": 3
   },
   "file_extension": ".py",
   "mimetype": "text/x-python",
   "name": "python",
   "nbconvert_exporter": "python",
   "pygments_lexer": "ipython3",
   "version": "3.7.11"
  },
  "orig_nbformat": 4
 },
 "nbformat": 4,
 "nbformat_minor": 2
}

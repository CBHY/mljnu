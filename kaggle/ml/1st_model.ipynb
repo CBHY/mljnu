{
 "cells": [
  {
   "cell_type": "markdown",
   "metadata": {},
   "source": [
    "# Kaggle 내부 경진대회 - 머신러닝 (Except Deep Learning) #"
   ]
  },
  {
   "cell_type": "markdown",
   "metadata": {},
   "source": [
    "## Planets Dataset ##"
   ]
  },
  {
   "cell_type": "code",
   "execution_count": 1,
   "metadata": {},
   "outputs": [],
   "source": [
    "import numpy as np\n",
    "import pandas as pd\n",
    "import sklearn\n",
    "import matplotlib.pyplot as plt\n",
    "\n",
    "import tensorflow as tf\n",
    "\n",
    "from tensorflow.keras.models import Sequential\n",
    "from tensorflow.keras.layers import Dense, Flatten, Dropout, Conv2D, MaxPooling2D\n"
   ]
  },
  {
   "cell_type": "markdown",
   "metadata": {},
   "source": [
    "### Load Dataset ###"
   ]
  },
  {
   "cell_type": "code",
   "execution_count": 20,
   "metadata": {},
   "outputs": [],
   "source": [
    "train = pd.read_csv('D:\\CodingData\\mljnu\\kaggle\\ml\\datasets\\\\train_kaggle.csv')\n",
    "test = pd.read_csv('D:\\CodingData\\mljnu\\kaggle\\ml\\datasets\\\\test_kaggle.csv')"
   ]
  },
  {
   "cell_type": "code",
   "execution_count": 15,
   "metadata": {},
   "outputs": [
    {
     "data": {
      "text/plain": [
       "pandas.core.frame.DataFrame"
      ]
     },
     "execution_count": 15,
     "metadata": {},
     "output_type": "execute_result"
    }
   ],
   "source": [
    "type(train)"
   ]
  },
  {
   "cell_type": "code",
   "execution_count": 17,
   "metadata": {},
   "outputs": [
    {
     "data": {
      "text/html": [
       "<div>\n",
       "<style scoped>\n",
       "    .dataframe tbody tr th:only-of-type {\n",
       "        vertical-align: middle;\n",
       "    }\n",
       "\n",
       "    .dataframe tbody tr th {\n",
       "        vertical-align: top;\n",
       "    }\n",
       "\n",
       "    .dataframe thead th {\n",
       "        text-align: right;\n",
       "    }\n",
       "</style>\n",
       "<table border=\"1\" class=\"dataframe\">\n",
       "  <thead>\n",
       "    <tr style=\"text-align: right;\">\n",
       "      <th></th>\n",
       "      <th>index</th>\n",
       "      <th>method</th>\n",
       "      <th>number</th>\n",
       "      <th>orbital_period</th>\n",
       "      <th>mass</th>\n",
       "      <th>distance</th>\n",
       "      <th>year</th>\n",
       "    </tr>\n",
       "  </thead>\n",
       "  <tbody>\n",
       "    <tr>\n",
       "      <th>0</th>\n",
       "      <td>0</td>\n",
       "      <td>Radial Velocity</td>\n",
       "      <td>4</td>\n",
       "      <td>241.258000</td>\n",
       "      <td>1.981</td>\n",
       "      <td>13.47</td>\n",
       "      <td>1999</td>\n",
       "    </tr>\n",
       "    <tr>\n",
       "      <th>1</th>\n",
       "      <td>1</td>\n",
       "      <td>Transit</td>\n",
       "      <td>1</td>\n",
       "      <td>1.337118</td>\n",
       "      <td>NaN</td>\n",
       "      <td>NaN</td>\n",
       "      <td>2011</td>\n",
       "    </tr>\n",
       "    <tr>\n",
       "      <th>2</th>\n",
       "      <td>2</td>\n",
       "      <td>Transit</td>\n",
       "      <td>1</td>\n",
       "      <td>1.573292</td>\n",
       "      <td>NaN</td>\n",
       "      <td>350.00</td>\n",
       "      <td>2012</td>\n",
       "    </tr>\n",
       "    <tr>\n",
       "      <th>3</th>\n",
       "      <td>3</td>\n",
       "      <td>Radial Velocity</td>\n",
       "      <td>2</td>\n",
       "      <td>3000.000000</td>\n",
       "      <td>NaN</td>\n",
       "      <td>NaN</td>\n",
       "      <td>2014</td>\n",
       "    </tr>\n",
       "    <tr>\n",
       "      <th>4</th>\n",
       "      <td>4</td>\n",
       "      <td>Radial Velocity</td>\n",
       "      <td>1</td>\n",
       "      <td>9.494000</td>\n",
       "      <td>0.026</td>\n",
       "      <td>21.30</td>\n",
       "      <td>2010</td>\n",
       "    </tr>\n",
       "  </tbody>\n",
       "</table>\n",
       "</div>"
      ],
      "text/plain": [
       "   index           method  number  orbital_period   mass  distance  year\n",
       "0      0  Radial Velocity       4      241.258000  1.981     13.47  1999\n",
       "1      1          Transit       1        1.337118    NaN       NaN  2011\n",
       "2      2          Transit       1        1.573292    NaN    350.00  2012\n",
       "3      3  Radial Velocity       2     3000.000000    NaN       NaN  2014\n",
       "4      4  Radial Velocity       1        9.494000  0.026     21.30  2010"
      ]
     },
     "execution_count": 17,
     "metadata": {},
     "output_type": "execute_result"
    }
   ],
   "source": [
    "train.head()"
   ]
  },
  {
   "cell_type": "code",
   "execution_count": 22,
   "metadata": {},
   "outputs": [
    {
     "data": {
      "text/html": [
       "<div>\n",
       "<style scoped>\n",
       "    .dataframe tbody tr th:only-of-type {\n",
       "        vertical-align: middle;\n",
       "    }\n",
       "\n",
       "    .dataframe tbody tr th {\n",
       "        vertical-align: top;\n",
       "    }\n",
       "\n",
       "    .dataframe thead th {\n",
       "        text-align: right;\n",
       "    }\n",
       "</style>\n",
       "<table border=\"1\" class=\"dataframe\">\n",
       "  <thead>\n",
       "    <tr style=\"text-align: right;\">\n",
       "      <th></th>\n",
       "      <th>index</th>\n",
       "      <th>number</th>\n",
       "      <th>orbital_period</th>\n",
       "      <th>mass</th>\n",
       "      <th>distance</th>\n",
       "      <th>year</th>\n",
       "    </tr>\n",
       "  </thead>\n",
       "  <tbody>\n",
       "    <tr>\n",
       "      <th>0</th>\n",
       "      <td>0</td>\n",
       "      <td>2</td>\n",
       "      <td>74.72000</td>\n",
       "      <td>0.05318</td>\n",
       "      <td>8.82</td>\n",
       "      <td>2011</td>\n",
       "    </tr>\n",
       "    <tr>\n",
       "      <th>1</th>\n",
       "      <td>1</td>\n",
       "      <td>1</td>\n",
       "      <td>2.99433</td>\n",
       "      <td>NaN</td>\n",
       "      <td>560.00</td>\n",
       "      <td>2010</td>\n",
       "    </tr>\n",
       "    <tr>\n",
       "      <th>2</th>\n",
       "      <td>2</td>\n",
       "      <td>6</td>\n",
       "      <td>10.30390</td>\n",
       "      <td>NaN</td>\n",
       "      <td>613.00</td>\n",
       "      <td>2010</td>\n",
       "    </tr>\n",
       "    <tr>\n",
       "      <th>3</th>\n",
       "      <td>3</td>\n",
       "      <td>1</td>\n",
       "      <td>NaN</td>\n",
       "      <td>NaN</td>\n",
       "      <td>91.83</td>\n",
       "      <td>2013</td>\n",
       "    </tr>\n",
       "    <tr>\n",
       "      <th>4</th>\n",
       "      <td>4</td>\n",
       "      <td>1</td>\n",
       "      <td>2.46502</td>\n",
       "      <td>NaN</td>\n",
       "      <td>NaN</td>\n",
       "      <td>2014</td>\n",
       "    </tr>\n",
       "  </tbody>\n",
       "</table>\n",
       "</div>"
      ],
      "text/plain": [
       "   index  number  orbital_period     mass  distance  year\n",
       "0      0       2        74.72000  0.05318      8.82  2011\n",
       "1      1       1         2.99433      NaN    560.00  2010\n",
       "2      2       6        10.30390      NaN    613.00  2010\n",
       "3      3       1             NaN      NaN     91.83  2013\n",
       "4      4       1         2.46502      NaN       NaN  2014"
      ]
     },
     "execution_count": 22,
     "metadata": {},
     "output_type": "execute_result"
    }
   ],
   "source": [
    "test.head()"
   ]
  },
  {
   "cell_type": "markdown",
   "metadata": {},
   "source": [
    "Dataset을 Train_Data와 Test_Data로 분리해서 주었기 때문에 train_test_split 함수 사용 할 필요 없음  \n",
    "dataset에 대해 head 속성과 shape속성으로 특성을 확인해봤더니, 대략 Train:test의 Sample 비율이 3:1 정도로 나타남  \n",
    "  \n",
    "그리고 Test_Data에는 method Column이 없으므로, Train_Data를 적절한 분류(Classification) 모델로 학습 시킨 뒤,  \n",
    "각 Test_Data Sample을 알아내는 것을 목표로 잡는다.  \n",
    "\n",
    "이제 적절한 Train 방법을 채택하기 위해 추가적인 Dataset 분석을 진행한다.  "
   ]
  },
  {
   "cell_type": "code",
   "execution_count": 24,
   "metadata": {},
   "outputs": [
    {
     "data": {
      "text/plain": [
       "<bound method NDFrame.get of      index           method  number  orbital_period     mass  distance  year\n",
       "0        0  Radial Velocity       4      241.258000  1.98100     13.47  1999\n",
       "1        1          Transit       1        1.337118      NaN       NaN  2011\n",
       "2        2          Transit       1        1.573292      NaN    350.00  2012\n",
       "3        3  Radial Velocity       2     3000.000000      NaN       NaN  2014\n",
       "4        4  Radial Velocity       1        9.494000  0.02600     21.30  2010\n",
       "..     ...              ...     ...             ...      ...       ...   ...\n",
       "746    746  Radial Velocity       1      772.000000  2.70000    127.88  2011\n",
       "747    747  Radial Velocity       1      829.000000  0.80000     32.70  2001\n",
       "748    748  Radial Velocity       1        3.092500  0.95000     27.05  2000\n",
       "749    749          Transit       2       27.402000      NaN       NaN  2012\n",
       "750    750  Radial Velocity       2       74.720000  0.05318      8.82  2011\n",
       "\n",
       "[751 rows x 7 columns]>"
      ]
     },
     "execution_count": 24,
     "metadata": {},
     "output_type": "execute_result"
    }
   ],
   "source": [
    "train.get"
   ]
  },
  {
   "cell_type": "markdown",
   "metadata": {},
   "source": [
    "method column의 class가 총 3개임을 확인,  \n",
    "  \n",
    "문제 파악을 진행,  \n",
    "\n",
    "Supervised Learning(지도학습)  \n",
    "      Classification(분류)  \n",
    "          Multi Class Clasification(다중 클래스 분류)\n",
    "              OvO(일대일 방식)\n",
    "              OvR(일대다 방식)\n",
    "                  ```python\n",
    "                  Class == [Radil Velocity, Trainsit, others]\n",
    "                  lable == train[\"method\"]\n",
    "                  ```"
   ]
  },
  {
   "cell_type": "code",
   "execution_count": 25,
   "metadata": {},
   "outputs": [
    {
     "name": "stdout",
     "output_type": "stream",
     "text": [
      "<class 'pandas.core.frame.DataFrame'>\n",
      "RangeIndex: 751 entries, 0 to 750\n",
      "Data columns (total 7 columns):\n",
      " #   Column          Non-Null Count  Dtype  \n",
      "---  ------          --------------  -----  \n",
      " 0   index           751 non-null    int64  \n",
      " 1   method          751 non-null    object \n",
      " 2   number          751 non-null    int64  \n",
      " 3   orbital_period  725 non-null    float64\n",
      " 4   mass            376 non-null    float64\n",
      " 5   distance        588 non-null    float64\n",
      " 6   year            751 non-null    int64  \n",
      "dtypes: float64(3), int64(3), object(1)\n",
      "memory usage: 41.2+ KB\n"
     ]
    }
   ],
   "source": [
    "# 결측치 확인(NaN Check)\n",
    "\n",
    "train.info()"
   ]
  },
  {
   "cell_type": "markdown",
   "metadata": {},
   "source": [
    "Train_Data에 대해 Column 3, 4, 5에 결측치를 발견.  \n",
    "세 Column은 모두 수치형 데이터를 포함하는 Column이다.  \n",
    "  \n",
    "  \n",
    "\n",
    "PipeLine 설계\n",
    "case 1: 결측치 수가 많지 않은 3번 Column에 대해 중간값으로 처리 ```python .medean() ```  \n",
    "        결측치 수가 많은 4번 Column에 대해 ```python .dropna(axis = 1) ``` 진행하고 싶지만, 행성 발견 방법에서 질량(Mass)는 매우 중요한 특성이므로,  column 3에 대한 회귀(Regression) 진행"
   ]
  },
  {
   "cell_type": "code",
   "execution_count": null,
   "metadata": {},
   "outputs": [],
   "source": []
  },
  {
   "cell_type": "code",
   "execution_count": null,
   "metadata": {},
   "outputs": [],
   "source": []
  },
  {
   "cell_type": "code",
   "execution_count": null,
   "metadata": {},
   "outputs": [],
   "source": []
  },
  {
   "cell_type": "code",
   "execution_count": null,
   "metadata": {},
   "outputs": [],
   "source": []
  }
 ],
 "metadata": {
  "interpreter": {
   "hash": "eaded5a7997c05586ebf7af8dfcd805bc79ec256ab8efddbe3d03cb2ab32050e"
  },
  "kernelspec": {
   "display_name": "Python 3.7.11 ('mljnu')",
   "language": "python",
   "name": "python3"
  },
  "language_info": {
   "codemirror_mode": {
    "name": "ipython",
    "version": 3
   },
   "file_extension": ".py",
   "mimetype": "text/x-python",
   "name": "python",
   "nbconvert_exporter": "python",
   "pygments_lexer": "ipython3",
   "version": "3.7.11"
  },
  "orig_nbformat": 4
 },
 "nbformat": 4,
 "nbformat_minor": 2
}

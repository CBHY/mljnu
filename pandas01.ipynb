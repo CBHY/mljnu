{
 "cells": [
  {
   "cell_type": "code",
   "execution_count": 1,
   "metadata": {},
   "outputs": [],
   "source": [
    "# Pandas 차원 별 명칭\n",
    "\n",
    "# 1D Series \n",
    "# 2D DataFrame\n",
    "# 3D Panel\n",
    "\n",
    "# 졍형 데이터(ex excel)"
   ]
  },
  {
   "cell_type": "code",
   "execution_count": 2,
   "metadata": {},
   "outputs": [],
   "source": [
    "# Series\n",
    "# 데이터를 담는 차원 배열 구조를 가진다.\n",
    "# 인덱스(index)사용 가능\n",
    "# 데이터 타입(dtype)을 가진다."
   ]
  },
  {
   "cell_type": "code",
   "execution_count": 3,
   "metadata": {},
   "outputs": [
    {
     "name": "stdout",
     "output_type": "stream",
     "text": [
      "[100 101 102 103 104]\n",
      "0    100\n",
      "1    101\n",
      "2    102\n",
      "3    103\n",
      "4    104\n",
      "dtype: int32\n",
      "0    100\n",
      "1    101\n",
      "2    102\n",
      "3    103\n",
      "4    104\n",
      "dtype: int64\n"
     ]
    }
   ],
   "source": [
    "# Series의 생성\n",
    "# numpy로 생성 후 Series에 담는 방법\n",
    "import pandas as pd\n",
    "import numpy as np\n",
    "arr1 = np.arange(100, 105)\n",
    "print(arr1)\n",
    "\n",
    "s = pd.Series(arr1)\n",
    "print(s)\n",
    "\n",
    "# 데이터 타입을 지정해서 생성하는 방법도 있음\n",
    "s = pd.Series(arr1, dtype=\"int64\")\n",
    "print(s)"
   ]
  },
  {
   "cell_type": "code",
   "execution_count": 4,
   "metadata": {},
   "outputs": [
    {
     "name": "stdout",
     "output_type": "stream",
     "text": [
      "0    부장\n",
      "1    차장\n",
      "2    대리\n",
      "3    사원\n",
      "4    인턴\n",
      "dtype: object\n"
     ]
    }
   ],
   "source": [
    "# 리스트로 생성\n",
    "s = pd.Series(['부장', '차장', '대리', '사원', '인턴'])\n",
    "print(s)"
   ]
  },
  {
   "cell_type": "code",
   "execution_count": 5,
   "metadata": {},
   "outputs": [
    {
     "name": "stdout",
     "output_type": "stream",
     "text": [
      "RangeIndex(start=0, stop=5, step=1)\n",
      "부장\n"
     ]
    }
   ],
   "source": [
    "# 인덱스\n",
    "print(s.index)\n",
    "print(s[0]) # 음수 값 인덱싱은 불가"
   ]
  },
  {
   "cell_type": "code",
   "execution_count": 6,
   "metadata": {},
   "outputs": [
    {
     "name": "stdout",
     "output_type": "stream",
     "text": [
      "a    마케팅\n",
      "b     경영\n",
      "c     개발\n",
      "d     기획\n",
      "e     인사\n",
      "dtype: object\n",
      "Index(['a', 'b', 'c', 'd', 'e'], dtype='object')\n",
      "개발\n",
      "경영\n",
      "인사\n",
      "\n",
      "2    마케팅\n",
      "3     경영\n",
      "4     개발\n",
      "5     기획\n",
      "6     인사\n",
      "dtype: object\n"
     ]
    }
   ],
   "source": [
    "# 인덱스 부여\n",
    "s = pd.Series(['마케팅', '경영', '개발', '기획', '인사'], index=['a', 'b', 'c', 'd', 'e'])\n",
    "print(s)\n",
    "\n",
    "print(s.index)\n",
    "\n",
    "print(s['c'])\n",
    "print(s[1]) # 판다스가 읽는 순서 : 1번 인덱스 값을 가져옴 > b값으로 확인 > b에 있는 값을 가져옴 \n",
    "print(s[-1]) # 가능함 (-1번째 인덱스 값을 가져옴 > e값으로 확인 > e 값을 가져옴)\n",
    "\n",
    "print()\n",
    "\n",
    "# Series 생성 후 나중에 인덱스를 부여할 수도 있다.\n",
    "s = pd.Series(['마케팅', '경영', '개발', '기획', '인사'])\n",
    "s.index = list('23456')\n",
    "print(s)\n",
    "\n"
   ]
  },
  {
   "cell_type": "code",
   "execution_count": 9,
   "metadata": {},
   "outputs": [
    {
     "name": "stdout",
     "output_type": "stream",
     "text": [
      "0    1.0\n",
      "1    2.0\n",
      "2    3.0\n",
      "3    4.0\n",
      "4    NaN\n",
      "dtype: float64\n"
     ]
    }
   ],
   "source": [
    "# NaN(Not a Number) 비어있는 모든 결측치 데이터\n",
    "# 배열 비워두기\n",
    "s = pd.Series([1, 2, 3, 4, np.nan])\n",
    "print(s)"
   ]
  },
  {
   "cell_type": "code",
   "execution_count": 16,
   "metadata": {},
   "outputs": [],
   "source": [
    "s1 = pd.Series([50, 51, 52, 53, 54], dtype = \"float32\")\n",
    "s1 = pd.Series(np.arange(50, 55), dtype=\"float32\")"
   ]
  },
  {
   "cell_type": "code",
   "execution_count": 20,
   "metadata": {},
   "outputs": [
    {
     "name": "stdout",
     "output_type": "stream",
     "text": [
      "가     apple\n",
      "나       NaN\n",
      "다    banana\n",
      "라      kiwi\n",
      "마    gubong\n",
      "dtype: object\n"
     ]
    }
   ],
   "source": [
    "s2 = pd.Series(['apple', np.nan, 'banana', 'kiwi', 'gubong'])\n",
    "s2.index = ['가', '나', '다', '라', '마']\n",
    "print(s2)"
   ]
  },
  {
   "cell_type": "code",
   "execution_count": 28,
   "metadata": {},
   "outputs": [
    {
     "name": "stdout",
     "output_type": "stream",
     "text": [
      "a    손흥민\n",
      "b    김연아\n",
      "c    박세리\n",
      "d    박찬호\n",
      "e    김연경\n",
      "dtype: object\n",
      "김연아\n",
      "김연아\n",
      "a    손흥민\n",
      "b    김연아\n",
      "e    김연경\n",
      "dtype: object\n",
      "2    3\n",
      "3    4\n",
      "4    5\n",
      "5    6\n",
      "dtype: int64\n"
     ]
    }
   ],
   "source": [
    "s3 = pd.Series(['손흥민', '김연아', '박세리', '박찬호', '김연경'], index=['a','b','c', 'd', 'e'])\n",
    "print(s3)\n",
    "\n",
    "# indexing\n",
    "print(s3[1])\n",
    "print(s3['b'])\n",
    "\n",
    "# fancy indexing # 리스트 형식을 인덱싱\n",
    "s3[['a', 'b']]\n",
    "\n",
    "# boolean indexing (괄호 2개)\n",
    "print(s3[[True, True, False, False, True]])\n",
    "\n",
    "# boolean indexing 응용 (조건 indexing)\n",
    "s4 = pd.Series([1, 2, 3, 4, 5, 6, 7, 8, 9, 10])\n",
    "cond = (s4 < 7) & (s4 > 2)\n",
    "print(s4[cond])"
   ]
  },
  {
   "cell_type": "code",
   "execution_count": null,
   "metadata": {},
   "outputs": [],
   "source": []
  },
  {
   "cell_type": "code",
   "execution_count": null,
   "metadata": {},
   "outputs": [],
   "source": []
  }
 ],
 "metadata": {
  "interpreter": {
   "hash": "eaded5a7997c05586ebf7af8dfcd805bc79ec256ab8efddbe3d03cb2ab32050e"
  },
  "kernelspec": {
   "display_name": "Python 3.7.11 ('mljnu')",
   "language": "python",
   "name": "python3"
  },
  "language_info": {
   "codemirror_mode": {
    "name": "ipython",
    "version": 3
   },
   "file_extension": ".py",
   "mimetype": "text/x-python",
   "name": "python",
   "nbconvert_exporter": "python",
   "pygments_lexer": "ipython3",
   "version": "3.7.11"
  },
  "orig_nbformat": 4
 },
 "nbformat": 4,
 "nbformat_minor": 2
}

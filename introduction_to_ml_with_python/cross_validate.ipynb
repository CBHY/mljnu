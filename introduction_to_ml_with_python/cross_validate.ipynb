{
 "cells": [
  {
   "cell_type": "markdown",
   "metadata": {},
   "source": [
    "이 노트북의 코드에 대한 설명은 [다중 평가 지표: cross_validate()](https://tensorflow.blog/2018/03/13/%EB%8B%A4%EC%A4%91-%ED%8F%89%EA%B0%80-%EC%A7%80%ED%91%9C-cross_validate/) 글을 참고하세요."
   ]
  },
  {
   "cell_type": "code",
   "execution_count": 1,
   "metadata": {},
   "outputs": [],
   "source": [
    "import pandas as pd\n",
    "import numpy as np\n",
    "from sklearn.datasets import load_digits\n",
    "from sklearn.model_selection import train_test_split, cross_val_score"
   ]
  },
  {
   "cell_type": "code",
   "execution_count": 2,
   "metadata": {},
   "outputs": [],
   "source": [
    "digits = load_digits()\n",
    "X_train, X_test, y_train, y_test = train_test_split(\n",
    "    digits.data, digits.target == 9, random_state=42)"
   ]
  },
  {
   "cell_type": "code",
   "execution_count": 3,
   "metadata": {},
   "outputs": [],
   "source": [
    "from sklearn.svm import SVC"
   ]
  },
  {
   "cell_type": "code",
   "execution_count": 4,
   "metadata": {},
   "outputs": [
    {
     "data": {
      "text/plain": [
       "array([0.90200445, 0.90200445, 0.90200445])"
      ]
     },
     "execution_count": 4,
     "metadata": {},
     "output_type": "execute_result"
    }
   ],
   "source": [
    "cross_val_score(SVC(gamma='auto'), X_train, y_train, cv=3)"
   ]
  },
  {
   "cell_type": "code",
   "execution_count": 5,
   "metadata": {},
   "outputs": [
    {
     "data": {
      "text/plain": [
       "array([0.90200445, 0.90200445, 0.90200445])"
      ]
     },
     "execution_count": 5,
     "metadata": {},
     "output_type": "execute_result"
    }
   ],
   "source": [
    "cross_val_score(SVC(gamma='auto'), X_train, y_train, scoring='accuracy', cv=3)"
   ]
  },
  {
   "cell_type": "code",
   "execution_count": 6,
   "metadata": {},
   "outputs": [],
   "source": [
    "from sklearn.model_selection import cross_validate"
   ]
  },
  {
   "cell_type": "code",
   "execution_count": 7,
   "metadata": {},
   "outputs": [
    {
     "data": {
      "text/plain": [
       "{'fit_time': array([0.03770995, 0.03589416, 0.03686881]),\n",
       " 'score_time': array([0.12240219, 0.11768389, 0.11690235]),\n",
       " 'test_accuracy': array([0.90200445, 0.90200445, 0.90200445]),\n",
       " 'train_accuracy': array([1., 1., 1.]),\n",
       " 'test_roc_auc': array([0.99657688, 0.99814815, 0.99943883]),\n",
       " 'train_roc_auc': array([1., 1., 1.])}"
      ]
     },
     "execution_count": 7,
     "metadata": {},
     "output_type": "execute_result"
    }
   ],
   "source": [
    "cross_validate(SVC(gamma='auto'), X_train, y_train, \n",
    "               scoring=['accuracy', 'roc_auc'], \n",
    "               return_train_score=True, cv=3)"
   ]
  },
  {
   "cell_type": "code",
   "execution_count": 8,
   "metadata": {},
   "outputs": [
    {
     "data": {
      "text/plain": [
       "array([0.90200445, 0.90200445, 0.90200445])"
      ]
     },
     "execution_count": 8,
     "metadata": {},
     "output_type": "execute_result"
    }
   ],
   "source": [
    "cross_validate(SVC(gamma='auto'), X_train, y_train, \n",
    "               scoring=['accuracy'], cv=3,\n",
    "               return_train_score=False)['test_accuracy']"
   ]
  },
  {
   "cell_type": "code",
   "execution_count": 9,
   "metadata": {},
   "outputs": [
    {
     "data": {
      "text/plain": [
       "{'fit_time': array([0.03640604, 0.03584003, 0.03449273]),\n",
       " 'score_time': array([0.11128712, 0.10693693, 0.11939406]),\n",
       " 'test_acc': array([0.90200445, 0.90200445, 0.90200445]),\n",
       " 'test_ra': array([0.99657688, 0.99814815, 0.99943883])}"
      ]
     },
     "execution_count": 9,
     "metadata": {},
     "output_type": "execute_result"
    }
   ],
   "source": [
    "cross_validate(SVC(gamma='auto'), X_train, y_train, \n",
    "               scoring={'acc':'accuracy', 'ra':'roc_auc'}, \n",
    "               return_train_score=False, cv=3)"
   ]
  },
  {
   "cell_type": "code",
   "execution_count": 10,
   "metadata": {},
   "outputs": [],
   "source": [
    "from sklearn.model_selection import GridSearchCV"
   ]
  },
  {
   "cell_type": "code",
   "execution_count": 11,
   "metadata": {},
   "outputs": [],
   "source": [
    "param_grid = {'gamma': [0.0001, 0.01, 0.1, 1, 10]}"
   ]
  },
  {
   "cell_type": "code",
   "execution_count": 12,
   "metadata": {},
   "outputs": [
    {
     "data": {
      "text/plain": [
       "GridSearchCV(cv=3, estimator=SVC(),\n",
       "             param_grid={'gamma': [0.0001, 0.01, 0.1, 1, 10]}, refit='accuracy',\n",
       "             return_train_score=True, scoring=['accuracy'])"
      ]
     },
     "execution_count": 12,
     "metadata": {},
     "output_type": "execute_result"
    }
   ],
   "source": [
    "grid = GridSearchCV(SVC(), param_grid=param_grid, \n",
    "                    scoring=['accuracy'], refit='accuracy',\n",
    "                    return_train_score=True, cv=3)\n",
    "grid.fit(X_train, y_train)"
   ]
  },
  {
   "cell_type": "code",
   "execution_count": 13,
   "metadata": {},
   "outputs": [
    {
     "data": {
      "text/plain": [
       "{'gamma': 0.0001}"
      ]
     },
     "execution_count": 13,
     "metadata": {},
     "output_type": "execute_result"
    }
   ],
   "source": [
    "grid.best_params_"
   ]
  },
  {
   "cell_type": "code",
   "execution_count": 14,
   "metadata": {},
   "outputs": [
    {
     "data": {
      "text/plain": [
       "0.9651076466221232"
      ]
     },
     "execution_count": 14,
     "metadata": {},
     "output_type": "execute_result"
    }
   ],
   "source": [
    "grid.best_score_"
   ]
  },
  {
   "cell_type": "code",
   "execution_count": 15,
   "metadata": {},
   "outputs": [
    {
     "data": {
      "text/html": [
       "<div>\n",
       "<style scoped>\n",
       "    .dataframe tbody tr th:only-of-type {\n",
       "        vertical-align: middle;\n",
       "    }\n",
       "\n",
       "    .dataframe tbody tr th {\n",
       "        vertical-align: top;\n",
       "    }\n",
       "\n",
       "    .dataframe thead th {\n",
       "        text-align: right;\n",
       "    }\n",
       "</style>\n",
       "<table border=\"1\" class=\"dataframe\">\n",
       "  <thead>\n",
       "    <tr style=\"text-align: right;\">\n",
       "      <th></th>\n",
       "      <th>0</th>\n",
       "      <th>1</th>\n",
       "      <th>2</th>\n",
       "      <th>3</th>\n",
       "      <th>4</th>\n",
       "    </tr>\n",
       "  </thead>\n",
       "  <tbody>\n",
       "    <tr>\n",
       "      <th>mean_fit_time</th>\n",
       "      <td>0.006796</td>\n",
       "      <td>0.033728</td>\n",
       "      <td>0.036865</td>\n",
       "      <td>0.029152</td>\n",
       "      <td>0.028625</td>\n",
       "    </tr>\n",
       "    <tr>\n",
       "      <th>std_fit_time</th>\n",
       "      <td>0.000076</td>\n",
       "      <td>0.000763</td>\n",
       "      <td>0.000255</td>\n",
       "      <td>0.000303</td>\n",
       "      <td>0.000275</td>\n",
       "    </tr>\n",
       "    <tr>\n",
       "      <th>mean_score_time</th>\n",
       "      <td>0.012703</td>\n",
       "      <td>0.059657</td>\n",
       "      <td>0.060291</td>\n",
       "      <td>0.054508</td>\n",
       "      <td>0.054504</td>\n",
       "    </tr>\n",
       "    <tr>\n",
       "      <th>std_score_time</th>\n",
       "      <td>0.001003</td>\n",
       "      <td>0.000545</td>\n",
       "      <td>0.000915</td>\n",
       "      <td>0.003451</td>\n",
       "      <td>0.001073</td>\n",
       "    </tr>\n",
       "    <tr>\n",
       "      <th>param_gamma</th>\n",
       "      <td>0.0001</td>\n",
       "      <td>0.01</td>\n",
       "      <td>0.1</td>\n",
       "      <td>1</td>\n",
       "      <td>10</td>\n",
       "    </tr>\n",
       "    <tr>\n",
       "      <th>params</th>\n",
       "      <td>{'gamma': 0.0001}</td>\n",
       "      <td>{'gamma': 0.01}</td>\n",
       "      <td>{'gamma': 0.1}</td>\n",
       "      <td>{'gamma': 1}</td>\n",
       "      <td>{'gamma': 10}</td>\n",
       "    </tr>\n",
       "    <tr>\n",
       "      <th>split0_test_accuracy</th>\n",
       "      <td>0.966592</td>\n",
       "      <td>0.902004</td>\n",
       "      <td>0.902004</td>\n",
       "      <td>0.902004</td>\n",
       "      <td>0.902004</td>\n",
       "    </tr>\n",
       "    <tr>\n",
       "      <th>split1_test_accuracy</th>\n",
       "      <td>0.96882</td>\n",
       "      <td>0.902004</td>\n",
       "      <td>0.902004</td>\n",
       "      <td>0.902004</td>\n",
       "      <td>0.902004</td>\n",
       "    </tr>\n",
       "    <tr>\n",
       "      <th>split2_test_accuracy</th>\n",
       "      <td>0.959911</td>\n",
       "      <td>0.902004</td>\n",
       "      <td>0.902004</td>\n",
       "      <td>0.902004</td>\n",
       "      <td>0.902004</td>\n",
       "    </tr>\n",
       "    <tr>\n",
       "      <th>mean_test_accuracy</th>\n",
       "      <td>0.965108</td>\n",
       "      <td>0.902004</td>\n",
       "      <td>0.902004</td>\n",
       "      <td>0.902004</td>\n",
       "      <td>0.902004</td>\n",
       "    </tr>\n",
       "    <tr>\n",
       "      <th>std_test_accuracy</th>\n",
       "      <td>0.003785</td>\n",
       "      <td>0.0</td>\n",
       "      <td>0.0</td>\n",
       "      <td>0.0</td>\n",
       "      <td>0.0</td>\n",
       "    </tr>\n",
       "    <tr>\n",
       "      <th>rank_test_accuracy</th>\n",
       "      <td>1</td>\n",
       "      <td>2</td>\n",
       "      <td>2</td>\n",
       "      <td>2</td>\n",
       "      <td>2</td>\n",
       "    </tr>\n",
       "    <tr>\n",
       "      <th>split0_train_accuracy</th>\n",
       "      <td>0.975501</td>\n",
       "      <td>1.0</td>\n",
       "      <td>1.0</td>\n",
       "      <td>1.0</td>\n",
       "      <td>1.0</td>\n",
       "    </tr>\n",
       "    <tr>\n",
       "      <th>split1_train_accuracy</th>\n",
       "      <td>0.962138</td>\n",
       "      <td>1.0</td>\n",
       "      <td>1.0</td>\n",
       "      <td>1.0</td>\n",
       "      <td>1.0</td>\n",
       "    </tr>\n",
       "    <tr>\n",
       "      <th>split2_train_accuracy</th>\n",
       "      <td>0.974388</td>\n",
       "      <td>1.0</td>\n",
       "      <td>1.0</td>\n",
       "      <td>1.0</td>\n",
       "      <td>1.0</td>\n",
       "    </tr>\n",
       "    <tr>\n",
       "      <th>mean_train_accuracy</th>\n",
       "      <td>0.970676</td>\n",
       "      <td>1.0</td>\n",
       "      <td>1.0</td>\n",
       "      <td>1.0</td>\n",
       "      <td>1.0</td>\n",
       "    </tr>\n",
       "    <tr>\n",
       "      <th>std_train_accuracy</th>\n",
       "      <td>0.006054</td>\n",
       "      <td>0.0</td>\n",
       "      <td>0.0</td>\n",
       "      <td>0.0</td>\n",
       "      <td>0.0</td>\n",
       "    </tr>\n",
       "  </tbody>\n",
       "</table>\n",
       "</div>"
      ],
      "text/plain": [
       "                                       0                1               2  \\\n",
       "mean_fit_time                   0.006796         0.033728        0.036865   \n",
       "std_fit_time                    0.000076         0.000763        0.000255   \n",
       "mean_score_time                 0.012703         0.059657        0.060291   \n",
       "std_score_time                  0.001003         0.000545        0.000915   \n",
       "param_gamma                       0.0001             0.01             0.1   \n",
       "params                 {'gamma': 0.0001}  {'gamma': 0.01}  {'gamma': 0.1}   \n",
       "split0_test_accuracy            0.966592         0.902004        0.902004   \n",
       "split1_test_accuracy             0.96882         0.902004        0.902004   \n",
       "split2_test_accuracy            0.959911         0.902004        0.902004   \n",
       "mean_test_accuracy              0.965108         0.902004        0.902004   \n",
       "std_test_accuracy               0.003785              0.0             0.0   \n",
       "rank_test_accuracy                     1                2               2   \n",
       "split0_train_accuracy           0.975501              1.0             1.0   \n",
       "split1_train_accuracy           0.962138              1.0             1.0   \n",
       "split2_train_accuracy           0.974388              1.0             1.0   \n",
       "mean_train_accuracy             0.970676              1.0             1.0   \n",
       "std_train_accuracy              0.006054              0.0             0.0   \n",
       "\n",
       "                                  3              4  \n",
       "mean_fit_time              0.029152       0.028625  \n",
       "std_fit_time               0.000303       0.000275  \n",
       "mean_score_time            0.054508       0.054504  \n",
       "std_score_time             0.003451       0.001073  \n",
       "param_gamma                       1             10  \n",
       "params                 {'gamma': 1}  {'gamma': 10}  \n",
       "split0_test_accuracy       0.902004       0.902004  \n",
       "split1_test_accuracy       0.902004       0.902004  \n",
       "split2_test_accuracy       0.902004       0.902004  \n",
       "mean_test_accuracy         0.902004       0.902004  \n",
       "std_test_accuracy               0.0            0.0  \n",
       "rank_test_accuracy                2              2  \n",
       "split0_train_accuracy           1.0            1.0  \n",
       "split1_train_accuracy           1.0            1.0  \n",
       "split2_train_accuracy           1.0            1.0  \n",
       "mean_train_accuracy             1.0            1.0  \n",
       "std_train_accuracy              0.0            0.0  "
      ]
     },
     "execution_count": 15,
     "metadata": {},
     "output_type": "execute_result"
    }
   ],
   "source": [
    "np.transpose(pd.DataFrame(grid.cv_results_))"
   ]
  },
  {
   "cell_type": "code",
   "execution_count": 16,
   "metadata": {},
   "outputs": [
    {
     "data": {
      "text/plain": [
       "GridSearchCV(cv=3, estimator=SVC(),\n",
       "             param_grid={'gamma': [0.0001, 0.01, 0.1, 1, 10]}, refit='ra',\n",
       "             return_train_score=True,\n",
       "             scoring={'acc': 'accuracy', 'ra': 'roc_auc'})"
      ]
     },
     "execution_count": 16,
     "metadata": {},
     "output_type": "execute_result"
    }
   ],
   "source": [
    "grid = GridSearchCV(SVC(), param_grid=param_grid, \n",
    "                    scoring={'acc':'accuracy', 'ra':'roc_auc'}, refit='ra',\n",
    "                    return_train_score=True, cv=3)\n",
    "grid.fit(X_train, y_train)"
   ]
  },
  {
   "cell_type": "code",
   "execution_count": 17,
   "metadata": {},
   "outputs": [
    {
     "data": {
      "text/plain": [
       "{'gamma': 0.01}"
      ]
     },
     "execution_count": 17,
     "metadata": {},
     "output_type": "execute_result"
    }
   ],
   "source": [
    "grid.best_params_"
   ]
  },
  {
   "cell_type": "code",
   "execution_count": 18,
   "metadata": {},
   "outputs": [
    {
     "data": {
      "text/plain": [
       "0.9983352038907594"
      ]
     },
     "execution_count": 18,
     "metadata": {},
     "output_type": "execute_result"
    }
   ],
   "source": [
    "grid.best_score_"
   ]
  },
  {
   "cell_type": "code",
   "execution_count": 19,
   "metadata": {},
   "outputs": [
    {
     "data": {
      "text/html": [
       "<div>\n",
       "<style scoped>\n",
       "    .dataframe tbody tr th:only-of-type {\n",
       "        vertical-align: middle;\n",
       "    }\n",
       "\n",
       "    .dataframe tbody tr th {\n",
       "        vertical-align: top;\n",
       "    }\n",
       "\n",
       "    .dataframe thead th {\n",
       "        text-align: right;\n",
       "    }\n",
       "</style>\n",
       "<table border=\"1\" class=\"dataframe\">\n",
       "  <thead>\n",
       "    <tr style=\"text-align: right;\">\n",
       "      <th></th>\n",
       "      <th>0</th>\n",
       "      <th>1</th>\n",
       "      <th>2</th>\n",
       "      <th>3</th>\n",
       "      <th>4</th>\n",
       "    </tr>\n",
       "  </thead>\n",
       "  <tbody>\n",
       "    <tr>\n",
       "      <th>mean_fit_time</th>\n",
       "      <td>0.006864</td>\n",
       "      <td>0.034273</td>\n",
       "      <td>0.037054</td>\n",
       "      <td>0.030654</td>\n",
       "      <td>0.028933</td>\n",
       "    </tr>\n",
       "    <tr>\n",
       "      <th>std_fit_time</th>\n",
       "      <td>0.000172</td>\n",
       "      <td>0.000251</td>\n",
       "      <td>0.000493</td>\n",
       "      <td>0.000555</td>\n",
       "      <td>0.000616</td>\n",
       "    </tr>\n",
       "    <tr>\n",
       "      <th>mean_score_time</th>\n",
       "      <td>0.024493</td>\n",
       "      <td>0.114614</td>\n",
       "      <td>0.121366</td>\n",
       "      <td>0.11359</td>\n",
       "      <td>0.107006</td>\n",
       "    </tr>\n",
       "    <tr>\n",
       "      <th>std_score_time</th>\n",
       "      <td>0.002559</td>\n",
       "      <td>0.001332</td>\n",
       "      <td>0.003262</td>\n",
       "      <td>0.003361</td>\n",
       "      <td>0.00633</td>\n",
       "    </tr>\n",
       "    <tr>\n",
       "      <th>param_gamma</th>\n",
       "      <td>0.0001</td>\n",
       "      <td>0.01</td>\n",
       "      <td>0.1</td>\n",
       "      <td>1</td>\n",
       "      <td>10</td>\n",
       "    </tr>\n",
       "    <tr>\n",
       "      <th>params</th>\n",
       "      <td>{'gamma': 0.0001}</td>\n",
       "      <td>{'gamma': 0.01}</td>\n",
       "      <td>{'gamma': 0.1}</td>\n",
       "      <td>{'gamma': 1}</td>\n",
       "      <td>{'gamma': 10}</td>\n",
       "    </tr>\n",
       "    <tr>\n",
       "      <th>split0_test_acc</th>\n",
       "      <td>0.966592</td>\n",
       "      <td>0.902004</td>\n",
       "      <td>0.902004</td>\n",
       "      <td>0.902004</td>\n",
       "      <td>0.902004</td>\n",
       "    </tr>\n",
       "    <tr>\n",
       "      <th>split1_test_acc</th>\n",
       "      <td>0.96882</td>\n",
       "      <td>0.902004</td>\n",
       "      <td>0.902004</td>\n",
       "      <td>0.902004</td>\n",
       "      <td>0.902004</td>\n",
       "    </tr>\n",
       "    <tr>\n",
       "      <th>split2_test_acc</th>\n",
       "      <td>0.959911</td>\n",
       "      <td>0.902004</td>\n",
       "      <td>0.902004</td>\n",
       "      <td>0.902004</td>\n",
       "      <td>0.902004</td>\n",
       "    </tr>\n",
       "    <tr>\n",
       "      <th>mean_test_acc</th>\n",
       "      <td>0.965108</td>\n",
       "      <td>0.902004</td>\n",
       "      <td>0.902004</td>\n",
       "      <td>0.902004</td>\n",
       "      <td>0.902004</td>\n",
       "    </tr>\n",
       "    <tr>\n",
       "      <th>std_test_acc</th>\n",
       "      <td>0.003785</td>\n",
       "      <td>0.0</td>\n",
       "      <td>0.0</td>\n",
       "      <td>0.0</td>\n",
       "      <td>0.0</td>\n",
       "    </tr>\n",
       "    <tr>\n",
       "      <th>rank_test_acc</th>\n",
       "      <td>1</td>\n",
       "      <td>2</td>\n",
       "      <td>2</td>\n",
       "      <td>2</td>\n",
       "      <td>2</td>\n",
       "    </tr>\n",
       "    <tr>\n",
       "      <th>split0_train_acc</th>\n",
       "      <td>0.975501</td>\n",
       "      <td>1.0</td>\n",
       "      <td>1.0</td>\n",
       "      <td>1.0</td>\n",
       "      <td>1.0</td>\n",
       "    </tr>\n",
       "    <tr>\n",
       "      <th>split1_train_acc</th>\n",
       "      <td>0.962138</td>\n",
       "      <td>1.0</td>\n",
       "      <td>1.0</td>\n",
       "      <td>1.0</td>\n",
       "      <td>1.0</td>\n",
       "    </tr>\n",
       "    <tr>\n",
       "      <th>split2_train_acc</th>\n",
       "      <td>0.974388</td>\n",
       "      <td>1.0</td>\n",
       "      <td>1.0</td>\n",
       "      <td>1.0</td>\n",
       "      <td>1.0</td>\n",
       "    </tr>\n",
       "    <tr>\n",
       "      <th>mean_train_acc</th>\n",
       "      <td>0.970676</td>\n",
       "      <td>1.0</td>\n",
       "      <td>1.0</td>\n",
       "      <td>1.0</td>\n",
       "      <td>1.0</td>\n",
       "    </tr>\n",
       "    <tr>\n",
       "      <th>std_train_acc</th>\n",
       "      <td>0.006054</td>\n",
       "      <td>0.0</td>\n",
       "      <td>0.0</td>\n",
       "      <td>0.0</td>\n",
       "      <td>0.0</td>\n",
       "    </tr>\n",
       "    <tr>\n",
       "      <th>split0_test_ra</th>\n",
       "      <td>0.98367</td>\n",
       "      <td>0.997419</td>\n",
       "      <td>0.934007</td>\n",
       "      <td>0.5</td>\n",
       "      <td>0.5</td>\n",
       "    </tr>\n",
       "    <tr>\n",
       "      <th>split1_test_ra</th>\n",
       "      <td>0.987149</td>\n",
       "      <td>0.998148</td>\n",
       "      <td>0.912458</td>\n",
       "      <td>0.5</td>\n",
       "      <td>0.5</td>\n",
       "    </tr>\n",
       "    <tr>\n",
       "      <th>split2_test_ra</th>\n",
       "      <td>0.994388</td>\n",
       "      <td>0.999439</td>\n",
       "      <td>0.910494</td>\n",
       "      <td>0.5</td>\n",
       "      <td>0.5</td>\n",
       "    </tr>\n",
       "    <tr>\n",
       "      <th>mean_test_ra</th>\n",
       "      <td>0.988403</td>\n",
       "      <td>0.998335</td>\n",
       "      <td>0.918986</td>\n",
       "      <td>0.5</td>\n",
       "      <td>0.5</td>\n",
       "    </tr>\n",
       "    <tr>\n",
       "      <th>std_test_ra</th>\n",
       "      <td>0.004465</td>\n",
       "      <td>0.000835</td>\n",
       "      <td>0.010651</td>\n",
       "      <td>0.0</td>\n",
       "      <td>0.0</td>\n",
       "    </tr>\n",
       "    <tr>\n",
       "      <th>rank_test_ra</th>\n",
       "      <td>2</td>\n",
       "      <td>1</td>\n",
       "      <td>3</td>\n",
       "      <td>4</td>\n",
       "      <td>4</td>\n",
       "    </tr>\n",
       "    <tr>\n",
       "      <th>split0_train_ra</th>\n",
       "      <td>0.992017</td>\n",
       "      <td>1.0</td>\n",
       "      <td>1.0</td>\n",
       "      <td>1.0</td>\n",
       "      <td>1.0</td>\n",
       "    </tr>\n",
       "    <tr>\n",
       "      <th>split1_train_ra</th>\n",
       "      <td>0.994935</td>\n",
       "      <td>1.0</td>\n",
       "      <td>1.0</td>\n",
       "      <td>1.0</td>\n",
       "      <td>1.0</td>\n",
       "    </tr>\n",
       "    <tr>\n",
       "      <th>split2_train_ra</th>\n",
       "      <td>0.98945</td>\n",
       "      <td>1.0</td>\n",
       "      <td>1.0</td>\n",
       "      <td>1.0</td>\n",
       "      <td>1.0</td>\n",
       "    </tr>\n",
       "    <tr>\n",
       "      <th>mean_train_ra</th>\n",
       "      <td>0.992134</td>\n",
       "      <td>1.0</td>\n",
       "      <td>1.0</td>\n",
       "      <td>1.0</td>\n",
       "      <td>1.0</td>\n",
       "    </tr>\n",
       "    <tr>\n",
       "      <th>std_train_ra</th>\n",
       "      <td>0.002241</td>\n",
       "      <td>0.0</td>\n",
       "      <td>0.0</td>\n",
       "      <td>0.0</td>\n",
       "      <td>0.0</td>\n",
       "    </tr>\n",
       "  </tbody>\n",
       "</table>\n",
       "</div>"
      ],
      "text/plain": [
       "                                  0                1               2  \\\n",
       "mean_fit_time              0.006864         0.034273        0.037054   \n",
       "std_fit_time               0.000172         0.000251        0.000493   \n",
       "mean_score_time            0.024493         0.114614        0.121366   \n",
       "std_score_time             0.002559         0.001332        0.003262   \n",
       "param_gamma                  0.0001             0.01             0.1   \n",
       "params            {'gamma': 0.0001}  {'gamma': 0.01}  {'gamma': 0.1}   \n",
       "split0_test_acc            0.966592         0.902004        0.902004   \n",
       "split1_test_acc             0.96882         0.902004        0.902004   \n",
       "split2_test_acc            0.959911         0.902004        0.902004   \n",
       "mean_test_acc              0.965108         0.902004        0.902004   \n",
       "std_test_acc               0.003785              0.0             0.0   \n",
       "rank_test_acc                     1                2               2   \n",
       "split0_train_acc           0.975501              1.0             1.0   \n",
       "split1_train_acc           0.962138              1.0             1.0   \n",
       "split2_train_acc           0.974388              1.0             1.0   \n",
       "mean_train_acc             0.970676              1.0             1.0   \n",
       "std_train_acc              0.006054              0.0             0.0   \n",
       "split0_test_ra              0.98367         0.997419        0.934007   \n",
       "split1_test_ra             0.987149         0.998148        0.912458   \n",
       "split2_test_ra             0.994388         0.999439        0.910494   \n",
       "mean_test_ra               0.988403         0.998335        0.918986   \n",
       "std_test_ra                0.004465         0.000835        0.010651   \n",
       "rank_test_ra                      2                1               3   \n",
       "split0_train_ra            0.992017              1.0             1.0   \n",
       "split1_train_ra            0.994935              1.0             1.0   \n",
       "split2_train_ra             0.98945              1.0             1.0   \n",
       "mean_train_ra              0.992134              1.0             1.0   \n",
       "std_train_ra               0.002241              0.0             0.0   \n",
       "\n",
       "                             3              4  \n",
       "mean_fit_time         0.030654       0.028933  \n",
       "std_fit_time          0.000555       0.000616  \n",
       "mean_score_time        0.11359       0.107006  \n",
       "std_score_time        0.003361        0.00633  \n",
       "param_gamma                  1             10  \n",
       "params            {'gamma': 1}  {'gamma': 10}  \n",
       "split0_test_acc       0.902004       0.902004  \n",
       "split1_test_acc       0.902004       0.902004  \n",
       "split2_test_acc       0.902004       0.902004  \n",
       "mean_test_acc         0.902004       0.902004  \n",
       "std_test_acc               0.0            0.0  \n",
       "rank_test_acc                2              2  \n",
       "split0_train_acc           1.0            1.0  \n",
       "split1_train_acc           1.0            1.0  \n",
       "split2_train_acc           1.0            1.0  \n",
       "mean_train_acc             1.0            1.0  \n",
       "std_train_acc              0.0            0.0  \n",
       "split0_test_ra             0.5            0.5  \n",
       "split1_test_ra             0.5            0.5  \n",
       "split2_test_ra             0.5            0.5  \n",
       "mean_test_ra               0.5            0.5  \n",
       "std_test_ra                0.0            0.0  \n",
       "rank_test_ra                 4              4  \n",
       "split0_train_ra            1.0            1.0  \n",
       "split1_train_ra            1.0            1.0  \n",
       "split2_train_ra            1.0            1.0  \n",
       "mean_train_ra              1.0            1.0  \n",
       "std_train_ra               0.0            0.0  "
      ]
     },
     "execution_count": 19,
     "metadata": {},
     "output_type": "execute_result"
    }
   ],
   "source": [
    "np.transpose(pd.DataFrame(grid.cv_results_))"
   ]
  },
  {
   "cell_type": "code",
   "execution_count": 20,
   "metadata": {},
   "outputs": [
    {
     "data": {
      "text/plain": [
       "SVC(gamma=0.01)"
      ]
     },
     "execution_count": 20,
     "metadata": {},
     "output_type": "execute_result"
    }
   ],
   "source": [
    "grid.best_estimator_"
   ]
  }
 ],
 "metadata": {
  "kernelspec": {
   "display_name": "Python 3",
   "language": "python",
   "name": "python3"
  },
  "language_info": {
   "codemirror_mode": {
    "name": "ipython",
    "version": 3
   },
   "file_extension": ".py",
   "mimetype": "text/x-python",
   "name": "python",
   "nbconvert_exporter": "python",
   "pygments_lexer": "ipython3",
   "version": "3.7.3"
  }
 },
 "nbformat": 4,
 "nbformat_minor": 2
}
